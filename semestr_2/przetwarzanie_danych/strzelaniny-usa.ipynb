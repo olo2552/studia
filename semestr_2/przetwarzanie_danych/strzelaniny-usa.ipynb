{
 "cells": [
  {
   "cell_type": "code",
   "execution_count": 32,
   "metadata": {},
   "outputs": [],
   "source": [
    "import numpy as np\n",
    "import pandas as pd\n",
    "import plotly.graph_objs as go\n",
    "import plotly.express as px\n",
    "import matplotlib.pyplot as plt"
   ]
  },
  {
   "cell_type": "code",
   "execution_count": 3,
   "metadata": {},
   "outputs": [
    {
     "data": {
      "text/html": [
       "<div>\n",
       "<style scoped>\n",
       "    .dataframe tbody tr th:only-of-type {\n",
       "        vertical-align: middle;\n",
       "    }\n",
       "\n",
       "    .dataframe tbody tr th {\n",
       "        vertical-align: top;\n",
       "    }\n",
       "\n",
       "    .dataframe thead th {\n",
       "        text-align: right;\n",
       "    }\n",
       "</style>\n",
       "<table border=\"1\" class=\"dataframe\">\n",
       "  <thead>\n",
       "    <tr style=\"text-align: right;\">\n",
       "      <th></th>\n",
       "      <th>id</th>\n",
       "      <th>name</th>\n",
       "      <th>date</th>\n",
       "      <th>manner_of_death</th>\n",
       "      <th>armed</th>\n",
       "      <th>age</th>\n",
       "      <th>gender</th>\n",
       "      <th>race</th>\n",
       "      <th>city</th>\n",
       "      <th>state</th>\n",
       "      <th>signs_of_mental_illness</th>\n",
       "      <th>threat_level</th>\n",
       "      <th>flee</th>\n",
       "      <th>body_camera</th>\n",
       "      <th>arms_category</th>\n",
       "    </tr>\n",
       "  </thead>\n",
       "  <tbody>\n",
       "    <tr>\n",
       "      <th>0</th>\n",
       "      <td>3</td>\n",
       "      <td>Tim Elliot</td>\n",
       "      <td>2015-01-02</td>\n",
       "      <td>shot</td>\n",
       "      <td>gun</td>\n",
       "      <td>53.0</td>\n",
       "      <td>M</td>\n",
       "      <td>Asian</td>\n",
       "      <td>Shelton</td>\n",
       "      <td>WA</td>\n",
       "      <td>True</td>\n",
       "      <td>attack</td>\n",
       "      <td>Not fleeing</td>\n",
       "      <td>False</td>\n",
       "      <td>Guns</td>\n",
       "    </tr>\n",
       "    <tr>\n",
       "      <th>1</th>\n",
       "      <td>4</td>\n",
       "      <td>Lewis Lee Lembke</td>\n",
       "      <td>2015-01-02</td>\n",
       "      <td>shot</td>\n",
       "      <td>gun</td>\n",
       "      <td>47.0</td>\n",
       "      <td>M</td>\n",
       "      <td>White</td>\n",
       "      <td>Aloha</td>\n",
       "      <td>OR</td>\n",
       "      <td>False</td>\n",
       "      <td>attack</td>\n",
       "      <td>Not fleeing</td>\n",
       "      <td>False</td>\n",
       "      <td>Guns</td>\n",
       "    </tr>\n",
       "    <tr>\n",
       "      <th>2</th>\n",
       "      <td>5</td>\n",
       "      <td>John Paul Quintero</td>\n",
       "      <td>2015-01-03</td>\n",
       "      <td>shot and Tasered</td>\n",
       "      <td>unarmed</td>\n",
       "      <td>23.0</td>\n",
       "      <td>M</td>\n",
       "      <td>Hispanic</td>\n",
       "      <td>Wichita</td>\n",
       "      <td>KS</td>\n",
       "      <td>False</td>\n",
       "      <td>other</td>\n",
       "      <td>Not fleeing</td>\n",
       "      <td>False</td>\n",
       "      <td>Unarmed</td>\n",
       "    </tr>\n",
       "    <tr>\n",
       "      <th>3</th>\n",
       "      <td>8</td>\n",
       "      <td>Matthew Hoffman</td>\n",
       "      <td>2015-01-04</td>\n",
       "      <td>shot</td>\n",
       "      <td>toy weapon</td>\n",
       "      <td>32.0</td>\n",
       "      <td>M</td>\n",
       "      <td>White</td>\n",
       "      <td>San Francisco</td>\n",
       "      <td>CA</td>\n",
       "      <td>True</td>\n",
       "      <td>attack</td>\n",
       "      <td>Not fleeing</td>\n",
       "      <td>False</td>\n",
       "      <td>Other unusual objects</td>\n",
       "    </tr>\n",
       "    <tr>\n",
       "      <th>4</th>\n",
       "      <td>9</td>\n",
       "      <td>Michael Rodriguez</td>\n",
       "      <td>2015-01-04</td>\n",
       "      <td>shot</td>\n",
       "      <td>nail gun</td>\n",
       "      <td>39.0</td>\n",
       "      <td>M</td>\n",
       "      <td>Hispanic</td>\n",
       "      <td>Evans</td>\n",
       "      <td>CO</td>\n",
       "      <td>False</td>\n",
       "      <td>attack</td>\n",
       "      <td>Not fleeing</td>\n",
       "      <td>False</td>\n",
       "      <td>Piercing objects</td>\n",
       "    </tr>\n",
       "    <tr>\n",
       "      <th>5</th>\n",
       "      <td>11</td>\n",
       "      <td>Kenneth Joe Brown</td>\n",
       "      <td>2015-01-04</td>\n",
       "      <td>shot</td>\n",
       "      <td>gun</td>\n",
       "      <td>18.0</td>\n",
       "      <td>M</td>\n",
       "      <td>White</td>\n",
       "      <td>Guthrie</td>\n",
       "      <td>OK</td>\n",
       "      <td>False</td>\n",
       "      <td>attack</td>\n",
       "      <td>Not fleeing</td>\n",
       "      <td>False</td>\n",
       "      <td>Guns</td>\n",
       "    </tr>\n",
       "    <tr>\n",
       "      <th>6</th>\n",
       "      <td>13</td>\n",
       "      <td>Kenneth Arnold Buck</td>\n",
       "      <td>2015-01-05</td>\n",
       "      <td>shot</td>\n",
       "      <td>gun</td>\n",
       "      <td>22.0</td>\n",
       "      <td>M</td>\n",
       "      <td>Hispanic</td>\n",
       "      <td>Chandler</td>\n",
       "      <td>AZ</td>\n",
       "      <td>False</td>\n",
       "      <td>attack</td>\n",
       "      <td>Car</td>\n",
       "      <td>False</td>\n",
       "      <td>Guns</td>\n",
       "    </tr>\n",
       "    <tr>\n",
       "      <th>7</th>\n",
       "      <td>15</td>\n",
       "      <td>Brock Nichols</td>\n",
       "      <td>2015-01-06</td>\n",
       "      <td>shot</td>\n",
       "      <td>gun</td>\n",
       "      <td>35.0</td>\n",
       "      <td>M</td>\n",
       "      <td>White</td>\n",
       "      <td>Assaria</td>\n",
       "      <td>KS</td>\n",
       "      <td>False</td>\n",
       "      <td>attack</td>\n",
       "      <td>Not fleeing</td>\n",
       "      <td>False</td>\n",
       "      <td>Guns</td>\n",
       "    </tr>\n",
       "    <tr>\n",
       "      <th>8</th>\n",
       "      <td>16</td>\n",
       "      <td>Autumn Steele</td>\n",
       "      <td>2015-01-06</td>\n",
       "      <td>shot</td>\n",
       "      <td>unarmed</td>\n",
       "      <td>34.0</td>\n",
       "      <td>F</td>\n",
       "      <td>White</td>\n",
       "      <td>Burlington</td>\n",
       "      <td>IA</td>\n",
       "      <td>False</td>\n",
       "      <td>other</td>\n",
       "      <td>Not fleeing</td>\n",
       "      <td>True</td>\n",
       "      <td>Unarmed</td>\n",
       "    </tr>\n",
       "    <tr>\n",
       "      <th>9</th>\n",
       "      <td>17</td>\n",
       "      <td>Leslie Sapp III</td>\n",
       "      <td>2015-01-06</td>\n",
       "      <td>shot</td>\n",
       "      <td>toy weapon</td>\n",
       "      <td>47.0</td>\n",
       "      <td>M</td>\n",
       "      <td>Black</td>\n",
       "      <td>Knoxville</td>\n",
       "      <td>PA</td>\n",
       "      <td>False</td>\n",
       "      <td>attack</td>\n",
       "      <td>Not fleeing</td>\n",
       "      <td>False</td>\n",
       "      <td>Other unusual objects</td>\n",
       "    </tr>\n",
       "  </tbody>\n",
       "</table>\n",
       "</div>"
      ],
      "text/plain": [
       "   id                 name        date   manner_of_death       armed   age  \\\n",
       "0   3           Tim Elliot  2015-01-02              shot         gun  53.0   \n",
       "1   4     Lewis Lee Lembke  2015-01-02              shot         gun  47.0   \n",
       "2   5   John Paul Quintero  2015-01-03  shot and Tasered     unarmed  23.0   \n",
       "3   8      Matthew Hoffman  2015-01-04              shot  toy weapon  32.0   \n",
       "4   9    Michael Rodriguez  2015-01-04              shot    nail gun  39.0   \n",
       "5  11    Kenneth Joe Brown  2015-01-04              shot         gun  18.0   \n",
       "6  13  Kenneth Arnold Buck  2015-01-05              shot         gun  22.0   \n",
       "7  15        Brock Nichols  2015-01-06              shot         gun  35.0   \n",
       "8  16        Autumn Steele  2015-01-06              shot     unarmed  34.0   \n",
       "9  17      Leslie Sapp III  2015-01-06              shot  toy weapon  47.0   \n",
       "\n",
       "  gender      race           city state  signs_of_mental_illness threat_level  \\\n",
       "0      M     Asian        Shelton    WA                     True       attack   \n",
       "1      M     White          Aloha    OR                    False       attack   \n",
       "2      M  Hispanic        Wichita    KS                    False        other   \n",
       "3      M     White  San Francisco    CA                     True       attack   \n",
       "4      M  Hispanic          Evans    CO                    False       attack   \n",
       "5      M     White        Guthrie    OK                    False       attack   \n",
       "6      M  Hispanic       Chandler    AZ                    False       attack   \n",
       "7      M     White        Assaria    KS                    False       attack   \n",
       "8      F     White     Burlington    IA                    False        other   \n",
       "9      M     Black      Knoxville    PA                    False       attack   \n",
       "\n",
       "          flee  body_camera          arms_category  \n",
       "0  Not fleeing        False                   Guns  \n",
       "1  Not fleeing        False                   Guns  \n",
       "2  Not fleeing        False                Unarmed  \n",
       "3  Not fleeing        False  Other unusual objects  \n",
       "4  Not fleeing        False       Piercing objects  \n",
       "5  Not fleeing        False                   Guns  \n",
       "6          Car        False                   Guns  \n",
       "7  Not fleeing        False                   Guns  \n",
       "8  Not fleeing         True                Unarmed  \n",
       "9  Not fleeing        False  Other unusual objects  "
      ]
     },
     "execution_count": 3,
     "metadata": {},
     "output_type": "execute_result"
    }
   ],
   "source": [
    "df = pd.read_csv('~/Downloads/strzelaniny-usa.csv')\n",
    "df.head(10)"
   ]
  },
  {
   "cell_type": "code",
   "execution_count": 28,
   "metadata": {},
   "outputs": [],
   "source": [
    "# Procentowy udział NaNów w data seciedla każdej kolumny"
   ]
  },
  {
   "cell_type": "code",
   "execution_count": 11,
   "metadata": {},
   "outputs": [
    {
     "name": "stdout",
     "output_type": "stream",
     "text": [
      "id 0.0%\n",
      "name 0.0%\n",
      "date 0.0%\n",
      "manner_of_death 0.0%\n",
      "armed 0.0%\n",
      "age 0.0%\n",
      "gender 0.0%\n",
      "race 0.0%\n",
      "city 0.0%\n",
      "state 0.0%\n",
      "signs_of_mental_illness 0.0%\n",
      "threat_level 0.0%\n",
      "flee 0.0%\n",
      "body_camera 0.0%\n",
      "arms_category 0.0%\n"
     ]
    }
   ],
   "source": [
    "for col in df.columns:\n",
    "    print(col, str(round(100* df[col].isnull().sum() / len(df), 2)) + '%')"
   ]
  },
  {
   "cell_type": "code",
   "execution_count": 14,
   "metadata": {},
   "outputs": [
    {
     "data": {
      "application/vnd.plotly.v1+json": {
       "config": {
        "plotlyServerURL": "https://plot.ly"
       },
       "data": [
        {
         "domain": {
          "x": [
           0,
           1
          ],
          "y": [
           0,
           1
          ]
         },
         "hovertemplate": "manner_of_death=%{label}<br>count=%{value}<extra></extra>",
         "labels": [
          "shot",
          "shot and Tasered"
         ],
         "legendgroup": "",
         "name": "",
         "showlegend": true,
         "type": "pie",
         "values": [
          4647,
          248
         ]
        }
       ],
       "layout": {
        "height": 500,
        "legend": {
         "tracegroupgap": 0
        },
        "template": {
         "data": {
          "bar": [
           {
            "error_x": {
             "color": "#2a3f5f"
            },
            "error_y": {
             "color": "#2a3f5f"
            },
            "marker": {
             "line": {
              "color": "#E5ECF6",
              "width": 0.5
             }
            },
            "type": "bar"
           }
          ],
          "barpolar": [
           {
            "marker": {
             "line": {
              "color": "#E5ECF6",
              "width": 0.5
             }
            },
            "type": "barpolar"
           }
          ],
          "carpet": [
           {
            "aaxis": {
             "endlinecolor": "#2a3f5f",
             "gridcolor": "white",
             "linecolor": "white",
             "minorgridcolor": "white",
             "startlinecolor": "#2a3f5f"
            },
            "baxis": {
             "endlinecolor": "#2a3f5f",
             "gridcolor": "white",
             "linecolor": "white",
             "minorgridcolor": "white",
             "startlinecolor": "#2a3f5f"
            },
            "type": "carpet"
           }
          ],
          "choropleth": [
           {
            "colorbar": {
             "outlinewidth": 0,
             "ticks": ""
            },
            "type": "choropleth"
           }
          ],
          "contour": [
           {
            "colorbar": {
             "outlinewidth": 0,
             "ticks": ""
            },
            "colorscale": [
             [
              0,
              "#0d0887"
             ],
             [
              0.1111111111111111,
              "#46039f"
             ],
             [
              0.2222222222222222,
              "#7201a8"
             ],
             [
              0.3333333333333333,
              "#9c179e"
             ],
             [
              0.4444444444444444,
              "#bd3786"
             ],
             [
              0.5555555555555556,
              "#d8576b"
             ],
             [
              0.6666666666666666,
              "#ed7953"
             ],
             [
              0.7777777777777778,
              "#fb9f3a"
             ],
             [
              0.8888888888888888,
              "#fdca26"
             ],
             [
              1,
              "#f0f921"
             ]
            ],
            "type": "contour"
           }
          ],
          "contourcarpet": [
           {
            "colorbar": {
             "outlinewidth": 0,
             "ticks": ""
            },
            "type": "contourcarpet"
           }
          ],
          "heatmap": [
           {
            "colorbar": {
             "outlinewidth": 0,
             "ticks": ""
            },
            "colorscale": [
             [
              0,
              "#0d0887"
             ],
             [
              0.1111111111111111,
              "#46039f"
             ],
             [
              0.2222222222222222,
              "#7201a8"
             ],
             [
              0.3333333333333333,
              "#9c179e"
             ],
             [
              0.4444444444444444,
              "#bd3786"
             ],
             [
              0.5555555555555556,
              "#d8576b"
             ],
             [
              0.6666666666666666,
              "#ed7953"
             ],
             [
              0.7777777777777778,
              "#fb9f3a"
             ],
             [
              0.8888888888888888,
              "#fdca26"
             ],
             [
              1,
              "#f0f921"
             ]
            ],
            "type": "heatmap"
           }
          ],
          "heatmapgl": [
           {
            "colorbar": {
             "outlinewidth": 0,
             "ticks": ""
            },
            "colorscale": [
             [
              0,
              "#0d0887"
             ],
             [
              0.1111111111111111,
              "#46039f"
             ],
             [
              0.2222222222222222,
              "#7201a8"
             ],
             [
              0.3333333333333333,
              "#9c179e"
             ],
             [
              0.4444444444444444,
              "#bd3786"
             ],
             [
              0.5555555555555556,
              "#d8576b"
             ],
             [
              0.6666666666666666,
              "#ed7953"
             ],
             [
              0.7777777777777778,
              "#fb9f3a"
             ],
             [
              0.8888888888888888,
              "#fdca26"
             ],
             [
              1,
              "#f0f921"
             ]
            ],
            "type": "heatmapgl"
           }
          ],
          "histogram": [
           {
            "marker": {
             "colorbar": {
              "outlinewidth": 0,
              "ticks": ""
             }
            },
            "type": "histogram"
           }
          ],
          "histogram2d": [
           {
            "colorbar": {
             "outlinewidth": 0,
             "ticks": ""
            },
            "colorscale": [
             [
              0,
              "#0d0887"
             ],
             [
              0.1111111111111111,
              "#46039f"
             ],
             [
              0.2222222222222222,
              "#7201a8"
             ],
             [
              0.3333333333333333,
              "#9c179e"
             ],
             [
              0.4444444444444444,
              "#bd3786"
             ],
             [
              0.5555555555555556,
              "#d8576b"
             ],
             [
              0.6666666666666666,
              "#ed7953"
             ],
             [
              0.7777777777777778,
              "#fb9f3a"
             ],
             [
              0.8888888888888888,
              "#fdca26"
             ],
             [
              1,
              "#f0f921"
             ]
            ],
            "type": "histogram2d"
           }
          ],
          "histogram2dcontour": [
           {
            "colorbar": {
             "outlinewidth": 0,
             "ticks": ""
            },
            "colorscale": [
             [
              0,
              "#0d0887"
             ],
             [
              0.1111111111111111,
              "#46039f"
             ],
             [
              0.2222222222222222,
              "#7201a8"
             ],
             [
              0.3333333333333333,
              "#9c179e"
             ],
             [
              0.4444444444444444,
              "#bd3786"
             ],
             [
              0.5555555555555556,
              "#d8576b"
             ],
             [
              0.6666666666666666,
              "#ed7953"
             ],
             [
              0.7777777777777778,
              "#fb9f3a"
             ],
             [
              0.8888888888888888,
              "#fdca26"
             ],
             [
              1,
              "#f0f921"
             ]
            ],
            "type": "histogram2dcontour"
           }
          ],
          "mesh3d": [
           {
            "colorbar": {
             "outlinewidth": 0,
             "ticks": ""
            },
            "type": "mesh3d"
           }
          ],
          "parcoords": [
           {
            "line": {
             "colorbar": {
              "outlinewidth": 0,
              "ticks": ""
             }
            },
            "type": "parcoords"
           }
          ],
          "pie": [
           {
            "automargin": true,
            "type": "pie"
           }
          ],
          "scatter": [
           {
            "marker": {
             "colorbar": {
              "outlinewidth": 0,
              "ticks": ""
             }
            },
            "type": "scatter"
           }
          ],
          "scatter3d": [
           {
            "line": {
             "colorbar": {
              "outlinewidth": 0,
              "ticks": ""
             }
            },
            "marker": {
             "colorbar": {
              "outlinewidth": 0,
              "ticks": ""
             }
            },
            "type": "scatter3d"
           }
          ],
          "scattercarpet": [
           {
            "marker": {
             "colorbar": {
              "outlinewidth": 0,
              "ticks": ""
             }
            },
            "type": "scattercarpet"
           }
          ],
          "scattergeo": [
           {
            "marker": {
             "colorbar": {
              "outlinewidth": 0,
              "ticks": ""
             }
            },
            "type": "scattergeo"
           }
          ],
          "scattergl": [
           {
            "marker": {
             "colorbar": {
              "outlinewidth": 0,
              "ticks": ""
             }
            },
            "type": "scattergl"
           }
          ],
          "scattermapbox": [
           {
            "marker": {
             "colorbar": {
              "outlinewidth": 0,
              "ticks": ""
             }
            },
            "type": "scattermapbox"
           }
          ],
          "scatterpolar": [
           {
            "marker": {
             "colorbar": {
              "outlinewidth": 0,
              "ticks": ""
             }
            },
            "type": "scatterpolar"
           }
          ],
          "scatterpolargl": [
           {
            "marker": {
             "colorbar": {
              "outlinewidth": 0,
              "ticks": ""
             }
            },
            "type": "scatterpolargl"
           }
          ],
          "scatterternary": [
           {
            "marker": {
             "colorbar": {
              "outlinewidth": 0,
              "ticks": ""
             }
            },
            "type": "scatterternary"
           }
          ],
          "surface": [
           {
            "colorbar": {
             "outlinewidth": 0,
             "ticks": ""
            },
            "colorscale": [
             [
              0,
              "#0d0887"
             ],
             [
              0.1111111111111111,
              "#46039f"
             ],
             [
              0.2222222222222222,
              "#7201a8"
             ],
             [
              0.3333333333333333,
              "#9c179e"
             ],
             [
              0.4444444444444444,
              "#bd3786"
             ],
             [
              0.5555555555555556,
              "#d8576b"
             ],
             [
              0.6666666666666666,
              "#ed7953"
             ],
             [
              0.7777777777777778,
              "#fb9f3a"
             ],
             [
              0.8888888888888888,
              "#fdca26"
             ],
             [
              1,
              "#f0f921"
             ]
            ],
            "type": "surface"
           }
          ],
          "table": [
           {
            "cells": {
             "fill": {
              "color": "#EBF0F8"
             },
             "line": {
              "color": "white"
             }
            },
            "header": {
             "fill": {
              "color": "#C8D4E3"
             },
             "line": {
              "color": "white"
             }
            },
            "type": "table"
           }
          ]
         },
         "layout": {
          "annotationdefaults": {
           "arrowcolor": "#2a3f5f",
           "arrowhead": 0,
           "arrowwidth": 1
          },
          "coloraxis": {
           "colorbar": {
            "outlinewidth": 0,
            "ticks": ""
           }
          },
          "colorscale": {
           "diverging": [
            [
             0,
             "#8e0152"
            ],
            [
             0.1,
             "#c51b7d"
            ],
            [
             0.2,
             "#de77ae"
            ],
            [
             0.3,
             "#f1b6da"
            ],
            [
             0.4,
             "#fde0ef"
            ],
            [
             0.5,
             "#f7f7f7"
            ],
            [
             0.6,
             "#e6f5d0"
            ],
            [
             0.7,
             "#b8e186"
            ],
            [
             0.8,
             "#7fbc41"
            ],
            [
             0.9,
             "#4d9221"
            ],
            [
             1,
             "#276419"
            ]
           ],
           "sequential": [
            [
             0,
             "#0d0887"
            ],
            [
             0.1111111111111111,
             "#46039f"
            ],
            [
             0.2222222222222222,
             "#7201a8"
            ],
            [
             0.3333333333333333,
             "#9c179e"
            ],
            [
             0.4444444444444444,
             "#bd3786"
            ],
            [
             0.5555555555555556,
             "#d8576b"
            ],
            [
             0.6666666666666666,
             "#ed7953"
            ],
            [
             0.7777777777777778,
             "#fb9f3a"
            ],
            [
             0.8888888888888888,
             "#fdca26"
            ],
            [
             1,
             "#f0f921"
            ]
           ],
           "sequentialminus": [
            [
             0,
             "#0d0887"
            ],
            [
             0.1111111111111111,
             "#46039f"
            ],
            [
             0.2222222222222222,
             "#7201a8"
            ],
            [
             0.3333333333333333,
             "#9c179e"
            ],
            [
             0.4444444444444444,
             "#bd3786"
            ],
            [
             0.5555555555555556,
             "#d8576b"
            ],
            [
             0.6666666666666666,
             "#ed7953"
            ],
            [
             0.7777777777777778,
             "#fb9f3a"
            ],
            [
             0.8888888888888888,
             "#fdca26"
            ],
            [
             1,
             "#f0f921"
            ]
           ]
          },
          "colorway": [
           "#636efa",
           "#EF553B",
           "#00cc96",
           "#ab63fa",
           "#FFA15A",
           "#19d3f3",
           "#FF6692",
           "#B6E880",
           "#FF97FF",
           "#FECB52"
          ],
          "font": {
           "color": "#2a3f5f"
          },
          "geo": {
           "bgcolor": "white",
           "lakecolor": "white",
           "landcolor": "#E5ECF6",
           "showlakes": true,
           "showland": true,
           "subunitcolor": "white"
          },
          "hoverlabel": {
           "align": "left"
          },
          "hovermode": "closest",
          "mapbox": {
           "style": "light"
          },
          "paper_bgcolor": "white",
          "plot_bgcolor": "#E5ECF6",
          "polar": {
           "angularaxis": {
            "gridcolor": "white",
            "linecolor": "white",
            "ticks": ""
           },
           "bgcolor": "#E5ECF6",
           "radialaxis": {
            "gridcolor": "white",
            "linecolor": "white",
            "ticks": ""
           }
          },
          "scene": {
           "xaxis": {
            "backgroundcolor": "#E5ECF6",
            "gridcolor": "white",
            "gridwidth": 2,
            "linecolor": "white",
            "showbackground": true,
            "ticks": "",
            "zerolinecolor": "white"
           },
           "yaxis": {
            "backgroundcolor": "#E5ECF6",
            "gridcolor": "white",
            "gridwidth": 2,
            "linecolor": "white",
            "showbackground": true,
            "ticks": "",
            "zerolinecolor": "white"
           },
           "zaxis": {
            "backgroundcolor": "#E5ECF6",
            "gridcolor": "white",
            "gridwidth": 2,
            "linecolor": "white",
            "showbackground": true,
            "ticks": "",
            "zerolinecolor": "white"
           }
          },
          "shapedefaults": {
           "line": {
            "color": "#2a3f5f"
           }
          },
          "ternary": {
           "aaxis": {
            "gridcolor": "white",
            "linecolor": "white",
            "ticks": ""
           },
           "baxis": {
            "gridcolor": "white",
            "linecolor": "white",
            "ticks": ""
           },
           "bgcolor": "#E5ECF6",
           "caxis": {
            "gridcolor": "white",
            "linecolor": "white",
            "ticks": ""
           }
          },
          "title": {
           "x": 0.05
          },
          "xaxis": {
           "automargin": true,
           "gridcolor": "white",
           "linecolor": "white",
           "ticks": "",
           "title": {
            "standoff": 15
           },
           "zerolinecolor": "white",
           "zerolinewidth": 2
          },
          "yaxis": {
           "automargin": true,
           "gridcolor": "white",
           "linecolor": "white",
           "ticks": "",
           "title": {
            "standoff": 15
           },
           "zerolinecolor": "white",
           "zerolinewidth": 2
          }
         }
        },
        "title": {
         "text": "Przyczyna zgonu"
        },
        "width": 500
       }
      },
      "text/html": [
       "<div>                            <div id=\"03af846f-d6ab-4410-937e-6b9637bbba76\" class=\"plotly-graph-div\" style=\"height:500px; width:500px;\"></div>            <script type=\"text/javascript\">                require([\"plotly\"], function(Plotly) {                    window.PLOTLYENV=window.PLOTLYENV || {};                                    if (document.getElementById(\"03af846f-d6ab-4410-937e-6b9637bbba76\")) {                    Plotly.newPlot(                        \"03af846f-d6ab-4410-937e-6b9637bbba76\",                        [{\"domain\": {\"x\": [0.0, 1.0], \"y\": [0.0, 1.0]}, \"hovertemplate\": \"manner_of_death=%{label}<br>count=%{value}<extra></extra>\", \"labels\": [\"shot\", \"shot and Tasered\"], \"legendgroup\": \"\", \"name\": \"\", \"showlegend\": true, \"type\": \"pie\", \"values\": [4647, 248]}],                        {\"height\": 500, \"legend\": {\"tracegroupgap\": 0}, \"template\": {\"data\": {\"bar\": [{\"error_x\": {\"color\": \"#2a3f5f\"}, \"error_y\": {\"color\": \"#2a3f5f\"}, \"marker\": {\"line\": {\"color\": \"#E5ECF6\", \"width\": 0.5}}, \"type\": \"bar\"}], \"barpolar\": [{\"marker\": {\"line\": {\"color\": \"#E5ECF6\", \"width\": 0.5}}, \"type\": \"barpolar\"}], \"carpet\": [{\"aaxis\": {\"endlinecolor\": \"#2a3f5f\", \"gridcolor\": \"white\", \"linecolor\": \"white\", \"minorgridcolor\": \"white\", \"startlinecolor\": \"#2a3f5f\"}, \"baxis\": {\"endlinecolor\": \"#2a3f5f\", \"gridcolor\": \"white\", \"linecolor\": \"white\", \"minorgridcolor\": \"white\", \"startlinecolor\": \"#2a3f5f\"}, \"type\": \"carpet\"}], \"choropleth\": [{\"colorbar\": {\"outlinewidth\": 0, \"ticks\": \"\"}, \"type\": \"choropleth\"}], \"contour\": [{\"colorbar\": {\"outlinewidth\": 0, \"ticks\": \"\"}, \"colorscale\": [[0.0, \"#0d0887\"], [0.1111111111111111, \"#46039f\"], [0.2222222222222222, \"#7201a8\"], [0.3333333333333333, \"#9c179e\"], [0.4444444444444444, \"#bd3786\"], [0.5555555555555556, \"#d8576b\"], [0.6666666666666666, \"#ed7953\"], [0.7777777777777778, \"#fb9f3a\"], [0.8888888888888888, \"#fdca26\"], [1.0, \"#f0f921\"]], \"type\": \"contour\"}], \"contourcarpet\": [{\"colorbar\": {\"outlinewidth\": 0, \"ticks\": \"\"}, \"type\": \"contourcarpet\"}], \"heatmap\": [{\"colorbar\": {\"outlinewidth\": 0, \"ticks\": \"\"}, \"colorscale\": [[0.0, \"#0d0887\"], [0.1111111111111111, \"#46039f\"], [0.2222222222222222, \"#7201a8\"], [0.3333333333333333, \"#9c179e\"], [0.4444444444444444, \"#bd3786\"], [0.5555555555555556, \"#d8576b\"], [0.6666666666666666, \"#ed7953\"], [0.7777777777777778, \"#fb9f3a\"], [0.8888888888888888, \"#fdca26\"], [1.0, \"#f0f921\"]], \"type\": \"heatmap\"}], \"heatmapgl\": [{\"colorbar\": {\"outlinewidth\": 0, \"ticks\": \"\"}, \"colorscale\": [[0.0, \"#0d0887\"], [0.1111111111111111, \"#46039f\"], [0.2222222222222222, \"#7201a8\"], [0.3333333333333333, \"#9c179e\"], [0.4444444444444444, \"#bd3786\"], [0.5555555555555556, \"#d8576b\"], [0.6666666666666666, \"#ed7953\"], [0.7777777777777778, \"#fb9f3a\"], [0.8888888888888888, \"#fdca26\"], [1.0, \"#f0f921\"]], \"type\": \"heatmapgl\"}], \"histogram\": [{\"marker\": {\"colorbar\": {\"outlinewidth\": 0, \"ticks\": \"\"}}, \"type\": \"histogram\"}], \"histogram2d\": [{\"colorbar\": {\"outlinewidth\": 0, \"ticks\": \"\"}, \"colorscale\": [[0.0, \"#0d0887\"], [0.1111111111111111, \"#46039f\"], [0.2222222222222222, \"#7201a8\"], [0.3333333333333333, \"#9c179e\"], [0.4444444444444444, \"#bd3786\"], [0.5555555555555556, \"#d8576b\"], [0.6666666666666666, \"#ed7953\"], [0.7777777777777778, \"#fb9f3a\"], [0.8888888888888888, \"#fdca26\"], [1.0, \"#f0f921\"]], \"type\": \"histogram2d\"}], \"histogram2dcontour\": [{\"colorbar\": {\"outlinewidth\": 0, \"ticks\": \"\"}, \"colorscale\": [[0.0, \"#0d0887\"], [0.1111111111111111, \"#46039f\"], [0.2222222222222222, \"#7201a8\"], [0.3333333333333333, \"#9c179e\"], [0.4444444444444444, \"#bd3786\"], [0.5555555555555556, \"#d8576b\"], [0.6666666666666666, \"#ed7953\"], [0.7777777777777778, \"#fb9f3a\"], [0.8888888888888888, \"#fdca26\"], [1.0, \"#f0f921\"]], \"type\": \"histogram2dcontour\"}], \"mesh3d\": [{\"colorbar\": {\"outlinewidth\": 0, \"ticks\": \"\"}, \"type\": \"mesh3d\"}], \"parcoords\": [{\"line\": {\"colorbar\": {\"outlinewidth\": 0, \"ticks\": \"\"}}, \"type\": \"parcoords\"}], \"pie\": [{\"automargin\": true, \"type\": \"pie\"}], \"scatter\": [{\"marker\": {\"colorbar\": {\"outlinewidth\": 0, \"ticks\": \"\"}}, \"type\": \"scatter\"}], \"scatter3d\": [{\"line\": {\"colorbar\": {\"outlinewidth\": 0, \"ticks\": \"\"}}, \"marker\": {\"colorbar\": {\"outlinewidth\": 0, \"ticks\": \"\"}}, \"type\": \"scatter3d\"}], \"scattercarpet\": [{\"marker\": {\"colorbar\": {\"outlinewidth\": 0, \"ticks\": \"\"}}, \"type\": \"scattercarpet\"}], \"scattergeo\": [{\"marker\": {\"colorbar\": {\"outlinewidth\": 0, \"ticks\": \"\"}}, \"type\": \"scattergeo\"}], \"scattergl\": [{\"marker\": {\"colorbar\": {\"outlinewidth\": 0, \"ticks\": \"\"}}, \"type\": \"scattergl\"}], \"scattermapbox\": [{\"marker\": {\"colorbar\": {\"outlinewidth\": 0, \"ticks\": \"\"}}, \"type\": \"scattermapbox\"}], \"scatterpolar\": [{\"marker\": {\"colorbar\": {\"outlinewidth\": 0, \"ticks\": \"\"}}, \"type\": \"scatterpolar\"}], \"scatterpolargl\": [{\"marker\": {\"colorbar\": {\"outlinewidth\": 0, \"ticks\": \"\"}}, \"type\": \"scatterpolargl\"}], \"scatterternary\": [{\"marker\": {\"colorbar\": {\"outlinewidth\": 0, \"ticks\": \"\"}}, \"type\": \"scatterternary\"}], \"surface\": [{\"colorbar\": {\"outlinewidth\": 0, \"ticks\": \"\"}, \"colorscale\": [[0.0, \"#0d0887\"], [0.1111111111111111, \"#46039f\"], [0.2222222222222222, \"#7201a8\"], [0.3333333333333333, \"#9c179e\"], [0.4444444444444444, \"#bd3786\"], [0.5555555555555556, \"#d8576b\"], [0.6666666666666666, \"#ed7953\"], [0.7777777777777778, \"#fb9f3a\"], [0.8888888888888888, \"#fdca26\"], [1.0, \"#f0f921\"]], \"type\": \"surface\"}], \"table\": [{\"cells\": {\"fill\": {\"color\": \"#EBF0F8\"}, \"line\": {\"color\": \"white\"}}, \"header\": {\"fill\": {\"color\": \"#C8D4E3\"}, \"line\": {\"color\": \"white\"}}, \"type\": \"table\"}]}, \"layout\": {\"annotationdefaults\": {\"arrowcolor\": \"#2a3f5f\", \"arrowhead\": 0, \"arrowwidth\": 1}, \"coloraxis\": {\"colorbar\": {\"outlinewidth\": 0, \"ticks\": \"\"}}, \"colorscale\": {\"diverging\": [[0, \"#8e0152\"], [0.1, \"#c51b7d\"], [0.2, \"#de77ae\"], [0.3, \"#f1b6da\"], [0.4, \"#fde0ef\"], [0.5, \"#f7f7f7\"], [0.6, \"#e6f5d0\"], [0.7, \"#b8e186\"], [0.8, \"#7fbc41\"], [0.9, \"#4d9221\"], [1, \"#276419\"]], \"sequential\": [[0.0, \"#0d0887\"], [0.1111111111111111, \"#46039f\"], [0.2222222222222222, \"#7201a8\"], [0.3333333333333333, \"#9c179e\"], [0.4444444444444444, \"#bd3786\"], [0.5555555555555556, \"#d8576b\"], [0.6666666666666666, \"#ed7953\"], [0.7777777777777778, \"#fb9f3a\"], [0.8888888888888888, \"#fdca26\"], [1.0, \"#f0f921\"]], \"sequentialminus\": [[0.0, \"#0d0887\"], [0.1111111111111111, \"#46039f\"], [0.2222222222222222, \"#7201a8\"], [0.3333333333333333, \"#9c179e\"], [0.4444444444444444, \"#bd3786\"], [0.5555555555555556, \"#d8576b\"], [0.6666666666666666, \"#ed7953\"], [0.7777777777777778, \"#fb9f3a\"], [0.8888888888888888, \"#fdca26\"], [1.0, \"#f0f921\"]]}, \"colorway\": [\"#636efa\", \"#EF553B\", \"#00cc96\", \"#ab63fa\", \"#FFA15A\", \"#19d3f3\", \"#FF6692\", \"#B6E880\", \"#FF97FF\", \"#FECB52\"], \"font\": {\"color\": \"#2a3f5f\"}, \"geo\": {\"bgcolor\": \"white\", \"lakecolor\": \"white\", \"landcolor\": \"#E5ECF6\", \"showlakes\": true, \"showland\": true, \"subunitcolor\": \"white\"}, \"hoverlabel\": {\"align\": \"left\"}, \"hovermode\": \"closest\", \"mapbox\": {\"style\": \"light\"}, \"paper_bgcolor\": \"white\", \"plot_bgcolor\": \"#E5ECF6\", \"polar\": {\"angularaxis\": {\"gridcolor\": \"white\", \"linecolor\": \"white\", \"ticks\": \"\"}, \"bgcolor\": \"#E5ECF6\", \"radialaxis\": {\"gridcolor\": \"white\", \"linecolor\": \"white\", \"ticks\": \"\"}}, \"scene\": {\"xaxis\": {\"backgroundcolor\": \"#E5ECF6\", \"gridcolor\": \"white\", \"gridwidth\": 2, \"linecolor\": \"white\", \"showbackground\": true, \"ticks\": \"\", \"zerolinecolor\": \"white\"}, \"yaxis\": {\"backgroundcolor\": \"#E5ECF6\", \"gridcolor\": \"white\", \"gridwidth\": 2, \"linecolor\": \"white\", \"showbackground\": true, \"ticks\": \"\", \"zerolinecolor\": \"white\"}, \"zaxis\": {\"backgroundcolor\": \"#E5ECF6\", \"gridcolor\": \"white\", \"gridwidth\": 2, \"linecolor\": \"white\", \"showbackground\": true, \"ticks\": \"\", \"zerolinecolor\": \"white\"}}, \"shapedefaults\": {\"line\": {\"color\": \"#2a3f5f\"}}, \"ternary\": {\"aaxis\": {\"gridcolor\": \"white\", \"linecolor\": \"white\", \"ticks\": \"\"}, \"baxis\": {\"gridcolor\": \"white\", \"linecolor\": \"white\", \"ticks\": \"\"}, \"bgcolor\": \"#E5ECF6\", \"caxis\": {\"gridcolor\": \"white\", \"linecolor\": \"white\", \"ticks\": \"\"}}, \"title\": {\"x\": 0.05}, \"xaxis\": {\"automargin\": true, \"gridcolor\": \"white\", \"linecolor\": \"white\", \"ticks\": \"\", \"title\": {\"standoff\": 15}, \"zerolinecolor\": \"white\", \"zerolinewidth\": 2}, \"yaxis\": {\"automargin\": true, \"gridcolor\": \"white\", \"linecolor\": \"white\", \"ticks\": \"\", \"title\": {\"standoff\": 15}, \"zerolinecolor\": \"white\", \"zerolinewidth\": 2}}}, \"title\": {\"text\": \"Przyczyna zgonu\"}, \"width\": 500},                        {\"responsive\": true}                    ).then(function(){\n",
       "                            \n",
       "var gd = document.getElementById('03af846f-d6ab-4410-937e-6b9637bbba76');\n",
       "var x = new MutationObserver(function (mutations, observer) {{\n",
       "        var display = window.getComputedStyle(gd).display;\n",
       "        if (!display || display === 'none') {{\n",
       "            console.log([gd, 'removed!']);\n",
       "            Plotly.purge(gd);\n",
       "            observer.disconnect();\n",
       "        }}\n",
       "}});\n",
       "\n",
       "// Listen for the removal of the full notebook cells\n",
       "var notebookContainer = gd.closest('#notebook-container');\n",
       "if (notebookContainer) {{\n",
       "    x.observe(notebookContainer, {childList: true});\n",
       "}}\n",
       "\n",
       "// Listen for the clearing of the current output cell\n",
       "var outputEl = gd.closest('.output');\n",
       "if (outputEl) {{\n",
       "    x.observe(outputEl, {childList: true});\n",
       "}}\n",
       "\n",
       "                        })                };                });            </script>        </div>"
      ]
     },
     "metadata": {},
     "output_type": "display_data"
    }
   ],
   "source": [
    "data = df['manner_of_death'].value_counts().reset_index()\n",
    "data.columns = [\n",
    "    'manner_of_death', \n",
    "    'count'\n",
    "]\n",
    "\n",
    "fig = px.pie(\n",
    "    data, \n",
    "    values='count', \n",
    "    names='manner_of_death', \n",
    "    title='Przyczyna zgonu', \n",
    "    width=500, \n",
    "    height=500\n",
    ")\n",
    "\n",
    "fig.show()"
   ]
  },
  {
   "cell_type": "code",
   "execution_count": 15,
   "metadata": {},
   "outputs": [
    {
     "data": {
      "application/vnd.plotly.v1+json": {
       "config": {
        "plotlyServerURL": "https://plot.ly"
       },
       "data": [
        {
         "alignmentgroup": "True",
         "hovertemplate": "count=%{x}<br>armed=%{y}<extra></extra>",
         "legendgroup": "",
         "marker": {
          "color": "#636efa"
         },
         "name": "",
         "offsetgroup": "",
         "orientation": "h",
         "showlegend": false,
         "textposition": "auto",
         "type": "bar",
         "x": [
          5,
          5,
          6,
          6,
          7,
          9,
          10,
          11,
          11,
          11,
          12,
          12,
          14,
          15,
          16,
          21,
          22,
          24,
          39,
          120,
          171,
          348,
          418,
          708,
          2755
         ],
         "xaxis": "x",
         "y": [
          "shovel",
          "BB gun",
          "rock",
          "crossbow",
          "scissors",
          "gun and car",
          "gun and vehicle",
          "sharp object",
          "hatchet",
          "box cutter",
          "metal pipe",
          "screwdriver",
          "hammer",
          "gun and knife",
          "baseball bat",
          "ax",
          "sword",
          "Taser",
          "machete",
          "vehicle",
          "toy weapon",
          "unarmed",
          "unknown",
          "knife",
          "gun"
         ],
         "yaxis": "y"
        }
       ],
       "layout": {
        "barmode": "relative",
        "height": 800,
        "legend": {
         "tracegroupgap": 0
        },
        "template": {
         "data": {
          "bar": [
           {
            "error_x": {
             "color": "#2a3f5f"
            },
            "error_y": {
             "color": "#2a3f5f"
            },
            "marker": {
             "line": {
              "color": "#E5ECF6",
              "width": 0.5
             }
            },
            "type": "bar"
           }
          ],
          "barpolar": [
           {
            "marker": {
             "line": {
              "color": "#E5ECF6",
              "width": 0.5
             }
            },
            "type": "barpolar"
           }
          ],
          "carpet": [
           {
            "aaxis": {
             "endlinecolor": "#2a3f5f",
             "gridcolor": "white",
             "linecolor": "white",
             "minorgridcolor": "white",
             "startlinecolor": "#2a3f5f"
            },
            "baxis": {
             "endlinecolor": "#2a3f5f",
             "gridcolor": "white",
             "linecolor": "white",
             "minorgridcolor": "white",
             "startlinecolor": "#2a3f5f"
            },
            "type": "carpet"
           }
          ],
          "choropleth": [
           {
            "colorbar": {
             "outlinewidth": 0,
             "ticks": ""
            },
            "type": "choropleth"
           }
          ],
          "contour": [
           {
            "colorbar": {
             "outlinewidth": 0,
             "ticks": ""
            },
            "colorscale": [
             [
              0,
              "#0d0887"
             ],
             [
              0.1111111111111111,
              "#46039f"
             ],
             [
              0.2222222222222222,
              "#7201a8"
             ],
             [
              0.3333333333333333,
              "#9c179e"
             ],
             [
              0.4444444444444444,
              "#bd3786"
             ],
             [
              0.5555555555555556,
              "#d8576b"
             ],
             [
              0.6666666666666666,
              "#ed7953"
             ],
             [
              0.7777777777777778,
              "#fb9f3a"
             ],
             [
              0.8888888888888888,
              "#fdca26"
             ],
             [
              1,
              "#f0f921"
             ]
            ],
            "type": "contour"
           }
          ],
          "contourcarpet": [
           {
            "colorbar": {
             "outlinewidth": 0,
             "ticks": ""
            },
            "type": "contourcarpet"
           }
          ],
          "heatmap": [
           {
            "colorbar": {
             "outlinewidth": 0,
             "ticks": ""
            },
            "colorscale": [
             [
              0,
              "#0d0887"
             ],
             [
              0.1111111111111111,
              "#46039f"
             ],
             [
              0.2222222222222222,
              "#7201a8"
             ],
             [
              0.3333333333333333,
              "#9c179e"
             ],
             [
              0.4444444444444444,
              "#bd3786"
             ],
             [
              0.5555555555555556,
              "#d8576b"
             ],
             [
              0.6666666666666666,
              "#ed7953"
             ],
             [
              0.7777777777777778,
              "#fb9f3a"
             ],
             [
              0.8888888888888888,
              "#fdca26"
             ],
             [
              1,
              "#f0f921"
             ]
            ],
            "type": "heatmap"
           }
          ],
          "heatmapgl": [
           {
            "colorbar": {
             "outlinewidth": 0,
             "ticks": ""
            },
            "colorscale": [
             [
              0,
              "#0d0887"
             ],
             [
              0.1111111111111111,
              "#46039f"
             ],
             [
              0.2222222222222222,
              "#7201a8"
             ],
             [
              0.3333333333333333,
              "#9c179e"
             ],
             [
              0.4444444444444444,
              "#bd3786"
             ],
             [
              0.5555555555555556,
              "#d8576b"
             ],
             [
              0.6666666666666666,
              "#ed7953"
             ],
             [
              0.7777777777777778,
              "#fb9f3a"
             ],
             [
              0.8888888888888888,
              "#fdca26"
             ],
             [
              1,
              "#f0f921"
             ]
            ],
            "type": "heatmapgl"
           }
          ],
          "histogram": [
           {
            "marker": {
             "colorbar": {
              "outlinewidth": 0,
              "ticks": ""
             }
            },
            "type": "histogram"
           }
          ],
          "histogram2d": [
           {
            "colorbar": {
             "outlinewidth": 0,
             "ticks": ""
            },
            "colorscale": [
             [
              0,
              "#0d0887"
             ],
             [
              0.1111111111111111,
              "#46039f"
             ],
             [
              0.2222222222222222,
              "#7201a8"
             ],
             [
              0.3333333333333333,
              "#9c179e"
             ],
             [
              0.4444444444444444,
              "#bd3786"
             ],
             [
              0.5555555555555556,
              "#d8576b"
             ],
             [
              0.6666666666666666,
              "#ed7953"
             ],
             [
              0.7777777777777778,
              "#fb9f3a"
             ],
             [
              0.8888888888888888,
              "#fdca26"
             ],
             [
              1,
              "#f0f921"
             ]
            ],
            "type": "histogram2d"
           }
          ],
          "histogram2dcontour": [
           {
            "colorbar": {
             "outlinewidth": 0,
             "ticks": ""
            },
            "colorscale": [
             [
              0,
              "#0d0887"
             ],
             [
              0.1111111111111111,
              "#46039f"
             ],
             [
              0.2222222222222222,
              "#7201a8"
             ],
             [
              0.3333333333333333,
              "#9c179e"
             ],
             [
              0.4444444444444444,
              "#bd3786"
             ],
             [
              0.5555555555555556,
              "#d8576b"
             ],
             [
              0.6666666666666666,
              "#ed7953"
             ],
             [
              0.7777777777777778,
              "#fb9f3a"
             ],
             [
              0.8888888888888888,
              "#fdca26"
             ],
             [
              1,
              "#f0f921"
             ]
            ],
            "type": "histogram2dcontour"
           }
          ],
          "mesh3d": [
           {
            "colorbar": {
             "outlinewidth": 0,
             "ticks": ""
            },
            "type": "mesh3d"
           }
          ],
          "parcoords": [
           {
            "line": {
             "colorbar": {
              "outlinewidth": 0,
              "ticks": ""
             }
            },
            "type": "parcoords"
           }
          ],
          "pie": [
           {
            "automargin": true,
            "type": "pie"
           }
          ],
          "scatter": [
           {
            "marker": {
             "colorbar": {
              "outlinewidth": 0,
              "ticks": ""
             }
            },
            "type": "scatter"
           }
          ],
          "scatter3d": [
           {
            "line": {
             "colorbar": {
              "outlinewidth": 0,
              "ticks": ""
             }
            },
            "marker": {
             "colorbar": {
              "outlinewidth": 0,
              "ticks": ""
             }
            },
            "type": "scatter3d"
           }
          ],
          "scattercarpet": [
           {
            "marker": {
             "colorbar": {
              "outlinewidth": 0,
              "ticks": ""
             }
            },
            "type": "scattercarpet"
           }
          ],
          "scattergeo": [
           {
            "marker": {
             "colorbar": {
              "outlinewidth": 0,
              "ticks": ""
             }
            },
            "type": "scattergeo"
           }
          ],
          "scattergl": [
           {
            "marker": {
             "colorbar": {
              "outlinewidth": 0,
              "ticks": ""
             }
            },
            "type": "scattergl"
           }
          ],
          "scattermapbox": [
           {
            "marker": {
             "colorbar": {
              "outlinewidth": 0,
              "ticks": ""
             }
            },
            "type": "scattermapbox"
           }
          ],
          "scatterpolar": [
           {
            "marker": {
             "colorbar": {
              "outlinewidth": 0,
              "ticks": ""
             }
            },
            "type": "scatterpolar"
           }
          ],
          "scatterpolargl": [
           {
            "marker": {
             "colorbar": {
              "outlinewidth": 0,
              "ticks": ""
             }
            },
            "type": "scatterpolargl"
           }
          ],
          "scatterternary": [
           {
            "marker": {
             "colorbar": {
              "outlinewidth": 0,
              "ticks": ""
             }
            },
            "type": "scatterternary"
           }
          ],
          "surface": [
           {
            "colorbar": {
             "outlinewidth": 0,
             "ticks": ""
            },
            "colorscale": [
             [
              0,
              "#0d0887"
             ],
             [
              0.1111111111111111,
              "#46039f"
             ],
             [
              0.2222222222222222,
              "#7201a8"
             ],
             [
              0.3333333333333333,
              "#9c179e"
             ],
             [
              0.4444444444444444,
              "#bd3786"
             ],
             [
              0.5555555555555556,
              "#d8576b"
             ],
             [
              0.6666666666666666,
              "#ed7953"
             ],
             [
              0.7777777777777778,
              "#fb9f3a"
             ],
             [
              0.8888888888888888,
              "#fdca26"
             ],
             [
              1,
              "#f0f921"
             ]
            ],
            "type": "surface"
           }
          ],
          "table": [
           {
            "cells": {
             "fill": {
              "color": "#EBF0F8"
             },
             "line": {
              "color": "white"
             }
            },
            "header": {
             "fill": {
              "color": "#C8D4E3"
             },
             "line": {
              "color": "white"
             }
            },
            "type": "table"
           }
          ]
         },
         "layout": {
          "annotationdefaults": {
           "arrowcolor": "#2a3f5f",
           "arrowhead": 0,
           "arrowwidth": 1
          },
          "coloraxis": {
           "colorbar": {
            "outlinewidth": 0,
            "ticks": ""
           }
          },
          "colorscale": {
           "diverging": [
            [
             0,
             "#8e0152"
            ],
            [
             0.1,
             "#c51b7d"
            ],
            [
             0.2,
             "#de77ae"
            ],
            [
             0.3,
             "#f1b6da"
            ],
            [
             0.4,
             "#fde0ef"
            ],
            [
             0.5,
             "#f7f7f7"
            ],
            [
             0.6,
             "#e6f5d0"
            ],
            [
             0.7,
             "#b8e186"
            ],
            [
             0.8,
             "#7fbc41"
            ],
            [
             0.9,
             "#4d9221"
            ],
            [
             1,
             "#276419"
            ]
           ],
           "sequential": [
            [
             0,
             "#0d0887"
            ],
            [
             0.1111111111111111,
             "#46039f"
            ],
            [
             0.2222222222222222,
             "#7201a8"
            ],
            [
             0.3333333333333333,
             "#9c179e"
            ],
            [
             0.4444444444444444,
             "#bd3786"
            ],
            [
             0.5555555555555556,
             "#d8576b"
            ],
            [
             0.6666666666666666,
             "#ed7953"
            ],
            [
             0.7777777777777778,
             "#fb9f3a"
            ],
            [
             0.8888888888888888,
             "#fdca26"
            ],
            [
             1,
             "#f0f921"
            ]
           ],
           "sequentialminus": [
            [
             0,
             "#0d0887"
            ],
            [
             0.1111111111111111,
             "#46039f"
            ],
            [
             0.2222222222222222,
             "#7201a8"
            ],
            [
             0.3333333333333333,
             "#9c179e"
            ],
            [
             0.4444444444444444,
             "#bd3786"
            ],
            [
             0.5555555555555556,
             "#d8576b"
            ],
            [
             0.6666666666666666,
             "#ed7953"
            ],
            [
             0.7777777777777778,
             "#fb9f3a"
            ],
            [
             0.8888888888888888,
             "#fdca26"
            ],
            [
             1,
             "#f0f921"
            ]
           ]
          },
          "colorway": [
           "#636efa",
           "#EF553B",
           "#00cc96",
           "#ab63fa",
           "#FFA15A",
           "#19d3f3",
           "#FF6692",
           "#B6E880",
           "#FF97FF",
           "#FECB52"
          ],
          "font": {
           "color": "#2a3f5f"
          },
          "geo": {
           "bgcolor": "white",
           "lakecolor": "white",
           "landcolor": "#E5ECF6",
           "showlakes": true,
           "showland": true,
           "subunitcolor": "white"
          },
          "hoverlabel": {
           "align": "left"
          },
          "hovermode": "closest",
          "mapbox": {
           "style": "light"
          },
          "paper_bgcolor": "white",
          "plot_bgcolor": "#E5ECF6",
          "polar": {
           "angularaxis": {
            "gridcolor": "white",
            "linecolor": "white",
            "ticks": ""
           },
           "bgcolor": "#E5ECF6",
           "radialaxis": {
            "gridcolor": "white",
            "linecolor": "white",
            "ticks": ""
           }
          },
          "scene": {
           "xaxis": {
            "backgroundcolor": "#E5ECF6",
            "gridcolor": "white",
            "gridwidth": 2,
            "linecolor": "white",
            "showbackground": true,
            "ticks": "",
            "zerolinecolor": "white"
           },
           "yaxis": {
            "backgroundcolor": "#E5ECF6",
            "gridcolor": "white",
            "gridwidth": 2,
            "linecolor": "white",
            "showbackground": true,
            "ticks": "",
            "zerolinecolor": "white"
           },
           "zaxis": {
            "backgroundcolor": "#E5ECF6",
            "gridcolor": "white",
            "gridwidth": 2,
            "linecolor": "white",
            "showbackground": true,
            "ticks": "",
            "zerolinecolor": "white"
           }
          },
          "shapedefaults": {
           "line": {
            "color": "#2a3f5f"
           }
          },
          "ternary": {
           "aaxis": {
            "gridcolor": "white",
            "linecolor": "white",
            "ticks": ""
           },
           "baxis": {
            "gridcolor": "white",
            "linecolor": "white",
            "ticks": ""
           },
           "bgcolor": "#E5ECF6",
           "caxis": {
            "gridcolor": "white",
            "linecolor": "white",
            "ticks": ""
           }
          },
          "title": {
           "x": 0.05
          },
          "xaxis": {
           "automargin": true,
           "gridcolor": "white",
           "linecolor": "white",
           "ticks": "",
           "title": {
            "standoff": 15
           },
           "zerolinecolor": "white",
           "zerolinewidth": 2
          },
          "yaxis": {
           "automargin": true,
           "gridcolor": "white",
           "linecolor": "white",
           "ticks": "",
           "title": {
            "standoff": 15
           },
           "zerolinecolor": "white",
           "zerolinewidth": 2
          }
         }
        },
        "title": {
         "text": "Typ broni"
        },
        "width": 800,
        "xaxis": {
         "anchor": "y",
         "domain": [
          0,
          1
         ],
         "title": {
          "text": "count"
         }
        },
        "yaxis": {
         "anchor": "x",
         "domain": [
          0,
          1
         ],
         "title": {
          "text": "armed"
         }
        }
       }
      },
      "text/html": [
       "<div>                            <div id=\"40497f3d-f616-4382-8828-8c798ee517af\" class=\"plotly-graph-div\" style=\"height:800px; width:800px;\"></div>            <script type=\"text/javascript\">                require([\"plotly\"], function(Plotly) {                    window.PLOTLYENV=window.PLOTLYENV || {};                                    if (document.getElementById(\"40497f3d-f616-4382-8828-8c798ee517af\")) {                    Plotly.newPlot(                        \"40497f3d-f616-4382-8828-8c798ee517af\",                        [{\"alignmentgroup\": \"True\", \"hovertemplate\": \"count=%{x}<br>armed=%{y}<extra></extra>\", \"legendgroup\": \"\", \"marker\": {\"color\": \"#636efa\"}, \"name\": \"\", \"offsetgroup\": \"\", \"orientation\": \"h\", \"showlegend\": false, \"textposition\": \"auto\", \"type\": \"bar\", \"x\": [5, 5, 6, 6, 7, 9, 10, 11, 11, 11, 12, 12, 14, 15, 16, 21, 22, 24, 39, 120, 171, 348, 418, 708, 2755], \"xaxis\": \"x\", \"y\": [\"shovel\", \"BB gun\", \"rock\", \"crossbow\", \"scissors\", \"gun and car\", \"gun and vehicle\", \"sharp object\", \"hatchet\", \"box cutter\", \"metal pipe\", \"screwdriver\", \"hammer\", \"gun and knife\", \"baseball bat\", \"ax\", \"sword\", \"Taser\", \"machete\", \"vehicle\", \"toy weapon\", \"unarmed\", \"unknown\", \"knife\", \"gun\"], \"yaxis\": \"y\"}],                        {\"barmode\": \"relative\", \"height\": 800, \"legend\": {\"tracegroupgap\": 0}, \"template\": {\"data\": {\"bar\": [{\"error_x\": {\"color\": \"#2a3f5f\"}, \"error_y\": {\"color\": \"#2a3f5f\"}, \"marker\": {\"line\": {\"color\": \"#E5ECF6\", \"width\": 0.5}}, \"type\": \"bar\"}], \"barpolar\": [{\"marker\": {\"line\": {\"color\": \"#E5ECF6\", \"width\": 0.5}}, \"type\": \"barpolar\"}], \"carpet\": [{\"aaxis\": {\"endlinecolor\": \"#2a3f5f\", \"gridcolor\": \"white\", \"linecolor\": \"white\", \"minorgridcolor\": \"white\", \"startlinecolor\": \"#2a3f5f\"}, \"baxis\": {\"endlinecolor\": \"#2a3f5f\", \"gridcolor\": \"white\", \"linecolor\": \"white\", \"minorgridcolor\": \"white\", \"startlinecolor\": \"#2a3f5f\"}, \"type\": \"carpet\"}], \"choropleth\": [{\"colorbar\": {\"outlinewidth\": 0, \"ticks\": \"\"}, \"type\": \"choropleth\"}], \"contour\": [{\"colorbar\": {\"outlinewidth\": 0, \"ticks\": \"\"}, \"colorscale\": [[0.0, \"#0d0887\"], [0.1111111111111111, \"#46039f\"], [0.2222222222222222, \"#7201a8\"], [0.3333333333333333, \"#9c179e\"], [0.4444444444444444, \"#bd3786\"], [0.5555555555555556, \"#d8576b\"], [0.6666666666666666, \"#ed7953\"], [0.7777777777777778, \"#fb9f3a\"], [0.8888888888888888, \"#fdca26\"], [1.0, \"#f0f921\"]], \"type\": \"contour\"}], \"contourcarpet\": [{\"colorbar\": {\"outlinewidth\": 0, \"ticks\": \"\"}, \"type\": \"contourcarpet\"}], \"heatmap\": [{\"colorbar\": {\"outlinewidth\": 0, \"ticks\": \"\"}, \"colorscale\": [[0.0, \"#0d0887\"], [0.1111111111111111, \"#46039f\"], [0.2222222222222222, \"#7201a8\"], [0.3333333333333333, \"#9c179e\"], [0.4444444444444444, \"#bd3786\"], [0.5555555555555556, \"#d8576b\"], [0.6666666666666666, \"#ed7953\"], [0.7777777777777778, \"#fb9f3a\"], [0.8888888888888888, \"#fdca26\"], [1.0, \"#f0f921\"]], \"type\": \"heatmap\"}], \"heatmapgl\": [{\"colorbar\": {\"outlinewidth\": 0, \"ticks\": \"\"}, \"colorscale\": [[0.0, \"#0d0887\"], [0.1111111111111111, \"#46039f\"], [0.2222222222222222, \"#7201a8\"], [0.3333333333333333, \"#9c179e\"], [0.4444444444444444, \"#bd3786\"], [0.5555555555555556, \"#d8576b\"], [0.6666666666666666, \"#ed7953\"], [0.7777777777777778, \"#fb9f3a\"], [0.8888888888888888, \"#fdca26\"], [1.0, \"#f0f921\"]], \"type\": \"heatmapgl\"}], \"histogram\": [{\"marker\": {\"colorbar\": {\"outlinewidth\": 0, \"ticks\": \"\"}}, \"type\": \"histogram\"}], \"histogram2d\": [{\"colorbar\": {\"outlinewidth\": 0, \"ticks\": \"\"}, \"colorscale\": [[0.0, \"#0d0887\"], [0.1111111111111111, \"#46039f\"], [0.2222222222222222, \"#7201a8\"], [0.3333333333333333, \"#9c179e\"], [0.4444444444444444, \"#bd3786\"], [0.5555555555555556, \"#d8576b\"], [0.6666666666666666, \"#ed7953\"], [0.7777777777777778, \"#fb9f3a\"], [0.8888888888888888, \"#fdca26\"], [1.0, \"#f0f921\"]], \"type\": \"histogram2d\"}], \"histogram2dcontour\": [{\"colorbar\": {\"outlinewidth\": 0, \"ticks\": \"\"}, \"colorscale\": [[0.0, \"#0d0887\"], [0.1111111111111111, \"#46039f\"], [0.2222222222222222, \"#7201a8\"], [0.3333333333333333, \"#9c179e\"], [0.4444444444444444, \"#bd3786\"], [0.5555555555555556, \"#d8576b\"], [0.6666666666666666, \"#ed7953\"], [0.7777777777777778, \"#fb9f3a\"], [0.8888888888888888, \"#fdca26\"], [1.0, \"#f0f921\"]], \"type\": \"histogram2dcontour\"}], \"mesh3d\": [{\"colorbar\": {\"outlinewidth\": 0, \"ticks\": \"\"}, \"type\": \"mesh3d\"}], \"parcoords\": [{\"line\": {\"colorbar\": {\"outlinewidth\": 0, \"ticks\": \"\"}}, \"type\": \"parcoords\"}], \"pie\": [{\"automargin\": true, \"type\": \"pie\"}], \"scatter\": [{\"marker\": {\"colorbar\": {\"outlinewidth\": 0, \"ticks\": \"\"}}, \"type\": \"scatter\"}], \"scatter3d\": [{\"line\": {\"colorbar\": {\"outlinewidth\": 0, \"ticks\": \"\"}}, \"marker\": {\"colorbar\": {\"outlinewidth\": 0, \"ticks\": \"\"}}, \"type\": \"scatter3d\"}], \"scattercarpet\": [{\"marker\": {\"colorbar\": {\"outlinewidth\": 0, \"ticks\": \"\"}}, \"type\": \"scattercarpet\"}], \"scattergeo\": [{\"marker\": {\"colorbar\": {\"outlinewidth\": 0, \"ticks\": \"\"}}, \"type\": \"scattergeo\"}], \"scattergl\": [{\"marker\": {\"colorbar\": {\"outlinewidth\": 0, \"ticks\": \"\"}}, \"type\": \"scattergl\"}], \"scattermapbox\": [{\"marker\": {\"colorbar\": {\"outlinewidth\": 0, \"ticks\": \"\"}}, \"type\": \"scattermapbox\"}], \"scatterpolar\": [{\"marker\": {\"colorbar\": {\"outlinewidth\": 0, \"ticks\": \"\"}}, \"type\": \"scatterpolar\"}], \"scatterpolargl\": [{\"marker\": {\"colorbar\": {\"outlinewidth\": 0, \"ticks\": \"\"}}, \"type\": \"scatterpolargl\"}], \"scatterternary\": [{\"marker\": {\"colorbar\": {\"outlinewidth\": 0, \"ticks\": \"\"}}, \"type\": \"scatterternary\"}], \"surface\": [{\"colorbar\": {\"outlinewidth\": 0, \"ticks\": \"\"}, \"colorscale\": [[0.0, \"#0d0887\"], [0.1111111111111111, \"#46039f\"], [0.2222222222222222, \"#7201a8\"], [0.3333333333333333, \"#9c179e\"], [0.4444444444444444, \"#bd3786\"], [0.5555555555555556, \"#d8576b\"], [0.6666666666666666, \"#ed7953\"], [0.7777777777777778, \"#fb9f3a\"], [0.8888888888888888, \"#fdca26\"], [1.0, \"#f0f921\"]], \"type\": \"surface\"}], \"table\": [{\"cells\": {\"fill\": {\"color\": \"#EBF0F8\"}, \"line\": {\"color\": \"white\"}}, \"header\": {\"fill\": {\"color\": \"#C8D4E3\"}, \"line\": {\"color\": \"white\"}}, \"type\": \"table\"}]}, \"layout\": {\"annotationdefaults\": {\"arrowcolor\": \"#2a3f5f\", \"arrowhead\": 0, \"arrowwidth\": 1}, \"coloraxis\": {\"colorbar\": {\"outlinewidth\": 0, \"ticks\": \"\"}}, \"colorscale\": {\"diverging\": [[0, \"#8e0152\"], [0.1, \"#c51b7d\"], [0.2, \"#de77ae\"], [0.3, \"#f1b6da\"], [0.4, \"#fde0ef\"], [0.5, \"#f7f7f7\"], [0.6, \"#e6f5d0\"], [0.7, \"#b8e186\"], [0.8, \"#7fbc41\"], [0.9, \"#4d9221\"], [1, \"#276419\"]], \"sequential\": [[0.0, \"#0d0887\"], [0.1111111111111111, \"#46039f\"], [0.2222222222222222, \"#7201a8\"], [0.3333333333333333, \"#9c179e\"], [0.4444444444444444, \"#bd3786\"], [0.5555555555555556, \"#d8576b\"], [0.6666666666666666, \"#ed7953\"], [0.7777777777777778, \"#fb9f3a\"], [0.8888888888888888, \"#fdca26\"], [1.0, \"#f0f921\"]], \"sequentialminus\": [[0.0, \"#0d0887\"], [0.1111111111111111, \"#46039f\"], [0.2222222222222222, \"#7201a8\"], [0.3333333333333333, \"#9c179e\"], [0.4444444444444444, \"#bd3786\"], [0.5555555555555556, \"#d8576b\"], [0.6666666666666666, \"#ed7953\"], [0.7777777777777778, \"#fb9f3a\"], [0.8888888888888888, \"#fdca26\"], [1.0, \"#f0f921\"]]}, \"colorway\": [\"#636efa\", \"#EF553B\", \"#00cc96\", \"#ab63fa\", \"#FFA15A\", \"#19d3f3\", \"#FF6692\", \"#B6E880\", \"#FF97FF\", \"#FECB52\"], \"font\": {\"color\": \"#2a3f5f\"}, \"geo\": {\"bgcolor\": \"white\", \"lakecolor\": \"white\", \"landcolor\": \"#E5ECF6\", \"showlakes\": true, \"showland\": true, \"subunitcolor\": \"white\"}, \"hoverlabel\": {\"align\": \"left\"}, \"hovermode\": \"closest\", \"mapbox\": {\"style\": \"light\"}, \"paper_bgcolor\": \"white\", \"plot_bgcolor\": \"#E5ECF6\", \"polar\": {\"angularaxis\": {\"gridcolor\": \"white\", \"linecolor\": \"white\", \"ticks\": \"\"}, \"bgcolor\": \"#E5ECF6\", \"radialaxis\": {\"gridcolor\": \"white\", \"linecolor\": \"white\", \"ticks\": \"\"}}, \"scene\": {\"xaxis\": {\"backgroundcolor\": \"#E5ECF6\", \"gridcolor\": \"white\", \"gridwidth\": 2, \"linecolor\": \"white\", \"showbackground\": true, \"ticks\": \"\", \"zerolinecolor\": \"white\"}, \"yaxis\": {\"backgroundcolor\": \"#E5ECF6\", \"gridcolor\": \"white\", \"gridwidth\": 2, \"linecolor\": \"white\", \"showbackground\": true, \"ticks\": \"\", \"zerolinecolor\": \"white\"}, \"zaxis\": {\"backgroundcolor\": \"#E5ECF6\", \"gridcolor\": \"white\", \"gridwidth\": 2, \"linecolor\": \"white\", \"showbackground\": true, \"ticks\": \"\", \"zerolinecolor\": \"white\"}}, \"shapedefaults\": {\"line\": {\"color\": \"#2a3f5f\"}}, \"ternary\": {\"aaxis\": {\"gridcolor\": \"white\", \"linecolor\": \"white\", \"ticks\": \"\"}, \"baxis\": {\"gridcolor\": \"white\", \"linecolor\": \"white\", \"ticks\": \"\"}, \"bgcolor\": \"#E5ECF6\", \"caxis\": {\"gridcolor\": \"white\", \"linecolor\": \"white\", \"ticks\": \"\"}}, \"title\": {\"x\": 0.05}, \"xaxis\": {\"automargin\": true, \"gridcolor\": \"white\", \"linecolor\": \"white\", \"ticks\": \"\", \"title\": {\"standoff\": 15}, \"zerolinecolor\": \"white\", \"zerolinewidth\": 2}, \"yaxis\": {\"automargin\": true, \"gridcolor\": \"white\", \"linecolor\": \"white\", \"ticks\": \"\", \"title\": {\"standoff\": 15}, \"zerolinecolor\": \"white\", \"zerolinewidth\": 2}}}, \"title\": {\"text\": \"Typ broni\"}, \"width\": 800, \"xaxis\": {\"anchor\": \"y\", \"domain\": [0.0, 1.0], \"title\": {\"text\": \"count\"}}, \"yaxis\": {\"anchor\": \"x\", \"domain\": [0.0, 1.0], \"title\": {\"text\": \"armed\"}}},                        {\"responsive\": true}                    ).then(function(){\n",
       "                            \n",
       "var gd = document.getElementById('40497f3d-f616-4382-8828-8c798ee517af');\n",
       "var x = new MutationObserver(function (mutations, observer) {{\n",
       "        var display = window.getComputedStyle(gd).display;\n",
       "        if (!display || display === 'none') {{\n",
       "            console.log([gd, 'removed!']);\n",
       "            Plotly.purge(gd);\n",
       "            observer.disconnect();\n",
       "        }}\n",
       "}});\n",
       "\n",
       "// Listen for the removal of the full notebook cells\n",
       "var notebookContainer = gd.closest('#notebook-container');\n",
       "if (notebookContainer) {{\n",
       "    x.observe(notebookContainer, {childList: true});\n",
       "}}\n",
       "\n",
       "// Listen for the clearing of the current output cell\n",
       "var outputEl = gd.closest('.output');\n",
       "if (outputEl) {{\n",
       "    x.observe(outputEl, {childList: true});\n",
       "}}\n",
       "\n",
       "                        })                };                });            </script>        </div>"
      ]
     },
     "metadata": {},
     "output_type": "display_data"
    }
   ],
   "source": [
    "data = df['armed'].value_counts().reset_index()\n",
    "data.columns = [\n",
    "    'armed', \n",
    "    'count'\n",
    "]\n",
    "data = data.sort_values('count')\n",
    "\n",
    "fig = px.bar(\n",
    "    data.tail(25), \n",
    "    x='count', \n",
    "    y='armed', \n",
    "    orientation='h', \n",
    "    title='Typ broni', \n",
    "    width=800, \n",
    "    height=800\n",
    ")\n",
    "\n",
    "fig.show()"
   ]
  },
  {
   "cell_type": "code",
   "execution_count": 16,
   "metadata": {},
   "outputs": [],
   "source": [
    "# Wniosek 1: Najbardziej popularne tpy broni wśród przestępców to broń palna i noże"
   ]
  },
  {
   "cell_type": "code",
   "execution_count": 17,
   "metadata": {},
   "outputs": [
    {
     "data": {
      "application/vnd.plotly.v1+json": {
       "config": {
        "plotlyServerURL": "https://plot.ly"
       },
       "data": [
        {
         "alignmentgroup": "True",
         "bingroup": "x",
         "hovertemplate": "age=%{x}<br>count=%{y}<extra></extra>",
         "legendgroup": "",
         "marker": {
          "color": "#636efa"
         },
         "name": "",
         "nbinsx": 80,
         "offsetgroup": "",
         "orientation": "v",
         "showlegend": false,
         "type": "histogram",
         "x": [
          53,
          47,
          23,
          32,
          39,
          18,
          22,
          35,
          34,
          47,
          25,
          31,
          41,
          30,
          37,
          28,
          42,
          36,
          49,
          71,
          33,
          39,
          23,
          29,
          34,
          43,
          24,
          29,
          34,
          75,
          68,
          34,
          27,
          39,
          24,
          36,
          33,
          41,
          48,
          21,
          24,
          27,
          32,
          67,
          49,
          42,
          36,
          36,
          19,
          54,
          25,
          17,
          29,
          56,
          61,
          45,
          26,
          40,
          26,
          17,
          68,
          24,
          34,
          39,
          26,
          29,
          33,
          45,
          26,
          35,
          31,
          42,
          48,
          31,
          54,
          59,
          42,
          17,
          23,
          38,
          29,
          45,
          28,
          37,
          28,
          28,
          51,
          36,
          59,
          25,
          26,
          74,
          33,
          27,
          57,
          46,
          41,
          61,
          45,
          49,
          45,
          35,
          23,
          46,
          23,
          21,
          35,
          27,
          37,
          16,
          51,
          34,
          34,
          25,
          56,
          26,
          24,
          43,
          31,
          32,
          30,
          50,
          20,
          31,
          38,
          77,
          37.11793090137039,
          41,
          51,
          50,
          47,
          37,
          41,
          16,
          42,
          39,
          30,
          27,
          43,
          42,
          21,
          49,
          34,
          31,
          27,
          24,
          34,
          28,
          28,
          40,
          37,
          17,
          35,
          49,
          43,
          20,
          25,
          25,
          26,
          28,
          45,
          36,
          34,
          19,
          37,
          48,
          29,
          43,
          40,
          35,
          27,
          58,
          46,
          30,
          64,
          31,
          23,
          37,
          37,
          31,
          39,
          31,
          54,
          53,
          25,
          35,
          41,
          59,
          36,
          32,
          53,
          26,
          29,
          27,
          28,
          52,
          49,
          24,
          24,
          20,
          22,
          49,
          64,
          47,
          39,
          18,
          31,
          16,
          20,
          36,
          63,
          34,
          24,
          21,
          44,
          60,
          42,
          37,
          36,
          21,
          24,
          29,
          57,
          38,
          23,
          27,
          28,
          63,
          53,
          35,
          26,
          42,
          41,
          56,
          39,
          23,
          40,
          29,
          26,
          49,
          36,
          21,
          27,
          37,
          36,
          32,
          44,
          27,
          63,
          38,
          17,
          31,
          34,
          50,
          51,
          56,
          23,
          25,
          31,
          32,
          60,
          42,
          39,
          28,
          22,
          29,
          31,
          28,
          21,
          38,
          66,
          36,
          83,
          32,
          27,
          26,
          31,
          22,
          41,
          41,
          51,
          72,
          52,
          47,
          18,
          29,
          23,
          43,
          45,
          40,
          44,
          25,
          37,
          59,
          35,
          35,
          18,
          51,
          30,
          31,
          39,
          26,
          51,
          19,
          46,
          49,
          63,
          20,
          25,
          24,
          58,
          29,
          76,
          45,
          20,
          58,
          21,
          27,
          26,
          33,
          27,
          25,
          53,
          53,
          42,
          22,
          52,
          36,
          30,
          34,
          44,
          53,
          36,
          29,
          32,
          46,
          18,
          38,
          21,
          35,
          58,
          48,
          31,
          47,
          34,
          30,
          28,
          28,
          40,
          46,
          37,
          53,
          41,
          42,
          45,
          34,
          18,
          27,
          54,
          35,
          17,
          29,
          38,
          26,
          52,
          39,
          22,
          29,
          43,
          24,
          32,
          40,
          47,
          40,
          25,
          31,
          36,
          51,
          24,
          62,
          39,
          24,
          57,
          20,
          33,
          60,
          32,
          40,
          18,
          36,
          35,
          55,
          19,
          39,
          47,
          23,
          26,
          26,
          18,
          33,
          56,
          46,
          36,
          50,
          45,
          53,
          45,
          42,
          27,
          30,
          36,
          58,
          30,
          69,
          30,
          45,
          22,
          28,
          19,
          40,
          46,
          28,
          22,
          17,
          46,
          35,
          35,
          28,
          15,
          22,
          28,
          31,
          40,
          48,
          58,
          44,
          21,
          50,
          23,
          24,
          49,
          60,
          35,
          29,
          20,
          34,
          22,
          49,
          32,
          26,
          41,
          61,
          49,
          28,
          35,
          29,
          51,
          52,
          24,
          32,
          45,
          60,
          23,
          46,
          33,
          40,
          27,
          42,
          37,
          23,
          36,
          19,
          35,
          43,
          25,
          20,
          42,
          29,
          42,
          31,
          18,
          33,
          59,
          47,
          39,
          37,
          35,
          28,
          59,
          62,
          50,
          68,
          27,
          17,
          21,
          38,
          54,
          20,
          25,
          31,
          35,
          60,
          24,
          27,
          36,
          20,
          24,
          23,
          41,
          20,
          43,
          29,
          35,
          30,
          24,
          23,
          29,
          25,
          27,
          50,
          19,
          24,
          23,
          22,
          46,
          65,
          43,
          35,
          47,
          24,
          35,
          25,
          27,
          26,
          34,
          32,
          47,
          44,
          31,
          44,
          30,
          60,
          50,
          36,
          59,
          33,
          19,
          56,
          45,
          22,
          34,
          53,
          48,
          25,
          30,
          47,
          33,
          34,
          29,
          63,
          49,
          18,
          71,
          35,
          55,
          31,
          18,
          51,
          39,
          20,
          29,
          40,
          42,
          22,
          19,
          24,
          30,
          53,
          25,
          28,
          24,
          59,
          46,
          15,
          41,
          22,
          24,
          34,
          48,
          24,
          27,
          27,
          27,
          49,
          30,
          38,
          26,
          30,
          53,
          23,
          34,
          30,
          43,
          29,
          47,
          35,
          40,
          18,
          24,
          29,
          44,
          17,
          19,
          50,
          57,
          30,
          38,
          31,
          29,
          26,
          64,
          39,
          57,
          36,
          36,
          21,
          53,
          30,
          34,
          53,
          45,
          22,
          22,
          46,
          27,
          30,
          54,
          29,
          42,
          41,
          28,
          61,
          23,
          25,
          37.11793090137039,
          29,
          20,
          40,
          45,
          33,
          76,
          47,
          45,
          40,
          37,
          27,
          36,
          23,
          49,
          21,
          32,
          35,
          28,
          59,
          28,
          45,
          45,
          19,
          25,
          37,
          33,
          59,
          31,
          29,
          32,
          41,
          31,
          44,
          23,
          45,
          39,
          67,
          29,
          25,
          28,
          21,
          32,
          51,
          39,
          27,
          31,
          50,
          37.11793090137039,
          32,
          47,
          46,
          57,
          23,
          56,
          24,
          27,
          23,
          26,
          34,
          21,
          32,
          33,
          55,
          48,
          35,
          19,
          45,
          28,
          42,
          17,
          30,
          21,
          45,
          33,
          46,
          23,
          37,
          43,
          40,
          59,
          31,
          46,
          37,
          28,
          28,
          55,
          29,
          26,
          27,
          31,
          51,
          50,
          27,
          18,
          46,
          19,
          49,
          31,
          38,
          40,
          35,
          34,
          44,
          23,
          43,
          37.11793090137039,
          31,
          27,
          46,
          18,
          57,
          15,
          25,
          50,
          31,
          35,
          27,
          20,
          27,
          33,
          27,
          22,
          28,
          31,
          28,
          53,
          30,
          39,
          40,
          30,
          21,
          35,
          21,
          47,
          38,
          36,
          53,
          34,
          34,
          30,
          28,
          47,
          49,
          36,
          45,
          21,
          18,
          25,
          29,
          57,
          34,
          35,
          37.11793090137039,
          18,
          62,
          29,
          25,
          30,
          24,
          52,
          33,
          56,
          49,
          20,
          62,
          62,
          6,
          30,
          57,
          18,
          47,
          48,
          20,
          30,
          36,
          51,
          55,
          48,
          20,
          25,
          26,
          45,
          35,
          34,
          36,
          22,
          63,
          31,
          25,
          57,
          32,
          42,
          52,
          25,
          25,
          31,
          39,
          16,
          24,
          32,
          25,
          28,
          28,
          21,
          30,
          58,
          47,
          41,
          25,
          44,
          34,
          27,
          34,
          29,
          39,
          24,
          47,
          45,
          28,
          50,
          49,
          45,
          24,
          32,
          23,
          52,
          37,
          26,
          58,
          50,
          22,
          53,
          69,
          23,
          29,
          25,
          18,
          31,
          23,
          18,
          35,
          27,
          28,
          26,
          32,
          36,
          66,
          21,
          47,
          24,
          60,
          61,
          38,
          51,
          35,
          46,
          48,
          36,
          33,
          66,
          34,
          55,
          54,
          36,
          25,
          24,
          28,
          36,
          20,
          49,
          51,
          21,
          30,
          32,
          33,
          56,
          48,
          39,
          19,
          45,
          33,
          52,
          51,
          37.11793090137039,
          25,
          24,
          22,
          32,
          58,
          24,
          26,
          30,
          31,
          34,
          48,
          37.11793090137039,
          21,
          39,
          25,
          30,
          56,
          29,
          19,
          35,
          36,
          24,
          23,
          31,
          41,
          55,
          19,
          38,
          36,
          34,
          52,
          28,
          50,
          37.11793090137039,
          55,
          23,
          30,
          54,
          37,
          37,
          30,
          27,
          22,
          29,
          39,
          33,
          52,
          28,
          54,
          38,
          32,
          34,
          26,
          50,
          37,
          45,
          56,
          45,
          32,
          12,
          49,
          58,
          29,
          60,
          40,
          39,
          26,
          24,
          34,
          27,
          44,
          25,
          55,
          19,
          52,
          31,
          26,
          24,
          38,
          33,
          28,
          27,
          39,
          29,
          36,
          55,
          28,
          40,
          33,
          37,
          39,
          43,
          38,
          55,
          52,
          32,
          31,
          27,
          40,
          31,
          30,
          26,
          32,
          33,
          19,
          33,
          29,
          41,
          29,
          38,
          64,
          42,
          46,
          42,
          37,
          25,
          36,
          21,
          30,
          53,
          31,
          22,
          24,
          36,
          47,
          54,
          43,
          38,
          30,
          51,
          55,
          16,
          23,
          36,
          33,
          17,
          22,
          22,
          29,
          41,
          67,
          36,
          52,
          56,
          35,
          45,
          30,
          29,
          53,
          32,
          22,
          24,
          19,
          29,
          50,
          29,
          26,
          39,
          52,
          51,
          48,
          30,
          37,
          30,
          35,
          32,
          25,
          35,
          31,
          30,
          23,
          41,
          45,
          46,
          36,
          31,
          32,
          38,
          33,
          45,
          38,
          22,
          48,
          36,
          26,
          39,
          16,
          58,
          27,
          26,
          21,
          37,
          56,
          19,
          38,
          18,
          35,
          23,
          41,
          44,
          24,
          39,
          22,
          37,
          36,
          41,
          27,
          30,
          34,
          22,
          51,
          42,
          41,
          49,
          45,
          45,
          42,
          41,
          27,
          37,
          22,
          21,
          50,
          23,
          25,
          51,
          46,
          23,
          43,
          37,
          20,
          45,
          16,
          30,
          26,
          24,
          38,
          28,
          29,
          34,
          38,
          43,
          23,
          33,
          40,
          38,
          53,
          29,
          30,
          60,
          25,
          24,
          21,
          23,
          61,
          54,
          62,
          16,
          25,
          28,
          76,
          25,
          33,
          51,
          34,
          30,
          44,
          24,
          29,
          48,
          19,
          22,
          39,
          36,
          55,
          46,
          34,
          27,
          33,
          18,
          33,
          51,
          50,
          46,
          33,
          25,
          52,
          18,
          43,
          34,
          31,
          65,
          37,
          30,
          36,
          25,
          69,
          48,
          50,
          52,
          44,
          60,
          40,
          20,
          45,
          44,
          40,
          25,
          43,
          27,
          19,
          39,
          30,
          28,
          22,
          16,
          40,
          38,
          20,
          35,
          52,
          26,
          54,
          38,
          52,
          26,
          53,
          35,
          22,
          31,
          32,
          37,
          28,
          18,
          41,
          15,
          38,
          41,
          52,
          48,
          29,
          51,
          21,
          24,
          18,
          30,
          33,
          60,
          28,
          26,
          24,
          44,
          34,
          21,
          36,
          37,
          53,
          24,
          45,
          48,
          42,
          33,
          55,
          28,
          25,
          28,
          52,
          59,
          52,
          39,
          40,
          36,
          38,
          26,
          37.11793090137039,
          29,
          37,
          29,
          21,
          33,
          23,
          26,
          29,
          33,
          28,
          35,
          33,
          24,
          37.11793090137039,
          28,
          19,
          43,
          59,
          34,
          35,
          23,
          36,
          46,
          44,
          20,
          30,
          29,
          35,
          36,
          22,
          31,
          63,
          38,
          31,
          27,
          35,
          22,
          28,
          26,
          22,
          31,
          43,
          24,
          29,
          43,
          21,
          19,
          25,
          59,
          50,
          58,
          25,
          32,
          53,
          38,
          70,
          33,
          36,
          21,
          51,
          43,
          18,
          33,
          34,
          31,
          35,
          31,
          31,
          23,
          25,
          25,
          21,
          49,
          63,
          43,
          34,
          38,
          52,
          68,
          29,
          32,
          50,
          31,
          27,
          31,
          29,
          23,
          61,
          33,
          18,
          80,
          43,
          50,
          47,
          54,
          22,
          43,
          38,
          36,
          30,
          59,
          21,
          34,
          17,
          37,
          25,
          23,
          20,
          19,
          50,
          24,
          25,
          20,
          37,
          44,
          22,
          31,
          25,
          37.11793090137039,
          36,
          50,
          42,
          42,
          26,
          19,
          59,
          36,
          51,
          27,
          22,
          30,
          28,
          63,
          32,
          26,
          25,
          27,
          61,
          30,
          37.11793090137039,
          37,
          41,
          25,
          24,
          44,
          63,
          58,
          30,
          35,
          50,
          40,
          37.11793090137039,
          19,
          34,
          18,
          21,
          29,
          49,
          24,
          37,
          32,
          65,
          37,
          33,
          63,
          30,
          40,
          38,
          50,
          41,
          41,
          39,
          44,
          23,
          32,
          56,
          33,
          63,
          31,
          57,
          26,
          39,
          42,
          29,
          43,
          56,
          31,
          50,
          36,
          50,
          49,
          31,
          34,
          36,
          29,
          32,
          18,
          50,
          36,
          17,
          19,
          24,
          24,
          20,
          33,
          41,
          47,
          18,
          31,
          27,
          36,
          40,
          59,
          32,
          38,
          18,
          23,
          43,
          67,
          32,
          22,
          31,
          43,
          34,
          51,
          31,
          54,
          69,
          58,
          26,
          59,
          25,
          20,
          57,
          56,
          64,
          34,
          69,
          45,
          14,
          44,
          59,
          33,
          54,
          22,
          49,
          23,
          38,
          53,
          36,
          29,
          42,
          36,
          32,
          53,
          30,
          25,
          18,
          55,
          27,
          37,
          29,
          40,
          36,
          38,
          29,
          59,
          47,
          22,
          31,
          29,
          54,
          71,
          36,
          34,
          49,
          36,
          43,
          53,
          31,
          32,
          41,
          26,
          82,
          37,
          24,
          35,
          56,
          22,
          59,
          36,
          21,
          38,
          60,
          18,
          23,
          37.11793090137039,
          38,
          22,
          38,
          25,
          25,
          36,
          37.11793090137039,
          44,
          36,
          35,
          25,
          31,
          70,
          25,
          55,
          35,
          25,
          32,
          38,
          32,
          64,
          55,
          69,
          37,
          31,
          25,
          25,
          13,
          32,
          69,
          34,
          29,
          29,
          40,
          42,
          25,
          45,
          55,
          22,
          61,
          46,
          30,
          56,
          35,
          22,
          23,
          43,
          43,
          49,
          23,
          41,
          33,
          30,
          25,
          52,
          32,
          46,
          48,
          38,
          26,
          32,
          28,
          53,
          38,
          18,
          32,
          37,
          18,
          20,
          28,
          18,
          16,
          36,
          57,
          49,
          31,
          26,
          51,
          28,
          35,
          57,
          36,
          42,
          37.11793090137039,
          49,
          21,
          53,
          62,
          41,
          40,
          27,
          19,
          26,
          44,
          30,
          31,
          33,
          22,
          38,
          46,
          23,
          24,
          26,
          26,
          32,
          50,
          17,
          39,
          28,
          66,
          42,
          34,
          38,
          28,
          29,
          23,
          58,
          21,
          45,
          38,
          40,
          19,
          46,
          25,
          25,
          37,
          25,
          36,
          32,
          33,
          24,
          37,
          38,
          45,
          31,
          34,
          23,
          39,
          55,
          31,
          76,
          59,
          40,
          23,
          26,
          35,
          49,
          36,
          56,
          34,
          43,
          31,
          17,
          32,
          33,
          43,
          31,
          23,
          26,
          45,
          19,
          36,
          41,
          53,
          24,
          37.11793090137039,
          37.11793090137039,
          40,
          29,
          22,
          21,
          25,
          37,
          37,
          56,
          25,
          26,
          35,
          25,
          29,
          21,
          15,
          24,
          18,
          19,
          27,
          45,
          36,
          34,
          23,
          43,
          19,
          37,
          23,
          26,
          20,
          59,
          33,
          48,
          50,
          18,
          23,
          41,
          41,
          55,
          29,
          31,
          25,
          38,
          37.11793090137039,
          83,
          22,
          33,
          36,
          26,
          29,
          55,
          47,
          52,
          49,
          37,
          37,
          36,
          31,
          30,
          37.11793090137039,
          35,
          35,
          36,
          39,
          30,
          44,
          24,
          53,
          73,
          31,
          28,
          18,
          32,
          60,
          48,
          33,
          44,
          20,
          37,
          72,
          52,
          46,
          25,
          38,
          27,
          24,
          19,
          31,
          18,
          53,
          48,
          29,
          30,
          61,
          71,
          41,
          36,
          28,
          21,
          46,
          32,
          33,
          42,
          17,
          35,
          23,
          21,
          44,
          53,
          63,
          18,
          51,
          64,
          45,
          20,
          41,
          23,
          32,
          25,
          42,
          41,
          31,
          50,
          38,
          44,
          38,
          21,
          32,
          23,
          41,
          41,
          38,
          54,
          20,
          26,
          29,
          47,
          28,
          48,
          34,
          37,
          33,
          36,
          43,
          32,
          29,
          39,
          40,
          21,
          50,
          19,
          28,
          16,
          49,
          44,
          25,
          39,
          44,
          50,
          57,
          57,
          33,
          21,
          52,
          27,
          60,
          25,
          34,
          22,
          26,
          27,
          29,
          30,
          32,
          18,
          37,
          54,
          50,
          28,
          59,
          24,
          34,
          25,
          25,
          17,
          48,
          45,
          18,
          50,
          36,
          45,
          42,
          37.11793090137039,
          23,
          31,
          26,
          57,
          18,
          27,
          41,
          33,
          22,
          38,
          26,
          45,
          68,
          56,
          23,
          45,
          41,
          33,
          22,
          50,
          52,
          35,
          18,
          34,
          51,
          18,
          29,
          34,
          25,
          17,
          26,
          33,
          25,
          31,
          25,
          18,
          45,
          25,
          23,
          55,
          37,
          33,
          27,
          32,
          31,
          26,
          32,
          53,
          19,
          53,
          35,
          64,
          24,
          33,
          55,
          17,
          48,
          21,
          22,
          30,
          34,
          35,
          32,
          22,
          46,
          27,
          18,
          33,
          26,
          27,
          26,
          51,
          63,
          38,
          25,
          39,
          41,
          26,
          30,
          33,
          38,
          24,
          47,
          62,
          30,
          33,
          23,
          39,
          41,
          46,
          36,
          66,
          27,
          40,
          25,
          20,
          43,
          40,
          33,
          34,
          27,
          25,
          37,
          32,
          25,
          38,
          50,
          26,
          70,
          38,
          41,
          91,
          25,
          29,
          24,
          40,
          51,
          30,
          28,
          33,
          23,
          23,
          20,
          56,
          36,
          18,
          43,
          16,
          29,
          25,
          34,
          32,
          58,
          36,
          32,
          25,
          59,
          25,
          25,
          42,
          36,
          59,
          21,
          19,
          45,
          42,
          27,
          45,
          51,
          42,
          24,
          39,
          18,
          26,
          35,
          53,
          54,
          36,
          56,
          51,
          45,
          28,
          36,
          73,
          26,
          41,
          59,
          28,
          45,
          27,
          46,
          34,
          30,
          46,
          47,
          32,
          65,
          19,
          22,
          39,
          38,
          68,
          49,
          37,
          33,
          25,
          36,
          30,
          39,
          28,
          28,
          25,
          57,
          33,
          24,
          33,
          56,
          56,
          16,
          47,
          33,
          32,
          21,
          64,
          19,
          26,
          25,
          17,
          55,
          25,
          43,
          39,
          24,
          70,
          79,
          16,
          35,
          15,
          23,
          53,
          20,
          27,
          53,
          32,
          57,
          26,
          53,
          32,
          25,
          15,
          59,
          35,
          33,
          32,
          49,
          46,
          25,
          20,
          48,
          24,
          18,
          67,
          26,
          54,
          15,
          27,
          26,
          62,
          24,
          32,
          29,
          16,
          25,
          40,
          39,
          34,
          36,
          24,
          50,
          50,
          37.11793090137039,
          30,
          35,
          46,
          51,
          37,
          41,
          41,
          48,
          27,
          29,
          47,
          34,
          48,
          41,
          25,
          24,
          38,
          28,
          47,
          65,
          58,
          33,
          43,
          24,
          37,
          31,
          65,
          59,
          74,
          21,
          24,
          37.11793090137039,
          23,
          59,
          33,
          34,
          30,
          22,
          37,
          20,
          18,
          24,
          17,
          27,
          51,
          29,
          34,
          18,
          17,
          55,
          44,
          27,
          66,
          45,
          47,
          34,
          37,
          54,
          21,
          21,
          35,
          75,
          33,
          45,
          48,
          58,
          30,
          44,
          82,
          29,
          25,
          53,
          60,
          19,
          63,
          50,
          35,
          45,
          24,
          36,
          35,
          33,
          66,
          54,
          20,
          40,
          41,
          30,
          32,
          24,
          37,
          28,
          48,
          30,
          64,
          21,
          28,
          36,
          40,
          32,
          50,
          28,
          33,
          37,
          17,
          20,
          34,
          37,
          24,
          47,
          20,
          56,
          24,
          47,
          36,
          35,
          37,
          45,
          41,
          23,
          37,
          23,
          33,
          23,
          37,
          19,
          39,
          53,
          51,
          25,
          45,
          28,
          36,
          32,
          39,
          46,
          53,
          42,
          34,
          29,
          53,
          45,
          24,
          51,
          35,
          27,
          33,
          16,
          30,
          22,
          23,
          50,
          28,
          34,
          24,
          54,
          26,
          39,
          34,
          27,
          48,
          47,
          54,
          33,
          40,
          58,
          55,
          47,
          42,
          29,
          40,
          23,
          23,
          25,
          52,
          43,
          37,
          32,
          70,
          24,
          24,
          38,
          52,
          27,
          22,
          42,
          49,
          59,
          41,
          34,
          31,
          23,
          28,
          33,
          16,
          35,
          26,
          62,
          25,
          25,
          31,
          35,
          46,
          39,
          26,
          37,
          32,
          31,
          48,
          29,
          32,
          28,
          43,
          39,
          37,
          39,
          42,
          33,
          25,
          29,
          45,
          27,
          28,
          57,
          15,
          33,
          35,
          47,
          31,
          36,
          54,
          24,
          35,
          32,
          28,
          45,
          29,
          36,
          23,
          17,
          20,
          33,
          49,
          31,
          35,
          24,
          54,
          41,
          50,
          46,
          45,
          20,
          37,
          34,
          54,
          65,
          28,
          26,
          25,
          32,
          44,
          32,
          42,
          66,
          22,
          51,
          64,
          30,
          71,
          30,
          48,
          56,
          26,
          28,
          19,
          24,
          44,
          28,
          47,
          18,
          26,
          33,
          34,
          62,
          24,
          55,
          22,
          46,
          27,
          32,
          22,
          54,
          32,
          45,
          36,
          37,
          47,
          30,
          31,
          44,
          52,
          16,
          29,
          42,
          31,
          41,
          45,
          50,
          26,
          22,
          76,
          58,
          32,
          19,
          25,
          48,
          39,
          31,
          50,
          15,
          48,
          32,
          21,
          37,
          21,
          40,
          33,
          25,
          55,
          53,
          27,
          35,
          25,
          31,
          70,
          40,
          25,
          38,
          26,
          27,
          37.11793090137039,
          28,
          40,
          44,
          39,
          24,
          32,
          31,
          50,
          31,
          50,
          45,
          44,
          48,
          39,
          30,
          44,
          28,
          24,
          27,
          34,
          41,
          26,
          38,
          33,
          22,
          40,
          34,
          48,
          37,
          67,
          35,
          29,
          28,
          40,
          31,
          51,
          47,
          52,
          28,
          35,
          25,
          37.11793090137039,
          34,
          58,
          24,
          22,
          46,
          61,
          43,
          44,
          35,
          29,
          57,
          42,
          44,
          20,
          32,
          34,
          18,
          31,
          24,
          35,
          34,
          26,
          55,
          38,
          23,
          30,
          44,
          37,
          27,
          43,
          25,
          30,
          35,
          31,
          35,
          37,
          25,
          34,
          33,
          33,
          32,
          34,
          46,
          40,
          27,
          17,
          46,
          50,
          41,
          23,
          33,
          25,
          27,
          39,
          22,
          37,
          27,
          28,
          56,
          71,
          53,
          39,
          56,
          24,
          35,
          30,
          31,
          20,
          35,
          31,
          49,
          54,
          48,
          32,
          35,
          30,
          32,
          31,
          14,
          25,
          32,
          35,
          27,
          23,
          55,
          43,
          62,
          25,
          37.11793090137039,
          50,
          19,
          41,
          55,
          19,
          67,
          24,
          44,
          29,
          48,
          22,
          37.11793090137039,
          59,
          68,
          25,
          23,
          46,
          25,
          30,
          56,
          24,
          18,
          27,
          26,
          15,
          26,
          32,
          17,
          32,
          43,
          26,
          51,
          39,
          43,
          31,
          22,
          40,
          64,
          30,
          59,
          24,
          32,
          37,
          33,
          42,
          37,
          33,
          62,
          46,
          69,
          24,
          42,
          49,
          35,
          19,
          40,
          34,
          22,
          16,
          69,
          24,
          28,
          51,
          20,
          34,
          27,
          48,
          33,
          6,
          26,
          40,
          46,
          20,
          28,
          30,
          36,
          25,
          28,
          38,
          30,
          31,
          36,
          65,
          42,
          65,
          30,
          49,
          66,
          28,
          27,
          31,
          46,
          28,
          35,
          24,
          17,
          39,
          21,
          21,
          57,
          27,
          62,
          40,
          38,
          27,
          54,
          27,
          51,
          25,
          46,
          20,
          32,
          27,
          21,
          60,
          44,
          23,
          31,
          43,
          39,
          54,
          22,
          37,
          42,
          22,
          42,
          32,
          30,
          53,
          27,
          72,
          29,
          34,
          26,
          22,
          16,
          31,
          58,
          23,
          44,
          46,
          61,
          17,
          46,
          35,
          36,
          28,
          37,
          47,
          35,
          40,
          24,
          18,
          38,
          54,
          27,
          62,
          66,
          47,
          19,
          27,
          23,
          42,
          43,
          42,
          45,
          21,
          43,
          45,
          33,
          38,
          33,
          46,
          52,
          46,
          40,
          20,
          39,
          35,
          31,
          32,
          56,
          37,
          32,
          28,
          26,
          27,
          37.11793090137039,
          43,
          49,
          16,
          35,
          19,
          59,
          29,
          37,
          22,
          40,
          35,
          39,
          36,
          78,
          25,
          41,
          63,
          48,
          42,
          39,
          84,
          33,
          52,
          48,
          30,
          29,
          27,
          41,
          57,
          27,
          58,
          59,
          39,
          28,
          28,
          23,
          55,
          33,
          23,
          45,
          37,
          21,
          27,
          39,
          37,
          22,
          26,
          27,
          37,
          58,
          62,
          25,
          36,
          37.11793090137039,
          27,
          37,
          25,
          40,
          22,
          29,
          20,
          33,
          48,
          47,
          40,
          29,
          29,
          44,
          36,
          48,
          49,
          38,
          41,
          37.11793090137039,
          28,
          33,
          44,
          65,
          35,
          25,
          40,
          36,
          55,
          19,
          70,
          37,
          53,
          84,
          46,
          29,
          27,
          32,
          27,
          38,
          20,
          45,
          32,
          48,
          57,
          34,
          16,
          47,
          61,
          32,
          31,
          46,
          27,
          31,
          26,
          31,
          27,
          49,
          26,
          28,
          62,
          50,
          23,
          40,
          50,
          50,
          27,
          35,
          32,
          56,
          20,
          56,
          39,
          47,
          25,
          21,
          18,
          36,
          35,
          29,
          20,
          30,
          40,
          48,
          23,
          42,
          20,
          25,
          28,
          34,
          41,
          24,
          29,
          33,
          44,
          31,
          26,
          51,
          64,
          29,
          61,
          44,
          39,
          35,
          39,
          60,
          42,
          27,
          21,
          33,
          60,
          24,
          41,
          41,
          34,
          23,
          38,
          58,
          49,
          27,
          34,
          34,
          44,
          30,
          81,
          40,
          27,
          26,
          18,
          59,
          56,
          22,
          34,
          23,
          36,
          48,
          33,
          24,
          25,
          20,
          45,
          29,
          34,
          23,
          29,
          44,
          30,
          28,
          71,
          25,
          61,
          39,
          50,
          37.11793090137039,
          23,
          39,
          45,
          34,
          31,
          55,
          39,
          32,
          44,
          24,
          36,
          41,
          25,
          39,
          40,
          32,
          45,
          31,
          32,
          48,
          49,
          48,
          18,
          48,
          25,
          27,
          37,
          44,
          27,
          41,
          42,
          36,
          37,
          56,
          36,
          46,
          26,
          41,
          38,
          42,
          47,
          26,
          64,
          49,
          44,
          48,
          27,
          67,
          24,
          26,
          28,
          21,
          24,
          21,
          73,
          39,
          32,
          38,
          32,
          26,
          55,
          50,
          49,
          48,
          65,
          37,
          45,
          33,
          46,
          33,
          33,
          51,
          52,
          24,
          55,
          28,
          36,
          24,
          20,
          54,
          53,
          36,
          24,
          34,
          59,
          34,
          29,
          24,
          77,
          30,
          36,
          36,
          58,
          47,
          49,
          31,
          25,
          37.11793090137039,
          30,
          33,
          29,
          31,
          51,
          42,
          67,
          23,
          34,
          51,
          19,
          29,
          23,
          46,
          42,
          21,
          55,
          37.11793090137039,
          43,
          32,
          34,
          40,
          55,
          20,
          24,
          43,
          56,
          47,
          33,
          20,
          28,
          50,
          36,
          47,
          36,
          49,
          34,
          41,
          29,
          34,
          34,
          22,
          26,
          32,
          44,
          21,
          29,
          18,
          33,
          28,
          37.11793090137039,
          40,
          40,
          37,
          47,
          33,
          44,
          65,
          20,
          17,
          55,
          33,
          44,
          37,
          32,
          31,
          20,
          30,
          25,
          47,
          48,
          32,
          18,
          29,
          30,
          39,
          36,
          36,
          54,
          27,
          45,
          19,
          36,
          33,
          56,
          33,
          60,
          26,
          52,
          40,
          33,
          41,
          32,
          34,
          26,
          62,
          33,
          55,
          38,
          43,
          38,
          27,
          52,
          37,
          34,
          41,
          40,
          53,
          21,
          34,
          22,
          25,
          16,
          37,
          68,
          25,
          34,
          23,
          25,
          57,
          27,
          51,
          30,
          33,
          37.11793090137039,
          19,
          22,
          37,
          19,
          33,
          38,
          45,
          39,
          21,
          56,
          27,
          50,
          16,
          18,
          38,
          32,
          33,
          71,
          30,
          39,
          19,
          44,
          54,
          29,
          37.11793090137039,
          56,
          64,
          25,
          18,
          36,
          24,
          30,
          53,
          60,
          32,
          25,
          44,
          32,
          33,
          37.11793090137039,
          35,
          23,
          27,
          53,
          35,
          41,
          18,
          34,
          49,
          31,
          29,
          33,
          38,
          43,
          29,
          68,
          62,
          39,
          59,
          24,
          70,
          42,
          26,
          24,
          48,
          54,
          48,
          37,
          40,
          28,
          43,
          35,
          21,
          40,
          32,
          48,
          31,
          37.11793090137039,
          58,
          30,
          21,
          15,
          30,
          28,
          21,
          33,
          37.11793090137039,
          36,
          38,
          34,
          23,
          44,
          20,
          41,
          18,
          29,
          37,
          41,
          25,
          20,
          34,
          37,
          18,
          72,
          17,
          45,
          49,
          64,
          36,
          61,
          24,
          70,
          40,
          21,
          27,
          23,
          33,
          45,
          19,
          28,
          63,
          37.11793090137039,
          39,
          57,
          32,
          38,
          46,
          31,
          40,
          31,
          50,
          29,
          25,
          31,
          23,
          54,
          44,
          43,
          37,
          55,
          40,
          26,
          29,
          29,
          42,
          20,
          34,
          41,
          29,
          19,
          32,
          23,
          41,
          37,
          24,
          54,
          58,
          40,
          27,
          40,
          23,
          33,
          26,
          36,
          38,
          25,
          31,
          48,
          43,
          36,
          39,
          22,
          24,
          36,
          25,
          30,
          76,
          39,
          49,
          21,
          31,
          22,
          27,
          26,
          84,
          17,
          17,
          22,
          41,
          58,
          29,
          19,
          18,
          61,
          18,
          23,
          38,
          19,
          63,
          21,
          25,
          35,
          50,
          34,
          37.11793090137039,
          26,
          61,
          18,
          37,
          27,
          24,
          37,
          28,
          44,
          30,
          30,
          34,
          27,
          28,
          42,
          32,
          24,
          17,
          26,
          35,
          25,
          33,
          25,
          29,
          18,
          19,
          39,
          61,
          36,
          72,
          48,
          34,
          36,
          33,
          30,
          61,
          41,
          52,
          26,
          37.11793090137039,
          39,
          36,
          47,
          37.11793090137039,
          25,
          63,
          24,
          38,
          22,
          59,
          29,
          18,
          29,
          25,
          48,
          60,
          27,
          65,
          41,
          33,
          33,
          22,
          52,
          42,
          48,
          24,
          21,
          20,
          59,
          46,
          23,
          32,
          19,
          64,
          35,
          41,
          42,
          35,
          33,
          32,
          37,
          37,
          65,
          30,
          43,
          18,
          27,
          41,
          41,
          33,
          53,
          42,
          46,
          51,
          16,
          41,
          24,
          23,
          50,
          41,
          23,
          33,
          25,
          30,
          58,
          47,
          22,
          27,
          29,
          43,
          18,
          19,
          37,
          42,
          35,
          50,
          60,
          35,
          47,
          37.11793090137039,
          31,
          24,
          27,
          27,
          23,
          57,
          56,
          36,
          37.11793090137039,
          37.11793090137039,
          24,
          34,
          17,
          21,
          35,
          34,
          56,
          35,
          46,
          42,
          49,
          44,
          45,
          36,
          45,
          34,
          26,
          28,
          35,
          20,
          33,
          39,
          63,
          27,
          33,
          27,
          31,
          33,
          39,
          27,
          32,
          29,
          28,
          50,
          55,
          42,
          36,
          38,
          38,
          35,
          42,
          70,
          29,
          26,
          20,
          30,
          19,
          48,
          58,
          38,
          28,
          34,
          45,
          18,
          25,
          38,
          33,
          39,
          58,
          48,
          14,
          18,
          22,
          46,
          37.11793090137039,
          37.11793090137039,
          57,
          32,
          31,
          64,
          35,
          42,
          30,
          26,
          37,
          21,
          20,
          46,
          37.11793090137039,
          20,
          46,
          24,
          26,
          60,
          25,
          29,
          58,
          59,
          46,
          55,
          27,
          30,
          45,
          51,
          27,
          47,
          52,
          45,
          47,
          68,
          40,
          18,
          35,
          80,
          44,
          31,
          20,
          43,
          25,
          38,
          34,
          58,
          38,
          29,
          40,
          49,
          25,
          21,
          57,
          28,
          25,
          58,
          34,
          34,
          24,
          32,
          58,
          20,
          19,
          46,
          28,
          47,
          47,
          34,
          37.11793090137039,
          45,
          17,
          34,
          48,
          32,
          20,
          31,
          16,
          24,
          39,
          26,
          30,
          36,
          28,
          21,
          36,
          28,
          24,
          29,
          44,
          41,
          38,
          40,
          20,
          27,
          51,
          48,
          40,
          29,
          34,
          20,
          47,
          29,
          33,
          46,
          35,
          36,
          63,
          27,
          17,
          22,
          21,
          31,
          56,
          32,
          25,
          47,
          37.11793090137039,
          23,
          34,
          51,
          35,
          46,
          59,
          30,
          34,
          44,
          31,
          51,
          34,
          45,
          32,
          31,
          41,
          29,
          47,
          30,
          27,
          38,
          33,
          25,
          47,
          49,
          33,
          36,
          22,
          29,
          52,
          61,
          29,
          37,
          26,
          19,
          45,
          22,
          57,
          46,
          27,
          26,
          30,
          18,
          25,
          51,
          40,
          47,
          38,
          39,
          30,
          42,
          25,
          22,
          30,
          33,
          24,
          31,
          25,
          28,
          19,
          31,
          48,
          53,
          50,
          55,
          37.11793090137039,
          37,
          30,
          36,
          24,
          35,
          42,
          37,
          28,
          32,
          33,
          27,
          21,
          47,
          57,
          34,
          34,
          30,
          29,
          28,
          39,
          54,
          27,
          32,
          32,
          47,
          33,
          42,
          37.11793090137039,
          24,
          42,
          34,
          46,
          40,
          30,
          42,
          30,
          63,
          18,
          29,
          42,
          32,
          50,
          29,
          29,
          51,
          23,
          47,
          45,
          42,
          26,
          29,
          49,
          17,
          37.11793090137039,
          45,
          51,
          37,
          28,
          52,
          37,
          37,
          25,
          35,
          35,
          61,
          33,
          34,
          59,
          32,
          49,
          31,
          29,
          25,
          26,
          37.11793090137039,
          39,
          26,
          36,
          45,
          45,
          54,
          43,
          37.11793090137039,
          30,
          37.11793090137039,
          58,
          39,
          40,
          36,
          27,
          20,
          17,
          59,
          47,
          45,
          34,
          46,
          26,
          21,
          29,
          33,
          47,
          22,
          41,
          28,
          56,
          41,
          35,
          59,
          30,
          49,
          41,
          21,
          62,
          32,
          22,
          58,
          32,
          26,
          35,
          27,
          35,
          23,
          59,
          23,
          43,
          41,
          56,
          45,
          28,
          37.11793090137039,
          54,
          39,
          37.11793090137039,
          41,
          27,
          70,
          37.11793090137039,
          35,
          26,
          58,
          46,
          39,
          33,
          20,
          38,
          41,
          32,
          37.11793090137039,
          24,
          19,
          27,
          40,
          61,
          20,
          35,
          17,
          22,
          45,
          20,
          18,
          28,
          38,
          53,
          31,
          48,
          20,
          35,
          22,
          18,
          74,
          33,
          38,
          26,
          41,
          29,
          19,
          61,
          34,
          35,
          43,
          50,
          32,
          50,
          54,
          35,
          33,
          18,
          50,
          41,
          37,
          76,
          19,
          40,
          61,
          61,
          22,
          52,
          23,
          67,
          44,
          23,
          39,
          53,
          39,
          26,
          38,
          49,
          34,
          47,
          34,
          58,
          17,
          21,
          37,
          43,
          61,
          28,
          41,
          23,
          36,
          23,
          26,
          32,
          62,
          33,
          32,
          69,
          35,
          46,
          46,
          22,
          20,
          30,
          49,
          43,
          52,
          56,
          36,
          40,
          52,
          35,
          35,
          53,
          23,
          19,
          41,
          39,
          28,
          28,
          37.11793090137039,
          53,
          27,
          31,
          38,
          38,
          41,
          49,
          56,
          62,
          31,
          37,
          37.11793090137039,
          28,
          46,
          21,
          30,
          36,
          48,
          34,
          45,
          19,
          32,
          32,
          24,
          65,
          29,
          49,
          19,
          56,
          39,
          43,
          57,
          49,
          18,
          27,
          52,
          37,
          45,
          49,
          38,
          31,
          51,
          37.11793090137039,
          51,
          20,
          26,
          25,
          37.11793090137039,
          62,
          27,
          33,
          39,
          18,
          27,
          50,
          57,
          29,
          39,
          31,
          34,
          52,
          33,
          37,
          52,
          62,
          30,
          28,
          51,
          23,
          36,
          37,
          49,
          49,
          35,
          17,
          30,
          34,
          46,
          29,
          28,
          43,
          42,
          30,
          24,
          27,
          41,
          47,
          26,
          20,
          18,
          37.11793090137039,
          29,
          35,
          77,
          31,
          54,
          33,
          76,
          28,
          31,
          53,
          33,
          37,
          57,
          36,
          39,
          43,
          44,
          33,
          49,
          18,
          21,
          57,
          29,
          58,
          74,
          63,
          28,
          67,
          64,
          32,
          49,
          28,
          31,
          20,
          27,
          38,
          37,
          36,
          35,
          50,
          75,
          32,
          34,
          24,
          37,
          33,
          37,
          55,
          31,
          54,
          37,
          48,
          28,
          31,
          48,
          58,
          19,
          28,
          21,
          57,
          17,
          22,
          26,
          31,
          61,
          54,
          28,
          30,
          30,
          28,
          26,
          28,
          21,
          31,
          27,
          34,
          22,
          29,
          38,
          51,
          34,
          30,
          33,
          21,
          39,
          37,
          34,
          47,
          29,
          29,
          44,
          53,
          45,
          19,
          40,
          33,
          45,
          40,
          27,
          63,
          50,
          25,
          39,
          42,
          25,
          24,
          37.11793090137039,
          37.11793090137039,
          62,
          34,
          33,
          56,
          22,
          46,
          41,
          38,
          22,
          42,
          29,
          56,
          32,
          31,
          21,
          31,
          48,
          58,
          32,
          45,
          37,
          20,
          34,
          31,
          26,
          32,
          66,
          37,
          38,
          44,
          28,
          22,
          59,
          20,
          39,
          30,
          27,
          37.11793090137039,
          37,
          52,
          35,
          33,
          27,
          27,
          41,
          28,
          26,
          37.11793090137039,
          34,
          34,
          38,
          32,
          50,
          55,
          51,
          18,
          42,
          36,
          37,
          28,
          24,
          34,
          22,
          42,
          48,
          51,
          40,
          34,
          30,
          31,
          54,
          60,
          40,
          37.11793090137039,
          40,
          68,
          68,
          60,
          16,
          25,
          20,
          21,
          38,
          28,
          18,
          37.11793090137039,
          26,
          31,
          58,
          31,
          41,
          41,
          41,
          23,
          17,
          35,
          65,
          51,
          47,
          42,
          42,
          31,
          23,
          50,
          47,
          66,
          55,
          68,
          31,
          24,
          30,
          34,
          23,
          43,
          22,
          22,
          42,
          65,
          18,
          23,
          52,
          40,
          27,
          34,
          25,
          28,
          37.11793090137039,
          27,
          41,
          27,
          38,
          29,
          47,
          28,
          38,
          21,
          44,
          61,
          25,
          40,
          26,
          57,
          57,
          24,
          46,
          38,
          24,
          34,
          65,
          60,
          59,
          23,
          35,
          35,
          16,
          37.11793090137039,
          42,
          43,
          52,
          31,
          27,
          31,
          34,
          29,
          34,
          37.11793090137039,
          18,
          51,
          25,
          28,
          37,
          37.11793090137039,
          23,
          57,
          49,
          24,
          20,
          25,
          26,
          26,
          41,
          31,
          30,
          25,
          57,
          17,
          27,
          30,
          18,
          50,
          21,
          28,
          28,
          33,
          59,
          34,
          37,
          30,
          47,
          34,
          24,
          25,
          37.11793090137039,
          47,
          49,
          31,
          47,
          52,
          29,
          45,
          51,
          55,
          35,
          50,
          31,
          47,
          35,
          66,
          19,
          19,
          43,
          57,
          31,
          41,
          39,
          24,
          20,
          32,
          31,
          22,
          60,
          40,
          37,
          34,
          22,
          30,
          26,
          29,
          32,
          32,
          27,
          31,
          35,
          19,
          34,
          32,
          43,
          22,
          43,
          27,
          39,
          37,
          20,
          34,
          32,
          15,
          52,
          53,
          24,
          41,
          17,
          44,
          56,
          23,
          32,
          26,
          41,
          56,
          33,
          37,
          41,
          38,
          67,
          45,
          48,
          31,
          47,
          40,
          40,
          34,
          51,
          33,
          25,
          41,
          19,
          21,
          58,
          63,
          37.11793090137039,
          58,
          16,
          31,
          33,
          40,
          34,
          29,
          27,
          23,
          38,
          17,
          75,
          40,
          36,
          27,
          28,
          20,
          38,
          16,
          30,
          30,
          30,
          36,
          33,
          39,
          22,
          49,
          45,
          45,
          30,
          30,
          31,
          73,
          39,
          37,
          37.11793090137039,
          31,
          25,
          24,
          27,
          37.11793090137039,
          32,
          43,
          84,
          29,
          31,
          57,
          37,
          29,
          47,
          44,
          38,
          32,
          26,
          21,
          47,
          30,
          62,
          41,
          50,
          37.11793090137039,
          31,
          30,
          32,
          20,
          38,
          25,
          47,
          19,
          35,
          58,
          18,
          42,
          39,
          61,
          51,
          28,
          33,
          47,
          39,
          31,
          18,
          23,
          46,
          50,
          34,
          32,
          45,
          31,
          19,
          53,
          55,
          32,
          46,
          26,
          46,
          22,
          38,
          44,
          37,
          52,
          29,
          19,
          66,
          40,
          30,
          69,
          27,
          62,
          37.11793090137039,
          39,
          67,
          54,
          29,
          33,
          31,
          38,
          28,
          45,
          59,
          17,
          19,
          36,
          39,
          37.11793090137039,
          33,
          31,
          29,
          51,
          35,
          36,
          31,
          39,
          58,
          39,
          24,
          48,
          31,
          37.11793090137039,
          43,
          33,
          24,
          40,
          28,
          24,
          27,
          40,
          35,
          42,
          42,
          24,
          59,
          61,
          26,
          32,
          50,
          38,
          29,
          27,
          43,
          21,
          36,
          24,
          32,
          26,
          54,
          44,
          69,
          45,
          26,
          43,
          38,
          21,
          23,
          56,
          33,
          40,
          21,
          20,
          21,
          47,
          38,
          31,
          51,
          19,
          21,
          48,
          42,
          30,
          47,
          57,
          27,
          50,
          37,
          24,
          24,
          30,
          49,
          47,
          31,
          33,
          29,
          42,
          38,
          25,
          39,
          64,
          28,
          32,
          69,
          29,
          45,
          40,
          60,
          22,
          28,
          38,
          28,
          37,
          22,
          42,
          18,
          38,
          58,
          50,
          31,
          35,
          53,
          31,
          35,
          22,
          37.11793090137039,
          32,
          39,
          44,
          46,
          49,
          32,
          53,
          25,
          36,
          22,
          33,
          39,
          44,
          25,
          36,
          42,
          24,
          22,
          35,
          38,
          28,
          26,
          62,
          27,
          23,
          25,
          22,
          31
         ],
         "xaxis": "x",
         "yaxis": "y"
        }
       ],
       "layout": {
        "barmode": "relative",
        "height": 500,
        "legend": {
         "tracegroupgap": 0
        },
        "template": {
         "data": {
          "bar": [
           {
            "error_x": {
             "color": "#2a3f5f"
            },
            "error_y": {
             "color": "#2a3f5f"
            },
            "marker": {
             "line": {
              "color": "#E5ECF6",
              "width": 0.5
             }
            },
            "type": "bar"
           }
          ],
          "barpolar": [
           {
            "marker": {
             "line": {
              "color": "#E5ECF6",
              "width": 0.5
             }
            },
            "type": "barpolar"
           }
          ],
          "carpet": [
           {
            "aaxis": {
             "endlinecolor": "#2a3f5f",
             "gridcolor": "white",
             "linecolor": "white",
             "minorgridcolor": "white",
             "startlinecolor": "#2a3f5f"
            },
            "baxis": {
             "endlinecolor": "#2a3f5f",
             "gridcolor": "white",
             "linecolor": "white",
             "minorgridcolor": "white",
             "startlinecolor": "#2a3f5f"
            },
            "type": "carpet"
           }
          ],
          "choropleth": [
           {
            "colorbar": {
             "outlinewidth": 0,
             "ticks": ""
            },
            "type": "choropleth"
           }
          ],
          "contour": [
           {
            "colorbar": {
             "outlinewidth": 0,
             "ticks": ""
            },
            "colorscale": [
             [
              0,
              "#0d0887"
             ],
             [
              0.1111111111111111,
              "#46039f"
             ],
             [
              0.2222222222222222,
              "#7201a8"
             ],
             [
              0.3333333333333333,
              "#9c179e"
             ],
             [
              0.4444444444444444,
              "#bd3786"
             ],
             [
              0.5555555555555556,
              "#d8576b"
             ],
             [
              0.6666666666666666,
              "#ed7953"
             ],
             [
              0.7777777777777778,
              "#fb9f3a"
             ],
             [
              0.8888888888888888,
              "#fdca26"
             ],
             [
              1,
              "#f0f921"
             ]
            ],
            "type": "contour"
           }
          ],
          "contourcarpet": [
           {
            "colorbar": {
             "outlinewidth": 0,
             "ticks": ""
            },
            "type": "contourcarpet"
           }
          ],
          "heatmap": [
           {
            "colorbar": {
             "outlinewidth": 0,
             "ticks": ""
            },
            "colorscale": [
             [
              0,
              "#0d0887"
             ],
             [
              0.1111111111111111,
              "#46039f"
             ],
             [
              0.2222222222222222,
              "#7201a8"
             ],
             [
              0.3333333333333333,
              "#9c179e"
             ],
             [
              0.4444444444444444,
              "#bd3786"
             ],
             [
              0.5555555555555556,
              "#d8576b"
             ],
             [
              0.6666666666666666,
              "#ed7953"
             ],
             [
              0.7777777777777778,
              "#fb9f3a"
             ],
             [
              0.8888888888888888,
              "#fdca26"
             ],
             [
              1,
              "#f0f921"
             ]
            ],
            "type": "heatmap"
           }
          ],
          "heatmapgl": [
           {
            "colorbar": {
             "outlinewidth": 0,
             "ticks": ""
            },
            "colorscale": [
             [
              0,
              "#0d0887"
             ],
             [
              0.1111111111111111,
              "#46039f"
             ],
             [
              0.2222222222222222,
              "#7201a8"
             ],
             [
              0.3333333333333333,
              "#9c179e"
             ],
             [
              0.4444444444444444,
              "#bd3786"
             ],
             [
              0.5555555555555556,
              "#d8576b"
             ],
             [
              0.6666666666666666,
              "#ed7953"
             ],
             [
              0.7777777777777778,
              "#fb9f3a"
             ],
             [
              0.8888888888888888,
              "#fdca26"
             ],
             [
              1,
              "#f0f921"
             ]
            ],
            "type": "heatmapgl"
           }
          ],
          "histogram": [
           {
            "marker": {
             "colorbar": {
              "outlinewidth": 0,
              "ticks": ""
             }
            },
            "type": "histogram"
           }
          ],
          "histogram2d": [
           {
            "colorbar": {
             "outlinewidth": 0,
             "ticks": ""
            },
            "colorscale": [
             [
              0,
              "#0d0887"
             ],
             [
              0.1111111111111111,
              "#46039f"
             ],
             [
              0.2222222222222222,
              "#7201a8"
             ],
             [
              0.3333333333333333,
              "#9c179e"
             ],
             [
              0.4444444444444444,
              "#bd3786"
             ],
             [
              0.5555555555555556,
              "#d8576b"
             ],
             [
              0.6666666666666666,
              "#ed7953"
             ],
             [
              0.7777777777777778,
              "#fb9f3a"
             ],
             [
              0.8888888888888888,
              "#fdca26"
             ],
             [
              1,
              "#f0f921"
             ]
            ],
            "type": "histogram2d"
           }
          ],
          "histogram2dcontour": [
           {
            "colorbar": {
             "outlinewidth": 0,
             "ticks": ""
            },
            "colorscale": [
             [
              0,
              "#0d0887"
             ],
             [
              0.1111111111111111,
              "#46039f"
             ],
             [
              0.2222222222222222,
              "#7201a8"
             ],
             [
              0.3333333333333333,
              "#9c179e"
             ],
             [
              0.4444444444444444,
              "#bd3786"
             ],
             [
              0.5555555555555556,
              "#d8576b"
             ],
             [
              0.6666666666666666,
              "#ed7953"
             ],
             [
              0.7777777777777778,
              "#fb9f3a"
             ],
             [
              0.8888888888888888,
              "#fdca26"
             ],
             [
              1,
              "#f0f921"
             ]
            ],
            "type": "histogram2dcontour"
           }
          ],
          "mesh3d": [
           {
            "colorbar": {
             "outlinewidth": 0,
             "ticks": ""
            },
            "type": "mesh3d"
           }
          ],
          "parcoords": [
           {
            "line": {
             "colorbar": {
              "outlinewidth": 0,
              "ticks": ""
             }
            },
            "type": "parcoords"
           }
          ],
          "pie": [
           {
            "automargin": true,
            "type": "pie"
           }
          ],
          "scatter": [
           {
            "marker": {
             "colorbar": {
              "outlinewidth": 0,
              "ticks": ""
             }
            },
            "type": "scatter"
           }
          ],
          "scatter3d": [
           {
            "line": {
             "colorbar": {
              "outlinewidth": 0,
              "ticks": ""
             }
            },
            "marker": {
             "colorbar": {
              "outlinewidth": 0,
              "ticks": ""
             }
            },
            "type": "scatter3d"
           }
          ],
          "scattercarpet": [
           {
            "marker": {
             "colorbar": {
              "outlinewidth": 0,
              "ticks": ""
             }
            },
            "type": "scattercarpet"
           }
          ],
          "scattergeo": [
           {
            "marker": {
             "colorbar": {
              "outlinewidth": 0,
              "ticks": ""
             }
            },
            "type": "scattergeo"
           }
          ],
          "scattergl": [
           {
            "marker": {
             "colorbar": {
              "outlinewidth": 0,
              "ticks": ""
             }
            },
            "type": "scattergl"
           }
          ],
          "scattermapbox": [
           {
            "marker": {
             "colorbar": {
              "outlinewidth": 0,
              "ticks": ""
             }
            },
            "type": "scattermapbox"
           }
          ],
          "scatterpolar": [
           {
            "marker": {
             "colorbar": {
              "outlinewidth": 0,
              "ticks": ""
             }
            },
            "type": "scatterpolar"
           }
          ],
          "scatterpolargl": [
           {
            "marker": {
             "colorbar": {
              "outlinewidth": 0,
              "ticks": ""
             }
            },
            "type": "scatterpolargl"
           }
          ],
          "scatterternary": [
           {
            "marker": {
             "colorbar": {
              "outlinewidth": 0,
              "ticks": ""
             }
            },
            "type": "scatterternary"
           }
          ],
          "surface": [
           {
            "colorbar": {
             "outlinewidth": 0,
             "ticks": ""
            },
            "colorscale": [
             [
              0,
              "#0d0887"
             ],
             [
              0.1111111111111111,
              "#46039f"
             ],
             [
              0.2222222222222222,
              "#7201a8"
             ],
             [
              0.3333333333333333,
              "#9c179e"
             ],
             [
              0.4444444444444444,
              "#bd3786"
             ],
             [
              0.5555555555555556,
              "#d8576b"
             ],
             [
              0.6666666666666666,
              "#ed7953"
             ],
             [
              0.7777777777777778,
              "#fb9f3a"
             ],
             [
              0.8888888888888888,
              "#fdca26"
             ],
             [
              1,
              "#f0f921"
             ]
            ],
            "type": "surface"
           }
          ],
          "table": [
           {
            "cells": {
             "fill": {
              "color": "#EBF0F8"
             },
             "line": {
              "color": "white"
             }
            },
            "header": {
             "fill": {
              "color": "#C8D4E3"
             },
             "line": {
              "color": "white"
             }
            },
            "type": "table"
           }
          ]
         },
         "layout": {
          "annotationdefaults": {
           "arrowcolor": "#2a3f5f",
           "arrowhead": 0,
           "arrowwidth": 1
          },
          "coloraxis": {
           "colorbar": {
            "outlinewidth": 0,
            "ticks": ""
           }
          },
          "colorscale": {
           "diverging": [
            [
             0,
             "#8e0152"
            ],
            [
             0.1,
             "#c51b7d"
            ],
            [
             0.2,
             "#de77ae"
            ],
            [
             0.3,
             "#f1b6da"
            ],
            [
             0.4,
             "#fde0ef"
            ],
            [
             0.5,
             "#f7f7f7"
            ],
            [
             0.6,
             "#e6f5d0"
            ],
            [
             0.7,
             "#b8e186"
            ],
            [
             0.8,
             "#7fbc41"
            ],
            [
             0.9,
             "#4d9221"
            ],
            [
             1,
             "#276419"
            ]
           ],
           "sequential": [
            [
             0,
             "#0d0887"
            ],
            [
             0.1111111111111111,
             "#46039f"
            ],
            [
             0.2222222222222222,
             "#7201a8"
            ],
            [
             0.3333333333333333,
             "#9c179e"
            ],
            [
             0.4444444444444444,
             "#bd3786"
            ],
            [
             0.5555555555555556,
             "#d8576b"
            ],
            [
             0.6666666666666666,
             "#ed7953"
            ],
            [
             0.7777777777777778,
             "#fb9f3a"
            ],
            [
             0.8888888888888888,
             "#fdca26"
            ],
            [
             1,
             "#f0f921"
            ]
           ],
           "sequentialminus": [
            [
             0,
             "#0d0887"
            ],
            [
             0.1111111111111111,
             "#46039f"
            ],
            [
             0.2222222222222222,
             "#7201a8"
            ],
            [
             0.3333333333333333,
             "#9c179e"
            ],
            [
             0.4444444444444444,
             "#bd3786"
            ],
            [
             0.5555555555555556,
             "#d8576b"
            ],
            [
             0.6666666666666666,
             "#ed7953"
            ],
            [
             0.7777777777777778,
             "#fb9f3a"
            ],
            [
             0.8888888888888888,
             "#fdca26"
            ],
            [
             1,
             "#f0f921"
            ]
           ]
          },
          "colorway": [
           "#636efa",
           "#EF553B",
           "#00cc96",
           "#ab63fa",
           "#FFA15A",
           "#19d3f3",
           "#FF6692",
           "#B6E880",
           "#FF97FF",
           "#FECB52"
          ],
          "font": {
           "color": "#2a3f5f"
          },
          "geo": {
           "bgcolor": "white",
           "lakecolor": "white",
           "landcolor": "#E5ECF6",
           "showlakes": true,
           "showland": true,
           "subunitcolor": "white"
          },
          "hoverlabel": {
           "align": "left"
          },
          "hovermode": "closest",
          "mapbox": {
           "style": "light"
          },
          "paper_bgcolor": "white",
          "plot_bgcolor": "#E5ECF6",
          "polar": {
           "angularaxis": {
            "gridcolor": "white",
            "linecolor": "white",
            "ticks": ""
           },
           "bgcolor": "#E5ECF6",
           "radialaxis": {
            "gridcolor": "white",
            "linecolor": "white",
            "ticks": ""
           }
          },
          "scene": {
           "xaxis": {
            "backgroundcolor": "#E5ECF6",
            "gridcolor": "white",
            "gridwidth": 2,
            "linecolor": "white",
            "showbackground": true,
            "ticks": "",
            "zerolinecolor": "white"
           },
           "yaxis": {
            "backgroundcolor": "#E5ECF6",
            "gridcolor": "white",
            "gridwidth": 2,
            "linecolor": "white",
            "showbackground": true,
            "ticks": "",
            "zerolinecolor": "white"
           },
           "zaxis": {
            "backgroundcolor": "#E5ECF6",
            "gridcolor": "white",
            "gridwidth": 2,
            "linecolor": "white",
            "showbackground": true,
            "ticks": "",
            "zerolinecolor": "white"
           }
          },
          "shapedefaults": {
           "line": {
            "color": "#2a3f5f"
           }
          },
          "ternary": {
           "aaxis": {
            "gridcolor": "white",
            "linecolor": "white",
            "ticks": ""
           },
           "baxis": {
            "gridcolor": "white",
            "linecolor": "white",
            "ticks": ""
           },
           "bgcolor": "#E5ECF6",
           "caxis": {
            "gridcolor": "white",
            "linecolor": "white",
            "ticks": ""
           }
          },
          "title": {
           "x": 0.05
          },
          "xaxis": {
           "automargin": true,
           "gridcolor": "white",
           "linecolor": "white",
           "ticks": "",
           "title": {
            "standoff": 15
           },
           "zerolinecolor": "white",
           "zerolinewidth": 2
          },
          "yaxis": {
           "automargin": true,
           "gridcolor": "white",
           "linecolor": "white",
           "ticks": "",
           "title": {
            "standoff": 15
           },
           "zerolinecolor": "white",
           "zerolinewidth": 2
          }
         }
        },
        "title": {
         "text": "Dystrybucja względem wieku"
        },
        "width": 800,
        "xaxis": {
         "anchor": "y",
         "domain": [
          0,
          1
         ],
         "title": {
          "text": "age"
         }
        },
        "yaxis": {
         "anchor": "x",
         "domain": [
          0,
          1
         ],
         "title": {
          "text": "count"
         }
        }
       }
      },
      "text/html": [
       "<div>                            <div id=\"02d3c910-63b6-49e4-a33d-9664d23c233f\" class=\"plotly-graph-div\" style=\"height:500px; width:800px;\"></div>            <script type=\"text/javascript\">                require([\"plotly\"], function(Plotly) {                    window.PLOTLYENV=window.PLOTLYENV || {};                                    if (document.getElementById(\"02d3c910-63b6-49e4-a33d-9664d23c233f\")) {                    Plotly.newPlot(                        \"02d3c910-63b6-49e4-a33d-9664d23c233f\",                        [{\"alignmentgroup\": \"True\", \"bingroup\": \"x\", \"hovertemplate\": \"age=%{x}<br>count=%{y}<extra></extra>\", \"legendgroup\": \"\", \"marker\": {\"color\": \"#636efa\"}, \"name\": \"\", \"nbinsx\": 80, \"offsetgroup\": \"\", \"orientation\": \"v\", \"showlegend\": false, \"type\": \"histogram\", \"x\": [53.0, 47.0, 23.0, 32.0, 39.0, 18.0, 22.0, 35.0, 34.0, 47.0, 25.0, 31.0, 41.0, 30.0, 37.0, 28.0, 42.0, 36.0, 49.0, 71.0, 33.0, 39.0, 23.0, 29.0, 34.0, 43.0, 24.0, 29.0, 34.0, 75.0, 68.0, 34.0, 27.0, 39.0, 24.0, 36.0, 33.0, 41.0, 48.0, 21.0, 24.0, 27.0, 32.0, 67.0, 49.0, 42.0, 36.0, 36.0, 19.0, 54.0, 25.0, 17.0, 29.0, 56.0, 61.0, 45.0, 26.0, 40.0, 26.0, 17.0, 68.0, 24.0, 34.0, 39.0, 26.0, 29.0, 33.0, 45.0, 26.0, 35.0, 31.0, 42.0, 48.0, 31.0, 54.0, 59.0, 42.0, 17.0, 23.0, 38.0, 29.0, 45.0, 28.0, 37.0, 28.0, 28.0, 51.0, 36.0, 59.0, 25.0, 26.0, 74.0, 33.0, 27.0, 57.0, 46.0, 41.0, 61.0, 45.0, 49.0, 45.0, 35.0, 23.0, 46.0, 23.0, 21.0, 35.0, 27.0, 37.0, 16.0, 51.0, 34.0, 34.0, 25.0, 56.0, 26.0, 24.0, 43.0, 31.0, 32.0, 30.0, 50.0, 20.0, 31.0, 38.0, 77.0, 37.11793090137039, 41.0, 51.0, 50.0, 47.0, 37.0, 41.0, 16.0, 42.0, 39.0, 30.0, 27.0, 43.0, 42.0, 21.0, 49.0, 34.0, 31.0, 27.0, 24.0, 34.0, 28.0, 28.0, 40.0, 37.0, 17.0, 35.0, 49.0, 43.0, 20.0, 25.0, 25.0, 26.0, 28.0, 45.0, 36.0, 34.0, 19.0, 37.0, 48.0, 29.0, 43.0, 40.0, 35.0, 27.0, 58.0, 46.0, 30.0, 64.0, 31.0, 23.0, 37.0, 37.0, 31.0, 39.0, 31.0, 54.0, 53.0, 25.0, 35.0, 41.0, 59.0, 36.0, 32.0, 53.0, 26.0, 29.0, 27.0, 28.0, 52.0, 49.0, 24.0, 24.0, 20.0, 22.0, 49.0, 64.0, 47.0, 39.0, 18.0, 31.0, 16.0, 20.0, 36.0, 63.0, 34.0, 24.0, 21.0, 44.0, 60.0, 42.0, 37.0, 36.0, 21.0, 24.0, 29.0, 57.0, 38.0, 23.0, 27.0, 28.0, 63.0, 53.0, 35.0, 26.0, 42.0, 41.0, 56.0, 39.0, 23.0, 40.0, 29.0, 26.0, 49.0, 36.0, 21.0, 27.0, 37.0, 36.0, 32.0, 44.0, 27.0, 63.0, 38.0, 17.0, 31.0, 34.0, 50.0, 51.0, 56.0, 23.0, 25.0, 31.0, 32.0, 60.0, 42.0, 39.0, 28.0, 22.0, 29.0, 31.0, 28.0, 21.0, 38.0, 66.0, 36.0, 83.0, 32.0, 27.0, 26.0, 31.0, 22.0, 41.0, 41.0, 51.0, 72.0, 52.0, 47.0, 18.0, 29.0, 23.0, 43.0, 45.0, 40.0, 44.0, 25.0, 37.0, 59.0, 35.0, 35.0, 18.0, 51.0, 30.0, 31.0, 39.0, 26.0, 51.0, 19.0, 46.0, 49.0, 63.0, 20.0, 25.0, 24.0, 58.0, 29.0, 76.0, 45.0, 20.0, 58.0, 21.0, 27.0, 26.0, 33.0, 27.0, 25.0, 53.0, 53.0, 42.0, 22.0, 52.0, 36.0, 30.0, 34.0, 44.0, 53.0, 36.0, 29.0, 32.0, 46.0, 18.0, 38.0, 21.0, 35.0, 58.0, 48.0, 31.0, 47.0, 34.0, 30.0, 28.0, 28.0, 40.0, 46.0, 37.0, 53.0, 41.0, 42.0, 45.0, 34.0, 18.0, 27.0, 54.0, 35.0, 17.0, 29.0, 38.0, 26.0, 52.0, 39.0, 22.0, 29.0, 43.0, 24.0, 32.0, 40.0, 47.0, 40.0, 25.0, 31.0, 36.0, 51.0, 24.0, 62.0, 39.0, 24.0, 57.0, 20.0, 33.0, 60.0, 32.0, 40.0, 18.0, 36.0, 35.0, 55.0, 19.0, 39.0, 47.0, 23.0, 26.0, 26.0, 18.0, 33.0, 56.0, 46.0, 36.0, 50.0, 45.0, 53.0, 45.0, 42.0, 27.0, 30.0, 36.0, 58.0, 30.0, 69.0, 30.0, 45.0, 22.0, 28.0, 19.0, 40.0, 46.0, 28.0, 22.0, 17.0, 46.0, 35.0, 35.0, 28.0, 15.0, 22.0, 28.0, 31.0, 40.0, 48.0, 58.0, 44.0, 21.0, 50.0, 23.0, 24.0, 49.0, 60.0, 35.0, 29.0, 20.0, 34.0, 22.0, 49.0, 32.0, 26.0, 41.0, 61.0, 49.0, 28.0, 35.0, 29.0, 51.0, 52.0, 24.0, 32.0, 45.0, 60.0, 23.0, 46.0, 33.0, 40.0, 27.0, 42.0, 37.0, 23.0, 36.0, 19.0, 35.0, 43.0, 25.0, 20.0, 42.0, 29.0, 42.0, 31.0, 18.0, 33.0, 59.0, 47.0, 39.0, 37.0, 35.0, 28.0, 59.0, 62.0, 50.0, 68.0, 27.0, 17.0, 21.0, 38.0, 54.0, 20.0, 25.0, 31.0, 35.0, 60.0, 24.0, 27.0, 36.0, 20.0, 24.0, 23.0, 41.0, 20.0, 43.0, 29.0, 35.0, 30.0, 24.0, 23.0, 29.0, 25.0, 27.0, 50.0, 19.0, 24.0, 23.0, 22.0, 46.0, 65.0, 43.0, 35.0, 47.0, 24.0, 35.0, 25.0, 27.0, 26.0, 34.0, 32.0, 47.0, 44.0, 31.0, 44.0, 30.0, 60.0, 50.0, 36.0, 59.0, 33.0, 19.0, 56.0, 45.0, 22.0, 34.0, 53.0, 48.0, 25.0, 30.0, 47.0, 33.0, 34.0, 29.0, 63.0, 49.0, 18.0, 71.0, 35.0, 55.0, 31.0, 18.0, 51.0, 39.0, 20.0, 29.0, 40.0, 42.0, 22.0, 19.0, 24.0, 30.0, 53.0, 25.0, 28.0, 24.0, 59.0, 46.0, 15.0, 41.0, 22.0, 24.0, 34.0, 48.0, 24.0, 27.0, 27.0, 27.0, 49.0, 30.0, 38.0, 26.0, 30.0, 53.0, 23.0, 34.0, 30.0, 43.0, 29.0, 47.0, 35.0, 40.0, 18.0, 24.0, 29.0, 44.0, 17.0, 19.0, 50.0, 57.0, 30.0, 38.0, 31.0, 29.0, 26.0, 64.0, 39.0, 57.0, 36.0, 36.0, 21.0, 53.0, 30.0, 34.0, 53.0, 45.0, 22.0, 22.0, 46.0, 27.0, 30.0, 54.0, 29.0, 42.0, 41.0, 28.0, 61.0, 23.0, 25.0, 37.11793090137039, 29.0, 20.0, 40.0, 45.0, 33.0, 76.0, 47.0, 45.0, 40.0, 37.0, 27.0, 36.0, 23.0, 49.0, 21.0, 32.0, 35.0, 28.0, 59.0, 28.0, 45.0, 45.0, 19.0, 25.0, 37.0, 33.0, 59.0, 31.0, 29.0, 32.0, 41.0, 31.0, 44.0, 23.0, 45.0, 39.0, 67.0, 29.0, 25.0, 28.0, 21.0, 32.0, 51.0, 39.0, 27.0, 31.0, 50.0, 37.11793090137039, 32.0, 47.0, 46.0, 57.0, 23.0, 56.0, 24.0, 27.0, 23.0, 26.0, 34.0, 21.0, 32.0, 33.0, 55.0, 48.0, 35.0, 19.0, 45.0, 28.0, 42.0, 17.0, 30.0, 21.0, 45.0, 33.0, 46.0, 23.0, 37.0, 43.0, 40.0, 59.0, 31.0, 46.0, 37.0, 28.0, 28.0, 55.0, 29.0, 26.0, 27.0, 31.0, 51.0, 50.0, 27.0, 18.0, 46.0, 19.0, 49.0, 31.0, 38.0, 40.0, 35.0, 34.0, 44.0, 23.0, 43.0, 37.11793090137039, 31.0, 27.0, 46.0, 18.0, 57.0, 15.0, 25.0, 50.0, 31.0, 35.0, 27.0, 20.0, 27.0, 33.0, 27.0, 22.0, 28.0, 31.0, 28.0, 53.0, 30.0, 39.0, 40.0, 30.0, 21.0, 35.0, 21.0, 47.0, 38.0, 36.0, 53.0, 34.0, 34.0, 30.0, 28.0, 47.0, 49.0, 36.0, 45.0, 21.0, 18.0, 25.0, 29.0, 57.0, 34.0, 35.0, 37.11793090137039, 18.0, 62.0, 29.0, 25.0, 30.0, 24.0, 52.0, 33.0, 56.0, 49.0, 20.0, 62.0, 62.0, 6.0, 30.0, 57.0, 18.0, 47.0, 48.0, 20.0, 30.0, 36.0, 51.0, 55.0, 48.0, 20.0, 25.0, 26.0, 45.0, 35.0, 34.0, 36.0, 22.0, 63.0, 31.0, 25.0, 57.0, 32.0, 42.0, 52.0, 25.0, 25.0, 31.0, 39.0, 16.0, 24.0, 32.0, 25.0, 28.0, 28.0, 21.0, 30.0, 58.0, 47.0, 41.0, 25.0, 44.0, 34.0, 27.0, 34.0, 29.0, 39.0, 24.0, 47.0, 45.0, 28.0, 50.0, 49.0, 45.0, 24.0, 32.0, 23.0, 52.0, 37.0, 26.0, 58.0, 50.0, 22.0, 53.0, 69.0, 23.0, 29.0, 25.0, 18.0, 31.0, 23.0, 18.0, 35.0, 27.0, 28.0, 26.0, 32.0, 36.0, 66.0, 21.0, 47.0, 24.0, 60.0, 61.0, 38.0, 51.0, 35.0, 46.0, 48.0, 36.0, 33.0, 66.0, 34.0, 55.0, 54.0, 36.0, 25.0, 24.0, 28.0, 36.0, 20.0, 49.0, 51.0, 21.0, 30.0, 32.0, 33.0, 56.0, 48.0, 39.0, 19.0, 45.0, 33.0, 52.0, 51.0, 37.11793090137039, 25.0, 24.0, 22.0, 32.0, 58.0, 24.0, 26.0, 30.0, 31.0, 34.0, 48.0, 37.11793090137039, 21.0, 39.0, 25.0, 30.0, 56.0, 29.0, 19.0, 35.0, 36.0, 24.0, 23.0, 31.0, 41.0, 55.0, 19.0, 38.0, 36.0, 34.0, 52.0, 28.0, 50.0, 37.11793090137039, 55.0, 23.0, 30.0, 54.0, 37.0, 37.0, 30.0, 27.0, 22.0, 29.0, 39.0, 33.0, 52.0, 28.0, 54.0, 38.0, 32.0, 34.0, 26.0, 50.0, 37.0, 45.0, 56.0, 45.0, 32.0, 12.0, 49.0, 58.0, 29.0, 60.0, 40.0, 39.0, 26.0, 24.0, 34.0, 27.0, 44.0, 25.0, 55.0, 19.0, 52.0, 31.0, 26.0, 24.0, 38.0, 33.0, 28.0, 27.0, 39.0, 29.0, 36.0, 55.0, 28.0, 40.0, 33.0, 37.0, 39.0, 43.0, 38.0, 55.0, 52.0, 32.0, 31.0, 27.0, 40.0, 31.0, 30.0, 26.0, 32.0, 33.0, 19.0, 33.0, 29.0, 41.0, 29.0, 38.0, 64.0, 42.0, 46.0, 42.0, 37.0, 25.0, 36.0, 21.0, 30.0, 53.0, 31.0, 22.0, 24.0, 36.0, 47.0, 54.0, 43.0, 38.0, 30.0, 51.0, 55.0, 16.0, 23.0, 36.0, 33.0, 17.0, 22.0, 22.0, 29.0, 41.0, 67.0, 36.0, 52.0, 56.0, 35.0, 45.0, 30.0, 29.0, 53.0, 32.0, 22.0, 24.0, 19.0, 29.0, 50.0, 29.0, 26.0, 39.0, 52.0, 51.0, 48.0, 30.0, 37.0, 30.0, 35.0, 32.0, 25.0, 35.0, 31.0, 30.0, 23.0, 41.0, 45.0, 46.0, 36.0, 31.0, 32.0, 38.0, 33.0, 45.0, 38.0, 22.0, 48.0, 36.0, 26.0, 39.0, 16.0, 58.0, 27.0, 26.0, 21.0, 37.0, 56.0, 19.0, 38.0, 18.0, 35.0, 23.0, 41.0, 44.0, 24.0, 39.0, 22.0, 37.0, 36.0, 41.0, 27.0, 30.0, 34.0, 22.0, 51.0, 42.0, 41.0, 49.0, 45.0, 45.0, 42.0, 41.0, 27.0, 37.0, 22.0, 21.0, 50.0, 23.0, 25.0, 51.0, 46.0, 23.0, 43.0, 37.0, 20.0, 45.0, 16.0, 30.0, 26.0, 24.0, 38.0, 28.0, 29.0, 34.0, 38.0, 43.0, 23.0, 33.0, 40.0, 38.0, 53.0, 29.0, 30.0, 60.0, 25.0, 24.0, 21.0, 23.0, 61.0, 54.0, 62.0, 16.0, 25.0, 28.0, 76.0, 25.0, 33.0, 51.0, 34.0, 30.0, 44.0, 24.0, 29.0, 48.0, 19.0, 22.0, 39.0, 36.0, 55.0, 46.0, 34.0, 27.0, 33.0, 18.0, 33.0, 51.0, 50.0, 46.0, 33.0, 25.0, 52.0, 18.0, 43.0, 34.0, 31.0, 65.0, 37.0, 30.0, 36.0, 25.0, 69.0, 48.0, 50.0, 52.0, 44.0, 60.0, 40.0, 20.0, 45.0, 44.0, 40.0, 25.0, 43.0, 27.0, 19.0, 39.0, 30.0, 28.0, 22.0, 16.0, 40.0, 38.0, 20.0, 35.0, 52.0, 26.0, 54.0, 38.0, 52.0, 26.0, 53.0, 35.0, 22.0, 31.0, 32.0, 37.0, 28.0, 18.0, 41.0, 15.0, 38.0, 41.0, 52.0, 48.0, 29.0, 51.0, 21.0, 24.0, 18.0, 30.0, 33.0, 60.0, 28.0, 26.0, 24.0, 44.0, 34.0, 21.0, 36.0, 37.0, 53.0, 24.0, 45.0, 48.0, 42.0, 33.0, 55.0, 28.0, 25.0, 28.0, 52.0, 59.0, 52.0, 39.0, 40.0, 36.0, 38.0, 26.0, 37.11793090137039, 29.0, 37.0, 29.0, 21.0, 33.0, 23.0, 26.0, 29.0, 33.0, 28.0, 35.0, 33.0, 24.0, 37.11793090137039, 28.0, 19.0, 43.0, 59.0, 34.0, 35.0, 23.0, 36.0, 46.0, 44.0, 20.0, 30.0, 29.0, 35.0, 36.0, 22.0, 31.0, 63.0, 38.0, 31.0, 27.0, 35.0, 22.0, 28.0, 26.0, 22.0, 31.0, 43.0, 24.0, 29.0, 43.0, 21.0, 19.0, 25.0, 59.0, 50.0, 58.0, 25.0, 32.0, 53.0, 38.0, 70.0, 33.0, 36.0, 21.0, 51.0, 43.0, 18.0, 33.0, 34.0, 31.0, 35.0, 31.0, 31.0, 23.0, 25.0, 25.0, 21.0, 49.0, 63.0, 43.0, 34.0, 38.0, 52.0, 68.0, 29.0, 32.0, 50.0, 31.0, 27.0, 31.0, 29.0, 23.0, 61.0, 33.0, 18.0, 80.0, 43.0, 50.0, 47.0, 54.0, 22.0, 43.0, 38.0, 36.0, 30.0, 59.0, 21.0, 34.0, 17.0, 37.0, 25.0, 23.0, 20.0, 19.0, 50.0, 24.0, 25.0, 20.0, 37.0, 44.0, 22.0, 31.0, 25.0, 37.11793090137039, 36.0, 50.0, 42.0, 42.0, 26.0, 19.0, 59.0, 36.0, 51.0, 27.0, 22.0, 30.0, 28.0, 63.0, 32.0, 26.0, 25.0, 27.0, 61.0, 30.0, 37.11793090137039, 37.0, 41.0, 25.0, 24.0, 44.0, 63.0, 58.0, 30.0, 35.0, 50.0, 40.0, 37.11793090137039, 19.0, 34.0, 18.0, 21.0, 29.0, 49.0, 24.0, 37.0, 32.0, 65.0, 37.0, 33.0, 63.0, 30.0, 40.0, 38.0, 50.0, 41.0, 41.0, 39.0, 44.0, 23.0, 32.0, 56.0, 33.0, 63.0, 31.0, 57.0, 26.0, 39.0, 42.0, 29.0, 43.0, 56.0, 31.0, 50.0, 36.0, 50.0, 49.0, 31.0, 34.0, 36.0, 29.0, 32.0, 18.0, 50.0, 36.0, 17.0, 19.0, 24.0, 24.0, 20.0, 33.0, 41.0, 47.0, 18.0, 31.0, 27.0, 36.0, 40.0, 59.0, 32.0, 38.0, 18.0, 23.0, 43.0, 67.0, 32.0, 22.0, 31.0, 43.0, 34.0, 51.0, 31.0, 54.0, 69.0, 58.0, 26.0, 59.0, 25.0, 20.0, 57.0, 56.0, 64.0, 34.0, 69.0, 45.0, 14.0, 44.0, 59.0, 33.0, 54.0, 22.0, 49.0, 23.0, 38.0, 53.0, 36.0, 29.0, 42.0, 36.0, 32.0, 53.0, 30.0, 25.0, 18.0, 55.0, 27.0, 37.0, 29.0, 40.0, 36.0, 38.0, 29.0, 59.0, 47.0, 22.0, 31.0, 29.0, 54.0, 71.0, 36.0, 34.0, 49.0, 36.0, 43.0, 53.0, 31.0, 32.0, 41.0, 26.0, 82.0, 37.0, 24.0, 35.0, 56.0, 22.0, 59.0, 36.0, 21.0, 38.0, 60.0, 18.0, 23.0, 37.11793090137039, 38.0, 22.0, 38.0, 25.0, 25.0, 36.0, 37.11793090137039, 44.0, 36.0, 35.0, 25.0, 31.0, 70.0, 25.0, 55.0, 35.0, 25.0, 32.0, 38.0, 32.0, 64.0, 55.0, 69.0, 37.0, 31.0, 25.0, 25.0, 13.0, 32.0, 69.0, 34.0, 29.0, 29.0, 40.0, 42.0, 25.0, 45.0, 55.0, 22.0, 61.0, 46.0, 30.0, 56.0, 35.0, 22.0, 23.0, 43.0, 43.0, 49.0, 23.0, 41.0, 33.0, 30.0, 25.0, 52.0, 32.0, 46.0, 48.0, 38.0, 26.0, 32.0, 28.0, 53.0, 38.0, 18.0, 32.0, 37.0, 18.0, 20.0, 28.0, 18.0, 16.0, 36.0, 57.0, 49.0, 31.0, 26.0, 51.0, 28.0, 35.0, 57.0, 36.0, 42.0, 37.11793090137039, 49.0, 21.0, 53.0, 62.0, 41.0, 40.0, 27.0, 19.0, 26.0, 44.0, 30.0, 31.0, 33.0, 22.0, 38.0, 46.0, 23.0, 24.0, 26.0, 26.0, 32.0, 50.0, 17.0, 39.0, 28.0, 66.0, 42.0, 34.0, 38.0, 28.0, 29.0, 23.0, 58.0, 21.0, 45.0, 38.0, 40.0, 19.0, 46.0, 25.0, 25.0, 37.0, 25.0, 36.0, 32.0, 33.0, 24.0, 37.0, 38.0, 45.0, 31.0, 34.0, 23.0, 39.0, 55.0, 31.0, 76.0, 59.0, 40.0, 23.0, 26.0, 35.0, 49.0, 36.0, 56.0, 34.0, 43.0, 31.0, 17.0, 32.0, 33.0, 43.0, 31.0, 23.0, 26.0, 45.0, 19.0, 36.0, 41.0, 53.0, 24.0, 37.11793090137039, 37.11793090137039, 40.0, 29.0, 22.0, 21.0, 25.0, 37.0, 37.0, 56.0, 25.0, 26.0, 35.0, 25.0, 29.0, 21.0, 15.0, 24.0, 18.0, 19.0, 27.0, 45.0, 36.0, 34.0, 23.0, 43.0, 19.0, 37.0, 23.0, 26.0, 20.0, 59.0, 33.0, 48.0, 50.0, 18.0, 23.0, 41.0, 41.0, 55.0, 29.0, 31.0, 25.0, 38.0, 37.11793090137039, 83.0, 22.0, 33.0, 36.0, 26.0, 29.0, 55.0, 47.0, 52.0, 49.0, 37.0, 37.0, 36.0, 31.0, 30.0, 37.11793090137039, 35.0, 35.0, 36.0, 39.0, 30.0, 44.0, 24.0, 53.0, 73.0, 31.0, 28.0, 18.0, 32.0, 60.0, 48.0, 33.0, 44.0, 20.0, 37.0, 72.0, 52.0, 46.0, 25.0, 38.0, 27.0, 24.0, 19.0, 31.0, 18.0, 53.0, 48.0, 29.0, 30.0, 61.0, 71.0, 41.0, 36.0, 28.0, 21.0, 46.0, 32.0, 33.0, 42.0, 17.0, 35.0, 23.0, 21.0, 44.0, 53.0, 63.0, 18.0, 51.0, 64.0, 45.0, 20.0, 41.0, 23.0, 32.0, 25.0, 42.0, 41.0, 31.0, 50.0, 38.0, 44.0, 38.0, 21.0, 32.0, 23.0, 41.0, 41.0, 38.0, 54.0, 20.0, 26.0, 29.0, 47.0, 28.0, 48.0, 34.0, 37.0, 33.0, 36.0, 43.0, 32.0, 29.0, 39.0, 40.0, 21.0, 50.0, 19.0, 28.0, 16.0, 49.0, 44.0, 25.0, 39.0, 44.0, 50.0, 57.0, 57.0, 33.0, 21.0, 52.0, 27.0, 60.0, 25.0, 34.0, 22.0, 26.0, 27.0, 29.0, 30.0, 32.0, 18.0, 37.0, 54.0, 50.0, 28.0, 59.0, 24.0, 34.0, 25.0, 25.0, 17.0, 48.0, 45.0, 18.0, 50.0, 36.0, 45.0, 42.0, 37.11793090137039, 23.0, 31.0, 26.0, 57.0, 18.0, 27.0, 41.0, 33.0, 22.0, 38.0, 26.0, 45.0, 68.0, 56.0, 23.0, 45.0, 41.0, 33.0, 22.0, 50.0, 52.0, 35.0, 18.0, 34.0, 51.0, 18.0, 29.0, 34.0, 25.0, 17.0, 26.0, 33.0, 25.0, 31.0, 25.0, 18.0, 45.0, 25.0, 23.0, 55.0, 37.0, 33.0, 27.0, 32.0, 31.0, 26.0, 32.0, 53.0, 19.0, 53.0, 35.0, 64.0, 24.0, 33.0, 55.0, 17.0, 48.0, 21.0, 22.0, 30.0, 34.0, 35.0, 32.0, 22.0, 46.0, 27.0, 18.0, 33.0, 26.0, 27.0, 26.0, 51.0, 63.0, 38.0, 25.0, 39.0, 41.0, 26.0, 30.0, 33.0, 38.0, 24.0, 47.0, 62.0, 30.0, 33.0, 23.0, 39.0, 41.0, 46.0, 36.0, 66.0, 27.0, 40.0, 25.0, 20.0, 43.0, 40.0, 33.0, 34.0, 27.0, 25.0, 37.0, 32.0, 25.0, 38.0, 50.0, 26.0, 70.0, 38.0, 41.0, 91.0, 25.0, 29.0, 24.0, 40.0, 51.0, 30.0, 28.0, 33.0, 23.0, 23.0, 20.0, 56.0, 36.0, 18.0, 43.0, 16.0, 29.0, 25.0, 34.0, 32.0, 58.0, 36.0, 32.0, 25.0, 59.0, 25.0, 25.0, 42.0, 36.0, 59.0, 21.0, 19.0, 45.0, 42.0, 27.0, 45.0, 51.0, 42.0, 24.0, 39.0, 18.0, 26.0, 35.0, 53.0, 54.0, 36.0, 56.0, 51.0, 45.0, 28.0, 36.0, 73.0, 26.0, 41.0, 59.0, 28.0, 45.0, 27.0, 46.0, 34.0, 30.0, 46.0, 47.0, 32.0, 65.0, 19.0, 22.0, 39.0, 38.0, 68.0, 49.0, 37.0, 33.0, 25.0, 36.0, 30.0, 39.0, 28.0, 28.0, 25.0, 57.0, 33.0, 24.0, 33.0, 56.0, 56.0, 16.0, 47.0, 33.0, 32.0, 21.0, 64.0, 19.0, 26.0, 25.0, 17.0, 55.0, 25.0, 43.0, 39.0, 24.0, 70.0, 79.0, 16.0, 35.0, 15.0, 23.0, 53.0, 20.0, 27.0, 53.0, 32.0, 57.0, 26.0, 53.0, 32.0, 25.0, 15.0, 59.0, 35.0, 33.0, 32.0, 49.0, 46.0, 25.0, 20.0, 48.0, 24.0, 18.0, 67.0, 26.0, 54.0, 15.0, 27.0, 26.0, 62.0, 24.0, 32.0, 29.0, 16.0, 25.0, 40.0, 39.0, 34.0, 36.0, 24.0, 50.0, 50.0, 37.11793090137039, 30.0, 35.0, 46.0, 51.0, 37.0, 41.0, 41.0, 48.0, 27.0, 29.0, 47.0, 34.0, 48.0, 41.0, 25.0, 24.0, 38.0, 28.0, 47.0, 65.0, 58.0, 33.0, 43.0, 24.0, 37.0, 31.0, 65.0, 59.0, 74.0, 21.0, 24.0, 37.11793090137039, 23.0, 59.0, 33.0, 34.0, 30.0, 22.0, 37.0, 20.0, 18.0, 24.0, 17.0, 27.0, 51.0, 29.0, 34.0, 18.0, 17.0, 55.0, 44.0, 27.0, 66.0, 45.0, 47.0, 34.0, 37.0, 54.0, 21.0, 21.0, 35.0, 75.0, 33.0, 45.0, 48.0, 58.0, 30.0, 44.0, 82.0, 29.0, 25.0, 53.0, 60.0, 19.0, 63.0, 50.0, 35.0, 45.0, 24.0, 36.0, 35.0, 33.0, 66.0, 54.0, 20.0, 40.0, 41.0, 30.0, 32.0, 24.0, 37.0, 28.0, 48.0, 30.0, 64.0, 21.0, 28.0, 36.0, 40.0, 32.0, 50.0, 28.0, 33.0, 37.0, 17.0, 20.0, 34.0, 37.0, 24.0, 47.0, 20.0, 56.0, 24.0, 47.0, 36.0, 35.0, 37.0, 45.0, 41.0, 23.0, 37.0, 23.0, 33.0, 23.0, 37.0, 19.0, 39.0, 53.0, 51.0, 25.0, 45.0, 28.0, 36.0, 32.0, 39.0, 46.0, 53.0, 42.0, 34.0, 29.0, 53.0, 45.0, 24.0, 51.0, 35.0, 27.0, 33.0, 16.0, 30.0, 22.0, 23.0, 50.0, 28.0, 34.0, 24.0, 54.0, 26.0, 39.0, 34.0, 27.0, 48.0, 47.0, 54.0, 33.0, 40.0, 58.0, 55.0, 47.0, 42.0, 29.0, 40.0, 23.0, 23.0, 25.0, 52.0, 43.0, 37.0, 32.0, 70.0, 24.0, 24.0, 38.0, 52.0, 27.0, 22.0, 42.0, 49.0, 59.0, 41.0, 34.0, 31.0, 23.0, 28.0, 33.0, 16.0, 35.0, 26.0, 62.0, 25.0, 25.0, 31.0, 35.0, 46.0, 39.0, 26.0, 37.0, 32.0, 31.0, 48.0, 29.0, 32.0, 28.0, 43.0, 39.0, 37.0, 39.0, 42.0, 33.0, 25.0, 29.0, 45.0, 27.0, 28.0, 57.0, 15.0, 33.0, 35.0, 47.0, 31.0, 36.0, 54.0, 24.0, 35.0, 32.0, 28.0, 45.0, 29.0, 36.0, 23.0, 17.0, 20.0, 33.0, 49.0, 31.0, 35.0, 24.0, 54.0, 41.0, 50.0, 46.0, 45.0, 20.0, 37.0, 34.0, 54.0, 65.0, 28.0, 26.0, 25.0, 32.0, 44.0, 32.0, 42.0, 66.0, 22.0, 51.0, 64.0, 30.0, 71.0, 30.0, 48.0, 56.0, 26.0, 28.0, 19.0, 24.0, 44.0, 28.0, 47.0, 18.0, 26.0, 33.0, 34.0, 62.0, 24.0, 55.0, 22.0, 46.0, 27.0, 32.0, 22.0, 54.0, 32.0, 45.0, 36.0, 37.0, 47.0, 30.0, 31.0, 44.0, 52.0, 16.0, 29.0, 42.0, 31.0, 41.0, 45.0, 50.0, 26.0, 22.0, 76.0, 58.0, 32.0, 19.0, 25.0, 48.0, 39.0, 31.0, 50.0, 15.0, 48.0, 32.0, 21.0, 37.0, 21.0, 40.0, 33.0, 25.0, 55.0, 53.0, 27.0, 35.0, 25.0, 31.0, 70.0, 40.0, 25.0, 38.0, 26.0, 27.0, 37.11793090137039, 28.0, 40.0, 44.0, 39.0, 24.0, 32.0, 31.0, 50.0, 31.0, 50.0, 45.0, 44.0, 48.0, 39.0, 30.0, 44.0, 28.0, 24.0, 27.0, 34.0, 41.0, 26.0, 38.0, 33.0, 22.0, 40.0, 34.0, 48.0, 37.0, 67.0, 35.0, 29.0, 28.0, 40.0, 31.0, 51.0, 47.0, 52.0, 28.0, 35.0, 25.0, 37.11793090137039, 34.0, 58.0, 24.0, 22.0, 46.0, 61.0, 43.0, 44.0, 35.0, 29.0, 57.0, 42.0, 44.0, 20.0, 32.0, 34.0, 18.0, 31.0, 24.0, 35.0, 34.0, 26.0, 55.0, 38.0, 23.0, 30.0, 44.0, 37.0, 27.0, 43.0, 25.0, 30.0, 35.0, 31.0, 35.0, 37.0, 25.0, 34.0, 33.0, 33.0, 32.0, 34.0, 46.0, 40.0, 27.0, 17.0, 46.0, 50.0, 41.0, 23.0, 33.0, 25.0, 27.0, 39.0, 22.0, 37.0, 27.0, 28.0, 56.0, 71.0, 53.0, 39.0, 56.0, 24.0, 35.0, 30.0, 31.0, 20.0, 35.0, 31.0, 49.0, 54.0, 48.0, 32.0, 35.0, 30.0, 32.0, 31.0, 14.0, 25.0, 32.0, 35.0, 27.0, 23.0, 55.0, 43.0, 62.0, 25.0, 37.11793090137039, 50.0, 19.0, 41.0, 55.0, 19.0, 67.0, 24.0, 44.0, 29.0, 48.0, 22.0, 37.11793090137039, 59.0, 68.0, 25.0, 23.0, 46.0, 25.0, 30.0, 56.0, 24.0, 18.0, 27.0, 26.0, 15.0, 26.0, 32.0, 17.0, 32.0, 43.0, 26.0, 51.0, 39.0, 43.0, 31.0, 22.0, 40.0, 64.0, 30.0, 59.0, 24.0, 32.0, 37.0, 33.0, 42.0, 37.0, 33.0, 62.0, 46.0, 69.0, 24.0, 42.0, 49.0, 35.0, 19.0, 40.0, 34.0, 22.0, 16.0, 69.0, 24.0, 28.0, 51.0, 20.0, 34.0, 27.0, 48.0, 33.0, 6.0, 26.0, 40.0, 46.0, 20.0, 28.0, 30.0, 36.0, 25.0, 28.0, 38.0, 30.0, 31.0, 36.0, 65.0, 42.0, 65.0, 30.0, 49.0, 66.0, 28.0, 27.0, 31.0, 46.0, 28.0, 35.0, 24.0, 17.0, 39.0, 21.0, 21.0, 57.0, 27.0, 62.0, 40.0, 38.0, 27.0, 54.0, 27.0, 51.0, 25.0, 46.0, 20.0, 32.0, 27.0, 21.0, 60.0, 44.0, 23.0, 31.0, 43.0, 39.0, 54.0, 22.0, 37.0, 42.0, 22.0, 42.0, 32.0, 30.0, 53.0, 27.0, 72.0, 29.0, 34.0, 26.0, 22.0, 16.0, 31.0, 58.0, 23.0, 44.0, 46.0, 61.0, 17.0, 46.0, 35.0, 36.0, 28.0, 37.0, 47.0, 35.0, 40.0, 24.0, 18.0, 38.0, 54.0, 27.0, 62.0, 66.0, 47.0, 19.0, 27.0, 23.0, 42.0, 43.0, 42.0, 45.0, 21.0, 43.0, 45.0, 33.0, 38.0, 33.0, 46.0, 52.0, 46.0, 40.0, 20.0, 39.0, 35.0, 31.0, 32.0, 56.0, 37.0, 32.0, 28.0, 26.0, 27.0, 37.11793090137039, 43.0, 49.0, 16.0, 35.0, 19.0, 59.0, 29.0, 37.0, 22.0, 40.0, 35.0, 39.0, 36.0, 78.0, 25.0, 41.0, 63.0, 48.0, 42.0, 39.0, 84.0, 33.0, 52.0, 48.0, 30.0, 29.0, 27.0, 41.0, 57.0, 27.0, 58.0, 59.0, 39.0, 28.0, 28.0, 23.0, 55.0, 33.0, 23.0, 45.0, 37.0, 21.0, 27.0, 39.0, 37.0, 22.0, 26.0, 27.0, 37.0, 58.0, 62.0, 25.0, 36.0, 37.11793090137039, 27.0, 37.0, 25.0, 40.0, 22.0, 29.0, 20.0, 33.0, 48.0, 47.0, 40.0, 29.0, 29.0, 44.0, 36.0, 48.0, 49.0, 38.0, 41.0, 37.11793090137039, 28.0, 33.0, 44.0, 65.0, 35.0, 25.0, 40.0, 36.0, 55.0, 19.0, 70.0, 37.0, 53.0, 84.0, 46.0, 29.0, 27.0, 32.0, 27.0, 38.0, 20.0, 45.0, 32.0, 48.0, 57.0, 34.0, 16.0, 47.0, 61.0, 32.0, 31.0, 46.0, 27.0, 31.0, 26.0, 31.0, 27.0, 49.0, 26.0, 28.0, 62.0, 50.0, 23.0, 40.0, 50.0, 50.0, 27.0, 35.0, 32.0, 56.0, 20.0, 56.0, 39.0, 47.0, 25.0, 21.0, 18.0, 36.0, 35.0, 29.0, 20.0, 30.0, 40.0, 48.0, 23.0, 42.0, 20.0, 25.0, 28.0, 34.0, 41.0, 24.0, 29.0, 33.0, 44.0, 31.0, 26.0, 51.0, 64.0, 29.0, 61.0, 44.0, 39.0, 35.0, 39.0, 60.0, 42.0, 27.0, 21.0, 33.0, 60.0, 24.0, 41.0, 41.0, 34.0, 23.0, 38.0, 58.0, 49.0, 27.0, 34.0, 34.0, 44.0, 30.0, 81.0, 40.0, 27.0, 26.0, 18.0, 59.0, 56.0, 22.0, 34.0, 23.0, 36.0, 48.0, 33.0, 24.0, 25.0, 20.0, 45.0, 29.0, 34.0, 23.0, 29.0, 44.0, 30.0, 28.0, 71.0, 25.0, 61.0, 39.0, 50.0, 37.11793090137039, 23.0, 39.0, 45.0, 34.0, 31.0, 55.0, 39.0, 32.0, 44.0, 24.0, 36.0, 41.0, 25.0, 39.0, 40.0, 32.0, 45.0, 31.0, 32.0, 48.0, 49.0, 48.0, 18.0, 48.0, 25.0, 27.0, 37.0, 44.0, 27.0, 41.0, 42.0, 36.0, 37.0, 56.0, 36.0, 46.0, 26.0, 41.0, 38.0, 42.0, 47.0, 26.0, 64.0, 49.0, 44.0, 48.0, 27.0, 67.0, 24.0, 26.0, 28.0, 21.0, 24.0, 21.0, 73.0, 39.0, 32.0, 38.0, 32.0, 26.0, 55.0, 50.0, 49.0, 48.0, 65.0, 37.0, 45.0, 33.0, 46.0, 33.0, 33.0, 51.0, 52.0, 24.0, 55.0, 28.0, 36.0, 24.0, 20.0, 54.0, 53.0, 36.0, 24.0, 34.0, 59.0, 34.0, 29.0, 24.0, 77.0, 30.0, 36.0, 36.0, 58.0, 47.0, 49.0, 31.0, 25.0, 37.11793090137039, 30.0, 33.0, 29.0, 31.0, 51.0, 42.0, 67.0, 23.0, 34.0, 51.0, 19.0, 29.0, 23.0, 46.0, 42.0, 21.0, 55.0, 37.11793090137039, 43.0, 32.0, 34.0, 40.0, 55.0, 20.0, 24.0, 43.0, 56.0, 47.0, 33.0, 20.0, 28.0, 50.0, 36.0, 47.0, 36.0, 49.0, 34.0, 41.0, 29.0, 34.0, 34.0, 22.0, 26.0, 32.0, 44.0, 21.0, 29.0, 18.0, 33.0, 28.0, 37.11793090137039, 40.0, 40.0, 37.0, 47.0, 33.0, 44.0, 65.0, 20.0, 17.0, 55.0, 33.0, 44.0, 37.0, 32.0, 31.0, 20.0, 30.0, 25.0, 47.0, 48.0, 32.0, 18.0, 29.0, 30.0, 39.0, 36.0, 36.0, 54.0, 27.0, 45.0, 19.0, 36.0, 33.0, 56.0, 33.0, 60.0, 26.0, 52.0, 40.0, 33.0, 41.0, 32.0, 34.0, 26.0, 62.0, 33.0, 55.0, 38.0, 43.0, 38.0, 27.0, 52.0, 37.0, 34.0, 41.0, 40.0, 53.0, 21.0, 34.0, 22.0, 25.0, 16.0, 37.0, 68.0, 25.0, 34.0, 23.0, 25.0, 57.0, 27.0, 51.0, 30.0, 33.0, 37.11793090137039, 19.0, 22.0, 37.0, 19.0, 33.0, 38.0, 45.0, 39.0, 21.0, 56.0, 27.0, 50.0, 16.0, 18.0, 38.0, 32.0, 33.0, 71.0, 30.0, 39.0, 19.0, 44.0, 54.0, 29.0, 37.11793090137039, 56.0, 64.0, 25.0, 18.0, 36.0, 24.0, 30.0, 53.0, 60.0, 32.0, 25.0, 44.0, 32.0, 33.0, 37.11793090137039, 35.0, 23.0, 27.0, 53.0, 35.0, 41.0, 18.0, 34.0, 49.0, 31.0, 29.0, 33.0, 38.0, 43.0, 29.0, 68.0, 62.0, 39.0, 59.0, 24.0, 70.0, 42.0, 26.0, 24.0, 48.0, 54.0, 48.0, 37.0, 40.0, 28.0, 43.0, 35.0, 21.0, 40.0, 32.0, 48.0, 31.0, 37.11793090137039, 58.0, 30.0, 21.0, 15.0, 30.0, 28.0, 21.0, 33.0, 37.11793090137039, 36.0, 38.0, 34.0, 23.0, 44.0, 20.0, 41.0, 18.0, 29.0, 37.0, 41.0, 25.0, 20.0, 34.0, 37.0, 18.0, 72.0, 17.0, 45.0, 49.0, 64.0, 36.0, 61.0, 24.0, 70.0, 40.0, 21.0, 27.0, 23.0, 33.0, 45.0, 19.0, 28.0, 63.0, 37.11793090137039, 39.0, 57.0, 32.0, 38.0, 46.0, 31.0, 40.0, 31.0, 50.0, 29.0, 25.0, 31.0, 23.0, 54.0, 44.0, 43.0, 37.0, 55.0, 40.0, 26.0, 29.0, 29.0, 42.0, 20.0, 34.0, 41.0, 29.0, 19.0, 32.0, 23.0, 41.0, 37.0, 24.0, 54.0, 58.0, 40.0, 27.0, 40.0, 23.0, 33.0, 26.0, 36.0, 38.0, 25.0, 31.0, 48.0, 43.0, 36.0, 39.0, 22.0, 24.0, 36.0, 25.0, 30.0, 76.0, 39.0, 49.0, 21.0, 31.0, 22.0, 27.0, 26.0, 84.0, 17.0, 17.0, 22.0, 41.0, 58.0, 29.0, 19.0, 18.0, 61.0, 18.0, 23.0, 38.0, 19.0, 63.0, 21.0, 25.0, 35.0, 50.0, 34.0, 37.11793090137039, 26.0, 61.0, 18.0, 37.0, 27.0, 24.0, 37.0, 28.0, 44.0, 30.0, 30.0, 34.0, 27.0, 28.0, 42.0, 32.0, 24.0, 17.0, 26.0, 35.0, 25.0, 33.0, 25.0, 29.0, 18.0, 19.0, 39.0, 61.0, 36.0, 72.0, 48.0, 34.0, 36.0, 33.0, 30.0, 61.0, 41.0, 52.0, 26.0, 37.11793090137039, 39.0, 36.0, 47.0, 37.11793090137039, 25.0, 63.0, 24.0, 38.0, 22.0, 59.0, 29.0, 18.0, 29.0, 25.0, 48.0, 60.0, 27.0, 65.0, 41.0, 33.0, 33.0, 22.0, 52.0, 42.0, 48.0, 24.0, 21.0, 20.0, 59.0, 46.0, 23.0, 32.0, 19.0, 64.0, 35.0, 41.0, 42.0, 35.0, 33.0, 32.0, 37.0, 37.0, 65.0, 30.0, 43.0, 18.0, 27.0, 41.0, 41.0, 33.0, 53.0, 42.0, 46.0, 51.0, 16.0, 41.0, 24.0, 23.0, 50.0, 41.0, 23.0, 33.0, 25.0, 30.0, 58.0, 47.0, 22.0, 27.0, 29.0, 43.0, 18.0, 19.0, 37.0, 42.0, 35.0, 50.0, 60.0, 35.0, 47.0, 37.11793090137039, 31.0, 24.0, 27.0, 27.0, 23.0, 57.0, 56.0, 36.0, 37.11793090137039, 37.11793090137039, 24.0, 34.0, 17.0, 21.0, 35.0, 34.0, 56.0, 35.0, 46.0, 42.0, 49.0, 44.0, 45.0, 36.0, 45.0, 34.0, 26.0, 28.0, 35.0, 20.0, 33.0, 39.0, 63.0, 27.0, 33.0, 27.0, 31.0, 33.0, 39.0, 27.0, 32.0, 29.0, 28.0, 50.0, 55.0, 42.0, 36.0, 38.0, 38.0, 35.0, 42.0, 70.0, 29.0, 26.0, 20.0, 30.0, 19.0, 48.0, 58.0, 38.0, 28.0, 34.0, 45.0, 18.0, 25.0, 38.0, 33.0, 39.0, 58.0, 48.0, 14.0, 18.0, 22.0, 46.0, 37.11793090137039, 37.11793090137039, 57.0, 32.0, 31.0, 64.0, 35.0, 42.0, 30.0, 26.0, 37.0, 21.0, 20.0, 46.0, 37.11793090137039, 20.0, 46.0, 24.0, 26.0, 60.0, 25.0, 29.0, 58.0, 59.0, 46.0, 55.0, 27.0, 30.0, 45.0, 51.0, 27.0, 47.0, 52.0, 45.0, 47.0, 68.0, 40.0, 18.0, 35.0, 80.0, 44.0, 31.0, 20.0, 43.0, 25.0, 38.0, 34.0, 58.0, 38.0, 29.0, 40.0, 49.0, 25.0, 21.0, 57.0, 28.0, 25.0, 58.0, 34.0, 34.0, 24.0, 32.0, 58.0, 20.0, 19.0, 46.0, 28.0, 47.0, 47.0, 34.0, 37.11793090137039, 45.0, 17.0, 34.0, 48.0, 32.0, 20.0, 31.0, 16.0, 24.0, 39.0, 26.0, 30.0, 36.0, 28.0, 21.0, 36.0, 28.0, 24.0, 29.0, 44.0, 41.0, 38.0, 40.0, 20.0, 27.0, 51.0, 48.0, 40.0, 29.0, 34.0, 20.0, 47.0, 29.0, 33.0, 46.0, 35.0, 36.0, 63.0, 27.0, 17.0, 22.0, 21.0, 31.0, 56.0, 32.0, 25.0, 47.0, 37.11793090137039, 23.0, 34.0, 51.0, 35.0, 46.0, 59.0, 30.0, 34.0, 44.0, 31.0, 51.0, 34.0, 45.0, 32.0, 31.0, 41.0, 29.0, 47.0, 30.0, 27.0, 38.0, 33.0, 25.0, 47.0, 49.0, 33.0, 36.0, 22.0, 29.0, 52.0, 61.0, 29.0, 37.0, 26.0, 19.0, 45.0, 22.0, 57.0, 46.0, 27.0, 26.0, 30.0, 18.0, 25.0, 51.0, 40.0, 47.0, 38.0, 39.0, 30.0, 42.0, 25.0, 22.0, 30.0, 33.0, 24.0, 31.0, 25.0, 28.0, 19.0, 31.0, 48.0, 53.0, 50.0, 55.0, 37.11793090137039, 37.0, 30.0, 36.0, 24.0, 35.0, 42.0, 37.0, 28.0, 32.0, 33.0, 27.0, 21.0, 47.0, 57.0, 34.0, 34.0, 30.0, 29.0, 28.0, 39.0, 54.0, 27.0, 32.0, 32.0, 47.0, 33.0, 42.0, 37.11793090137039, 24.0, 42.0, 34.0, 46.0, 40.0, 30.0, 42.0, 30.0, 63.0, 18.0, 29.0, 42.0, 32.0, 50.0, 29.0, 29.0, 51.0, 23.0, 47.0, 45.0, 42.0, 26.0, 29.0, 49.0, 17.0, 37.11793090137039, 45.0, 51.0, 37.0, 28.0, 52.0, 37.0, 37.0, 25.0, 35.0, 35.0, 61.0, 33.0, 34.0, 59.0, 32.0, 49.0, 31.0, 29.0, 25.0, 26.0, 37.11793090137039, 39.0, 26.0, 36.0, 45.0, 45.0, 54.0, 43.0, 37.11793090137039, 30.0, 37.11793090137039, 58.0, 39.0, 40.0, 36.0, 27.0, 20.0, 17.0, 59.0, 47.0, 45.0, 34.0, 46.0, 26.0, 21.0, 29.0, 33.0, 47.0, 22.0, 41.0, 28.0, 56.0, 41.0, 35.0, 59.0, 30.0, 49.0, 41.0, 21.0, 62.0, 32.0, 22.0, 58.0, 32.0, 26.0, 35.0, 27.0, 35.0, 23.0, 59.0, 23.0, 43.0, 41.0, 56.0, 45.0, 28.0, 37.11793090137039, 54.0, 39.0, 37.11793090137039, 41.0, 27.0, 70.0, 37.11793090137039, 35.0, 26.0, 58.0, 46.0, 39.0, 33.0, 20.0, 38.0, 41.0, 32.0, 37.11793090137039, 24.0, 19.0, 27.0, 40.0, 61.0, 20.0, 35.0, 17.0, 22.0, 45.0, 20.0, 18.0, 28.0, 38.0, 53.0, 31.0, 48.0, 20.0, 35.0, 22.0, 18.0, 74.0, 33.0, 38.0, 26.0, 41.0, 29.0, 19.0, 61.0, 34.0, 35.0, 43.0, 50.0, 32.0, 50.0, 54.0, 35.0, 33.0, 18.0, 50.0, 41.0, 37.0, 76.0, 19.0, 40.0, 61.0, 61.0, 22.0, 52.0, 23.0, 67.0, 44.0, 23.0, 39.0, 53.0, 39.0, 26.0, 38.0, 49.0, 34.0, 47.0, 34.0, 58.0, 17.0, 21.0, 37.0, 43.0, 61.0, 28.0, 41.0, 23.0, 36.0, 23.0, 26.0, 32.0, 62.0, 33.0, 32.0, 69.0, 35.0, 46.0, 46.0, 22.0, 20.0, 30.0, 49.0, 43.0, 52.0, 56.0, 36.0, 40.0, 52.0, 35.0, 35.0, 53.0, 23.0, 19.0, 41.0, 39.0, 28.0, 28.0, 37.11793090137039, 53.0, 27.0, 31.0, 38.0, 38.0, 41.0, 49.0, 56.0, 62.0, 31.0, 37.0, 37.11793090137039, 28.0, 46.0, 21.0, 30.0, 36.0, 48.0, 34.0, 45.0, 19.0, 32.0, 32.0, 24.0, 65.0, 29.0, 49.0, 19.0, 56.0, 39.0, 43.0, 57.0, 49.0, 18.0, 27.0, 52.0, 37.0, 45.0, 49.0, 38.0, 31.0, 51.0, 37.11793090137039, 51.0, 20.0, 26.0, 25.0, 37.11793090137039, 62.0, 27.0, 33.0, 39.0, 18.0, 27.0, 50.0, 57.0, 29.0, 39.0, 31.0, 34.0, 52.0, 33.0, 37.0, 52.0, 62.0, 30.0, 28.0, 51.0, 23.0, 36.0, 37.0, 49.0, 49.0, 35.0, 17.0, 30.0, 34.0, 46.0, 29.0, 28.0, 43.0, 42.0, 30.0, 24.0, 27.0, 41.0, 47.0, 26.0, 20.0, 18.0, 37.11793090137039, 29.0, 35.0, 77.0, 31.0, 54.0, 33.0, 76.0, 28.0, 31.0, 53.0, 33.0, 37.0, 57.0, 36.0, 39.0, 43.0, 44.0, 33.0, 49.0, 18.0, 21.0, 57.0, 29.0, 58.0, 74.0, 63.0, 28.0, 67.0, 64.0, 32.0, 49.0, 28.0, 31.0, 20.0, 27.0, 38.0, 37.0, 36.0, 35.0, 50.0, 75.0, 32.0, 34.0, 24.0, 37.0, 33.0, 37.0, 55.0, 31.0, 54.0, 37.0, 48.0, 28.0, 31.0, 48.0, 58.0, 19.0, 28.0, 21.0, 57.0, 17.0, 22.0, 26.0, 31.0, 61.0, 54.0, 28.0, 30.0, 30.0, 28.0, 26.0, 28.0, 21.0, 31.0, 27.0, 34.0, 22.0, 29.0, 38.0, 51.0, 34.0, 30.0, 33.0, 21.0, 39.0, 37.0, 34.0, 47.0, 29.0, 29.0, 44.0, 53.0, 45.0, 19.0, 40.0, 33.0, 45.0, 40.0, 27.0, 63.0, 50.0, 25.0, 39.0, 42.0, 25.0, 24.0, 37.11793090137039, 37.11793090137039, 62.0, 34.0, 33.0, 56.0, 22.0, 46.0, 41.0, 38.0, 22.0, 42.0, 29.0, 56.0, 32.0, 31.0, 21.0, 31.0, 48.0, 58.0, 32.0, 45.0, 37.0, 20.0, 34.0, 31.0, 26.0, 32.0, 66.0, 37.0, 38.0, 44.0, 28.0, 22.0, 59.0, 20.0, 39.0, 30.0, 27.0, 37.11793090137039, 37.0, 52.0, 35.0, 33.0, 27.0, 27.0, 41.0, 28.0, 26.0, 37.11793090137039, 34.0, 34.0, 38.0, 32.0, 50.0, 55.0, 51.0, 18.0, 42.0, 36.0, 37.0, 28.0, 24.0, 34.0, 22.0, 42.0, 48.0, 51.0, 40.0, 34.0, 30.0, 31.0, 54.0, 60.0, 40.0, 37.11793090137039, 40.0, 68.0, 68.0, 60.0, 16.0, 25.0, 20.0, 21.0, 38.0, 28.0, 18.0, 37.11793090137039, 26.0, 31.0, 58.0, 31.0, 41.0, 41.0, 41.0, 23.0, 17.0, 35.0, 65.0, 51.0, 47.0, 42.0, 42.0, 31.0, 23.0, 50.0, 47.0, 66.0, 55.0, 68.0, 31.0, 24.0, 30.0, 34.0, 23.0, 43.0, 22.0, 22.0, 42.0, 65.0, 18.0, 23.0, 52.0, 40.0, 27.0, 34.0, 25.0, 28.0, 37.11793090137039, 27.0, 41.0, 27.0, 38.0, 29.0, 47.0, 28.0, 38.0, 21.0, 44.0, 61.0, 25.0, 40.0, 26.0, 57.0, 57.0, 24.0, 46.0, 38.0, 24.0, 34.0, 65.0, 60.0, 59.0, 23.0, 35.0, 35.0, 16.0, 37.11793090137039, 42.0, 43.0, 52.0, 31.0, 27.0, 31.0, 34.0, 29.0, 34.0, 37.11793090137039, 18.0, 51.0, 25.0, 28.0, 37.0, 37.11793090137039, 23.0, 57.0, 49.0, 24.0, 20.0, 25.0, 26.0, 26.0, 41.0, 31.0, 30.0, 25.0, 57.0, 17.0, 27.0, 30.0, 18.0, 50.0, 21.0, 28.0, 28.0, 33.0, 59.0, 34.0, 37.0, 30.0, 47.0, 34.0, 24.0, 25.0, 37.11793090137039, 47.0, 49.0, 31.0, 47.0, 52.0, 29.0, 45.0, 51.0, 55.0, 35.0, 50.0, 31.0, 47.0, 35.0, 66.0, 19.0, 19.0, 43.0, 57.0, 31.0, 41.0, 39.0, 24.0, 20.0, 32.0, 31.0, 22.0, 60.0, 40.0, 37.0, 34.0, 22.0, 30.0, 26.0, 29.0, 32.0, 32.0, 27.0, 31.0, 35.0, 19.0, 34.0, 32.0, 43.0, 22.0, 43.0, 27.0, 39.0, 37.0, 20.0, 34.0, 32.0, 15.0, 52.0, 53.0, 24.0, 41.0, 17.0, 44.0, 56.0, 23.0, 32.0, 26.0, 41.0, 56.0, 33.0, 37.0, 41.0, 38.0, 67.0, 45.0, 48.0, 31.0, 47.0, 40.0, 40.0, 34.0, 51.0, 33.0, 25.0, 41.0, 19.0, 21.0, 58.0, 63.0, 37.11793090137039, 58.0, 16.0, 31.0, 33.0, 40.0, 34.0, 29.0, 27.0, 23.0, 38.0, 17.0, 75.0, 40.0, 36.0, 27.0, 28.0, 20.0, 38.0, 16.0, 30.0, 30.0, 30.0, 36.0, 33.0, 39.0, 22.0, 49.0, 45.0, 45.0, 30.0, 30.0, 31.0, 73.0, 39.0, 37.0, 37.11793090137039, 31.0, 25.0, 24.0, 27.0, 37.11793090137039, 32.0, 43.0, 84.0, 29.0, 31.0, 57.0, 37.0, 29.0, 47.0, 44.0, 38.0, 32.0, 26.0, 21.0, 47.0, 30.0, 62.0, 41.0, 50.0, 37.11793090137039, 31.0, 30.0, 32.0, 20.0, 38.0, 25.0, 47.0, 19.0, 35.0, 58.0, 18.0, 42.0, 39.0, 61.0, 51.0, 28.0, 33.0, 47.0, 39.0, 31.0, 18.0, 23.0, 46.0, 50.0, 34.0, 32.0, 45.0, 31.0, 19.0, 53.0, 55.0, 32.0, 46.0, 26.0, 46.0, 22.0, 38.0, 44.0, 37.0, 52.0, 29.0, 19.0, 66.0, 40.0, 30.0, 69.0, 27.0, 62.0, 37.11793090137039, 39.0, 67.0, 54.0, 29.0, 33.0, 31.0, 38.0, 28.0, 45.0, 59.0, 17.0, 19.0, 36.0, 39.0, 37.11793090137039, 33.0, 31.0, 29.0, 51.0, 35.0, 36.0, 31.0, 39.0, 58.0, 39.0, 24.0, 48.0, 31.0, 37.11793090137039, 43.0, 33.0, 24.0, 40.0, 28.0, 24.0, 27.0, 40.0, 35.0, 42.0, 42.0, 24.0, 59.0, 61.0, 26.0, 32.0, 50.0, 38.0, 29.0, 27.0, 43.0, 21.0, 36.0, 24.0, 32.0, 26.0, 54.0, 44.0, 69.0, 45.0, 26.0, 43.0, 38.0, 21.0, 23.0, 56.0, 33.0, 40.0, 21.0, 20.0, 21.0, 47.0, 38.0, 31.0, 51.0, 19.0, 21.0, 48.0, 42.0, 30.0, 47.0, 57.0, 27.0, 50.0, 37.0, 24.0, 24.0, 30.0, 49.0, 47.0, 31.0, 33.0, 29.0, 42.0, 38.0, 25.0, 39.0, 64.0, 28.0, 32.0, 69.0, 29.0, 45.0, 40.0, 60.0, 22.0, 28.0, 38.0, 28.0, 37.0, 22.0, 42.0, 18.0, 38.0, 58.0, 50.0, 31.0, 35.0, 53.0, 31.0, 35.0, 22.0, 37.11793090137039, 32.0, 39.0, 44.0, 46.0, 49.0, 32.0, 53.0, 25.0, 36.0, 22.0, 33.0, 39.0, 44.0, 25.0, 36.0, 42.0, 24.0, 22.0, 35.0, 38.0, 28.0, 26.0, 62.0, 27.0, 23.0, 25.0, 22.0, 31.0], \"xaxis\": \"x\", \"yaxis\": \"y\"}],                        {\"barmode\": \"relative\", \"height\": 500, \"legend\": {\"tracegroupgap\": 0}, \"template\": {\"data\": {\"bar\": [{\"error_x\": {\"color\": \"#2a3f5f\"}, \"error_y\": {\"color\": \"#2a3f5f\"}, \"marker\": {\"line\": {\"color\": \"#E5ECF6\", \"width\": 0.5}}, \"type\": \"bar\"}], \"barpolar\": [{\"marker\": {\"line\": {\"color\": \"#E5ECF6\", \"width\": 0.5}}, \"type\": \"barpolar\"}], \"carpet\": [{\"aaxis\": {\"endlinecolor\": \"#2a3f5f\", \"gridcolor\": \"white\", \"linecolor\": \"white\", \"minorgridcolor\": \"white\", \"startlinecolor\": \"#2a3f5f\"}, \"baxis\": {\"endlinecolor\": \"#2a3f5f\", \"gridcolor\": \"white\", \"linecolor\": \"white\", \"minorgridcolor\": \"white\", \"startlinecolor\": \"#2a3f5f\"}, \"type\": \"carpet\"}], \"choropleth\": [{\"colorbar\": {\"outlinewidth\": 0, \"ticks\": \"\"}, \"type\": \"choropleth\"}], \"contour\": [{\"colorbar\": {\"outlinewidth\": 0, \"ticks\": \"\"}, \"colorscale\": [[0.0, \"#0d0887\"], [0.1111111111111111, \"#46039f\"], [0.2222222222222222, \"#7201a8\"], [0.3333333333333333, \"#9c179e\"], [0.4444444444444444, \"#bd3786\"], [0.5555555555555556, \"#d8576b\"], [0.6666666666666666, \"#ed7953\"], [0.7777777777777778, \"#fb9f3a\"], [0.8888888888888888, \"#fdca26\"], [1.0, \"#f0f921\"]], \"type\": \"contour\"}], \"contourcarpet\": [{\"colorbar\": {\"outlinewidth\": 0, \"ticks\": \"\"}, \"type\": \"contourcarpet\"}], \"heatmap\": [{\"colorbar\": {\"outlinewidth\": 0, \"ticks\": \"\"}, \"colorscale\": [[0.0, \"#0d0887\"], [0.1111111111111111, \"#46039f\"], [0.2222222222222222, \"#7201a8\"], [0.3333333333333333, \"#9c179e\"], [0.4444444444444444, \"#bd3786\"], [0.5555555555555556, \"#d8576b\"], [0.6666666666666666, \"#ed7953\"], [0.7777777777777778, \"#fb9f3a\"], [0.8888888888888888, \"#fdca26\"], [1.0, \"#f0f921\"]], \"type\": \"heatmap\"}], \"heatmapgl\": [{\"colorbar\": {\"outlinewidth\": 0, \"ticks\": \"\"}, \"colorscale\": [[0.0, \"#0d0887\"], [0.1111111111111111, \"#46039f\"], [0.2222222222222222, \"#7201a8\"], [0.3333333333333333, \"#9c179e\"], [0.4444444444444444, \"#bd3786\"], [0.5555555555555556, \"#d8576b\"], [0.6666666666666666, \"#ed7953\"], [0.7777777777777778, \"#fb9f3a\"], [0.8888888888888888, \"#fdca26\"], [1.0, \"#f0f921\"]], \"type\": \"heatmapgl\"}], \"histogram\": [{\"marker\": {\"colorbar\": {\"outlinewidth\": 0, \"ticks\": \"\"}}, \"type\": \"histogram\"}], \"histogram2d\": [{\"colorbar\": {\"outlinewidth\": 0, \"ticks\": \"\"}, \"colorscale\": [[0.0, \"#0d0887\"], [0.1111111111111111, \"#46039f\"], [0.2222222222222222, \"#7201a8\"], [0.3333333333333333, \"#9c179e\"], [0.4444444444444444, \"#bd3786\"], [0.5555555555555556, \"#d8576b\"], [0.6666666666666666, \"#ed7953\"], [0.7777777777777778, \"#fb9f3a\"], [0.8888888888888888, \"#fdca26\"], [1.0, \"#f0f921\"]], \"type\": \"histogram2d\"}], \"histogram2dcontour\": [{\"colorbar\": {\"outlinewidth\": 0, \"ticks\": \"\"}, \"colorscale\": [[0.0, \"#0d0887\"], [0.1111111111111111, \"#46039f\"], [0.2222222222222222, \"#7201a8\"], [0.3333333333333333, \"#9c179e\"], [0.4444444444444444, \"#bd3786\"], [0.5555555555555556, \"#d8576b\"], [0.6666666666666666, \"#ed7953\"], [0.7777777777777778, \"#fb9f3a\"], [0.8888888888888888, \"#fdca26\"], [1.0, \"#f0f921\"]], \"type\": \"histogram2dcontour\"}], \"mesh3d\": [{\"colorbar\": {\"outlinewidth\": 0, \"ticks\": \"\"}, \"type\": \"mesh3d\"}], \"parcoords\": [{\"line\": {\"colorbar\": {\"outlinewidth\": 0, \"ticks\": \"\"}}, \"type\": \"parcoords\"}], \"pie\": [{\"automargin\": true, \"type\": \"pie\"}], \"scatter\": [{\"marker\": {\"colorbar\": {\"outlinewidth\": 0, \"ticks\": \"\"}}, \"type\": \"scatter\"}], \"scatter3d\": [{\"line\": {\"colorbar\": {\"outlinewidth\": 0, \"ticks\": \"\"}}, \"marker\": {\"colorbar\": {\"outlinewidth\": 0, \"ticks\": \"\"}}, \"type\": \"scatter3d\"}], \"scattercarpet\": [{\"marker\": {\"colorbar\": {\"outlinewidth\": 0, \"ticks\": \"\"}}, \"type\": \"scattercarpet\"}], \"scattergeo\": [{\"marker\": {\"colorbar\": {\"outlinewidth\": 0, \"ticks\": \"\"}}, \"type\": \"scattergeo\"}], \"scattergl\": [{\"marker\": {\"colorbar\": {\"outlinewidth\": 0, \"ticks\": \"\"}}, \"type\": \"scattergl\"}], \"scattermapbox\": [{\"marker\": {\"colorbar\": {\"outlinewidth\": 0, \"ticks\": \"\"}}, \"type\": \"scattermapbox\"}], \"scatterpolar\": [{\"marker\": {\"colorbar\": {\"outlinewidth\": 0, \"ticks\": \"\"}}, \"type\": \"scatterpolar\"}], \"scatterpolargl\": [{\"marker\": {\"colorbar\": {\"outlinewidth\": 0, \"ticks\": \"\"}}, \"type\": \"scatterpolargl\"}], \"scatterternary\": [{\"marker\": {\"colorbar\": {\"outlinewidth\": 0, \"ticks\": \"\"}}, \"type\": \"scatterternary\"}], \"surface\": [{\"colorbar\": {\"outlinewidth\": 0, \"ticks\": \"\"}, \"colorscale\": [[0.0, \"#0d0887\"], [0.1111111111111111, \"#46039f\"], [0.2222222222222222, \"#7201a8\"], [0.3333333333333333, \"#9c179e\"], [0.4444444444444444, \"#bd3786\"], [0.5555555555555556, \"#d8576b\"], [0.6666666666666666, \"#ed7953\"], [0.7777777777777778, \"#fb9f3a\"], [0.8888888888888888, \"#fdca26\"], [1.0, \"#f0f921\"]], \"type\": \"surface\"}], \"table\": [{\"cells\": {\"fill\": {\"color\": \"#EBF0F8\"}, \"line\": {\"color\": \"white\"}}, \"header\": {\"fill\": {\"color\": \"#C8D4E3\"}, \"line\": {\"color\": \"white\"}}, \"type\": \"table\"}]}, \"layout\": {\"annotationdefaults\": {\"arrowcolor\": \"#2a3f5f\", \"arrowhead\": 0, \"arrowwidth\": 1}, \"coloraxis\": {\"colorbar\": {\"outlinewidth\": 0, \"ticks\": \"\"}}, \"colorscale\": {\"diverging\": [[0, \"#8e0152\"], [0.1, \"#c51b7d\"], [0.2, \"#de77ae\"], [0.3, \"#f1b6da\"], [0.4, \"#fde0ef\"], [0.5, \"#f7f7f7\"], [0.6, \"#e6f5d0\"], [0.7, \"#b8e186\"], [0.8, \"#7fbc41\"], [0.9, \"#4d9221\"], [1, \"#276419\"]], \"sequential\": [[0.0, \"#0d0887\"], [0.1111111111111111, \"#46039f\"], [0.2222222222222222, \"#7201a8\"], [0.3333333333333333, \"#9c179e\"], [0.4444444444444444, \"#bd3786\"], [0.5555555555555556, \"#d8576b\"], [0.6666666666666666, \"#ed7953\"], [0.7777777777777778, \"#fb9f3a\"], [0.8888888888888888, \"#fdca26\"], [1.0, \"#f0f921\"]], \"sequentialminus\": [[0.0, \"#0d0887\"], [0.1111111111111111, \"#46039f\"], [0.2222222222222222, \"#7201a8\"], [0.3333333333333333, \"#9c179e\"], [0.4444444444444444, \"#bd3786\"], [0.5555555555555556, \"#d8576b\"], [0.6666666666666666, \"#ed7953\"], [0.7777777777777778, \"#fb9f3a\"], [0.8888888888888888, \"#fdca26\"], [1.0, \"#f0f921\"]]}, \"colorway\": [\"#636efa\", \"#EF553B\", \"#00cc96\", \"#ab63fa\", \"#FFA15A\", \"#19d3f3\", \"#FF6692\", \"#B6E880\", \"#FF97FF\", \"#FECB52\"], \"font\": {\"color\": \"#2a3f5f\"}, \"geo\": {\"bgcolor\": \"white\", \"lakecolor\": \"white\", \"landcolor\": \"#E5ECF6\", \"showlakes\": true, \"showland\": true, \"subunitcolor\": \"white\"}, \"hoverlabel\": {\"align\": \"left\"}, \"hovermode\": \"closest\", \"mapbox\": {\"style\": \"light\"}, \"paper_bgcolor\": \"white\", \"plot_bgcolor\": \"#E5ECF6\", \"polar\": {\"angularaxis\": {\"gridcolor\": \"white\", \"linecolor\": \"white\", \"ticks\": \"\"}, \"bgcolor\": \"#E5ECF6\", \"radialaxis\": {\"gridcolor\": \"white\", \"linecolor\": \"white\", \"ticks\": \"\"}}, \"scene\": {\"xaxis\": {\"backgroundcolor\": \"#E5ECF6\", \"gridcolor\": \"white\", \"gridwidth\": 2, \"linecolor\": \"white\", \"showbackground\": true, \"ticks\": \"\", \"zerolinecolor\": \"white\"}, \"yaxis\": {\"backgroundcolor\": \"#E5ECF6\", \"gridcolor\": \"white\", \"gridwidth\": 2, \"linecolor\": \"white\", \"showbackground\": true, \"ticks\": \"\", \"zerolinecolor\": \"white\"}, \"zaxis\": {\"backgroundcolor\": \"#E5ECF6\", \"gridcolor\": \"white\", \"gridwidth\": 2, \"linecolor\": \"white\", \"showbackground\": true, \"ticks\": \"\", \"zerolinecolor\": \"white\"}}, \"shapedefaults\": {\"line\": {\"color\": \"#2a3f5f\"}}, \"ternary\": {\"aaxis\": {\"gridcolor\": \"white\", \"linecolor\": \"white\", \"ticks\": \"\"}, \"baxis\": {\"gridcolor\": \"white\", \"linecolor\": \"white\", \"ticks\": \"\"}, \"bgcolor\": \"#E5ECF6\", \"caxis\": {\"gridcolor\": \"white\", \"linecolor\": \"white\", \"ticks\": \"\"}}, \"title\": {\"x\": 0.05}, \"xaxis\": {\"automargin\": true, \"gridcolor\": \"white\", \"linecolor\": \"white\", \"ticks\": \"\", \"title\": {\"standoff\": 15}, \"zerolinecolor\": \"white\", \"zerolinewidth\": 2}, \"yaxis\": {\"automargin\": true, \"gridcolor\": \"white\", \"linecolor\": \"white\", \"ticks\": \"\", \"title\": {\"standoff\": 15}, \"zerolinecolor\": \"white\", \"zerolinewidth\": 2}}}, \"title\": {\"text\": \"Dystrybucja wzgl\\u0119dem wieku\"}, \"width\": 800, \"xaxis\": {\"anchor\": \"y\", \"domain\": [0.0, 1.0], \"title\": {\"text\": \"age\"}}, \"yaxis\": {\"anchor\": \"x\", \"domain\": [0.0, 1.0], \"title\": {\"text\": \"count\"}}},                        {\"responsive\": true}                    ).then(function(){\n",
       "                            \n",
       "var gd = document.getElementById('02d3c910-63b6-49e4-a33d-9664d23c233f');\n",
       "var x = new MutationObserver(function (mutations, observer) {{\n",
       "        var display = window.getComputedStyle(gd).display;\n",
       "        if (!display || display === 'none') {{\n",
       "            console.log([gd, 'removed!']);\n",
       "            Plotly.purge(gd);\n",
       "            observer.disconnect();\n",
       "        }}\n",
       "}});\n",
       "\n",
       "// Listen for the removal of the full notebook cells\n",
       "var notebookContainer = gd.closest('#notebook-container');\n",
       "if (notebookContainer) {{\n",
       "    x.observe(notebookContainer, {childList: true});\n",
       "}}\n",
       "\n",
       "// Listen for the clearing of the current output cell\n",
       "var outputEl = gd.closest('.output');\n",
       "if (outputEl) {{\n",
       "    x.observe(outputEl, {childList: true});\n",
       "}}\n",
       "\n",
       "                        })                };                });            </script>        </div>"
      ]
     },
     "metadata": {},
     "output_type": "display_data"
    }
   ],
   "source": [
    "fig = px.histogram(\n",
    "    df, \n",
    "    \"age\", \n",
    "    nbins=80, \n",
    "    title ='Dystrybucja względem wieku', \n",
    "    width=800,\n",
    "    height=500\n",
    ")\n",
    "\n",
    "fig.show()"
   ]
  },
  {
   "cell_type": "code",
   "execution_count": 29,
   "metadata": {},
   "outputs": [],
   "source": []
  },
  {
   "cell_type": "code",
   "execution_count": 18,
   "metadata": {},
   "outputs": [
    {
     "data": {
      "application/vnd.plotly.v1+json": {
       "config": {
        "plotlyServerURL": "https://plot.ly"
       },
       "data": [
        {
         "type": "violin",
         "x0": "Age",
         "y": [
          53,
          47,
          23,
          32,
          39,
          18,
          22,
          35,
          34,
          47,
          25,
          31,
          41,
          30,
          37,
          28,
          42,
          36,
          49,
          71,
          33,
          39,
          23,
          29,
          34,
          43,
          24,
          29,
          34,
          75,
          68,
          34,
          27,
          39,
          24,
          36,
          33,
          41,
          48,
          21,
          24,
          27,
          32,
          67,
          49,
          42,
          36,
          36,
          19,
          54,
          25,
          17,
          29,
          56,
          61,
          45,
          26,
          40,
          26,
          17,
          68,
          24,
          34,
          39,
          26,
          29,
          33,
          45,
          26,
          35,
          31,
          42,
          48,
          31,
          54,
          59,
          42,
          17,
          23,
          38,
          29,
          45,
          28,
          37,
          28,
          28,
          51,
          36,
          59,
          25,
          26,
          74,
          33,
          27,
          57,
          46,
          41,
          61,
          45,
          49,
          45,
          35,
          23,
          46,
          23,
          21,
          35,
          27,
          37,
          16,
          51,
          34,
          34,
          25,
          56,
          26,
          24,
          43,
          31,
          32,
          30,
          50,
          20,
          31,
          38,
          77,
          37.11793090137039,
          41,
          51,
          50,
          47,
          37,
          41,
          16,
          42,
          39,
          30,
          27,
          43,
          42,
          21,
          49,
          34,
          31,
          27,
          24,
          34,
          28,
          28,
          40,
          37,
          17,
          35,
          49,
          43,
          20,
          25,
          25,
          26,
          28,
          45,
          36,
          34,
          19,
          37,
          48,
          29,
          43,
          40,
          35,
          27,
          58,
          46,
          30,
          64,
          31,
          23,
          37,
          37,
          31,
          39,
          31,
          54,
          53,
          25,
          35,
          41,
          59,
          36,
          32,
          53,
          26,
          29,
          27,
          28,
          52,
          49,
          24,
          24,
          20,
          22,
          49,
          64,
          47,
          39,
          18,
          31,
          16,
          20,
          36,
          63,
          34,
          24,
          21,
          44,
          60,
          42,
          37,
          36,
          21,
          24,
          29,
          57,
          38,
          23,
          27,
          28,
          63,
          53,
          35,
          26,
          42,
          41,
          56,
          39,
          23,
          40,
          29,
          26,
          49,
          36,
          21,
          27,
          37,
          36,
          32,
          44,
          27,
          63,
          38,
          17,
          31,
          34,
          50,
          51,
          56,
          23,
          25,
          31,
          32,
          60,
          42,
          39,
          28,
          22,
          29,
          31,
          28,
          21,
          38,
          66,
          36,
          83,
          32,
          27,
          26,
          31,
          22,
          41,
          41,
          51,
          72,
          52,
          47,
          18,
          29,
          23,
          43,
          45,
          40,
          44,
          25,
          37,
          59,
          35,
          35,
          18,
          51,
          30,
          31,
          39,
          26,
          51,
          19,
          46,
          49,
          63,
          20,
          25,
          24,
          58,
          29,
          76,
          45,
          20,
          58,
          21,
          27,
          26,
          33,
          27,
          25,
          53,
          53,
          42,
          22,
          52,
          36,
          30,
          34,
          44,
          53,
          36,
          29,
          32,
          46,
          18,
          38,
          21,
          35,
          58,
          48,
          31,
          47,
          34,
          30,
          28,
          28,
          40,
          46,
          37,
          53,
          41,
          42,
          45,
          34,
          18,
          27,
          54,
          35,
          17,
          29,
          38,
          26,
          52,
          39,
          22,
          29,
          43,
          24,
          32,
          40,
          47,
          40,
          25,
          31,
          36,
          51,
          24,
          62,
          39,
          24,
          57,
          20,
          33,
          60,
          32,
          40,
          18,
          36,
          35,
          55,
          19,
          39,
          47,
          23,
          26,
          26,
          18,
          33,
          56,
          46,
          36,
          50,
          45,
          53,
          45,
          42,
          27,
          30,
          36,
          58,
          30,
          69,
          30,
          45,
          22,
          28,
          19,
          40,
          46,
          28,
          22,
          17,
          46,
          35,
          35,
          28,
          15,
          22,
          28,
          31,
          40,
          48,
          58,
          44,
          21,
          50,
          23,
          24,
          49,
          60,
          35,
          29,
          20,
          34,
          22,
          49,
          32,
          26,
          41,
          61,
          49,
          28,
          35,
          29,
          51,
          52,
          24,
          32,
          45,
          60,
          23,
          46,
          33,
          40,
          27,
          42,
          37,
          23,
          36,
          19,
          35,
          43,
          25,
          20,
          42,
          29,
          42,
          31,
          18,
          33,
          59,
          47,
          39,
          37,
          35,
          28,
          59,
          62,
          50,
          68,
          27,
          17,
          21,
          38,
          54,
          20,
          25,
          31,
          35,
          60,
          24,
          27,
          36,
          20,
          24,
          23,
          41,
          20,
          43,
          29,
          35,
          30,
          24,
          23,
          29,
          25,
          27,
          50,
          19,
          24,
          23,
          22,
          46,
          65,
          43,
          35,
          47,
          24,
          35,
          25,
          27,
          26,
          34,
          32,
          47,
          44,
          31,
          44,
          30,
          60,
          50,
          36,
          59,
          33,
          19,
          56,
          45,
          22,
          34,
          53,
          48,
          25,
          30,
          47,
          33,
          34,
          29,
          63,
          49,
          18,
          71,
          35,
          55,
          31,
          18,
          51,
          39,
          20,
          29,
          40,
          42,
          22,
          19,
          24,
          30,
          53,
          25,
          28,
          24,
          59,
          46,
          15,
          41,
          22,
          24,
          34,
          48,
          24,
          27,
          27,
          27,
          49,
          30,
          38,
          26,
          30,
          53,
          23,
          34,
          30,
          43,
          29,
          47,
          35,
          40,
          18,
          24,
          29,
          44,
          17,
          19,
          50,
          57,
          30,
          38,
          31,
          29,
          26,
          64,
          39,
          57,
          36,
          36,
          21,
          53,
          30,
          34,
          53,
          45,
          22,
          22,
          46,
          27,
          30,
          54,
          29,
          42,
          41,
          28,
          61,
          23,
          25,
          37.11793090137039,
          29,
          20,
          40,
          45,
          33,
          76,
          47,
          45,
          40,
          37,
          27,
          36,
          23,
          49,
          21,
          32,
          35,
          28,
          59,
          28,
          45,
          45,
          19,
          25,
          37,
          33,
          59,
          31,
          29,
          32,
          41,
          31,
          44,
          23,
          45,
          39,
          67,
          29,
          25,
          28,
          21,
          32,
          51,
          39,
          27,
          31,
          50,
          37.11793090137039,
          32,
          47,
          46,
          57,
          23,
          56,
          24,
          27,
          23,
          26,
          34,
          21,
          32,
          33,
          55,
          48,
          35,
          19,
          45,
          28,
          42,
          17,
          30,
          21,
          45,
          33,
          46,
          23,
          37,
          43,
          40,
          59,
          31,
          46,
          37,
          28,
          28,
          55,
          29,
          26,
          27,
          31,
          51,
          50,
          27,
          18,
          46,
          19,
          49,
          31,
          38,
          40,
          35,
          34,
          44,
          23,
          43,
          37.11793090137039,
          31,
          27,
          46,
          18,
          57,
          15,
          25,
          50,
          31,
          35,
          27,
          20,
          27,
          33,
          27,
          22,
          28,
          31,
          28,
          53,
          30,
          39,
          40,
          30,
          21,
          35,
          21,
          47,
          38,
          36,
          53,
          34,
          34,
          30,
          28,
          47,
          49,
          36,
          45,
          21,
          18,
          25,
          29,
          57,
          34,
          35,
          37.11793090137039,
          18,
          62,
          29,
          25,
          30,
          24,
          52,
          33,
          56,
          49,
          20,
          62,
          62,
          6,
          30,
          57,
          18,
          47,
          48,
          20,
          30,
          36,
          51,
          55,
          48,
          20,
          25,
          26,
          45,
          35,
          34,
          36,
          22,
          63,
          31,
          25,
          57,
          32,
          42,
          52,
          25,
          25,
          31,
          39,
          16,
          24,
          32,
          25,
          28,
          28,
          21,
          30,
          58,
          47,
          41,
          25,
          44,
          34,
          27,
          34,
          29,
          39,
          24,
          47,
          45,
          28,
          50,
          49,
          45,
          24,
          32,
          23,
          52,
          37,
          26,
          58,
          50,
          22,
          53,
          69,
          23,
          29,
          25,
          18,
          31,
          23,
          18,
          35,
          27,
          28,
          26,
          32,
          36,
          66,
          21,
          47,
          24,
          60,
          61,
          38,
          51,
          35,
          46,
          48,
          36,
          33,
          66,
          34,
          55,
          54,
          36,
          25,
          24,
          28,
          36,
          20,
          49,
          51,
          21,
          30,
          32,
          33,
          56,
          48,
          39,
          19,
          45,
          33,
          52,
          51,
          37.11793090137039,
          25,
          24,
          22,
          32,
          58,
          24,
          26,
          30,
          31,
          34,
          48,
          37.11793090137039,
          21,
          39,
          25,
          30,
          56,
          29,
          19,
          35,
          36,
          24,
          23,
          31,
          41,
          55,
          19,
          38,
          36,
          34,
          52,
          28,
          50,
          37.11793090137039,
          55,
          23,
          30,
          54,
          37,
          37,
          30,
          27,
          22,
          29,
          39,
          33,
          52,
          28,
          54,
          38,
          32,
          34,
          26,
          50,
          37,
          45,
          56,
          45,
          32,
          12,
          49,
          58,
          29,
          60,
          40,
          39,
          26,
          24,
          34,
          27,
          44,
          25,
          55,
          19,
          52,
          31,
          26,
          24,
          38,
          33,
          28,
          27,
          39,
          29,
          36,
          55,
          28,
          40,
          33,
          37,
          39,
          43,
          38,
          55,
          52,
          32,
          31,
          27,
          40,
          31,
          30,
          26,
          32,
          33,
          19,
          33,
          29,
          41,
          29,
          38,
          64,
          42,
          46,
          42,
          37,
          25,
          36,
          21,
          30,
          53,
          31,
          22,
          24,
          36,
          47,
          54,
          43,
          38,
          30,
          51,
          55,
          16,
          23,
          36,
          33,
          17,
          22,
          22,
          29,
          41,
          67,
          36,
          52,
          56,
          35,
          45,
          30,
          29,
          53,
          32,
          22,
          24,
          19,
          29,
          50,
          29,
          26,
          39,
          52,
          51,
          48,
          30,
          37,
          30,
          35,
          32,
          25,
          35,
          31,
          30,
          23,
          41,
          45,
          46,
          36,
          31,
          32,
          38,
          33,
          45,
          38,
          22,
          48,
          36,
          26,
          39,
          16,
          58,
          27,
          26,
          21,
          37,
          56,
          19,
          38,
          18,
          35,
          23,
          41,
          44,
          24,
          39,
          22,
          37,
          36,
          41,
          27,
          30,
          34,
          22,
          51,
          42,
          41,
          49,
          45,
          45,
          42,
          41,
          27,
          37,
          22,
          21,
          50,
          23,
          25,
          51,
          46,
          23,
          43,
          37,
          20,
          45,
          16,
          30,
          26,
          24,
          38,
          28,
          29,
          34,
          38,
          43,
          23,
          33,
          40,
          38,
          53,
          29,
          30,
          60,
          25,
          24,
          21,
          23,
          61,
          54,
          62,
          16,
          25,
          28,
          76,
          25,
          33,
          51,
          34,
          30,
          44,
          24,
          29,
          48,
          19,
          22,
          39,
          36,
          55,
          46,
          34,
          27,
          33,
          18,
          33,
          51,
          50,
          46,
          33,
          25,
          52,
          18,
          43,
          34,
          31,
          65,
          37,
          30,
          36,
          25,
          69,
          48,
          50,
          52,
          44,
          60,
          40,
          20,
          45,
          44,
          40,
          25,
          43,
          27,
          19,
          39,
          30,
          28,
          22,
          16,
          40,
          38,
          20,
          35,
          52,
          26,
          54,
          38,
          52,
          26,
          53,
          35,
          22,
          31,
          32,
          37,
          28,
          18,
          41,
          15,
          38,
          41,
          52,
          48,
          29,
          51,
          21,
          24,
          18,
          30,
          33,
          60,
          28,
          26,
          24,
          44,
          34,
          21,
          36,
          37,
          53,
          24,
          45,
          48,
          42,
          33,
          55,
          28,
          25,
          28,
          52,
          59,
          52,
          39,
          40,
          36,
          38,
          26,
          37.11793090137039,
          29,
          37,
          29,
          21,
          33,
          23,
          26,
          29,
          33,
          28,
          35,
          33,
          24,
          37.11793090137039,
          28,
          19,
          43,
          59,
          34,
          35,
          23,
          36,
          46,
          44,
          20,
          30,
          29,
          35,
          36,
          22,
          31,
          63,
          38,
          31,
          27,
          35,
          22,
          28,
          26,
          22,
          31,
          43,
          24,
          29,
          43,
          21,
          19,
          25,
          59,
          50,
          58,
          25,
          32,
          53,
          38,
          70,
          33,
          36,
          21,
          51,
          43,
          18,
          33,
          34,
          31,
          35,
          31,
          31,
          23,
          25,
          25,
          21,
          49,
          63,
          43,
          34,
          38,
          52,
          68,
          29,
          32,
          50,
          31,
          27,
          31,
          29,
          23,
          61,
          33,
          18,
          80,
          43,
          50,
          47,
          54,
          22,
          43,
          38,
          36,
          30,
          59,
          21,
          34,
          17,
          37,
          25,
          23,
          20,
          19,
          50,
          24,
          25,
          20,
          37,
          44,
          22,
          31,
          25,
          37.11793090137039,
          36,
          50,
          42,
          42,
          26,
          19,
          59,
          36,
          51,
          27,
          22,
          30,
          28,
          63,
          32,
          26,
          25,
          27,
          61,
          30,
          37.11793090137039,
          37,
          41,
          25,
          24,
          44,
          63,
          58,
          30,
          35,
          50,
          40,
          37.11793090137039,
          19,
          34,
          18,
          21,
          29,
          49,
          24,
          37,
          32,
          65,
          37,
          33,
          63,
          30,
          40,
          38,
          50,
          41,
          41,
          39,
          44,
          23,
          32,
          56,
          33,
          63,
          31,
          57,
          26,
          39,
          42,
          29,
          43,
          56,
          31,
          50,
          36,
          50,
          49,
          31,
          34,
          36,
          29,
          32,
          18,
          50,
          36,
          17,
          19,
          24,
          24,
          20,
          33,
          41,
          47,
          18,
          31,
          27,
          36,
          40,
          59,
          32,
          38,
          18,
          23,
          43,
          67,
          32,
          22,
          31,
          43,
          34,
          51,
          31,
          54,
          69,
          58,
          26,
          59,
          25,
          20,
          57,
          56,
          64,
          34,
          69,
          45,
          14,
          44,
          59,
          33,
          54,
          22,
          49,
          23,
          38,
          53,
          36,
          29,
          42,
          36,
          32,
          53,
          30,
          25,
          18,
          55,
          27,
          37,
          29,
          40,
          36,
          38,
          29,
          59,
          47,
          22,
          31,
          29,
          54,
          71,
          36,
          34,
          49,
          36,
          43,
          53,
          31,
          32,
          41,
          26,
          82,
          37,
          24,
          35,
          56,
          22,
          59,
          36,
          21,
          38,
          60,
          18,
          23,
          37.11793090137039,
          38,
          22,
          38,
          25,
          25,
          36,
          37.11793090137039,
          44,
          36,
          35,
          25,
          31,
          70,
          25,
          55,
          35,
          25,
          32,
          38,
          32,
          64,
          55,
          69,
          37,
          31,
          25,
          25,
          13,
          32,
          69,
          34,
          29,
          29,
          40,
          42,
          25,
          45,
          55,
          22,
          61,
          46,
          30,
          56,
          35,
          22,
          23,
          43,
          43,
          49,
          23,
          41,
          33,
          30,
          25,
          52,
          32,
          46,
          48,
          38,
          26,
          32,
          28,
          53,
          38,
          18,
          32,
          37,
          18,
          20,
          28,
          18,
          16,
          36,
          57,
          49,
          31,
          26,
          51,
          28,
          35,
          57,
          36,
          42,
          37.11793090137039,
          49,
          21,
          53,
          62,
          41,
          40,
          27,
          19,
          26,
          44,
          30,
          31,
          33,
          22,
          38,
          46,
          23,
          24,
          26,
          26,
          32,
          50,
          17,
          39,
          28,
          66,
          42,
          34,
          38,
          28,
          29,
          23,
          58,
          21,
          45,
          38,
          40,
          19,
          46,
          25,
          25,
          37,
          25,
          36,
          32,
          33,
          24,
          37,
          38,
          45,
          31,
          34,
          23,
          39,
          55,
          31,
          76,
          59,
          40,
          23,
          26,
          35,
          49,
          36,
          56,
          34,
          43,
          31,
          17,
          32,
          33,
          43,
          31,
          23,
          26,
          45,
          19,
          36,
          41,
          53,
          24,
          37.11793090137039,
          37.11793090137039,
          40,
          29,
          22,
          21,
          25,
          37,
          37,
          56,
          25,
          26,
          35,
          25,
          29,
          21,
          15,
          24,
          18,
          19,
          27,
          45,
          36,
          34,
          23,
          43,
          19,
          37,
          23,
          26,
          20,
          59,
          33,
          48,
          50,
          18,
          23,
          41,
          41,
          55,
          29,
          31,
          25,
          38,
          37.11793090137039,
          83,
          22,
          33,
          36,
          26,
          29,
          55,
          47,
          52,
          49,
          37,
          37,
          36,
          31,
          30,
          37.11793090137039,
          35,
          35,
          36,
          39,
          30,
          44,
          24,
          53,
          73,
          31,
          28,
          18,
          32,
          60,
          48,
          33,
          44,
          20,
          37,
          72,
          52,
          46,
          25,
          38,
          27,
          24,
          19,
          31,
          18,
          53,
          48,
          29,
          30,
          61,
          71,
          41,
          36,
          28,
          21,
          46,
          32,
          33,
          42,
          17,
          35,
          23,
          21,
          44,
          53,
          63,
          18,
          51,
          64,
          45,
          20,
          41,
          23,
          32,
          25,
          42,
          41,
          31,
          50,
          38,
          44,
          38,
          21,
          32,
          23,
          41,
          41,
          38,
          54,
          20,
          26,
          29,
          47,
          28,
          48,
          34,
          37,
          33,
          36,
          43,
          32,
          29,
          39,
          40,
          21,
          50,
          19,
          28,
          16,
          49,
          44,
          25,
          39,
          44,
          50,
          57,
          57,
          33,
          21,
          52,
          27,
          60,
          25,
          34,
          22,
          26,
          27,
          29,
          30,
          32,
          18,
          37,
          54,
          50,
          28,
          59,
          24,
          34,
          25,
          25,
          17,
          48,
          45,
          18,
          50,
          36,
          45,
          42,
          37.11793090137039,
          23,
          31,
          26,
          57,
          18,
          27,
          41,
          33,
          22,
          38,
          26,
          45,
          68,
          56,
          23,
          45,
          41,
          33,
          22,
          50,
          52,
          35,
          18,
          34,
          51,
          18,
          29,
          34,
          25,
          17,
          26,
          33,
          25,
          31,
          25,
          18,
          45,
          25,
          23,
          55,
          37,
          33,
          27,
          32,
          31,
          26,
          32,
          53,
          19,
          53,
          35,
          64,
          24,
          33,
          55,
          17,
          48,
          21,
          22,
          30,
          34,
          35,
          32,
          22,
          46,
          27,
          18,
          33,
          26,
          27,
          26,
          51,
          63,
          38,
          25,
          39,
          41,
          26,
          30,
          33,
          38,
          24,
          47,
          62,
          30,
          33,
          23,
          39,
          41,
          46,
          36,
          66,
          27,
          40,
          25,
          20,
          43,
          40,
          33,
          34,
          27,
          25,
          37,
          32,
          25,
          38,
          50,
          26,
          70,
          38,
          41,
          91,
          25,
          29,
          24,
          40,
          51,
          30,
          28,
          33,
          23,
          23,
          20,
          56,
          36,
          18,
          43,
          16,
          29,
          25,
          34,
          32,
          58,
          36,
          32,
          25,
          59,
          25,
          25,
          42,
          36,
          59,
          21,
          19,
          45,
          42,
          27,
          45,
          51,
          42,
          24,
          39,
          18,
          26,
          35,
          53,
          54,
          36,
          56,
          51,
          45,
          28,
          36,
          73,
          26,
          41,
          59,
          28,
          45,
          27,
          46,
          34,
          30,
          46,
          47,
          32,
          65,
          19,
          22,
          39,
          38,
          68,
          49,
          37,
          33,
          25,
          36,
          30,
          39,
          28,
          28,
          25,
          57,
          33,
          24,
          33,
          56,
          56,
          16,
          47,
          33,
          32,
          21,
          64,
          19,
          26,
          25,
          17,
          55,
          25,
          43,
          39,
          24,
          70,
          79,
          16,
          35,
          15,
          23,
          53,
          20,
          27,
          53,
          32,
          57,
          26,
          53,
          32,
          25,
          15,
          59,
          35,
          33,
          32,
          49,
          46,
          25,
          20,
          48,
          24,
          18,
          67,
          26,
          54,
          15,
          27,
          26,
          62,
          24,
          32,
          29,
          16,
          25,
          40,
          39,
          34,
          36,
          24,
          50,
          50,
          37.11793090137039,
          30,
          35,
          46,
          51,
          37,
          41,
          41,
          48,
          27,
          29,
          47,
          34,
          48,
          41,
          25,
          24,
          38,
          28,
          47,
          65,
          58,
          33,
          43,
          24,
          37,
          31,
          65,
          59,
          74,
          21,
          24,
          37.11793090137039,
          23,
          59,
          33,
          34,
          30,
          22,
          37,
          20,
          18,
          24,
          17,
          27,
          51,
          29,
          34,
          18,
          17,
          55,
          44,
          27,
          66,
          45,
          47,
          34,
          37,
          54,
          21,
          21,
          35,
          75,
          33,
          45,
          48,
          58,
          30,
          44,
          82,
          29,
          25,
          53,
          60,
          19,
          63,
          50,
          35,
          45,
          24,
          36,
          35,
          33,
          66,
          54,
          20,
          40,
          41,
          30,
          32,
          24,
          37,
          28,
          48,
          30,
          64,
          21,
          28,
          36,
          40,
          32,
          50,
          28,
          33,
          37,
          17,
          20,
          34,
          37,
          24,
          47,
          20,
          56,
          24,
          47,
          36,
          35,
          37,
          45,
          41,
          23,
          37,
          23,
          33,
          23,
          37,
          19,
          39,
          53,
          51,
          25,
          45,
          28,
          36,
          32,
          39,
          46,
          53,
          42,
          34,
          29,
          53,
          45,
          24,
          51,
          35,
          27,
          33,
          16,
          30,
          22,
          23,
          50,
          28,
          34,
          24,
          54,
          26,
          39,
          34,
          27,
          48,
          47,
          54,
          33,
          40,
          58,
          55,
          47,
          42,
          29,
          40,
          23,
          23,
          25,
          52,
          43,
          37,
          32,
          70,
          24,
          24,
          38,
          52,
          27,
          22,
          42,
          49,
          59,
          41,
          34,
          31,
          23,
          28,
          33,
          16,
          35,
          26,
          62,
          25,
          25,
          31,
          35,
          46,
          39,
          26,
          37,
          32,
          31,
          48,
          29,
          32,
          28,
          43,
          39,
          37,
          39,
          42,
          33,
          25,
          29,
          45,
          27,
          28,
          57,
          15,
          33,
          35,
          47,
          31,
          36,
          54,
          24,
          35,
          32,
          28,
          45,
          29,
          36,
          23,
          17,
          20,
          33,
          49,
          31,
          35,
          24,
          54,
          41,
          50,
          46,
          45,
          20,
          37,
          34,
          54,
          65,
          28,
          26,
          25,
          32,
          44,
          32,
          42,
          66,
          22,
          51,
          64,
          30,
          71,
          30,
          48,
          56,
          26,
          28,
          19,
          24,
          44,
          28,
          47,
          18,
          26,
          33,
          34,
          62,
          24,
          55,
          22,
          46,
          27,
          32,
          22,
          54,
          32,
          45,
          36,
          37,
          47,
          30,
          31,
          44,
          52,
          16,
          29,
          42,
          31,
          41,
          45,
          50,
          26,
          22,
          76,
          58,
          32,
          19,
          25,
          48,
          39,
          31,
          50,
          15,
          48,
          32,
          21,
          37,
          21,
          40,
          33,
          25,
          55,
          53,
          27,
          35,
          25,
          31,
          70,
          40,
          25,
          38,
          26,
          27,
          37.11793090137039,
          28,
          40,
          44,
          39,
          24,
          32,
          31,
          50,
          31,
          50,
          45,
          44,
          48,
          39,
          30,
          44,
          28,
          24,
          27,
          34,
          41,
          26,
          38,
          33,
          22,
          40,
          34,
          48,
          37,
          67,
          35,
          29,
          28,
          40,
          31,
          51,
          47,
          52,
          28,
          35,
          25,
          37.11793090137039,
          34,
          58,
          24,
          22,
          46,
          61,
          43,
          44,
          35,
          29,
          57,
          42,
          44,
          20,
          32,
          34,
          18,
          31,
          24,
          35,
          34,
          26,
          55,
          38,
          23,
          30,
          44,
          37,
          27,
          43,
          25,
          30,
          35,
          31,
          35,
          37,
          25,
          34,
          33,
          33,
          32,
          34,
          46,
          40,
          27,
          17,
          46,
          50,
          41,
          23,
          33,
          25,
          27,
          39,
          22,
          37,
          27,
          28,
          56,
          71,
          53,
          39,
          56,
          24,
          35,
          30,
          31,
          20,
          35,
          31,
          49,
          54,
          48,
          32,
          35,
          30,
          32,
          31,
          14,
          25,
          32,
          35,
          27,
          23,
          55,
          43,
          62,
          25,
          37.11793090137039,
          50,
          19,
          41,
          55,
          19,
          67,
          24,
          44,
          29,
          48,
          22,
          37.11793090137039,
          59,
          68,
          25,
          23,
          46,
          25,
          30,
          56,
          24,
          18,
          27,
          26,
          15,
          26,
          32,
          17,
          32,
          43,
          26,
          51,
          39,
          43,
          31,
          22,
          40,
          64,
          30,
          59,
          24,
          32,
          37,
          33,
          42,
          37,
          33,
          62,
          46,
          69,
          24,
          42,
          49,
          35,
          19,
          40,
          34,
          22,
          16,
          69,
          24,
          28,
          51,
          20,
          34,
          27,
          48,
          33,
          6,
          26,
          40,
          46,
          20,
          28,
          30,
          36,
          25,
          28,
          38,
          30,
          31,
          36,
          65,
          42,
          65,
          30,
          49,
          66,
          28,
          27,
          31,
          46,
          28,
          35,
          24,
          17,
          39,
          21,
          21,
          57,
          27,
          62,
          40,
          38,
          27,
          54,
          27,
          51,
          25,
          46,
          20,
          32,
          27,
          21,
          60,
          44,
          23,
          31,
          43,
          39,
          54,
          22,
          37,
          42,
          22,
          42,
          32,
          30,
          53,
          27,
          72,
          29,
          34,
          26,
          22,
          16,
          31,
          58,
          23,
          44,
          46,
          61,
          17,
          46,
          35,
          36,
          28,
          37,
          47,
          35,
          40,
          24,
          18,
          38,
          54,
          27,
          62,
          66,
          47,
          19,
          27,
          23,
          42,
          43,
          42,
          45,
          21,
          43,
          45,
          33,
          38,
          33,
          46,
          52,
          46,
          40,
          20,
          39,
          35,
          31,
          32,
          56,
          37,
          32,
          28,
          26,
          27,
          37.11793090137039,
          43,
          49,
          16,
          35,
          19,
          59,
          29,
          37,
          22,
          40,
          35,
          39,
          36,
          78,
          25,
          41,
          63,
          48,
          42,
          39,
          84,
          33,
          52,
          48,
          30,
          29,
          27,
          41,
          57,
          27,
          58,
          59,
          39,
          28,
          28,
          23,
          55,
          33,
          23,
          45,
          37,
          21,
          27,
          39,
          37,
          22,
          26,
          27,
          37,
          58,
          62,
          25,
          36,
          37.11793090137039,
          27,
          37,
          25,
          40,
          22,
          29,
          20,
          33,
          48,
          47,
          40,
          29,
          29,
          44,
          36,
          48,
          49,
          38,
          41,
          37.11793090137039,
          28,
          33,
          44,
          65,
          35,
          25,
          40,
          36,
          55,
          19,
          70,
          37,
          53,
          84,
          46,
          29,
          27,
          32,
          27,
          38,
          20,
          45,
          32,
          48,
          57,
          34,
          16,
          47,
          61,
          32,
          31,
          46,
          27,
          31,
          26,
          31,
          27,
          49,
          26,
          28,
          62,
          50,
          23,
          40,
          50,
          50,
          27,
          35,
          32,
          56,
          20,
          56,
          39,
          47,
          25,
          21,
          18,
          36,
          35,
          29,
          20,
          30,
          40,
          48,
          23,
          42,
          20,
          25,
          28,
          34,
          41,
          24,
          29,
          33,
          44,
          31,
          26,
          51,
          64,
          29,
          61,
          44,
          39,
          35,
          39,
          60,
          42,
          27,
          21,
          33,
          60,
          24,
          41,
          41,
          34,
          23,
          38,
          58,
          49,
          27,
          34,
          34,
          44,
          30,
          81,
          40,
          27,
          26,
          18,
          59,
          56,
          22,
          34,
          23,
          36,
          48,
          33,
          24,
          25,
          20,
          45,
          29,
          34,
          23,
          29,
          44,
          30,
          28,
          71,
          25,
          61,
          39,
          50,
          37.11793090137039,
          23,
          39,
          45,
          34,
          31,
          55,
          39,
          32,
          44,
          24,
          36,
          41,
          25,
          39,
          40,
          32,
          45,
          31,
          32,
          48,
          49,
          48,
          18,
          48,
          25,
          27,
          37,
          44,
          27,
          41,
          42,
          36,
          37,
          56,
          36,
          46,
          26,
          41,
          38,
          42,
          47,
          26,
          64,
          49,
          44,
          48,
          27,
          67,
          24,
          26,
          28,
          21,
          24,
          21,
          73,
          39,
          32,
          38,
          32,
          26,
          55,
          50,
          49,
          48,
          65,
          37,
          45,
          33,
          46,
          33,
          33,
          51,
          52,
          24,
          55,
          28,
          36,
          24,
          20,
          54,
          53,
          36,
          24,
          34,
          59,
          34,
          29,
          24,
          77,
          30,
          36,
          36,
          58,
          47,
          49,
          31,
          25,
          37.11793090137039,
          30,
          33,
          29,
          31,
          51,
          42,
          67,
          23,
          34,
          51,
          19,
          29,
          23,
          46,
          42,
          21,
          55,
          37.11793090137039,
          43,
          32,
          34,
          40,
          55,
          20,
          24,
          43,
          56,
          47,
          33,
          20,
          28,
          50,
          36,
          47,
          36,
          49,
          34,
          41,
          29,
          34,
          34,
          22,
          26,
          32,
          44,
          21,
          29,
          18,
          33,
          28,
          37.11793090137039,
          40,
          40,
          37,
          47,
          33,
          44,
          65,
          20,
          17,
          55,
          33,
          44,
          37,
          32,
          31,
          20,
          30,
          25,
          47,
          48,
          32,
          18,
          29,
          30,
          39,
          36,
          36,
          54,
          27,
          45,
          19,
          36,
          33,
          56,
          33,
          60,
          26,
          52,
          40,
          33,
          41,
          32,
          34,
          26,
          62,
          33,
          55,
          38,
          43,
          38,
          27,
          52,
          37,
          34,
          41,
          40,
          53,
          21,
          34,
          22,
          25,
          16,
          37,
          68,
          25,
          34,
          23,
          25,
          57,
          27,
          51,
          30,
          33,
          37.11793090137039,
          19,
          22,
          37,
          19,
          33,
          38,
          45,
          39,
          21,
          56,
          27,
          50,
          16,
          18,
          38,
          32,
          33,
          71,
          30,
          39,
          19,
          44,
          54,
          29,
          37.11793090137039,
          56,
          64,
          25,
          18,
          36,
          24,
          30,
          53,
          60,
          32,
          25,
          44,
          32,
          33,
          37.11793090137039,
          35,
          23,
          27,
          53,
          35,
          41,
          18,
          34,
          49,
          31,
          29,
          33,
          38,
          43,
          29,
          68,
          62,
          39,
          59,
          24,
          70,
          42,
          26,
          24,
          48,
          54,
          48,
          37,
          40,
          28,
          43,
          35,
          21,
          40,
          32,
          48,
          31,
          37.11793090137039,
          58,
          30,
          21,
          15,
          30,
          28,
          21,
          33,
          37.11793090137039,
          36,
          38,
          34,
          23,
          44,
          20,
          41,
          18,
          29,
          37,
          41,
          25,
          20,
          34,
          37,
          18,
          72,
          17,
          45,
          49,
          64,
          36,
          61,
          24,
          70,
          40,
          21,
          27,
          23,
          33,
          45,
          19,
          28,
          63,
          37.11793090137039,
          39,
          57,
          32,
          38,
          46,
          31,
          40,
          31,
          50,
          29,
          25,
          31,
          23,
          54,
          44,
          43,
          37,
          55,
          40,
          26,
          29,
          29,
          42,
          20,
          34,
          41,
          29,
          19,
          32,
          23,
          41,
          37,
          24,
          54,
          58,
          40,
          27,
          40,
          23,
          33,
          26,
          36,
          38,
          25,
          31,
          48,
          43,
          36,
          39,
          22,
          24,
          36,
          25,
          30,
          76,
          39,
          49,
          21,
          31,
          22,
          27,
          26,
          84,
          17,
          17,
          22,
          41,
          58,
          29,
          19,
          18,
          61,
          18,
          23,
          38,
          19,
          63,
          21,
          25,
          35,
          50,
          34,
          37.11793090137039,
          26,
          61,
          18,
          37,
          27,
          24,
          37,
          28,
          44,
          30,
          30,
          34,
          27,
          28,
          42,
          32,
          24,
          17,
          26,
          35,
          25,
          33,
          25,
          29,
          18,
          19,
          39,
          61,
          36,
          72,
          48,
          34,
          36,
          33,
          30,
          61,
          41,
          52,
          26,
          37.11793090137039,
          39,
          36,
          47,
          37.11793090137039,
          25,
          63,
          24,
          38,
          22,
          59,
          29,
          18,
          29,
          25,
          48,
          60,
          27,
          65,
          41,
          33,
          33,
          22,
          52,
          42,
          48,
          24,
          21,
          20,
          59,
          46,
          23,
          32,
          19,
          64,
          35,
          41,
          42,
          35,
          33,
          32,
          37,
          37,
          65,
          30,
          43,
          18,
          27,
          41,
          41,
          33,
          53,
          42,
          46,
          51,
          16,
          41,
          24,
          23,
          50,
          41,
          23,
          33,
          25,
          30,
          58,
          47,
          22,
          27,
          29,
          43,
          18,
          19,
          37,
          42,
          35,
          50,
          60,
          35,
          47,
          37.11793090137039,
          31,
          24,
          27,
          27,
          23,
          57,
          56,
          36,
          37.11793090137039,
          37.11793090137039,
          24,
          34,
          17,
          21,
          35,
          34,
          56,
          35,
          46,
          42,
          49,
          44,
          45,
          36,
          45,
          34,
          26,
          28,
          35,
          20,
          33,
          39,
          63,
          27,
          33,
          27,
          31,
          33,
          39,
          27,
          32,
          29,
          28,
          50,
          55,
          42,
          36,
          38,
          38,
          35,
          42,
          70,
          29,
          26,
          20,
          30,
          19,
          48,
          58,
          38,
          28,
          34,
          45,
          18,
          25,
          38,
          33,
          39,
          58,
          48,
          14,
          18,
          22,
          46,
          37.11793090137039,
          37.11793090137039,
          57,
          32,
          31,
          64,
          35,
          42,
          30,
          26,
          37,
          21,
          20,
          46,
          37.11793090137039,
          20,
          46,
          24,
          26,
          60,
          25,
          29,
          58,
          59,
          46,
          55,
          27,
          30,
          45,
          51,
          27,
          47,
          52,
          45,
          47,
          68,
          40,
          18,
          35,
          80,
          44,
          31,
          20,
          43,
          25,
          38,
          34,
          58,
          38,
          29,
          40,
          49,
          25,
          21,
          57,
          28,
          25,
          58,
          34,
          34,
          24,
          32,
          58,
          20,
          19,
          46,
          28,
          47,
          47,
          34,
          37.11793090137039,
          45,
          17,
          34,
          48,
          32,
          20,
          31,
          16,
          24,
          39,
          26,
          30,
          36,
          28,
          21,
          36,
          28,
          24,
          29,
          44,
          41,
          38,
          40,
          20,
          27,
          51,
          48,
          40,
          29,
          34,
          20,
          47,
          29,
          33,
          46,
          35,
          36,
          63,
          27,
          17,
          22,
          21,
          31,
          56,
          32,
          25,
          47,
          37.11793090137039,
          23,
          34,
          51,
          35,
          46,
          59,
          30,
          34,
          44,
          31,
          51,
          34,
          45,
          32,
          31,
          41,
          29,
          47,
          30,
          27,
          38,
          33,
          25,
          47,
          49,
          33,
          36,
          22,
          29,
          52,
          61,
          29,
          37,
          26,
          19,
          45,
          22,
          57,
          46,
          27,
          26,
          30,
          18,
          25,
          51,
          40,
          47,
          38,
          39,
          30,
          42,
          25,
          22,
          30,
          33,
          24,
          31,
          25,
          28,
          19,
          31,
          48,
          53,
          50,
          55,
          37.11793090137039,
          37,
          30,
          36,
          24,
          35,
          42,
          37,
          28,
          32,
          33,
          27,
          21,
          47,
          57,
          34,
          34,
          30,
          29,
          28,
          39,
          54,
          27,
          32,
          32,
          47,
          33,
          42,
          37.11793090137039,
          24,
          42,
          34,
          46,
          40,
          30,
          42,
          30,
          63,
          18,
          29,
          42,
          32,
          50,
          29,
          29,
          51,
          23,
          47,
          45,
          42,
          26,
          29,
          49,
          17,
          37.11793090137039,
          45,
          51,
          37,
          28,
          52,
          37,
          37,
          25,
          35,
          35,
          61,
          33,
          34,
          59,
          32,
          49,
          31,
          29,
          25,
          26,
          37.11793090137039,
          39,
          26,
          36,
          45,
          45,
          54,
          43,
          37.11793090137039,
          30,
          37.11793090137039,
          58,
          39,
          40,
          36,
          27,
          20,
          17,
          59,
          47,
          45,
          34,
          46,
          26,
          21,
          29,
          33,
          47,
          22,
          41,
          28,
          56,
          41,
          35,
          59,
          30,
          49,
          41,
          21,
          62,
          32,
          22,
          58,
          32,
          26,
          35,
          27,
          35,
          23,
          59,
          23,
          43,
          41,
          56,
          45,
          28,
          37.11793090137039,
          54,
          39,
          37.11793090137039,
          41,
          27,
          70,
          37.11793090137039,
          35,
          26,
          58,
          46,
          39,
          33,
          20,
          38,
          41,
          32,
          37.11793090137039,
          24,
          19,
          27,
          40,
          61,
          20,
          35,
          17,
          22,
          45,
          20,
          18,
          28,
          38,
          53,
          31,
          48,
          20,
          35,
          22,
          18,
          74,
          33,
          38,
          26,
          41,
          29,
          19,
          61,
          34,
          35,
          43,
          50,
          32,
          50,
          54,
          35,
          33,
          18,
          50,
          41,
          37,
          76,
          19,
          40,
          61,
          61,
          22,
          52,
          23,
          67,
          44,
          23,
          39,
          53,
          39,
          26,
          38,
          49,
          34,
          47,
          34,
          58,
          17,
          21,
          37,
          43,
          61,
          28,
          41,
          23,
          36,
          23,
          26,
          32,
          62,
          33,
          32,
          69,
          35,
          46,
          46,
          22,
          20,
          30,
          49,
          43,
          52,
          56,
          36,
          40,
          52,
          35,
          35,
          53,
          23,
          19,
          41,
          39,
          28,
          28,
          37.11793090137039,
          53,
          27,
          31,
          38,
          38,
          41,
          49,
          56,
          62,
          31,
          37,
          37.11793090137039,
          28,
          46,
          21,
          30,
          36,
          48,
          34,
          45,
          19,
          32,
          32,
          24,
          65,
          29,
          49,
          19,
          56,
          39,
          43,
          57,
          49,
          18,
          27,
          52,
          37,
          45,
          49,
          38,
          31,
          51,
          37.11793090137039,
          51,
          20,
          26,
          25,
          37.11793090137039,
          62,
          27,
          33,
          39,
          18,
          27,
          50,
          57,
          29,
          39,
          31,
          34,
          52,
          33,
          37,
          52,
          62,
          30,
          28,
          51,
          23,
          36,
          37,
          49,
          49,
          35,
          17,
          30,
          34,
          46,
          29,
          28,
          43,
          42,
          30,
          24,
          27,
          41,
          47,
          26,
          20,
          18,
          37.11793090137039,
          29,
          35,
          77,
          31,
          54,
          33,
          76,
          28,
          31,
          53,
          33,
          37,
          57,
          36,
          39,
          43,
          44,
          33,
          49,
          18,
          21,
          57,
          29,
          58,
          74,
          63,
          28,
          67,
          64,
          32,
          49,
          28,
          31,
          20,
          27,
          38,
          37,
          36,
          35,
          50,
          75,
          32,
          34,
          24,
          37,
          33,
          37,
          55,
          31,
          54,
          37,
          48,
          28,
          31,
          48,
          58,
          19,
          28,
          21,
          57,
          17,
          22,
          26,
          31,
          61,
          54,
          28,
          30,
          30,
          28,
          26,
          28,
          21,
          31,
          27,
          34,
          22,
          29,
          38,
          51,
          34,
          30,
          33,
          21,
          39,
          37,
          34,
          47,
          29,
          29,
          44,
          53,
          45,
          19,
          40,
          33,
          45,
          40,
          27,
          63,
          50,
          25,
          39,
          42,
          25,
          24,
          37.11793090137039,
          37.11793090137039,
          62,
          34,
          33,
          56,
          22,
          46,
          41,
          38,
          22,
          42,
          29,
          56,
          32,
          31,
          21,
          31,
          48,
          58,
          32,
          45,
          37,
          20,
          34,
          31,
          26,
          32,
          66,
          37,
          38,
          44,
          28,
          22,
          59,
          20,
          39,
          30,
          27,
          37.11793090137039,
          37,
          52,
          35,
          33,
          27,
          27,
          41,
          28,
          26,
          37.11793090137039,
          34,
          34,
          38,
          32,
          50,
          55,
          51,
          18,
          42,
          36,
          37,
          28,
          24,
          34,
          22,
          42,
          48,
          51,
          40,
          34,
          30,
          31,
          54,
          60,
          40,
          37.11793090137039,
          40,
          68,
          68,
          60,
          16,
          25,
          20,
          21,
          38,
          28,
          18,
          37.11793090137039,
          26,
          31,
          58,
          31,
          41,
          41,
          41,
          23,
          17,
          35,
          65,
          51,
          47,
          42,
          42,
          31,
          23,
          50,
          47,
          66,
          55,
          68,
          31,
          24,
          30,
          34,
          23,
          43,
          22,
          22,
          42,
          65,
          18,
          23,
          52,
          40,
          27,
          34,
          25,
          28,
          37.11793090137039,
          27,
          41,
          27,
          38,
          29,
          47,
          28,
          38,
          21,
          44,
          61,
          25,
          40,
          26,
          57,
          57,
          24,
          46,
          38,
          24,
          34,
          65,
          60,
          59,
          23,
          35,
          35,
          16,
          37.11793090137039,
          42,
          43,
          52,
          31,
          27,
          31,
          34,
          29,
          34,
          37.11793090137039,
          18,
          51,
          25,
          28,
          37,
          37.11793090137039,
          23,
          57,
          49,
          24,
          20,
          25,
          26,
          26,
          41,
          31,
          30,
          25,
          57,
          17,
          27,
          30,
          18,
          50,
          21,
          28,
          28,
          33,
          59,
          34,
          37,
          30,
          47,
          34,
          24,
          25,
          37.11793090137039,
          47,
          49,
          31,
          47,
          52,
          29,
          45,
          51,
          55,
          35,
          50,
          31,
          47,
          35,
          66,
          19,
          19,
          43,
          57,
          31,
          41,
          39,
          24,
          20,
          32,
          31,
          22,
          60,
          40,
          37,
          34,
          22,
          30,
          26,
          29,
          32,
          32,
          27,
          31,
          35,
          19,
          34,
          32,
          43,
          22,
          43,
          27,
          39,
          37,
          20,
          34,
          32,
          15,
          52,
          53,
          24,
          41,
          17,
          44,
          56,
          23,
          32,
          26,
          41,
          56,
          33,
          37,
          41,
          38,
          67,
          45,
          48,
          31,
          47,
          40,
          40,
          34,
          51,
          33,
          25,
          41,
          19,
          21,
          58,
          63,
          37.11793090137039,
          58,
          16,
          31,
          33,
          40,
          34,
          29,
          27,
          23,
          38,
          17,
          75,
          40,
          36,
          27,
          28,
          20,
          38,
          16,
          30,
          30,
          30,
          36,
          33,
          39,
          22,
          49,
          45,
          45,
          30,
          30,
          31,
          73,
          39,
          37,
          37.11793090137039,
          31,
          25,
          24,
          27,
          37.11793090137039,
          32,
          43,
          84,
          29,
          31,
          57,
          37,
          29,
          47,
          44,
          38,
          32,
          26,
          21,
          47,
          30,
          62,
          41,
          50,
          37.11793090137039,
          31,
          30,
          32,
          20,
          38,
          25,
          47,
          19,
          35,
          58,
          18,
          42,
          39,
          61,
          51,
          28,
          33,
          47,
          39,
          31,
          18,
          23,
          46,
          50,
          34,
          32,
          45,
          31,
          19,
          53,
          55,
          32,
          46,
          26,
          46,
          22,
          38,
          44,
          37,
          52,
          29,
          19,
          66,
          40,
          30,
          69,
          27,
          62,
          37.11793090137039,
          39,
          67,
          54,
          29,
          33,
          31,
          38,
          28,
          45,
          59,
          17,
          19,
          36,
          39,
          37.11793090137039,
          33,
          31,
          29,
          51,
          35,
          36,
          31,
          39,
          58,
          39,
          24,
          48,
          31,
          37.11793090137039,
          43,
          33,
          24,
          40,
          28,
          24,
          27,
          40,
          35,
          42,
          42,
          24,
          59,
          61,
          26,
          32,
          50,
          38,
          29,
          27,
          43,
          21,
          36,
          24,
          32,
          26,
          54,
          44,
          69,
          45,
          26,
          43,
          38,
          21,
          23,
          56,
          33,
          40,
          21,
          20,
          21,
          47,
          38,
          31,
          51,
          19,
          21,
          48,
          42,
          30,
          47,
          57,
          27,
          50,
          37,
          24,
          24,
          30,
          49,
          47,
          31,
          33,
          29,
          42,
          38,
          25,
          39,
          64,
          28,
          32,
          69,
          29,
          45,
          40,
          60,
          22,
          28,
          38,
          28,
          37,
          22,
          42,
          18,
          38,
          58,
          50,
          31,
          35,
          53,
          31,
          35,
          22,
          37.11793090137039,
          32,
          39,
          44,
          46,
          49,
          32,
          53,
          25,
          36,
          22,
          33,
          39,
          44,
          25,
          36,
          42,
          24,
          22,
          35,
          38,
          28,
          26,
          62,
          27,
          23,
          25,
          22,
          31
         ]
        }
       ],
       "layout": {
        "template": {
         "data": {
          "bar": [
           {
            "error_x": {
             "color": "#2a3f5f"
            },
            "error_y": {
             "color": "#2a3f5f"
            },
            "marker": {
             "line": {
              "color": "#E5ECF6",
              "width": 0.5
             }
            },
            "type": "bar"
           }
          ],
          "barpolar": [
           {
            "marker": {
             "line": {
              "color": "#E5ECF6",
              "width": 0.5
             }
            },
            "type": "barpolar"
           }
          ],
          "carpet": [
           {
            "aaxis": {
             "endlinecolor": "#2a3f5f",
             "gridcolor": "white",
             "linecolor": "white",
             "minorgridcolor": "white",
             "startlinecolor": "#2a3f5f"
            },
            "baxis": {
             "endlinecolor": "#2a3f5f",
             "gridcolor": "white",
             "linecolor": "white",
             "minorgridcolor": "white",
             "startlinecolor": "#2a3f5f"
            },
            "type": "carpet"
           }
          ],
          "choropleth": [
           {
            "colorbar": {
             "outlinewidth": 0,
             "ticks": ""
            },
            "type": "choropleth"
           }
          ],
          "contour": [
           {
            "colorbar": {
             "outlinewidth": 0,
             "ticks": ""
            },
            "colorscale": [
             [
              0,
              "#0d0887"
             ],
             [
              0.1111111111111111,
              "#46039f"
             ],
             [
              0.2222222222222222,
              "#7201a8"
             ],
             [
              0.3333333333333333,
              "#9c179e"
             ],
             [
              0.4444444444444444,
              "#bd3786"
             ],
             [
              0.5555555555555556,
              "#d8576b"
             ],
             [
              0.6666666666666666,
              "#ed7953"
             ],
             [
              0.7777777777777778,
              "#fb9f3a"
             ],
             [
              0.8888888888888888,
              "#fdca26"
             ],
             [
              1,
              "#f0f921"
             ]
            ],
            "type": "contour"
           }
          ],
          "contourcarpet": [
           {
            "colorbar": {
             "outlinewidth": 0,
             "ticks": ""
            },
            "type": "contourcarpet"
           }
          ],
          "heatmap": [
           {
            "colorbar": {
             "outlinewidth": 0,
             "ticks": ""
            },
            "colorscale": [
             [
              0,
              "#0d0887"
             ],
             [
              0.1111111111111111,
              "#46039f"
             ],
             [
              0.2222222222222222,
              "#7201a8"
             ],
             [
              0.3333333333333333,
              "#9c179e"
             ],
             [
              0.4444444444444444,
              "#bd3786"
             ],
             [
              0.5555555555555556,
              "#d8576b"
             ],
             [
              0.6666666666666666,
              "#ed7953"
             ],
             [
              0.7777777777777778,
              "#fb9f3a"
             ],
             [
              0.8888888888888888,
              "#fdca26"
             ],
             [
              1,
              "#f0f921"
             ]
            ],
            "type": "heatmap"
           }
          ],
          "heatmapgl": [
           {
            "colorbar": {
             "outlinewidth": 0,
             "ticks": ""
            },
            "colorscale": [
             [
              0,
              "#0d0887"
             ],
             [
              0.1111111111111111,
              "#46039f"
             ],
             [
              0.2222222222222222,
              "#7201a8"
             ],
             [
              0.3333333333333333,
              "#9c179e"
             ],
             [
              0.4444444444444444,
              "#bd3786"
             ],
             [
              0.5555555555555556,
              "#d8576b"
             ],
             [
              0.6666666666666666,
              "#ed7953"
             ],
             [
              0.7777777777777778,
              "#fb9f3a"
             ],
             [
              0.8888888888888888,
              "#fdca26"
             ],
             [
              1,
              "#f0f921"
             ]
            ],
            "type": "heatmapgl"
           }
          ],
          "histogram": [
           {
            "marker": {
             "colorbar": {
              "outlinewidth": 0,
              "ticks": ""
             }
            },
            "type": "histogram"
           }
          ],
          "histogram2d": [
           {
            "colorbar": {
             "outlinewidth": 0,
             "ticks": ""
            },
            "colorscale": [
             [
              0,
              "#0d0887"
             ],
             [
              0.1111111111111111,
              "#46039f"
             ],
             [
              0.2222222222222222,
              "#7201a8"
             ],
             [
              0.3333333333333333,
              "#9c179e"
             ],
             [
              0.4444444444444444,
              "#bd3786"
             ],
             [
              0.5555555555555556,
              "#d8576b"
             ],
             [
              0.6666666666666666,
              "#ed7953"
             ],
             [
              0.7777777777777778,
              "#fb9f3a"
             ],
             [
              0.8888888888888888,
              "#fdca26"
             ],
             [
              1,
              "#f0f921"
             ]
            ],
            "type": "histogram2d"
           }
          ],
          "histogram2dcontour": [
           {
            "colorbar": {
             "outlinewidth": 0,
             "ticks": ""
            },
            "colorscale": [
             [
              0,
              "#0d0887"
             ],
             [
              0.1111111111111111,
              "#46039f"
             ],
             [
              0.2222222222222222,
              "#7201a8"
             ],
             [
              0.3333333333333333,
              "#9c179e"
             ],
             [
              0.4444444444444444,
              "#bd3786"
             ],
             [
              0.5555555555555556,
              "#d8576b"
             ],
             [
              0.6666666666666666,
              "#ed7953"
             ],
             [
              0.7777777777777778,
              "#fb9f3a"
             ],
             [
              0.8888888888888888,
              "#fdca26"
             ],
             [
              1,
              "#f0f921"
             ]
            ],
            "type": "histogram2dcontour"
           }
          ],
          "mesh3d": [
           {
            "colorbar": {
             "outlinewidth": 0,
             "ticks": ""
            },
            "type": "mesh3d"
           }
          ],
          "parcoords": [
           {
            "line": {
             "colorbar": {
              "outlinewidth": 0,
              "ticks": ""
             }
            },
            "type": "parcoords"
           }
          ],
          "pie": [
           {
            "automargin": true,
            "type": "pie"
           }
          ],
          "scatter": [
           {
            "marker": {
             "colorbar": {
              "outlinewidth": 0,
              "ticks": ""
             }
            },
            "type": "scatter"
           }
          ],
          "scatter3d": [
           {
            "line": {
             "colorbar": {
              "outlinewidth": 0,
              "ticks": ""
             }
            },
            "marker": {
             "colorbar": {
              "outlinewidth": 0,
              "ticks": ""
             }
            },
            "type": "scatter3d"
           }
          ],
          "scattercarpet": [
           {
            "marker": {
             "colorbar": {
              "outlinewidth": 0,
              "ticks": ""
             }
            },
            "type": "scattercarpet"
           }
          ],
          "scattergeo": [
           {
            "marker": {
             "colorbar": {
              "outlinewidth": 0,
              "ticks": ""
             }
            },
            "type": "scattergeo"
           }
          ],
          "scattergl": [
           {
            "marker": {
             "colorbar": {
              "outlinewidth": 0,
              "ticks": ""
             }
            },
            "type": "scattergl"
           }
          ],
          "scattermapbox": [
           {
            "marker": {
             "colorbar": {
              "outlinewidth": 0,
              "ticks": ""
             }
            },
            "type": "scattermapbox"
           }
          ],
          "scatterpolar": [
           {
            "marker": {
             "colorbar": {
              "outlinewidth": 0,
              "ticks": ""
             }
            },
            "type": "scatterpolar"
           }
          ],
          "scatterpolargl": [
           {
            "marker": {
             "colorbar": {
              "outlinewidth": 0,
              "ticks": ""
             }
            },
            "type": "scatterpolargl"
           }
          ],
          "scatterternary": [
           {
            "marker": {
             "colorbar": {
              "outlinewidth": 0,
              "ticks": ""
             }
            },
            "type": "scatterternary"
           }
          ],
          "surface": [
           {
            "colorbar": {
             "outlinewidth": 0,
             "ticks": ""
            },
            "colorscale": [
             [
              0,
              "#0d0887"
             ],
             [
              0.1111111111111111,
              "#46039f"
             ],
             [
              0.2222222222222222,
              "#7201a8"
             ],
             [
              0.3333333333333333,
              "#9c179e"
             ],
             [
              0.4444444444444444,
              "#bd3786"
             ],
             [
              0.5555555555555556,
              "#d8576b"
             ],
             [
              0.6666666666666666,
              "#ed7953"
             ],
             [
              0.7777777777777778,
              "#fb9f3a"
             ],
             [
              0.8888888888888888,
              "#fdca26"
             ],
             [
              1,
              "#f0f921"
             ]
            ],
            "type": "surface"
           }
          ],
          "table": [
           {
            "cells": {
             "fill": {
              "color": "#EBF0F8"
             },
             "line": {
              "color": "white"
             }
            },
            "header": {
             "fill": {
              "color": "#C8D4E3"
             },
             "line": {
              "color": "white"
             }
            },
            "type": "table"
           }
          ]
         },
         "layout": {
          "annotationdefaults": {
           "arrowcolor": "#2a3f5f",
           "arrowhead": 0,
           "arrowwidth": 1
          },
          "coloraxis": {
           "colorbar": {
            "outlinewidth": 0,
            "ticks": ""
           }
          },
          "colorscale": {
           "diverging": [
            [
             0,
             "#8e0152"
            ],
            [
             0.1,
             "#c51b7d"
            ],
            [
             0.2,
             "#de77ae"
            ],
            [
             0.3,
             "#f1b6da"
            ],
            [
             0.4,
             "#fde0ef"
            ],
            [
             0.5,
             "#f7f7f7"
            ],
            [
             0.6,
             "#e6f5d0"
            ],
            [
             0.7,
             "#b8e186"
            ],
            [
             0.8,
             "#7fbc41"
            ],
            [
             0.9,
             "#4d9221"
            ],
            [
             1,
             "#276419"
            ]
           ],
           "sequential": [
            [
             0,
             "#0d0887"
            ],
            [
             0.1111111111111111,
             "#46039f"
            ],
            [
             0.2222222222222222,
             "#7201a8"
            ],
            [
             0.3333333333333333,
             "#9c179e"
            ],
            [
             0.4444444444444444,
             "#bd3786"
            ],
            [
             0.5555555555555556,
             "#d8576b"
            ],
            [
             0.6666666666666666,
             "#ed7953"
            ],
            [
             0.7777777777777778,
             "#fb9f3a"
            ],
            [
             0.8888888888888888,
             "#fdca26"
            ],
            [
             1,
             "#f0f921"
            ]
           ],
           "sequentialminus": [
            [
             0,
             "#0d0887"
            ],
            [
             0.1111111111111111,
             "#46039f"
            ],
            [
             0.2222222222222222,
             "#7201a8"
            ],
            [
             0.3333333333333333,
             "#9c179e"
            ],
            [
             0.4444444444444444,
             "#bd3786"
            ],
            [
             0.5555555555555556,
             "#d8576b"
            ],
            [
             0.6666666666666666,
             "#ed7953"
            ],
            [
             0.7777777777777778,
             "#fb9f3a"
            ],
            [
             0.8888888888888888,
             "#fdca26"
            ],
            [
             1,
             "#f0f921"
            ]
           ]
          },
          "colorway": [
           "#636efa",
           "#EF553B",
           "#00cc96",
           "#ab63fa",
           "#FFA15A",
           "#19d3f3",
           "#FF6692",
           "#B6E880",
           "#FF97FF",
           "#FECB52"
          ],
          "font": {
           "color": "#2a3f5f"
          },
          "geo": {
           "bgcolor": "white",
           "lakecolor": "white",
           "landcolor": "#E5ECF6",
           "showlakes": true,
           "showland": true,
           "subunitcolor": "white"
          },
          "hoverlabel": {
           "align": "left"
          },
          "hovermode": "closest",
          "mapbox": {
           "style": "light"
          },
          "paper_bgcolor": "white",
          "plot_bgcolor": "#E5ECF6",
          "polar": {
           "angularaxis": {
            "gridcolor": "white",
            "linecolor": "white",
            "ticks": ""
           },
           "bgcolor": "#E5ECF6",
           "radialaxis": {
            "gridcolor": "white",
            "linecolor": "white",
            "ticks": ""
           }
          },
          "scene": {
           "xaxis": {
            "backgroundcolor": "#E5ECF6",
            "gridcolor": "white",
            "gridwidth": 2,
            "linecolor": "white",
            "showbackground": true,
            "ticks": "",
            "zerolinecolor": "white"
           },
           "yaxis": {
            "backgroundcolor": "#E5ECF6",
            "gridcolor": "white",
            "gridwidth": 2,
            "linecolor": "white",
            "showbackground": true,
            "ticks": "",
            "zerolinecolor": "white"
           },
           "zaxis": {
            "backgroundcolor": "#E5ECF6",
            "gridcolor": "white",
            "gridwidth": 2,
            "linecolor": "white",
            "showbackground": true,
            "ticks": "",
            "zerolinecolor": "white"
           }
          },
          "shapedefaults": {
           "line": {
            "color": "#2a3f5f"
           }
          },
          "ternary": {
           "aaxis": {
            "gridcolor": "white",
            "linecolor": "white",
            "ticks": ""
           },
           "baxis": {
            "gridcolor": "white",
            "linecolor": "white",
            "ticks": ""
           },
           "bgcolor": "#E5ECF6",
           "caxis": {
            "gridcolor": "white",
            "linecolor": "white",
            "ticks": ""
           }
          },
          "title": {
           "x": 0.05
          },
          "xaxis": {
           "automargin": true,
           "gridcolor": "white",
           "linecolor": "white",
           "ticks": "",
           "title": {
            "standoff": 15
           },
           "zerolinecolor": "white",
           "zerolinewidth": 2
          },
          "yaxis": {
           "automargin": true,
           "gridcolor": "white",
           "linecolor": "white",
           "ticks": "",
           "title": {
            "standoff": 15
           },
           "zerolinecolor": "white",
           "zerolinewidth": 2
          }
         }
        }
       }
      },
      "text/html": [
       "<div>                            <div id=\"f748b784-ed64-4c27-909c-50dd8cf23486\" class=\"plotly-graph-div\" style=\"height:525px; width:100%;\"></div>            <script type=\"text/javascript\">                require([\"plotly\"], function(Plotly) {                    window.PLOTLYENV=window.PLOTLYENV || {};                                    if (document.getElementById(\"f748b784-ed64-4c27-909c-50dd8cf23486\")) {                    Plotly.newPlot(                        \"f748b784-ed64-4c27-909c-50dd8cf23486\",                        [{\"type\": \"violin\", \"x0\": \"Age\", \"y\": [53.0, 47.0, 23.0, 32.0, 39.0, 18.0, 22.0, 35.0, 34.0, 47.0, 25.0, 31.0, 41.0, 30.0, 37.0, 28.0, 42.0, 36.0, 49.0, 71.0, 33.0, 39.0, 23.0, 29.0, 34.0, 43.0, 24.0, 29.0, 34.0, 75.0, 68.0, 34.0, 27.0, 39.0, 24.0, 36.0, 33.0, 41.0, 48.0, 21.0, 24.0, 27.0, 32.0, 67.0, 49.0, 42.0, 36.0, 36.0, 19.0, 54.0, 25.0, 17.0, 29.0, 56.0, 61.0, 45.0, 26.0, 40.0, 26.0, 17.0, 68.0, 24.0, 34.0, 39.0, 26.0, 29.0, 33.0, 45.0, 26.0, 35.0, 31.0, 42.0, 48.0, 31.0, 54.0, 59.0, 42.0, 17.0, 23.0, 38.0, 29.0, 45.0, 28.0, 37.0, 28.0, 28.0, 51.0, 36.0, 59.0, 25.0, 26.0, 74.0, 33.0, 27.0, 57.0, 46.0, 41.0, 61.0, 45.0, 49.0, 45.0, 35.0, 23.0, 46.0, 23.0, 21.0, 35.0, 27.0, 37.0, 16.0, 51.0, 34.0, 34.0, 25.0, 56.0, 26.0, 24.0, 43.0, 31.0, 32.0, 30.0, 50.0, 20.0, 31.0, 38.0, 77.0, 37.11793090137039, 41.0, 51.0, 50.0, 47.0, 37.0, 41.0, 16.0, 42.0, 39.0, 30.0, 27.0, 43.0, 42.0, 21.0, 49.0, 34.0, 31.0, 27.0, 24.0, 34.0, 28.0, 28.0, 40.0, 37.0, 17.0, 35.0, 49.0, 43.0, 20.0, 25.0, 25.0, 26.0, 28.0, 45.0, 36.0, 34.0, 19.0, 37.0, 48.0, 29.0, 43.0, 40.0, 35.0, 27.0, 58.0, 46.0, 30.0, 64.0, 31.0, 23.0, 37.0, 37.0, 31.0, 39.0, 31.0, 54.0, 53.0, 25.0, 35.0, 41.0, 59.0, 36.0, 32.0, 53.0, 26.0, 29.0, 27.0, 28.0, 52.0, 49.0, 24.0, 24.0, 20.0, 22.0, 49.0, 64.0, 47.0, 39.0, 18.0, 31.0, 16.0, 20.0, 36.0, 63.0, 34.0, 24.0, 21.0, 44.0, 60.0, 42.0, 37.0, 36.0, 21.0, 24.0, 29.0, 57.0, 38.0, 23.0, 27.0, 28.0, 63.0, 53.0, 35.0, 26.0, 42.0, 41.0, 56.0, 39.0, 23.0, 40.0, 29.0, 26.0, 49.0, 36.0, 21.0, 27.0, 37.0, 36.0, 32.0, 44.0, 27.0, 63.0, 38.0, 17.0, 31.0, 34.0, 50.0, 51.0, 56.0, 23.0, 25.0, 31.0, 32.0, 60.0, 42.0, 39.0, 28.0, 22.0, 29.0, 31.0, 28.0, 21.0, 38.0, 66.0, 36.0, 83.0, 32.0, 27.0, 26.0, 31.0, 22.0, 41.0, 41.0, 51.0, 72.0, 52.0, 47.0, 18.0, 29.0, 23.0, 43.0, 45.0, 40.0, 44.0, 25.0, 37.0, 59.0, 35.0, 35.0, 18.0, 51.0, 30.0, 31.0, 39.0, 26.0, 51.0, 19.0, 46.0, 49.0, 63.0, 20.0, 25.0, 24.0, 58.0, 29.0, 76.0, 45.0, 20.0, 58.0, 21.0, 27.0, 26.0, 33.0, 27.0, 25.0, 53.0, 53.0, 42.0, 22.0, 52.0, 36.0, 30.0, 34.0, 44.0, 53.0, 36.0, 29.0, 32.0, 46.0, 18.0, 38.0, 21.0, 35.0, 58.0, 48.0, 31.0, 47.0, 34.0, 30.0, 28.0, 28.0, 40.0, 46.0, 37.0, 53.0, 41.0, 42.0, 45.0, 34.0, 18.0, 27.0, 54.0, 35.0, 17.0, 29.0, 38.0, 26.0, 52.0, 39.0, 22.0, 29.0, 43.0, 24.0, 32.0, 40.0, 47.0, 40.0, 25.0, 31.0, 36.0, 51.0, 24.0, 62.0, 39.0, 24.0, 57.0, 20.0, 33.0, 60.0, 32.0, 40.0, 18.0, 36.0, 35.0, 55.0, 19.0, 39.0, 47.0, 23.0, 26.0, 26.0, 18.0, 33.0, 56.0, 46.0, 36.0, 50.0, 45.0, 53.0, 45.0, 42.0, 27.0, 30.0, 36.0, 58.0, 30.0, 69.0, 30.0, 45.0, 22.0, 28.0, 19.0, 40.0, 46.0, 28.0, 22.0, 17.0, 46.0, 35.0, 35.0, 28.0, 15.0, 22.0, 28.0, 31.0, 40.0, 48.0, 58.0, 44.0, 21.0, 50.0, 23.0, 24.0, 49.0, 60.0, 35.0, 29.0, 20.0, 34.0, 22.0, 49.0, 32.0, 26.0, 41.0, 61.0, 49.0, 28.0, 35.0, 29.0, 51.0, 52.0, 24.0, 32.0, 45.0, 60.0, 23.0, 46.0, 33.0, 40.0, 27.0, 42.0, 37.0, 23.0, 36.0, 19.0, 35.0, 43.0, 25.0, 20.0, 42.0, 29.0, 42.0, 31.0, 18.0, 33.0, 59.0, 47.0, 39.0, 37.0, 35.0, 28.0, 59.0, 62.0, 50.0, 68.0, 27.0, 17.0, 21.0, 38.0, 54.0, 20.0, 25.0, 31.0, 35.0, 60.0, 24.0, 27.0, 36.0, 20.0, 24.0, 23.0, 41.0, 20.0, 43.0, 29.0, 35.0, 30.0, 24.0, 23.0, 29.0, 25.0, 27.0, 50.0, 19.0, 24.0, 23.0, 22.0, 46.0, 65.0, 43.0, 35.0, 47.0, 24.0, 35.0, 25.0, 27.0, 26.0, 34.0, 32.0, 47.0, 44.0, 31.0, 44.0, 30.0, 60.0, 50.0, 36.0, 59.0, 33.0, 19.0, 56.0, 45.0, 22.0, 34.0, 53.0, 48.0, 25.0, 30.0, 47.0, 33.0, 34.0, 29.0, 63.0, 49.0, 18.0, 71.0, 35.0, 55.0, 31.0, 18.0, 51.0, 39.0, 20.0, 29.0, 40.0, 42.0, 22.0, 19.0, 24.0, 30.0, 53.0, 25.0, 28.0, 24.0, 59.0, 46.0, 15.0, 41.0, 22.0, 24.0, 34.0, 48.0, 24.0, 27.0, 27.0, 27.0, 49.0, 30.0, 38.0, 26.0, 30.0, 53.0, 23.0, 34.0, 30.0, 43.0, 29.0, 47.0, 35.0, 40.0, 18.0, 24.0, 29.0, 44.0, 17.0, 19.0, 50.0, 57.0, 30.0, 38.0, 31.0, 29.0, 26.0, 64.0, 39.0, 57.0, 36.0, 36.0, 21.0, 53.0, 30.0, 34.0, 53.0, 45.0, 22.0, 22.0, 46.0, 27.0, 30.0, 54.0, 29.0, 42.0, 41.0, 28.0, 61.0, 23.0, 25.0, 37.11793090137039, 29.0, 20.0, 40.0, 45.0, 33.0, 76.0, 47.0, 45.0, 40.0, 37.0, 27.0, 36.0, 23.0, 49.0, 21.0, 32.0, 35.0, 28.0, 59.0, 28.0, 45.0, 45.0, 19.0, 25.0, 37.0, 33.0, 59.0, 31.0, 29.0, 32.0, 41.0, 31.0, 44.0, 23.0, 45.0, 39.0, 67.0, 29.0, 25.0, 28.0, 21.0, 32.0, 51.0, 39.0, 27.0, 31.0, 50.0, 37.11793090137039, 32.0, 47.0, 46.0, 57.0, 23.0, 56.0, 24.0, 27.0, 23.0, 26.0, 34.0, 21.0, 32.0, 33.0, 55.0, 48.0, 35.0, 19.0, 45.0, 28.0, 42.0, 17.0, 30.0, 21.0, 45.0, 33.0, 46.0, 23.0, 37.0, 43.0, 40.0, 59.0, 31.0, 46.0, 37.0, 28.0, 28.0, 55.0, 29.0, 26.0, 27.0, 31.0, 51.0, 50.0, 27.0, 18.0, 46.0, 19.0, 49.0, 31.0, 38.0, 40.0, 35.0, 34.0, 44.0, 23.0, 43.0, 37.11793090137039, 31.0, 27.0, 46.0, 18.0, 57.0, 15.0, 25.0, 50.0, 31.0, 35.0, 27.0, 20.0, 27.0, 33.0, 27.0, 22.0, 28.0, 31.0, 28.0, 53.0, 30.0, 39.0, 40.0, 30.0, 21.0, 35.0, 21.0, 47.0, 38.0, 36.0, 53.0, 34.0, 34.0, 30.0, 28.0, 47.0, 49.0, 36.0, 45.0, 21.0, 18.0, 25.0, 29.0, 57.0, 34.0, 35.0, 37.11793090137039, 18.0, 62.0, 29.0, 25.0, 30.0, 24.0, 52.0, 33.0, 56.0, 49.0, 20.0, 62.0, 62.0, 6.0, 30.0, 57.0, 18.0, 47.0, 48.0, 20.0, 30.0, 36.0, 51.0, 55.0, 48.0, 20.0, 25.0, 26.0, 45.0, 35.0, 34.0, 36.0, 22.0, 63.0, 31.0, 25.0, 57.0, 32.0, 42.0, 52.0, 25.0, 25.0, 31.0, 39.0, 16.0, 24.0, 32.0, 25.0, 28.0, 28.0, 21.0, 30.0, 58.0, 47.0, 41.0, 25.0, 44.0, 34.0, 27.0, 34.0, 29.0, 39.0, 24.0, 47.0, 45.0, 28.0, 50.0, 49.0, 45.0, 24.0, 32.0, 23.0, 52.0, 37.0, 26.0, 58.0, 50.0, 22.0, 53.0, 69.0, 23.0, 29.0, 25.0, 18.0, 31.0, 23.0, 18.0, 35.0, 27.0, 28.0, 26.0, 32.0, 36.0, 66.0, 21.0, 47.0, 24.0, 60.0, 61.0, 38.0, 51.0, 35.0, 46.0, 48.0, 36.0, 33.0, 66.0, 34.0, 55.0, 54.0, 36.0, 25.0, 24.0, 28.0, 36.0, 20.0, 49.0, 51.0, 21.0, 30.0, 32.0, 33.0, 56.0, 48.0, 39.0, 19.0, 45.0, 33.0, 52.0, 51.0, 37.11793090137039, 25.0, 24.0, 22.0, 32.0, 58.0, 24.0, 26.0, 30.0, 31.0, 34.0, 48.0, 37.11793090137039, 21.0, 39.0, 25.0, 30.0, 56.0, 29.0, 19.0, 35.0, 36.0, 24.0, 23.0, 31.0, 41.0, 55.0, 19.0, 38.0, 36.0, 34.0, 52.0, 28.0, 50.0, 37.11793090137039, 55.0, 23.0, 30.0, 54.0, 37.0, 37.0, 30.0, 27.0, 22.0, 29.0, 39.0, 33.0, 52.0, 28.0, 54.0, 38.0, 32.0, 34.0, 26.0, 50.0, 37.0, 45.0, 56.0, 45.0, 32.0, 12.0, 49.0, 58.0, 29.0, 60.0, 40.0, 39.0, 26.0, 24.0, 34.0, 27.0, 44.0, 25.0, 55.0, 19.0, 52.0, 31.0, 26.0, 24.0, 38.0, 33.0, 28.0, 27.0, 39.0, 29.0, 36.0, 55.0, 28.0, 40.0, 33.0, 37.0, 39.0, 43.0, 38.0, 55.0, 52.0, 32.0, 31.0, 27.0, 40.0, 31.0, 30.0, 26.0, 32.0, 33.0, 19.0, 33.0, 29.0, 41.0, 29.0, 38.0, 64.0, 42.0, 46.0, 42.0, 37.0, 25.0, 36.0, 21.0, 30.0, 53.0, 31.0, 22.0, 24.0, 36.0, 47.0, 54.0, 43.0, 38.0, 30.0, 51.0, 55.0, 16.0, 23.0, 36.0, 33.0, 17.0, 22.0, 22.0, 29.0, 41.0, 67.0, 36.0, 52.0, 56.0, 35.0, 45.0, 30.0, 29.0, 53.0, 32.0, 22.0, 24.0, 19.0, 29.0, 50.0, 29.0, 26.0, 39.0, 52.0, 51.0, 48.0, 30.0, 37.0, 30.0, 35.0, 32.0, 25.0, 35.0, 31.0, 30.0, 23.0, 41.0, 45.0, 46.0, 36.0, 31.0, 32.0, 38.0, 33.0, 45.0, 38.0, 22.0, 48.0, 36.0, 26.0, 39.0, 16.0, 58.0, 27.0, 26.0, 21.0, 37.0, 56.0, 19.0, 38.0, 18.0, 35.0, 23.0, 41.0, 44.0, 24.0, 39.0, 22.0, 37.0, 36.0, 41.0, 27.0, 30.0, 34.0, 22.0, 51.0, 42.0, 41.0, 49.0, 45.0, 45.0, 42.0, 41.0, 27.0, 37.0, 22.0, 21.0, 50.0, 23.0, 25.0, 51.0, 46.0, 23.0, 43.0, 37.0, 20.0, 45.0, 16.0, 30.0, 26.0, 24.0, 38.0, 28.0, 29.0, 34.0, 38.0, 43.0, 23.0, 33.0, 40.0, 38.0, 53.0, 29.0, 30.0, 60.0, 25.0, 24.0, 21.0, 23.0, 61.0, 54.0, 62.0, 16.0, 25.0, 28.0, 76.0, 25.0, 33.0, 51.0, 34.0, 30.0, 44.0, 24.0, 29.0, 48.0, 19.0, 22.0, 39.0, 36.0, 55.0, 46.0, 34.0, 27.0, 33.0, 18.0, 33.0, 51.0, 50.0, 46.0, 33.0, 25.0, 52.0, 18.0, 43.0, 34.0, 31.0, 65.0, 37.0, 30.0, 36.0, 25.0, 69.0, 48.0, 50.0, 52.0, 44.0, 60.0, 40.0, 20.0, 45.0, 44.0, 40.0, 25.0, 43.0, 27.0, 19.0, 39.0, 30.0, 28.0, 22.0, 16.0, 40.0, 38.0, 20.0, 35.0, 52.0, 26.0, 54.0, 38.0, 52.0, 26.0, 53.0, 35.0, 22.0, 31.0, 32.0, 37.0, 28.0, 18.0, 41.0, 15.0, 38.0, 41.0, 52.0, 48.0, 29.0, 51.0, 21.0, 24.0, 18.0, 30.0, 33.0, 60.0, 28.0, 26.0, 24.0, 44.0, 34.0, 21.0, 36.0, 37.0, 53.0, 24.0, 45.0, 48.0, 42.0, 33.0, 55.0, 28.0, 25.0, 28.0, 52.0, 59.0, 52.0, 39.0, 40.0, 36.0, 38.0, 26.0, 37.11793090137039, 29.0, 37.0, 29.0, 21.0, 33.0, 23.0, 26.0, 29.0, 33.0, 28.0, 35.0, 33.0, 24.0, 37.11793090137039, 28.0, 19.0, 43.0, 59.0, 34.0, 35.0, 23.0, 36.0, 46.0, 44.0, 20.0, 30.0, 29.0, 35.0, 36.0, 22.0, 31.0, 63.0, 38.0, 31.0, 27.0, 35.0, 22.0, 28.0, 26.0, 22.0, 31.0, 43.0, 24.0, 29.0, 43.0, 21.0, 19.0, 25.0, 59.0, 50.0, 58.0, 25.0, 32.0, 53.0, 38.0, 70.0, 33.0, 36.0, 21.0, 51.0, 43.0, 18.0, 33.0, 34.0, 31.0, 35.0, 31.0, 31.0, 23.0, 25.0, 25.0, 21.0, 49.0, 63.0, 43.0, 34.0, 38.0, 52.0, 68.0, 29.0, 32.0, 50.0, 31.0, 27.0, 31.0, 29.0, 23.0, 61.0, 33.0, 18.0, 80.0, 43.0, 50.0, 47.0, 54.0, 22.0, 43.0, 38.0, 36.0, 30.0, 59.0, 21.0, 34.0, 17.0, 37.0, 25.0, 23.0, 20.0, 19.0, 50.0, 24.0, 25.0, 20.0, 37.0, 44.0, 22.0, 31.0, 25.0, 37.11793090137039, 36.0, 50.0, 42.0, 42.0, 26.0, 19.0, 59.0, 36.0, 51.0, 27.0, 22.0, 30.0, 28.0, 63.0, 32.0, 26.0, 25.0, 27.0, 61.0, 30.0, 37.11793090137039, 37.0, 41.0, 25.0, 24.0, 44.0, 63.0, 58.0, 30.0, 35.0, 50.0, 40.0, 37.11793090137039, 19.0, 34.0, 18.0, 21.0, 29.0, 49.0, 24.0, 37.0, 32.0, 65.0, 37.0, 33.0, 63.0, 30.0, 40.0, 38.0, 50.0, 41.0, 41.0, 39.0, 44.0, 23.0, 32.0, 56.0, 33.0, 63.0, 31.0, 57.0, 26.0, 39.0, 42.0, 29.0, 43.0, 56.0, 31.0, 50.0, 36.0, 50.0, 49.0, 31.0, 34.0, 36.0, 29.0, 32.0, 18.0, 50.0, 36.0, 17.0, 19.0, 24.0, 24.0, 20.0, 33.0, 41.0, 47.0, 18.0, 31.0, 27.0, 36.0, 40.0, 59.0, 32.0, 38.0, 18.0, 23.0, 43.0, 67.0, 32.0, 22.0, 31.0, 43.0, 34.0, 51.0, 31.0, 54.0, 69.0, 58.0, 26.0, 59.0, 25.0, 20.0, 57.0, 56.0, 64.0, 34.0, 69.0, 45.0, 14.0, 44.0, 59.0, 33.0, 54.0, 22.0, 49.0, 23.0, 38.0, 53.0, 36.0, 29.0, 42.0, 36.0, 32.0, 53.0, 30.0, 25.0, 18.0, 55.0, 27.0, 37.0, 29.0, 40.0, 36.0, 38.0, 29.0, 59.0, 47.0, 22.0, 31.0, 29.0, 54.0, 71.0, 36.0, 34.0, 49.0, 36.0, 43.0, 53.0, 31.0, 32.0, 41.0, 26.0, 82.0, 37.0, 24.0, 35.0, 56.0, 22.0, 59.0, 36.0, 21.0, 38.0, 60.0, 18.0, 23.0, 37.11793090137039, 38.0, 22.0, 38.0, 25.0, 25.0, 36.0, 37.11793090137039, 44.0, 36.0, 35.0, 25.0, 31.0, 70.0, 25.0, 55.0, 35.0, 25.0, 32.0, 38.0, 32.0, 64.0, 55.0, 69.0, 37.0, 31.0, 25.0, 25.0, 13.0, 32.0, 69.0, 34.0, 29.0, 29.0, 40.0, 42.0, 25.0, 45.0, 55.0, 22.0, 61.0, 46.0, 30.0, 56.0, 35.0, 22.0, 23.0, 43.0, 43.0, 49.0, 23.0, 41.0, 33.0, 30.0, 25.0, 52.0, 32.0, 46.0, 48.0, 38.0, 26.0, 32.0, 28.0, 53.0, 38.0, 18.0, 32.0, 37.0, 18.0, 20.0, 28.0, 18.0, 16.0, 36.0, 57.0, 49.0, 31.0, 26.0, 51.0, 28.0, 35.0, 57.0, 36.0, 42.0, 37.11793090137039, 49.0, 21.0, 53.0, 62.0, 41.0, 40.0, 27.0, 19.0, 26.0, 44.0, 30.0, 31.0, 33.0, 22.0, 38.0, 46.0, 23.0, 24.0, 26.0, 26.0, 32.0, 50.0, 17.0, 39.0, 28.0, 66.0, 42.0, 34.0, 38.0, 28.0, 29.0, 23.0, 58.0, 21.0, 45.0, 38.0, 40.0, 19.0, 46.0, 25.0, 25.0, 37.0, 25.0, 36.0, 32.0, 33.0, 24.0, 37.0, 38.0, 45.0, 31.0, 34.0, 23.0, 39.0, 55.0, 31.0, 76.0, 59.0, 40.0, 23.0, 26.0, 35.0, 49.0, 36.0, 56.0, 34.0, 43.0, 31.0, 17.0, 32.0, 33.0, 43.0, 31.0, 23.0, 26.0, 45.0, 19.0, 36.0, 41.0, 53.0, 24.0, 37.11793090137039, 37.11793090137039, 40.0, 29.0, 22.0, 21.0, 25.0, 37.0, 37.0, 56.0, 25.0, 26.0, 35.0, 25.0, 29.0, 21.0, 15.0, 24.0, 18.0, 19.0, 27.0, 45.0, 36.0, 34.0, 23.0, 43.0, 19.0, 37.0, 23.0, 26.0, 20.0, 59.0, 33.0, 48.0, 50.0, 18.0, 23.0, 41.0, 41.0, 55.0, 29.0, 31.0, 25.0, 38.0, 37.11793090137039, 83.0, 22.0, 33.0, 36.0, 26.0, 29.0, 55.0, 47.0, 52.0, 49.0, 37.0, 37.0, 36.0, 31.0, 30.0, 37.11793090137039, 35.0, 35.0, 36.0, 39.0, 30.0, 44.0, 24.0, 53.0, 73.0, 31.0, 28.0, 18.0, 32.0, 60.0, 48.0, 33.0, 44.0, 20.0, 37.0, 72.0, 52.0, 46.0, 25.0, 38.0, 27.0, 24.0, 19.0, 31.0, 18.0, 53.0, 48.0, 29.0, 30.0, 61.0, 71.0, 41.0, 36.0, 28.0, 21.0, 46.0, 32.0, 33.0, 42.0, 17.0, 35.0, 23.0, 21.0, 44.0, 53.0, 63.0, 18.0, 51.0, 64.0, 45.0, 20.0, 41.0, 23.0, 32.0, 25.0, 42.0, 41.0, 31.0, 50.0, 38.0, 44.0, 38.0, 21.0, 32.0, 23.0, 41.0, 41.0, 38.0, 54.0, 20.0, 26.0, 29.0, 47.0, 28.0, 48.0, 34.0, 37.0, 33.0, 36.0, 43.0, 32.0, 29.0, 39.0, 40.0, 21.0, 50.0, 19.0, 28.0, 16.0, 49.0, 44.0, 25.0, 39.0, 44.0, 50.0, 57.0, 57.0, 33.0, 21.0, 52.0, 27.0, 60.0, 25.0, 34.0, 22.0, 26.0, 27.0, 29.0, 30.0, 32.0, 18.0, 37.0, 54.0, 50.0, 28.0, 59.0, 24.0, 34.0, 25.0, 25.0, 17.0, 48.0, 45.0, 18.0, 50.0, 36.0, 45.0, 42.0, 37.11793090137039, 23.0, 31.0, 26.0, 57.0, 18.0, 27.0, 41.0, 33.0, 22.0, 38.0, 26.0, 45.0, 68.0, 56.0, 23.0, 45.0, 41.0, 33.0, 22.0, 50.0, 52.0, 35.0, 18.0, 34.0, 51.0, 18.0, 29.0, 34.0, 25.0, 17.0, 26.0, 33.0, 25.0, 31.0, 25.0, 18.0, 45.0, 25.0, 23.0, 55.0, 37.0, 33.0, 27.0, 32.0, 31.0, 26.0, 32.0, 53.0, 19.0, 53.0, 35.0, 64.0, 24.0, 33.0, 55.0, 17.0, 48.0, 21.0, 22.0, 30.0, 34.0, 35.0, 32.0, 22.0, 46.0, 27.0, 18.0, 33.0, 26.0, 27.0, 26.0, 51.0, 63.0, 38.0, 25.0, 39.0, 41.0, 26.0, 30.0, 33.0, 38.0, 24.0, 47.0, 62.0, 30.0, 33.0, 23.0, 39.0, 41.0, 46.0, 36.0, 66.0, 27.0, 40.0, 25.0, 20.0, 43.0, 40.0, 33.0, 34.0, 27.0, 25.0, 37.0, 32.0, 25.0, 38.0, 50.0, 26.0, 70.0, 38.0, 41.0, 91.0, 25.0, 29.0, 24.0, 40.0, 51.0, 30.0, 28.0, 33.0, 23.0, 23.0, 20.0, 56.0, 36.0, 18.0, 43.0, 16.0, 29.0, 25.0, 34.0, 32.0, 58.0, 36.0, 32.0, 25.0, 59.0, 25.0, 25.0, 42.0, 36.0, 59.0, 21.0, 19.0, 45.0, 42.0, 27.0, 45.0, 51.0, 42.0, 24.0, 39.0, 18.0, 26.0, 35.0, 53.0, 54.0, 36.0, 56.0, 51.0, 45.0, 28.0, 36.0, 73.0, 26.0, 41.0, 59.0, 28.0, 45.0, 27.0, 46.0, 34.0, 30.0, 46.0, 47.0, 32.0, 65.0, 19.0, 22.0, 39.0, 38.0, 68.0, 49.0, 37.0, 33.0, 25.0, 36.0, 30.0, 39.0, 28.0, 28.0, 25.0, 57.0, 33.0, 24.0, 33.0, 56.0, 56.0, 16.0, 47.0, 33.0, 32.0, 21.0, 64.0, 19.0, 26.0, 25.0, 17.0, 55.0, 25.0, 43.0, 39.0, 24.0, 70.0, 79.0, 16.0, 35.0, 15.0, 23.0, 53.0, 20.0, 27.0, 53.0, 32.0, 57.0, 26.0, 53.0, 32.0, 25.0, 15.0, 59.0, 35.0, 33.0, 32.0, 49.0, 46.0, 25.0, 20.0, 48.0, 24.0, 18.0, 67.0, 26.0, 54.0, 15.0, 27.0, 26.0, 62.0, 24.0, 32.0, 29.0, 16.0, 25.0, 40.0, 39.0, 34.0, 36.0, 24.0, 50.0, 50.0, 37.11793090137039, 30.0, 35.0, 46.0, 51.0, 37.0, 41.0, 41.0, 48.0, 27.0, 29.0, 47.0, 34.0, 48.0, 41.0, 25.0, 24.0, 38.0, 28.0, 47.0, 65.0, 58.0, 33.0, 43.0, 24.0, 37.0, 31.0, 65.0, 59.0, 74.0, 21.0, 24.0, 37.11793090137039, 23.0, 59.0, 33.0, 34.0, 30.0, 22.0, 37.0, 20.0, 18.0, 24.0, 17.0, 27.0, 51.0, 29.0, 34.0, 18.0, 17.0, 55.0, 44.0, 27.0, 66.0, 45.0, 47.0, 34.0, 37.0, 54.0, 21.0, 21.0, 35.0, 75.0, 33.0, 45.0, 48.0, 58.0, 30.0, 44.0, 82.0, 29.0, 25.0, 53.0, 60.0, 19.0, 63.0, 50.0, 35.0, 45.0, 24.0, 36.0, 35.0, 33.0, 66.0, 54.0, 20.0, 40.0, 41.0, 30.0, 32.0, 24.0, 37.0, 28.0, 48.0, 30.0, 64.0, 21.0, 28.0, 36.0, 40.0, 32.0, 50.0, 28.0, 33.0, 37.0, 17.0, 20.0, 34.0, 37.0, 24.0, 47.0, 20.0, 56.0, 24.0, 47.0, 36.0, 35.0, 37.0, 45.0, 41.0, 23.0, 37.0, 23.0, 33.0, 23.0, 37.0, 19.0, 39.0, 53.0, 51.0, 25.0, 45.0, 28.0, 36.0, 32.0, 39.0, 46.0, 53.0, 42.0, 34.0, 29.0, 53.0, 45.0, 24.0, 51.0, 35.0, 27.0, 33.0, 16.0, 30.0, 22.0, 23.0, 50.0, 28.0, 34.0, 24.0, 54.0, 26.0, 39.0, 34.0, 27.0, 48.0, 47.0, 54.0, 33.0, 40.0, 58.0, 55.0, 47.0, 42.0, 29.0, 40.0, 23.0, 23.0, 25.0, 52.0, 43.0, 37.0, 32.0, 70.0, 24.0, 24.0, 38.0, 52.0, 27.0, 22.0, 42.0, 49.0, 59.0, 41.0, 34.0, 31.0, 23.0, 28.0, 33.0, 16.0, 35.0, 26.0, 62.0, 25.0, 25.0, 31.0, 35.0, 46.0, 39.0, 26.0, 37.0, 32.0, 31.0, 48.0, 29.0, 32.0, 28.0, 43.0, 39.0, 37.0, 39.0, 42.0, 33.0, 25.0, 29.0, 45.0, 27.0, 28.0, 57.0, 15.0, 33.0, 35.0, 47.0, 31.0, 36.0, 54.0, 24.0, 35.0, 32.0, 28.0, 45.0, 29.0, 36.0, 23.0, 17.0, 20.0, 33.0, 49.0, 31.0, 35.0, 24.0, 54.0, 41.0, 50.0, 46.0, 45.0, 20.0, 37.0, 34.0, 54.0, 65.0, 28.0, 26.0, 25.0, 32.0, 44.0, 32.0, 42.0, 66.0, 22.0, 51.0, 64.0, 30.0, 71.0, 30.0, 48.0, 56.0, 26.0, 28.0, 19.0, 24.0, 44.0, 28.0, 47.0, 18.0, 26.0, 33.0, 34.0, 62.0, 24.0, 55.0, 22.0, 46.0, 27.0, 32.0, 22.0, 54.0, 32.0, 45.0, 36.0, 37.0, 47.0, 30.0, 31.0, 44.0, 52.0, 16.0, 29.0, 42.0, 31.0, 41.0, 45.0, 50.0, 26.0, 22.0, 76.0, 58.0, 32.0, 19.0, 25.0, 48.0, 39.0, 31.0, 50.0, 15.0, 48.0, 32.0, 21.0, 37.0, 21.0, 40.0, 33.0, 25.0, 55.0, 53.0, 27.0, 35.0, 25.0, 31.0, 70.0, 40.0, 25.0, 38.0, 26.0, 27.0, 37.11793090137039, 28.0, 40.0, 44.0, 39.0, 24.0, 32.0, 31.0, 50.0, 31.0, 50.0, 45.0, 44.0, 48.0, 39.0, 30.0, 44.0, 28.0, 24.0, 27.0, 34.0, 41.0, 26.0, 38.0, 33.0, 22.0, 40.0, 34.0, 48.0, 37.0, 67.0, 35.0, 29.0, 28.0, 40.0, 31.0, 51.0, 47.0, 52.0, 28.0, 35.0, 25.0, 37.11793090137039, 34.0, 58.0, 24.0, 22.0, 46.0, 61.0, 43.0, 44.0, 35.0, 29.0, 57.0, 42.0, 44.0, 20.0, 32.0, 34.0, 18.0, 31.0, 24.0, 35.0, 34.0, 26.0, 55.0, 38.0, 23.0, 30.0, 44.0, 37.0, 27.0, 43.0, 25.0, 30.0, 35.0, 31.0, 35.0, 37.0, 25.0, 34.0, 33.0, 33.0, 32.0, 34.0, 46.0, 40.0, 27.0, 17.0, 46.0, 50.0, 41.0, 23.0, 33.0, 25.0, 27.0, 39.0, 22.0, 37.0, 27.0, 28.0, 56.0, 71.0, 53.0, 39.0, 56.0, 24.0, 35.0, 30.0, 31.0, 20.0, 35.0, 31.0, 49.0, 54.0, 48.0, 32.0, 35.0, 30.0, 32.0, 31.0, 14.0, 25.0, 32.0, 35.0, 27.0, 23.0, 55.0, 43.0, 62.0, 25.0, 37.11793090137039, 50.0, 19.0, 41.0, 55.0, 19.0, 67.0, 24.0, 44.0, 29.0, 48.0, 22.0, 37.11793090137039, 59.0, 68.0, 25.0, 23.0, 46.0, 25.0, 30.0, 56.0, 24.0, 18.0, 27.0, 26.0, 15.0, 26.0, 32.0, 17.0, 32.0, 43.0, 26.0, 51.0, 39.0, 43.0, 31.0, 22.0, 40.0, 64.0, 30.0, 59.0, 24.0, 32.0, 37.0, 33.0, 42.0, 37.0, 33.0, 62.0, 46.0, 69.0, 24.0, 42.0, 49.0, 35.0, 19.0, 40.0, 34.0, 22.0, 16.0, 69.0, 24.0, 28.0, 51.0, 20.0, 34.0, 27.0, 48.0, 33.0, 6.0, 26.0, 40.0, 46.0, 20.0, 28.0, 30.0, 36.0, 25.0, 28.0, 38.0, 30.0, 31.0, 36.0, 65.0, 42.0, 65.0, 30.0, 49.0, 66.0, 28.0, 27.0, 31.0, 46.0, 28.0, 35.0, 24.0, 17.0, 39.0, 21.0, 21.0, 57.0, 27.0, 62.0, 40.0, 38.0, 27.0, 54.0, 27.0, 51.0, 25.0, 46.0, 20.0, 32.0, 27.0, 21.0, 60.0, 44.0, 23.0, 31.0, 43.0, 39.0, 54.0, 22.0, 37.0, 42.0, 22.0, 42.0, 32.0, 30.0, 53.0, 27.0, 72.0, 29.0, 34.0, 26.0, 22.0, 16.0, 31.0, 58.0, 23.0, 44.0, 46.0, 61.0, 17.0, 46.0, 35.0, 36.0, 28.0, 37.0, 47.0, 35.0, 40.0, 24.0, 18.0, 38.0, 54.0, 27.0, 62.0, 66.0, 47.0, 19.0, 27.0, 23.0, 42.0, 43.0, 42.0, 45.0, 21.0, 43.0, 45.0, 33.0, 38.0, 33.0, 46.0, 52.0, 46.0, 40.0, 20.0, 39.0, 35.0, 31.0, 32.0, 56.0, 37.0, 32.0, 28.0, 26.0, 27.0, 37.11793090137039, 43.0, 49.0, 16.0, 35.0, 19.0, 59.0, 29.0, 37.0, 22.0, 40.0, 35.0, 39.0, 36.0, 78.0, 25.0, 41.0, 63.0, 48.0, 42.0, 39.0, 84.0, 33.0, 52.0, 48.0, 30.0, 29.0, 27.0, 41.0, 57.0, 27.0, 58.0, 59.0, 39.0, 28.0, 28.0, 23.0, 55.0, 33.0, 23.0, 45.0, 37.0, 21.0, 27.0, 39.0, 37.0, 22.0, 26.0, 27.0, 37.0, 58.0, 62.0, 25.0, 36.0, 37.11793090137039, 27.0, 37.0, 25.0, 40.0, 22.0, 29.0, 20.0, 33.0, 48.0, 47.0, 40.0, 29.0, 29.0, 44.0, 36.0, 48.0, 49.0, 38.0, 41.0, 37.11793090137039, 28.0, 33.0, 44.0, 65.0, 35.0, 25.0, 40.0, 36.0, 55.0, 19.0, 70.0, 37.0, 53.0, 84.0, 46.0, 29.0, 27.0, 32.0, 27.0, 38.0, 20.0, 45.0, 32.0, 48.0, 57.0, 34.0, 16.0, 47.0, 61.0, 32.0, 31.0, 46.0, 27.0, 31.0, 26.0, 31.0, 27.0, 49.0, 26.0, 28.0, 62.0, 50.0, 23.0, 40.0, 50.0, 50.0, 27.0, 35.0, 32.0, 56.0, 20.0, 56.0, 39.0, 47.0, 25.0, 21.0, 18.0, 36.0, 35.0, 29.0, 20.0, 30.0, 40.0, 48.0, 23.0, 42.0, 20.0, 25.0, 28.0, 34.0, 41.0, 24.0, 29.0, 33.0, 44.0, 31.0, 26.0, 51.0, 64.0, 29.0, 61.0, 44.0, 39.0, 35.0, 39.0, 60.0, 42.0, 27.0, 21.0, 33.0, 60.0, 24.0, 41.0, 41.0, 34.0, 23.0, 38.0, 58.0, 49.0, 27.0, 34.0, 34.0, 44.0, 30.0, 81.0, 40.0, 27.0, 26.0, 18.0, 59.0, 56.0, 22.0, 34.0, 23.0, 36.0, 48.0, 33.0, 24.0, 25.0, 20.0, 45.0, 29.0, 34.0, 23.0, 29.0, 44.0, 30.0, 28.0, 71.0, 25.0, 61.0, 39.0, 50.0, 37.11793090137039, 23.0, 39.0, 45.0, 34.0, 31.0, 55.0, 39.0, 32.0, 44.0, 24.0, 36.0, 41.0, 25.0, 39.0, 40.0, 32.0, 45.0, 31.0, 32.0, 48.0, 49.0, 48.0, 18.0, 48.0, 25.0, 27.0, 37.0, 44.0, 27.0, 41.0, 42.0, 36.0, 37.0, 56.0, 36.0, 46.0, 26.0, 41.0, 38.0, 42.0, 47.0, 26.0, 64.0, 49.0, 44.0, 48.0, 27.0, 67.0, 24.0, 26.0, 28.0, 21.0, 24.0, 21.0, 73.0, 39.0, 32.0, 38.0, 32.0, 26.0, 55.0, 50.0, 49.0, 48.0, 65.0, 37.0, 45.0, 33.0, 46.0, 33.0, 33.0, 51.0, 52.0, 24.0, 55.0, 28.0, 36.0, 24.0, 20.0, 54.0, 53.0, 36.0, 24.0, 34.0, 59.0, 34.0, 29.0, 24.0, 77.0, 30.0, 36.0, 36.0, 58.0, 47.0, 49.0, 31.0, 25.0, 37.11793090137039, 30.0, 33.0, 29.0, 31.0, 51.0, 42.0, 67.0, 23.0, 34.0, 51.0, 19.0, 29.0, 23.0, 46.0, 42.0, 21.0, 55.0, 37.11793090137039, 43.0, 32.0, 34.0, 40.0, 55.0, 20.0, 24.0, 43.0, 56.0, 47.0, 33.0, 20.0, 28.0, 50.0, 36.0, 47.0, 36.0, 49.0, 34.0, 41.0, 29.0, 34.0, 34.0, 22.0, 26.0, 32.0, 44.0, 21.0, 29.0, 18.0, 33.0, 28.0, 37.11793090137039, 40.0, 40.0, 37.0, 47.0, 33.0, 44.0, 65.0, 20.0, 17.0, 55.0, 33.0, 44.0, 37.0, 32.0, 31.0, 20.0, 30.0, 25.0, 47.0, 48.0, 32.0, 18.0, 29.0, 30.0, 39.0, 36.0, 36.0, 54.0, 27.0, 45.0, 19.0, 36.0, 33.0, 56.0, 33.0, 60.0, 26.0, 52.0, 40.0, 33.0, 41.0, 32.0, 34.0, 26.0, 62.0, 33.0, 55.0, 38.0, 43.0, 38.0, 27.0, 52.0, 37.0, 34.0, 41.0, 40.0, 53.0, 21.0, 34.0, 22.0, 25.0, 16.0, 37.0, 68.0, 25.0, 34.0, 23.0, 25.0, 57.0, 27.0, 51.0, 30.0, 33.0, 37.11793090137039, 19.0, 22.0, 37.0, 19.0, 33.0, 38.0, 45.0, 39.0, 21.0, 56.0, 27.0, 50.0, 16.0, 18.0, 38.0, 32.0, 33.0, 71.0, 30.0, 39.0, 19.0, 44.0, 54.0, 29.0, 37.11793090137039, 56.0, 64.0, 25.0, 18.0, 36.0, 24.0, 30.0, 53.0, 60.0, 32.0, 25.0, 44.0, 32.0, 33.0, 37.11793090137039, 35.0, 23.0, 27.0, 53.0, 35.0, 41.0, 18.0, 34.0, 49.0, 31.0, 29.0, 33.0, 38.0, 43.0, 29.0, 68.0, 62.0, 39.0, 59.0, 24.0, 70.0, 42.0, 26.0, 24.0, 48.0, 54.0, 48.0, 37.0, 40.0, 28.0, 43.0, 35.0, 21.0, 40.0, 32.0, 48.0, 31.0, 37.11793090137039, 58.0, 30.0, 21.0, 15.0, 30.0, 28.0, 21.0, 33.0, 37.11793090137039, 36.0, 38.0, 34.0, 23.0, 44.0, 20.0, 41.0, 18.0, 29.0, 37.0, 41.0, 25.0, 20.0, 34.0, 37.0, 18.0, 72.0, 17.0, 45.0, 49.0, 64.0, 36.0, 61.0, 24.0, 70.0, 40.0, 21.0, 27.0, 23.0, 33.0, 45.0, 19.0, 28.0, 63.0, 37.11793090137039, 39.0, 57.0, 32.0, 38.0, 46.0, 31.0, 40.0, 31.0, 50.0, 29.0, 25.0, 31.0, 23.0, 54.0, 44.0, 43.0, 37.0, 55.0, 40.0, 26.0, 29.0, 29.0, 42.0, 20.0, 34.0, 41.0, 29.0, 19.0, 32.0, 23.0, 41.0, 37.0, 24.0, 54.0, 58.0, 40.0, 27.0, 40.0, 23.0, 33.0, 26.0, 36.0, 38.0, 25.0, 31.0, 48.0, 43.0, 36.0, 39.0, 22.0, 24.0, 36.0, 25.0, 30.0, 76.0, 39.0, 49.0, 21.0, 31.0, 22.0, 27.0, 26.0, 84.0, 17.0, 17.0, 22.0, 41.0, 58.0, 29.0, 19.0, 18.0, 61.0, 18.0, 23.0, 38.0, 19.0, 63.0, 21.0, 25.0, 35.0, 50.0, 34.0, 37.11793090137039, 26.0, 61.0, 18.0, 37.0, 27.0, 24.0, 37.0, 28.0, 44.0, 30.0, 30.0, 34.0, 27.0, 28.0, 42.0, 32.0, 24.0, 17.0, 26.0, 35.0, 25.0, 33.0, 25.0, 29.0, 18.0, 19.0, 39.0, 61.0, 36.0, 72.0, 48.0, 34.0, 36.0, 33.0, 30.0, 61.0, 41.0, 52.0, 26.0, 37.11793090137039, 39.0, 36.0, 47.0, 37.11793090137039, 25.0, 63.0, 24.0, 38.0, 22.0, 59.0, 29.0, 18.0, 29.0, 25.0, 48.0, 60.0, 27.0, 65.0, 41.0, 33.0, 33.0, 22.0, 52.0, 42.0, 48.0, 24.0, 21.0, 20.0, 59.0, 46.0, 23.0, 32.0, 19.0, 64.0, 35.0, 41.0, 42.0, 35.0, 33.0, 32.0, 37.0, 37.0, 65.0, 30.0, 43.0, 18.0, 27.0, 41.0, 41.0, 33.0, 53.0, 42.0, 46.0, 51.0, 16.0, 41.0, 24.0, 23.0, 50.0, 41.0, 23.0, 33.0, 25.0, 30.0, 58.0, 47.0, 22.0, 27.0, 29.0, 43.0, 18.0, 19.0, 37.0, 42.0, 35.0, 50.0, 60.0, 35.0, 47.0, 37.11793090137039, 31.0, 24.0, 27.0, 27.0, 23.0, 57.0, 56.0, 36.0, 37.11793090137039, 37.11793090137039, 24.0, 34.0, 17.0, 21.0, 35.0, 34.0, 56.0, 35.0, 46.0, 42.0, 49.0, 44.0, 45.0, 36.0, 45.0, 34.0, 26.0, 28.0, 35.0, 20.0, 33.0, 39.0, 63.0, 27.0, 33.0, 27.0, 31.0, 33.0, 39.0, 27.0, 32.0, 29.0, 28.0, 50.0, 55.0, 42.0, 36.0, 38.0, 38.0, 35.0, 42.0, 70.0, 29.0, 26.0, 20.0, 30.0, 19.0, 48.0, 58.0, 38.0, 28.0, 34.0, 45.0, 18.0, 25.0, 38.0, 33.0, 39.0, 58.0, 48.0, 14.0, 18.0, 22.0, 46.0, 37.11793090137039, 37.11793090137039, 57.0, 32.0, 31.0, 64.0, 35.0, 42.0, 30.0, 26.0, 37.0, 21.0, 20.0, 46.0, 37.11793090137039, 20.0, 46.0, 24.0, 26.0, 60.0, 25.0, 29.0, 58.0, 59.0, 46.0, 55.0, 27.0, 30.0, 45.0, 51.0, 27.0, 47.0, 52.0, 45.0, 47.0, 68.0, 40.0, 18.0, 35.0, 80.0, 44.0, 31.0, 20.0, 43.0, 25.0, 38.0, 34.0, 58.0, 38.0, 29.0, 40.0, 49.0, 25.0, 21.0, 57.0, 28.0, 25.0, 58.0, 34.0, 34.0, 24.0, 32.0, 58.0, 20.0, 19.0, 46.0, 28.0, 47.0, 47.0, 34.0, 37.11793090137039, 45.0, 17.0, 34.0, 48.0, 32.0, 20.0, 31.0, 16.0, 24.0, 39.0, 26.0, 30.0, 36.0, 28.0, 21.0, 36.0, 28.0, 24.0, 29.0, 44.0, 41.0, 38.0, 40.0, 20.0, 27.0, 51.0, 48.0, 40.0, 29.0, 34.0, 20.0, 47.0, 29.0, 33.0, 46.0, 35.0, 36.0, 63.0, 27.0, 17.0, 22.0, 21.0, 31.0, 56.0, 32.0, 25.0, 47.0, 37.11793090137039, 23.0, 34.0, 51.0, 35.0, 46.0, 59.0, 30.0, 34.0, 44.0, 31.0, 51.0, 34.0, 45.0, 32.0, 31.0, 41.0, 29.0, 47.0, 30.0, 27.0, 38.0, 33.0, 25.0, 47.0, 49.0, 33.0, 36.0, 22.0, 29.0, 52.0, 61.0, 29.0, 37.0, 26.0, 19.0, 45.0, 22.0, 57.0, 46.0, 27.0, 26.0, 30.0, 18.0, 25.0, 51.0, 40.0, 47.0, 38.0, 39.0, 30.0, 42.0, 25.0, 22.0, 30.0, 33.0, 24.0, 31.0, 25.0, 28.0, 19.0, 31.0, 48.0, 53.0, 50.0, 55.0, 37.11793090137039, 37.0, 30.0, 36.0, 24.0, 35.0, 42.0, 37.0, 28.0, 32.0, 33.0, 27.0, 21.0, 47.0, 57.0, 34.0, 34.0, 30.0, 29.0, 28.0, 39.0, 54.0, 27.0, 32.0, 32.0, 47.0, 33.0, 42.0, 37.11793090137039, 24.0, 42.0, 34.0, 46.0, 40.0, 30.0, 42.0, 30.0, 63.0, 18.0, 29.0, 42.0, 32.0, 50.0, 29.0, 29.0, 51.0, 23.0, 47.0, 45.0, 42.0, 26.0, 29.0, 49.0, 17.0, 37.11793090137039, 45.0, 51.0, 37.0, 28.0, 52.0, 37.0, 37.0, 25.0, 35.0, 35.0, 61.0, 33.0, 34.0, 59.0, 32.0, 49.0, 31.0, 29.0, 25.0, 26.0, 37.11793090137039, 39.0, 26.0, 36.0, 45.0, 45.0, 54.0, 43.0, 37.11793090137039, 30.0, 37.11793090137039, 58.0, 39.0, 40.0, 36.0, 27.0, 20.0, 17.0, 59.0, 47.0, 45.0, 34.0, 46.0, 26.0, 21.0, 29.0, 33.0, 47.0, 22.0, 41.0, 28.0, 56.0, 41.0, 35.0, 59.0, 30.0, 49.0, 41.0, 21.0, 62.0, 32.0, 22.0, 58.0, 32.0, 26.0, 35.0, 27.0, 35.0, 23.0, 59.0, 23.0, 43.0, 41.0, 56.0, 45.0, 28.0, 37.11793090137039, 54.0, 39.0, 37.11793090137039, 41.0, 27.0, 70.0, 37.11793090137039, 35.0, 26.0, 58.0, 46.0, 39.0, 33.0, 20.0, 38.0, 41.0, 32.0, 37.11793090137039, 24.0, 19.0, 27.0, 40.0, 61.0, 20.0, 35.0, 17.0, 22.0, 45.0, 20.0, 18.0, 28.0, 38.0, 53.0, 31.0, 48.0, 20.0, 35.0, 22.0, 18.0, 74.0, 33.0, 38.0, 26.0, 41.0, 29.0, 19.0, 61.0, 34.0, 35.0, 43.0, 50.0, 32.0, 50.0, 54.0, 35.0, 33.0, 18.0, 50.0, 41.0, 37.0, 76.0, 19.0, 40.0, 61.0, 61.0, 22.0, 52.0, 23.0, 67.0, 44.0, 23.0, 39.0, 53.0, 39.0, 26.0, 38.0, 49.0, 34.0, 47.0, 34.0, 58.0, 17.0, 21.0, 37.0, 43.0, 61.0, 28.0, 41.0, 23.0, 36.0, 23.0, 26.0, 32.0, 62.0, 33.0, 32.0, 69.0, 35.0, 46.0, 46.0, 22.0, 20.0, 30.0, 49.0, 43.0, 52.0, 56.0, 36.0, 40.0, 52.0, 35.0, 35.0, 53.0, 23.0, 19.0, 41.0, 39.0, 28.0, 28.0, 37.11793090137039, 53.0, 27.0, 31.0, 38.0, 38.0, 41.0, 49.0, 56.0, 62.0, 31.0, 37.0, 37.11793090137039, 28.0, 46.0, 21.0, 30.0, 36.0, 48.0, 34.0, 45.0, 19.0, 32.0, 32.0, 24.0, 65.0, 29.0, 49.0, 19.0, 56.0, 39.0, 43.0, 57.0, 49.0, 18.0, 27.0, 52.0, 37.0, 45.0, 49.0, 38.0, 31.0, 51.0, 37.11793090137039, 51.0, 20.0, 26.0, 25.0, 37.11793090137039, 62.0, 27.0, 33.0, 39.0, 18.0, 27.0, 50.0, 57.0, 29.0, 39.0, 31.0, 34.0, 52.0, 33.0, 37.0, 52.0, 62.0, 30.0, 28.0, 51.0, 23.0, 36.0, 37.0, 49.0, 49.0, 35.0, 17.0, 30.0, 34.0, 46.0, 29.0, 28.0, 43.0, 42.0, 30.0, 24.0, 27.0, 41.0, 47.0, 26.0, 20.0, 18.0, 37.11793090137039, 29.0, 35.0, 77.0, 31.0, 54.0, 33.0, 76.0, 28.0, 31.0, 53.0, 33.0, 37.0, 57.0, 36.0, 39.0, 43.0, 44.0, 33.0, 49.0, 18.0, 21.0, 57.0, 29.0, 58.0, 74.0, 63.0, 28.0, 67.0, 64.0, 32.0, 49.0, 28.0, 31.0, 20.0, 27.0, 38.0, 37.0, 36.0, 35.0, 50.0, 75.0, 32.0, 34.0, 24.0, 37.0, 33.0, 37.0, 55.0, 31.0, 54.0, 37.0, 48.0, 28.0, 31.0, 48.0, 58.0, 19.0, 28.0, 21.0, 57.0, 17.0, 22.0, 26.0, 31.0, 61.0, 54.0, 28.0, 30.0, 30.0, 28.0, 26.0, 28.0, 21.0, 31.0, 27.0, 34.0, 22.0, 29.0, 38.0, 51.0, 34.0, 30.0, 33.0, 21.0, 39.0, 37.0, 34.0, 47.0, 29.0, 29.0, 44.0, 53.0, 45.0, 19.0, 40.0, 33.0, 45.0, 40.0, 27.0, 63.0, 50.0, 25.0, 39.0, 42.0, 25.0, 24.0, 37.11793090137039, 37.11793090137039, 62.0, 34.0, 33.0, 56.0, 22.0, 46.0, 41.0, 38.0, 22.0, 42.0, 29.0, 56.0, 32.0, 31.0, 21.0, 31.0, 48.0, 58.0, 32.0, 45.0, 37.0, 20.0, 34.0, 31.0, 26.0, 32.0, 66.0, 37.0, 38.0, 44.0, 28.0, 22.0, 59.0, 20.0, 39.0, 30.0, 27.0, 37.11793090137039, 37.0, 52.0, 35.0, 33.0, 27.0, 27.0, 41.0, 28.0, 26.0, 37.11793090137039, 34.0, 34.0, 38.0, 32.0, 50.0, 55.0, 51.0, 18.0, 42.0, 36.0, 37.0, 28.0, 24.0, 34.0, 22.0, 42.0, 48.0, 51.0, 40.0, 34.0, 30.0, 31.0, 54.0, 60.0, 40.0, 37.11793090137039, 40.0, 68.0, 68.0, 60.0, 16.0, 25.0, 20.0, 21.0, 38.0, 28.0, 18.0, 37.11793090137039, 26.0, 31.0, 58.0, 31.0, 41.0, 41.0, 41.0, 23.0, 17.0, 35.0, 65.0, 51.0, 47.0, 42.0, 42.0, 31.0, 23.0, 50.0, 47.0, 66.0, 55.0, 68.0, 31.0, 24.0, 30.0, 34.0, 23.0, 43.0, 22.0, 22.0, 42.0, 65.0, 18.0, 23.0, 52.0, 40.0, 27.0, 34.0, 25.0, 28.0, 37.11793090137039, 27.0, 41.0, 27.0, 38.0, 29.0, 47.0, 28.0, 38.0, 21.0, 44.0, 61.0, 25.0, 40.0, 26.0, 57.0, 57.0, 24.0, 46.0, 38.0, 24.0, 34.0, 65.0, 60.0, 59.0, 23.0, 35.0, 35.0, 16.0, 37.11793090137039, 42.0, 43.0, 52.0, 31.0, 27.0, 31.0, 34.0, 29.0, 34.0, 37.11793090137039, 18.0, 51.0, 25.0, 28.0, 37.0, 37.11793090137039, 23.0, 57.0, 49.0, 24.0, 20.0, 25.0, 26.0, 26.0, 41.0, 31.0, 30.0, 25.0, 57.0, 17.0, 27.0, 30.0, 18.0, 50.0, 21.0, 28.0, 28.0, 33.0, 59.0, 34.0, 37.0, 30.0, 47.0, 34.0, 24.0, 25.0, 37.11793090137039, 47.0, 49.0, 31.0, 47.0, 52.0, 29.0, 45.0, 51.0, 55.0, 35.0, 50.0, 31.0, 47.0, 35.0, 66.0, 19.0, 19.0, 43.0, 57.0, 31.0, 41.0, 39.0, 24.0, 20.0, 32.0, 31.0, 22.0, 60.0, 40.0, 37.0, 34.0, 22.0, 30.0, 26.0, 29.0, 32.0, 32.0, 27.0, 31.0, 35.0, 19.0, 34.0, 32.0, 43.0, 22.0, 43.0, 27.0, 39.0, 37.0, 20.0, 34.0, 32.0, 15.0, 52.0, 53.0, 24.0, 41.0, 17.0, 44.0, 56.0, 23.0, 32.0, 26.0, 41.0, 56.0, 33.0, 37.0, 41.0, 38.0, 67.0, 45.0, 48.0, 31.0, 47.0, 40.0, 40.0, 34.0, 51.0, 33.0, 25.0, 41.0, 19.0, 21.0, 58.0, 63.0, 37.11793090137039, 58.0, 16.0, 31.0, 33.0, 40.0, 34.0, 29.0, 27.0, 23.0, 38.0, 17.0, 75.0, 40.0, 36.0, 27.0, 28.0, 20.0, 38.0, 16.0, 30.0, 30.0, 30.0, 36.0, 33.0, 39.0, 22.0, 49.0, 45.0, 45.0, 30.0, 30.0, 31.0, 73.0, 39.0, 37.0, 37.11793090137039, 31.0, 25.0, 24.0, 27.0, 37.11793090137039, 32.0, 43.0, 84.0, 29.0, 31.0, 57.0, 37.0, 29.0, 47.0, 44.0, 38.0, 32.0, 26.0, 21.0, 47.0, 30.0, 62.0, 41.0, 50.0, 37.11793090137039, 31.0, 30.0, 32.0, 20.0, 38.0, 25.0, 47.0, 19.0, 35.0, 58.0, 18.0, 42.0, 39.0, 61.0, 51.0, 28.0, 33.0, 47.0, 39.0, 31.0, 18.0, 23.0, 46.0, 50.0, 34.0, 32.0, 45.0, 31.0, 19.0, 53.0, 55.0, 32.0, 46.0, 26.0, 46.0, 22.0, 38.0, 44.0, 37.0, 52.0, 29.0, 19.0, 66.0, 40.0, 30.0, 69.0, 27.0, 62.0, 37.11793090137039, 39.0, 67.0, 54.0, 29.0, 33.0, 31.0, 38.0, 28.0, 45.0, 59.0, 17.0, 19.0, 36.0, 39.0, 37.11793090137039, 33.0, 31.0, 29.0, 51.0, 35.0, 36.0, 31.0, 39.0, 58.0, 39.0, 24.0, 48.0, 31.0, 37.11793090137039, 43.0, 33.0, 24.0, 40.0, 28.0, 24.0, 27.0, 40.0, 35.0, 42.0, 42.0, 24.0, 59.0, 61.0, 26.0, 32.0, 50.0, 38.0, 29.0, 27.0, 43.0, 21.0, 36.0, 24.0, 32.0, 26.0, 54.0, 44.0, 69.0, 45.0, 26.0, 43.0, 38.0, 21.0, 23.0, 56.0, 33.0, 40.0, 21.0, 20.0, 21.0, 47.0, 38.0, 31.0, 51.0, 19.0, 21.0, 48.0, 42.0, 30.0, 47.0, 57.0, 27.0, 50.0, 37.0, 24.0, 24.0, 30.0, 49.0, 47.0, 31.0, 33.0, 29.0, 42.0, 38.0, 25.0, 39.0, 64.0, 28.0, 32.0, 69.0, 29.0, 45.0, 40.0, 60.0, 22.0, 28.0, 38.0, 28.0, 37.0, 22.0, 42.0, 18.0, 38.0, 58.0, 50.0, 31.0, 35.0, 53.0, 31.0, 35.0, 22.0, 37.11793090137039, 32.0, 39.0, 44.0, 46.0, 49.0, 32.0, 53.0, 25.0, 36.0, 22.0, 33.0, 39.0, 44.0, 25.0, 36.0, 42.0, 24.0, 22.0, 35.0, 38.0, 28.0, 26.0, 62.0, 27.0, 23.0, 25.0, 22.0, 31.0]}],                        {\"template\": {\"data\": {\"bar\": [{\"error_x\": {\"color\": \"#2a3f5f\"}, \"error_y\": {\"color\": \"#2a3f5f\"}, \"marker\": {\"line\": {\"color\": \"#E5ECF6\", \"width\": 0.5}}, \"type\": \"bar\"}], \"barpolar\": [{\"marker\": {\"line\": {\"color\": \"#E5ECF6\", \"width\": 0.5}}, \"type\": \"barpolar\"}], \"carpet\": [{\"aaxis\": {\"endlinecolor\": \"#2a3f5f\", \"gridcolor\": \"white\", \"linecolor\": \"white\", \"minorgridcolor\": \"white\", \"startlinecolor\": \"#2a3f5f\"}, \"baxis\": {\"endlinecolor\": \"#2a3f5f\", \"gridcolor\": \"white\", \"linecolor\": \"white\", \"minorgridcolor\": \"white\", \"startlinecolor\": \"#2a3f5f\"}, \"type\": \"carpet\"}], \"choropleth\": [{\"colorbar\": {\"outlinewidth\": 0, \"ticks\": \"\"}, \"type\": \"choropleth\"}], \"contour\": [{\"colorbar\": {\"outlinewidth\": 0, \"ticks\": \"\"}, \"colorscale\": [[0.0, \"#0d0887\"], [0.1111111111111111, \"#46039f\"], [0.2222222222222222, \"#7201a8\"], [0.3333333333333333, \"#9c179e\"], [0.4444444444444444, \"#bd3786\"], [0.5555555555555556, \"#d8576b\"], [0.6666666666666666, \"#ed7953\"], [0.7777777777777778, \"#fb9f3a\"], [0.8888888888888888, \"#fdca26\"], [1.0, \"#f0f921\"]], \"type\": \"contour\"}], \"contourcarpet\": [{\"colorbar\": {\"outlinewidth\": 0, \"ticks\": \"\"}, \"type\": \"contourcarpet\"}], \"heatmap\": [{\"colorbar\": {\"outlinewidth\": 0, \"ticks\": \"\"}, \"colorscale\": [[0.0, \"#0d0887\"], [0.1111111111111111, \"#46039f\"], [0.2222222222222222, \"#7201a8\"], [0.3333333333333333, \"#9c179e\"], [0.4444444444444444, \"#bd3786\"], [0.5555555555555556, \"#d8576b\"], [0.6666666666666666, \"#ed7953\"], [0.7777777777777778, \"#fb9f3a\"], [0.8888888888888888, \"#fdca26\"], [1.0, \"#f0f921\"]], \"type\": \"heatmap\"}], \"heatmapgl\": [{\"colorbar\": {\"outlinewidth\": 0, \"ticks\": \"\"}, \"colorscale\": [[0.0, \"#0d0887\"], [0.1111111111111111, \"#46039f\"], [0.2222222222222222, \"#7201a8\"], [0.3333333333333333, \"#9c179e\"], [0.4444444444444444, \"#bd3786\"], [0.5555555555555556, \"#d8576b\"], [0.6666666666666666, \"#ed7953\"], [0.7777777777777778, \"#fb9f3a\"], [0.8888888888888888, \"#fdca26\"], [1.0, \"#f0f921\"]], \"type\": \"heatmapgl\"}], \"histogram\": [{\"marker\": {\"colorbar\": {\"outlinewidth\": 0, \"ticks\": \"\"}}, \"type\": \"histogram\"}], \"histogram2d\": [{\"colorbar\": {\"outlinewidth\": 0, \"ticks\": \"\"}, \"colorscale\": [[0.0, \"#0d0887\"], [0.1111111111111111, \"#46039f\"], [0.2222222222222222, \"#7201a8\"], [0.3333333333333333, \"#9c179e\"], [0.4444444444444444, \"#bd3786\"], [0.5555555555555556, \"#d8576b\"], [0.6666666666666666, \"#ed7953\"], [0.7777777777777778, \"#fb9f3a\"], [0.8888888888888888, \"#fdca26\"], [1.0, \"#f0f921\"]], \"type\": \"histogram2d\"}], \"histogram2dcontour\": [{\"colorbar\": {\"outlinewidth\": 0, \"ticks\": \"\"}, \"colorscale\": [[0.0, \"#0d0887\"], [0.1111111111111111, \"#46039f\"], [0.2222222222222222, \"#7201a8\"], [0.3333333333333333, \"#9c179e\"], [0.4444444444444444, \"#bd3786\"], [0.5555555555555556, \"#d8576b\"], [0.6666666666666666, \"#ed7953\"], [0.7777777777777778, \"#fb9f3a\"], [0.8888888888888888, \"#fdca26\"], [1.0, \"#f0f921\"]], \"type\": \"histogram2dcontour\"}], \"mesh3d\": [{\"colorbar\": {\"outlinewidth\": 0, \"ticks\": \"\"}, \"type\": \"mesh3d\"}], \"parcoords\": [{\"line\": {\"colorbar\": {\"outlinewidth\": 0, \"ticks\": \"\"}}, \"type\": \"parcoords\"}], \"pie\": [{\"automargin\": true, \"type\": \"pie\"}], \"scatter\": [{\"marker\": {\"colorbar\": {\"outlinewidth\": 0, \"ticks\": \"\"}}, \"type\": \"scatter\"}], \"scatter3d\": [{\"line\": {\"colorbar\": {\"outlinewidth\": 0, \"ticks\": \"\"}}, \"marker\": {\"colorbar\": {\"outlinewidth\": 0, \"ticks\": \"\"}}, \"type\": \"scatter3d\"}], \"scattercarpet\": [{\"marker\": {\"colorbar\": {\"outlinewidth\": 0, \"ticks\": \"\"}}, \"type\": \"scattercarpet\"}], \"scattergeo\": [{\"marker\": {\"colorbar\": {\"outlinewidth\": 0, \"ticks\": \"\"}}, \"type\": \"scattergeo\"}], \"scattergl\": [{\"marker\": {\"colorbar\": {\"outlinewidth\": 0, \"ticks\": \"\"}}, \"type\": \"scattergl\"}], \"scattermapbox\": [{\"marker\": {\"colorbar\": {\"outlinewidth\": 0, \"ticks\": \"\"}}, \"type\": \"scattermapbox\"}], \"scatterpolar\": [{\"marker\": {\"colorbar\": {\"outlinewidth\": 0, \"ticks\": \"\"}}, \"type\": \"scatterpolar\"}], \"scatterpolargl\": [{\"marker\": {\"colorbar\": {\"outlinewidth\": 0, \"ticks\": \"\"}}, \"type\": \"scatterpolargl\"}], \"scatterternary\": [{\"marker\": {\"colorbar\": {\"outlinewidth\": 0, \"ticks\": \"\"}}, \"type\": \"scatterternary\"}], \"surface\": [{\"colorbar\": {\"outlinewidth\": 0, \"ticks\": \"\"}, \"colorscale\": [[0.0, \"#0d0887\"], [0.1111111111111111, \"#46039f\"], [0.2222222222222222, \"#7201a8\"], [0.3333333333333333, \"#9c179e\"], [0.4444444444444444, \"#bd3786\"], [0.5555555555555556, \"#d8576b\"], [0.6666666666666666, \"#ed7953\"], [0.7777777777777778, \"#fb9f3a\"], [0.8888888888888888, \"#fdca26\"], [1.0, \"#f0f921\"]], \"type\": \"surface\"}], \"table\": [{\"cells\": {\"fill\": {\"color\": \"#EBF0F8\"}, \"line\": {\"color\": \"white\"}}, \"header\": {\"fill\": {\"color\": \"#C8D4E3\"}, \"line\": {\"color\": \"white\"}}, \"type\": \"table\"}]}, \"layout\": {\"annotationdefaults\": {\"arrowcolor\": \"#2a3f5f\", \"arrowhead\": 0, \"arrowwidth\": 1}, \"coloraxis\": {\"colorbar\": {\"outlinewidth\": 0, \"ticks\": \"\"}}, \"colorscale\": {\"diverging\": [[0, \"#8e0152\"], [0.1, \"#c51b7d\"], [0.2, \"#de77ae\"], [0.3, \"#f1b6da\"], [0.4, \"#fde0ef\"], [0.5, \"#f7f7f7\"], [0.6, \"#e6f5d0\"], [0.7, \"#b8e186\"], [0.8, \"#7fbc41\"], [0.9, \"#4d9221\"], [1, \"#276419\"]], \"sequential\": [[0.0, \"#0d0887\"], [0.1111111111111111, \"#46039f\"], [0.2222222222222222, \"#7201a8\"], [0.3333333333333333, \"#9c179e\"], [0.4444444444444444, \"#bd3786\"], [0.5555555555555556, \"#d8576b\"], [0.6666666666666666, \"#ed7953\"], [0.7777777777777778, \"#fb9f3a\"], [0.8888888888888888, \"#fdca26\"], [1.0, \"#f0f921\"]], \"sequentialminus\": [[0.0, \"#0d0887\"], [0.1111111111111111, \"#46039f\"], [0.2222222222222222, \"#7201a8\"], [0.3333333333333333, \"#9c179e\"], [0.4444444444444444, \"#bd3786\"], [0.5555555555555556, \"#d8576b\"], [0.6666666666666666, \"#ed7953\"], [0.7777777777777778, \"#fb9f3a\"], [0.8888888888888888, \"#fdca26\"], [1.0, \"#f0f921\"]]}, \"colorway\": [\"#636efa\", \"#EF553B\", \"#00cc96\", \"#ab63fa\", \"#FFA15A\", \"#19d3f3\", \"#FF6692\", \"#B6E880\", \"#FF97FF\", \"#FECB52\"], \"font\": {\"color\": \"#2a3f5f\"}, \"geo\": {\"bgcolor\": \"white\", \"lakecolor\": \"white\", \"landcolor\": \"#E5ECF6\", \"showlakes\": true, \"showland\": true, \"subunitcolor\": \"white\"}, \"hoverlabel\": {\"align\": \"left\"}, \"hovermode\": \"closest\", \"mapbox\": {\"style\": \"light\"}, \"paper_bgcolor\": \"white\", \"plot_bgcolor\": \"#E5ECF6\", \"polar\": {\"angularaxis\": {\"gridcolor\": \"white\", \"linecolor\": \"white\", \"ticks\": \"\"}, \"bgcolor\": \"#E5ECF6\", \"radialaxis\": {\"gridcolor\": \"white\", \"linecolor\": \"white\", \"ticks\": \"\"}}, \"scene\": {\"xaxis\": {\"backgroundcolor\": \"#E5ECF6\", \"gridcolor\": \"white\", \"gridwidth\": 2, \"linecolor\": \"white\", \"showbackground\": true, \"ticks\": \"\", \"zerolinecolor\": \"white\"}, \"yaxis\": {\"backgroundcolor\": \"#E5ECF6\", \"gridcolor\": \"white\", \"gridwidth\": 2, \"linecolor\": \"white\", \"showbackground\": true, \"ticks\": \"\", \"zerolinecolor\": \"white\"}, \"zaxis\": {\"backgroundcolor\": \"#E5ECF6\", \"gridcolor\": \"white\", \"gridwidth\": 2, \"linecolor\": \"white\", \"showbackground\": true, \"ticks\": \"\", \"zerolinecolor\": \"white\"}}, \"shapedefaults\": {\"line\": {\"color\": \"#2a3f5f\"}}, \"ternary\": {\"aaxis\": {\"gridcolor\": \"white\", \"linecolor\": \"white\", \"ticks\": \"\"}, \"baxis\": {\"gridcolor\": \"white\", \"linecolor\": \"white\", \"ticks\": \"\"}, \"bgcolor\": \"#E5ECF6\", \"caxis\": {\"gridcolor\": \"white\", \"linecolor\": \"white\", \"ticks\": \"\"}}, \"title\": {\"x\": 0.05}, \"xaxis\": {\"automargin\": true, \"gridcolor\": \"white\", \"linecolor\": \"white\", \"ticks\": \"\", \"title\": {\"standoff\": 15}, \"zerolinecolor\": \"white\", \"zerolinewidth\": 2}, \"yaxis\": {\"automargin\": true, \"gridcolor\": \"white\", \"linecolor\": \"white\", \"ticks\": \"\", \"title\": {\"standoff\": 15}, \"zerolinecolor\": \"white\", \"zerolinewidth\": 2}}}},                        {\"responsive\": true}                    ).then(function(){\n",
       "                            \n",
       "var gd = document.getElementById('f748b784-ed64-4c27-909c-50dd8cf23486');\n",
       "var x = new MutationObserver(function (mutations, observer) {{\n",
       "        var display = window.getComputedStyle(gd).display;\n",
       "        if (!display || display === 'none') {{\n",
       "            console.log([gd, 'removed!']);\n",
       "            Plotly.purge(gd);\n",
       "            observer.disconnect();\n",
       "        }}\n",
       "}});\n",
       "\n",
       "// Listen for the removal of the full notebook cells\n",
       "var notebookContainer = gd.closest('#notebook-container');\n",
       "if (notebookContainer) {{\n",
       "    x.observe(notebookContainer, {childList: true});\n",
       "}}\n",
       "\n",
       "// Listen for the clearing of the current output cell\n",
       "var outputEl = gd.closest('.output');\n",
       "if (outputEl) {{\n",
       "    x.observe(outputEl, {childList: true});\n",
       "}}\n",
       "\n",
       "                        })                };                });            </script>        </div>"
      ]
     },
     "metadata": {},
     "output_type": "display_data"
    }
   ],
   "source": [
    "fig = go.Figure(\n",
    "    data=go.Violin(\n",
    "        y=df['age'], \n",
    "        x0='Age'\n",
    "    )\n",
    ")\n",
    "\n",
    "fig.show()"
   ]
  },
  {
   "cell_type": "code",
   "execution_count": 19,
   "metadata": {},
   "outputs": [
    {
     "data": {
      "application/vnd.plotly.v1+json": {
       "config": {
        "plotlyServerURL": "https://plot.ly"
       },
       "data": [
        {
         "domain": {
          "x": [
           0,
           1
          ],
          "y": [
           0,
           1
          ]
         },
         "hovertemplate": "gender=%{label}<br>count=%{value}<extra></extra>",
         "labels": [
          "M",
          "F"
         ],
         "legendgroup": "",
         "name": "",
         "showlegend": true,
         "type": "pie",
         "values": [
          4673,
          222
         ]
        }
       ],
       "layout": {
        "height": 500,
        "legend": {
         "tracegroupgap": 0
        },
        "template": {
         "data": {
          "bar": [
           {
            "error_x": {
             "color": "#2a3f5f"
            },
            "error_y": {
             "color": "#2a3f5f"
            },
            "marker": {
             "line": {
              "color": "#E5ECF6",
              "width": 0.5
             }
            },
            "type": "bar"
           }
          ],
          "barpolar": [
           {
            "marker": {
             "line": {
              "color": "#E5ECF6",
              "width": 0.5
             }
            },
            "type": "barpolar"
           }
          ],
          "carpet": [
           {
            "aaxis": {
             "endlinecolor": "#2a3f5f",
             "gridcolor": "white",
             "linecolor": "white",
             "minorgridcolor": "white",
             "startlinecolor": "#2a3f5f"
            },
            "baxis": {
             "endlinecolor": "#2a3f5f",
             "gridcolor": "white",
             "linecolor": "white",
             "minorgridcolor": "white",
             "startlinecolor": "#2a3f5f"
            },
            "type": "carpet"
           }
          ],
          "choropleth": [
           {
            "colorbar": {
             "outlinewidth": 0,
             "ticks": ""
            },
            "type": "choropleth"
           }
          ],
          "contour": [
           {
            "colorbar": {
             "outlinewidth": 0,
             "ticks": ""
            },
            "colorscale": [
             [
              0,
              "#0d0887"
             ],
             [
              0.1111111111111111,
              "#46039f"
             ],
             [
              0.2222222222222222,
              "#7201a8"
             ],
             [
              0.3333333333333333,
              "#9c179e"
             ],
             [
              0.4444444444444444,
              "#bd3786"
             ],
             [
              0.5555555555555556,
              "#d8576b"
             ],
             [
              0.6666666666666666,
              "#ed7953"
             ],
             [
              0.7777777777777778,
              "#fb9f3a"
             ],
             [
              0.8888888888888888,
              "#fdca26"
             ],
             [
              1,
              "#f0f921"
             ]
            ],
            "type": "contour"
           }
          ],
          "contourcarpet": [
           {
            "colorbar": {
             "outlinewidth": 0,
             "ticks": ""
            },
            "type": "contourcarpet"
           }
          ],
          "heatmap": [
           {
            "colorbar": {
             "outlinewidth": 0,
             "ticks": ""
            },
            "colorscale": [
             [
              0,
              "#0d0887"
             ],
             [
              0.1111111111111111,
              "#46039f"
             ],
             [
              0.2222222222222222,
              "#7201a8"
             ],
             [
              0.3333333333333333,
              "#9c179e"
             ],
             [
              0.4444444444444444,
              "#bd3786"
             ],
             [
              0.5555555555555556,
              "#d8576b"
             ],
             [
              0.6666666666666666,
              "#ed7953"
             ],
             [
              0.7777777777777778,
              "#fb9f3a"
             ],
             [
              0.8888888888888888,
              "#fdca26"
             ],
             [
              1,
              "#f0f921"
             ]
            ],
            "type": "heatmap"
           }
          ],
          "heatmapgl": [
           {
            "colorbar": {
             "outlinewidth": 0,
             "ticks": ""
            },
            "colorscale": [
             [
              0,
              "#0d0887"
             ],
             [
              0.1111111111111111,
              "#46039f"
             ],
             [
              0.2222222222222222,
              "#7201a8"
             ],
             [
              0.3333333333333333,
              "#9c179e"
             ],
             [
              0.4444444444444444,
              "#bd3786"
             ],
             [
              0.5555555555555556,
              "#d8576b"
             ],
             [
              0.6666666666666666,
              "#ed7953"
             ],
             [
              0.7777777777777778,
              "#fb9f3a"
             ],
             [
              0.8888888888888888,
              "#fdca26"
             ],
             [
              1,
              "#f0f921"
             ]
            ],
            "type": "heatmapgl"
           }
          ],
          "histogram": [
           {
            "marker": {
             "colorbar": {
              "outlinewidth": 0,
              "ticks": ""
             }
            },
            "type": "histogram"
           }
          ],
          "histogram2d": [
           {
            "colorbar": {
             "outlinewidth": 0,
             "ticks": ""
            },
            "colorscale": [
             [
              0,
              "#0d0887"
             ],
             [
              0.1111111111111111,
              "#46039f"
             ],
             [
              0.2222222222222222,
              "#7201a8"
             ],
             [
              0.3333333333333333,
              "#9c179e"
             ],
             [
              0.4444444444444444,
              "#bd3786"
             ],
             [
              0.5555555555555556,
              "#d8576b"
             ],
             [
              0.6666666666666666,
              "#ed7953"
             ],
             [
              0.7777777777777778,
              "#fb9f3a"
             ],
             [
              0.8888888888888888,
              "#fdca26"
             ],
             [
              1,
              "#f0f921"
             ]
            ],
            "type": "histogram2d"
           }
          ],
          "histogram2dcontour": [
           {
            "colorbar": {
             "outlinewidth": 0,
             "ticks": ""
            },
            "colorscale": [
             [
              0,
              "#0d0887"
             ],
             [
              0.1111111111111111,
              "#46039f"
             ],
             [
              0.2222222222222222,
              "#7201a8"
             ],
             [
              0.3333333333333333,
              "#9c179e"
             ],
             [
              0.4444444444444444,
              "#bd3786"
             ],
             [
              0.5555555555555556,
              "#d8576b"
             ],
             [
              0.6666666666666666,
              "#ed7953"
             ],
             [
              0.7777777777777778,
              "#fb9f3a"
             ],
             [
              0.8888888888888888,
              "#fdca26"
             ],
             [
              1,
              "#f0f921"
             ]
            ],
            "type": "histogram2dcontour"
           }
          ],
          "mesh3d": [
           {
            "colorbar": {
             "outlinewidth": 0,
             "ticks": ""
            },
            "type": "mesh3d"
           }
          ],
          "parcoords": [
           {
            "line": {
             "colorbar": {
              "outlinewidth": 0,
              "ticks": ""
             }
            },
            "type": "parcoords"
           }
          ],
          "pie": [
           {
            "automargin": true,
            "type": "pie"
           }
          ],
          "scatter": [
           {
            "marker": {
             "colorbar": {
              "outlinewidth": 0,
              "ticks": ""
             }
            },
            "type": "scatter"
           }
          ],
          "scatter3d": [
           {
            "line": {
             "colorbar": {
              "outlinewidth": 0,
              "ticks": ""
             }
            },
            "marker": {
             "colorbar": {
              "outlinewidth": 0,
              "ticks": ""
             }
            },
            "type": "scatter3d"
           }
          ],
          "scattercarpet": [
           {
            "marker": {
             "colorbar": {
              "outlinewidth": 0,
              "ticks": ""
             }
            },
            "type": "scattercarpet"
           }
          ],
          "scattergeo": [
           {
            "marker": {
             "colorbar": {
              "outlinewidth": 0,
              "ticks": ""
             }
            },
            "type": "scattergeo"
           }
          ],
          "scattergl": [
           {
            "marker": {
             "colorbar": {
              "outlinewidth": 0,
              "ticks": ""
             }
            },
            "type": "scattergl"
           }
          ],
          "scattermapbox": [
           {
            "marker": {
             "colorbar": {
              "outlinewidth": 0,
              "ticks": ""
             }
            },
            "type": "scattermapbox"
           }
          ],
          "scatterpolar": [
           {
            "marker": {
             "colorbar": {
              "outlinewidth": 0,
              "ticks": ""
             }
            },
            "type": "scatterpolar"
           }
          ],
          "scatterpolargl": [
           {
            "marker": {
             "colorbar": {
              "outlinewidth": 0,
              "ticks": ""
             }
            },
            "type": "scatterpolargl"
           }
          ],
          "scatterternary": [
           {
            "marker": {
             "colorbar": {
              "outlinewidth": 0,
              "ticks": ""
             }
            },
            "type": "scatterternary"
           }
          ],
          "surface": [
           {
            "colorbar": {
             "outlinewidth": 0,
             "ticks": ""
            },
            "colorscale": [
             [
              0,
              "#0d0887"
             ],
             [
              0.1111111111111111,
              "#46039f"
             ],
             [
              0.2222222222222222,
              "#7201a8"
             ],
             [
              0.3333333333333333,
              "#9c179e"
             ],
             [
              0.4444444444444444,
              "#bd3786"
             ],
             [
              0.5555555555555556,
              "#d8576b"
             ],
             [
              0.6666666666666666,
              "#ed7953"
             ],
             [
              0.7777777777777778,
              "#fb9f3a"
             ],
             [
              0.8888888888888888,
              "#fdca26"
             ],
             [
              1,
              "#f0f921"
             ]
            ],
            "type": "surface"
           }
          ],
          "table": [
           {
            "cells": {
             "fill": {
              "color": "#EBF0F8"
             },
             "line": {
              "color": "white"
             }
            },
            "header": {
             "fill": {
              "color": "#C8D4E3"
             },
             "line": {
              "color": "white"
             }
            },
            "type": "table"
           }
          ]
         },
         "layout": {
          "annotationdefaults": {
           "arrowcolor": "#2a3f5f",
           "arrowhead": 0,
           "arrowwidth": 1
          },
          "coloraxis": {
           "colorbar": {
            "outlinewidth": 0,
            "ticks": ""
           }
          },
          "colorscale": {
           "diverging": [
            [
             0,
             "#8e0152"
            ],
            [
             0.1,
             "#c51b7d"
            ],
            [
             0.2,
             "#de77ae"
            ],
            [
             0.3,
             "#f1b6da"
            ],
            [
             0.4,
             "#fde0ef"
            ],
            [
             0.5,
             "#f7f7f7"
            ],
            [
             0.6,
             "#e6f5d0"
            ],
            [
             0.7,
             "#b8e186"
            ],
            [
             0.8,
             "#7fbc41"
            ],
            [
             0.9,
             "#4d9221"
            ],
            [
             1,
             "#276419"
            ]
           ],
           "sequential": [
            [
             0,
             "#0d0887"
            ],
            [
             0.1111111111111111,
             "#46039f"
            ],
            [
             0.2222222222222222,
             "#7201a8"
            ],
            [
             0.3333333333333333,
             "#9c179e"
            ],
            [
             0.4444444444444444,
             "#bd3786"
            ],
            [
             0.5555555555555556,
             "#d8576b"
            ],
            [
             0.6666666666666666,
             "#ed7953"
            ],
            [
             0.7777777777777778,
             "#fb9f3a"
            ],
            [
             0.8888888888888888,
             "#fdca26"
            ],
            [
             1,
             "#f0f921"
            ]
           ],
           "sequentialminus": [
            [
             0,
             "#0d0887"
            ],
            [
             0.1111111111111111,
             "#46039f"
            ],
            [
             0.2222222222222222,
             "#7201a8"
            ],
            [
             0.3333333333333333,
             "#9c179e"
            ],
            [
             0.4444444444444444,
             "#bd3786"
            ],
            [
             0.5555555555555556,
             "#d8576b"
            ],
            [
             0.6666666666666666,
             "#ed7953"
            ],
            [
             0.7777777777777778,
             "#fb9f3a"
            ],
            [
             0.8888888888888888,
             "#fdca26"
            ],
            [
             1,
             "#f0f921"
            ]
           ]
          },
          "colorway": [
           "#636efa",
           "#EF553B",
           "#00cc96",
           "#ab63fa",
           "#FFA15A",
           "#19d3f3",
           "#FF6692",
           "#B6E880",
           "#FF97FF",
           "#FECB52"
          ],
          "font": {
           "color": "#2a3f5f"
          },
          "geo": {
           "bgcolor": "white",
           "lakecolor": "white",
           "landcolor": "#E5ECF6",
           "showlakes": true,
           "showland": true,
           "subunitcolor": "white"
          },
          "hoverlabel": {
           "align": "left"
          },
          "hovermode": "closest",
          "mapbox": {
           "style": "light"
          },
          "paper_bgcolor": "white",
          "plot_bgcolor": "#E5ECF6",
          "polar": {
           "angularaxis": {
            "gridcolor": "white",
            "linecolor": "white",
            "ticks": ""
           },
           "bgcolor": "#E5ECF6",
           "radialaxis": {
            "gridcolor": "white",
            "linecolor": "white",
            "ticks": ""
           }
          },
          "scene": {
           "xaxis": {
            "backgroundcolor": "#E5ECF6",
            "gridcolor": "white",
            "gridwidth": 2,
            "linecolor": "white",
            "showbackground": true,
            "ticks": "",
            "zerolinecolor": "white"
           },
           "yaxis": {
            "backgroundcolor": "#E5ECF6",
            "gridcolor": "white",
            "gridwidth": 2,
            "linecolor": "white",
            "showbackground": true,
            "ticks": "",
            "zerolinecolor": "white"
           },
           "zaxis": {
            "backgroundcolor": "#E5ECF6",
            "gridcolor": "white",
            "gridwidth": 2,
            "linecolor": "white",
            "showbackground": true,
            "ticks": "",
            "zerolinecolor": "white"
           }
          },
          "shapedefaults": {
           "line": {
            "color": "#2a3f5f"
           }
          },
          "ternary": {
           "aaxis": {
            "gridcolor": "white",
            "linecolor": "white",
            "ticks": ""
           },
           "baxis": {
            "gridcolor": "white",
            "linecolor": "white",
            "ticks": ""
           },
           "bgcolor": "#E5ECF6",
           "caxis": {
            "gridcolor": "white",
            "linecolor": "white",
            "ticks": ""
           }
          },
          "title": {
           "x": 0.05
          },
          "xaxis": {
           "automargin": true,
           "gridcolor": "white",
           "linecolor": "white",
           "ticks": "",
           "title": {
            "standoff": 15
           },
           "zerolinecolor": "white",
           "zerolinewidth": 2
          },
          "yaxis": {
           "automargin": true,
           "gridcolor": "white",
           "linecolor": "white",
           "ticks": "",
           "title": {
            "standoff": 15
           },
           "zerolinecolor": "white",
           "zerolinewidth": 2
          }
         }
        },
        "title": {
         "text": "Dystrybucja względem płci"
        },
        "width": 500
       }
      },
      "text/html": [
       "<div>                            <div id=\"b10c2e24-39c4-4236-9f9c-ee6a601d0722\" class=\"plotly-graph-div\" style=\"height:500px; width:500px;\"></div>            <script type=\"text/javascript\">                require([\"plotly\"], function(Plotly) {                    window.PLOTLYENV=window.PLOTLYENV || {};                                    if (document.getElementById(\"b10c2e24-39c4-4236-9f9c-ee6a601d0722\")) {                    Plotly.newPlot(                        \"b10c2e24-39c4-4236-9f9c-ee6a601d0722\",                        [{\"domain\": {\"x\": [0.0, 1.0], \"y\": [0.0, 1.0]}, \"hovertemplate\": \"gender=%{label}<br>count=%{value}<extra></extra>\", \"labels\": [\"M\", \"F\"], \"legendgroup\": \"\", \"name\": \"\", \"showlegend\": true, \"type\": \"pie\", \"values\": [4673, 222]}],                        {\"height\": 500, \"legend\": {\"tracegroupgap\": 0}, \"template\": {\"data\": {\"bar\": [{\"error_x\": {\"color\": \"#2a3f5f\"}, \"error_y\": {\"color\": \"#2a3f5f\"}, \"marker\": {\"line\": {\"color\": \"#E5ECF6\", \"width\": 0.5}}, \"type\": \"bar\"}], \"barpolar\": [{\"marker\": {\"line\": {\"color\": \"#E5ECF6\", \"width\": 0.5}}, \"type\": \"barpolar\"}], \"carpet\": [{\"aaxis\": {\"endlinecolor\": \"#2a3f5f\", \"gridcolor\": \"white\", \"linecolor\": \"white\", \"minorgridcolor\": \"white\", \"startlinecolor\": \"#2a3f5f\"}, \"baxis\": {\"endlinecolor\": \"#2a3f5f\", \"gridcolor\": \"white\", \"linecolor\": \"white\", \"minorgridcolor\": \"white\", \"startlinecolor\": \"#2a3f5f\"}, \"type\": \"carpet\"}], \"choropleth\": [{\"colorbar\": {\"outlinewidth\": 0, \"ticks\": \"\"}, \"type\": \"choropleth\"}], \"contour\": [{\"colorbar\": {\"outlinewidth\": 0, \"ticks\": \"\"}, \"colorscale\": [[0.0, \"#0d0887\"], [0.1111111111111111, \"#46039f\"], [0.2222222222222222, \"#7201a8\"], [0.3333333333333333, \"#9c179e\"], [0.4444444444444444, \"#bd3786\"], [0.5555555555555556, \"#d8576b\"], [0.6666666666666666, \"#ed7953\"], [0.7777777777777778, \"#fb9f3a\"], [0.8888888888888888, \"#fdca26\"], [1.0, \"#f0f921\"]], \"type\": \"contour\"}], \"contourcarpet\": [{\"colorbar\": {\"outlinewidth\": 0, \"ticks\": \"\"}, \"type\": \"contourcarpet\"}], \"heatmap\": [{\"colorbar\": {\"outlinewidth\": 0, \"ticks\": \"\"}, \"colorscale\": [[0.0, \"#0d0887\"], [0.1111111111111111, \"#46039f\"], [0.2222222222222222, \"#7201a8\"], [0.3333333333333333, \"#9c179e\"], [0.4444444444444444, \"#bd3786\"], [0.5555555555555556, \"#d8576b\"], [0.6666666666666666, \"#ed7953\"], [0.7777777777777778, \"#fb9f3a\"], [0.8888888888888888, \"#fdca26\"], [1.0, \"#f0f921\"]], \"type\": \"heatmap\"}], \"heatmapgl\": [{\"colorbar\": {\"outlinewidth\": 0, \"ticks\": \"\"}, \"colorscale\": [[0.0, \"#0d0887\"], [0.1111111111111111, \"#46039f\"], [0.2222222222222222, \"#7201a8\"], [0.3333333333333333, \"#9c179e\"], [0.4444444444444444, \"#bd3786\"], [0.5555555555555556, \"#d8576b\"], [0.6666666666666666, \"#ed7953\"], [0.7777777777777778, \"#fb9f3a\"], [0.8888888888888888, \"#fdca26\"], [1.0, \"#f0f921\"]], \"type\": \"heatmapgl\"}], \"histogram\": [{\"marker\": {\"colorbar\": {\"outlinewidth\": 0, \"ticks\": \"\"}}, \"type\": \"histogram\"}], \"histogram2d\": [{\"colorbar\": {\"outlinewidth\": 0, \"ticks\": \"\"}, \"colorscale\": [[0.0, \"#0d0887\"], [0.1111111111111111, \"#46039f\"], [0.2222222222222222, \"#7201a8\"], [0.3333333333333333, \"#9c179e\"], [0.4444444444444444, \"#bd3786\"], [0.5555555555555556, \"#d8576b\"], [0.6666666666666666, \"#ed7953\"], [0.7777777777777778, \"#fb9f3a\"], [0.8888888888888888, \"#fdca26\"], [1.0, \"#f0f921\"]], \"type\": \"histogram2d\"}], \"histogram2dcontour\": [{\"colorbar\": {\"outlinewidth\": 0, \"ticks\": \"\"}, \"colorscale\": [[0.0, \"#0d0887\"], [0.1111111111111111, \"#46039f\"], [0.2222222222222222, \"#7201a8\"], [0.3333333333333333, \"#9c179e\"], [0.4444444444444444, \"#bd3786\"], [0.5555555555555556, \"#d8576b\"], [0.6666666666666666, \"#ed7953\"], [0.7777777777777778, \"#fb9f3a\"], [0.8888888888888888, \"#fdca26\"], [1.0, \"#f0f921\"]], \"type\": \"histogram2dcontour\"}], \"mesh3d\": [{\"colorbar\": {\"outlinewidth\": 0, \"ticks\": \"\"}, \"type\": \"mesh3d\"}], \"parcoords\": [{\"line\": {\"colorbar\": {\"outlinewidth\": 0, \"ticks\": \"\"}}, \"type\": \"parcoords\"}], \"pie\": [{\"automargin\": true, \"type\": \"pie\"}], \"scatter\": [{\"marker\": {\"colorbar\": {\"outlinewidth\": 0, \"ticks\": \"\"}}, \"type\": \"scatter\"}], \"scatter3d\": [{\"line\": {\"colorbar\": {\"outlinewidth\": 0, \"ticks\": \"\"}}, \"marker\": {\"colorbar\": {\"outlinewidth\": 0, \"ticks\": \"\"}}, \"type\": \"scatter3d\"}], \"scattercarpet\": [{\"marker\": {\"colorbar\": {\"outlinewidth\": 0, \"ticks\": \"\"}}, \"type\": \"scattercarpet\"}], \"scattergeo\": [{\"marker\": {\"colorbar\": {\"outlinewidth\": 0, \"ticks\": \"\"}}, \"type\": \"scattergeo\"}], \"scattergl\": [{\"marker\": {\"colorbar\": {\"outlinewidth\": 0, \"ticks\": \"\"}}, \"type\": \"scattergl\"}], \"scattermapbox\": [{\"marker\": {\"colorbar\": {\"outlinewidth\": 0, \"ticks\": \"\"}}, \"type\": \"scattermapbox\"}], \"scatterpolar\": [{\"marker\": {\"colorbar\": {\"outlinewidth\": 0, \"ticks\": \"\"}}, \"type\": \"scatterpolar\"}], \"scatterpolargl\": [{\"marker\": {\"colorbar\": {\"outlinewidth\": 0, \"ticks\": \"\"}}, \"type\": \"scatterpolargl\"}], \"scatterternary\": [{\"marker\": {\"colorbar\": {\"outlinewidth\": 0, \"ticks\": \"\"}}, \"type\": \"scatterternary\"}], \"surface\": [{\"colorbar\": {\"outlinewidth\": 0, \"ticks\": \"\"}, \"colorscale\": [[0.0, \"#0d0887\"], [0.1111111111111111, \"#46039f\"], [0.2222222222222222, \"#7201a8\"], [0.3333333333333333, \"#9c179e\"], [0.4444444444444444, \"#bd3786\"], [0.5555555555555556, \"#d8576b\"], [0.6666666666666666, \"#ed7953\"], [0.7777777777777778, \"#fb9f3a\"], [0.8888888888888888, \"#fdca26\"], [1.0, \"#f0f921\"]], \"type\": \"surface\"}], \"table\": [{\"cells\": {\"fill\": {\"color\": \"#EBF0F8\"}, \"line\": {\"color\": \"white\"}}, \"header\": {\"fill\": {\"color\": \"#C8D4E3\"}, \"line\": {\"color\": \"white\"}}, \"type\": \"table\"}]}, \"layout\": {\"annotationdefaults\": {\"arrowcolor\": \"#2a3f5f\", \"arrowhead\": 0, \"arrowwidth\": 1}, \"coloraxis\": {\"colorbar\": {\"outlinewidth\": 0, \"ticks\": \"\"}}, \"colorscale\": {\"diverging\": [[0, \"#8e0152\"], [0.1, \"#c51b7d\"], [0.2, \"#de77ae\"], [0.3, \"#f1b6da\"], [0.4, \"#fde0ef\"], [0.5, \"#f7f7f7\"], [0.6, \"#e6f5d0\"], [0.7, \"#b8e186\"], [0.8, \"#7fbc41\"], [0.9, \"#4d9221\"], [1, \"#276419\"]], \"sequential\": [[0.0, \"#0d0887\"], [0.1111111111111111, \"#46039f\"], [0.2222222222222222, \"#7201a8\"], [0.3333333333333333, \"#9c179e\"], [0.4444444444444444, \"#bd3786\"], [0.5555555555555556, \"#d8576b\"], [0.6666666666666666, \"#ed7953\"], [0.7777777777777778, \"#fb9f3a\"], [0.8888888888888888, \"#fdca26\"], [1.0, \"#f0f921\"]], \"sequentialminus\": [[0.0, \"#0d0887\"], [0.1111111111111111, \"#46039f\"], [0.2222222222222222, \"#7201a8\"], [0.3333333333333333, \"#9c179e\"], [0.4444444444444444, \"#bd3786\"], [0.5555555555555556, \"#d8576b\"], [0.6666666666666666, \"#ed7953\"], [0.7777777777777778, \"#fb9f3a\"], [0.8888888888888888, \"#fdca26\"], [1.0, \"#f0f921\"]]}, \"colorway\": [\"#636efa\", \"#EF553B\", \"#00cc96\", \"#ab63fa\", \"#FFA15A\", \"#19d3f3\", \"#FF6692\", \"#B6E880\", \"#FF97FF\", \"#FECB52\"], \"font\": {\"color\": \"#2a3f5f\"}, \"geo\": {\"bgcolor\": \"white\", \"lakecolor\": \"white\", \"landcolor\": \"#E5ECF6\", \"showlakes\": true, \"showland\": true, \"subunitcolor\": \"white\"}, \"hoverlabel\": {\"align\": \"left\"}, \"hovermode\": \"closest\", \"mapbox\": {\"style\": \"light\"}, \"paper_bgcolor\": \"white\", \"plot_bgcolor\": \"#E5ECF6\", \"polar\": {\"angularaxis\": {\"gridcolor\": \"white\", \"linecolor\": \"white\", \"ticks\": \"\"}, \"bgcolor\": \"#E5ECF6\", \"radialaxis\": {\"gridcolor\": \"white\", \"linecolor\": \"white\", \"ticks\": \"\"}}, \"scene\": {\"xaxis\": {\"backgroundcolor\": \"#E5ECF6\", \"gridcolor\": \"white\", \"gridwidth\": 2, \"linecolor\": \"white\", \"showbackground\": true, \"ticks\": \"\", \"zerolinecolor\": \"white\"}, \"yaxis\": {\"backgroundcolor\": \"#E5ECF6\", \"gridcolor\": \"white\", \"gridwidth\": 2, \"linecolor\": \"white\", \"showbackground\": true, \"ticks\": \"\", \"zerolinecolor\": \"white\"}, \"zaxis\": {\"backgroundcolor\": \"#E5ECF6\", \"gridcolor\": \"white\", \"gridwidth\": 2, \"linecolor\": \"white\", \"showbackground\": true, \"ticks\": \"\", \"zerolinecolor\": \"white\"}}, \"shapedefaults\": {\"line\": {\"color\": \"#2a3f5f\"}}, \"ternary\": {\"aaxis\": {\"gridcolor\": \"white\", \"linecolor\": \"white\", \"ticks\": \"\"}, \"baxis\": {\"gridcolor\": \"white\", \"linecolor\": \"white\", \"ticks\": \"\"}, \"bgcolor\": \"#E5ECF6\", \"caxis\": {\"gridcolor\": \"white\", \"linecolor\": \"white\", \"ticks\": \"\"}}, \"title\": {\"x\": 0.05}, \"xaxis\": {\"automargin\": true, \"gridcolor\": \"white\", \"linecolor\": \"white\", \"ticks\": \"\", \"title\": {\"standoff\": 15}, \"zerolinecolor\": \"white\", \"zerolinewidth\": 2}, \"yaxis\": {\"automargin\": true, \"gridcolor\": \"white\", \"linecolor\": \"white\", \"ticks\": \"\", \"title\": {\"standoff\": 15}, \"zerolinecolor\": \"white\", \"zerolinewidth\": 2}}}, \"title\": {\"text\": \"Dystrybucja wzgl\\u0119dem p\\u0142ci\"}, \"width\": 500},                        {\"responsive\": true}                    ).then(function(){\n",
       "                            \n",
       "var gd = document.getElementById('b10c2e24-39c4-4236-9f9c-ee6a601d0722');\n",
       "var x = new MutationObserver(function (mutations, observer) {{\n",
       "        var display = window.getComputedStyle(gd).display;\n",
       "        if (!display || display === 'none') {{\n",
       "            console.log([gd, 'removed!']);\n",
       "            Plotly.purge(gd);\n",
       "            observer.disconnect();\n",
       "        }}\n",
       "}});\n",
       "\n",
       "// Listen for the removal of the full notebook cells\n",
       "var notebookContainer = gd.closest('#notebook-container');\n",
       "if (notebookContainer) {{\n",
       "    x.observe(notebookContainer, {childList: true});\n",
       "}}\n",
       "\n",
       "// Listen for the clearing of the current output cell\n",
       "var outputEl = gd.closest('.output');\n",
       "if (outputEl) {{\n",
       "    x.observe(outputEl, {childList: true});\n",
       "}}\n",
       "\n",
       "                        })                };                });            </script>        </div>"
      ]
     },
     "metadata": {},
     "output_type": "display_data"
    }
   ],
   "source": [
    "data = df['gender'].value_counts().reset_index()\n",
    "data.columns = [\n",
    "    'gender', \n",
    "    'count'\n",
    "]\n",
    "\n",
    "fig = px.pie(\n",
    "    data, \n",
    "    values='count', \n",
    "    names='gender',  \n",
    "    title='Dystrybucja względem płci', \n",
    "    width=500, \n",
    "    height=500\n",
    ")\n",
    "\n",
    "fig.show()"
   ]
  },
  {
   "cell_type": "code",
   "execution_count": 20,
   "metadata": {},
   "outputs": [
    {
     "data": {
      "application/vnd.plotly.v1+json": {
       "config": {
        "plotlyServerURL": "https://plot.ly"
       },
       "data": [
        {
         "alignmentgroup": "True",
         "hovertemplate": "count=%{x}<br>race=%{y}<extra></extra>",
         "legendgroup": "",
         "marker": {
          "color": "#636efa"
         },
         "name": "",
         "offsetgroup": "",
         "orientation": "h",
         "showlegend": false,
         "textposition": "auto",
         "type": "bar",
         "x": [
          48,
          78,
          93,
          902,
          1298,
          2476
         ],
         "xaxis": "x",
         "y": [
          "Other",
          "Native",
          "Asian",
          "Hispanic",
          "Black",
          "White"
         ],
         "yaxis": "y"
        }
       ],
       "layout": {
        "barmode": "relative",
        "height": 600,
        "legend": {
         "tracegroupgap": 0
        },
        "template": {
         "data": {
          "bar": [
           {
            "error_x": {
             "color": "#2a3f5f"
            },
            "error_y": {
             "color": "#2a3f5f"
            },
            "marker": {
             "line": {
              "color": "#E5ECF6",
              "width": 0.5
             }
            },
            "type": "bar"
           }
          ],
          "barpolar": [
           {
            "marker": {
             "line": {
              "color": "#E5ECF6",
              "width": 0.5
             }
            },
            "type": "barpolar"
           }
          ],
          "carpet": [
           {
            "aaxis": {
             "endlinecolor": "#2a3f5f",
             "gridcolor": "white",
             "linecolor": "white",
             "minorgridcolor": "white",
             "startlinecolor": "#2a3f5f"
            },
            "baxis": {
             "endlinecolor": "#2a3f5f",
             "gridcolor": "white",
             "linecolor": "white",
             "minorgridcolor": "white",
             "startlinecolor": "#2a3f5f"
            },
            "type": "carpet"
           }
          ],
          "choropleth": [
           {
            "colorbar": {
             "outlinewidth": 0,
             "ticks": ""
            },
            "type": "choropleth"
           }
          ],
          "contour": [
           {
            "colorbar": {
             "outlinewidth": 0,
             "ticks": ""
            },
            "colorscale": [
             [
              0,
              "#0d0887"
             ],
             [
              0.1111111111111111,
              "#46039f"
             ],
             [
              0.2222222222222222,
              "#7201a8"
             ],
             [
              0.3333333333333333,
              "#9c179e"
             ],
             [
              0.4444444444444444,
              "#bd3786"
             ],
             [
              0.5555555555555556,
              "#d8576b"
             ],
             [
              0.6666666666666666,
              "#ed7953"
             ],
             [
              0.7777777777777778,
              "#fb9f3a"
             ],
             [
              0.8888888888888888,
              "#fdca26"
             ],
             [
              1,
              "#f0f921"
             ]
            ],
            "type": "contour"
           }
          ],
          "contourcarpet": [
           {
            "colorbar": {
             "outlinewidth": 0,
             "ticks": ""
            },
            "type": "contourcarpet"
           }
          ],
          "heatmap": [
           {
            "colorbar": {
             "outlinewidth": 0,
             "ticks": ""
            },
            "colorscale": [
             [
              0,
              "#0d0887"
             ],
             [
              0.1111111111111111,
              "#46039f"
             ],
             [
              0.2222222222222222,
              "#7201a8"
             ],
             [
              0.3333333333333333,
              "#9c179e"
             ],
             [
              0.4444444444444444,
              "#bd3786"
             ],
             [
              0.5555555555555556,
              "#d8576b"
             ],
             [
              0.6666666666666666,
              "#ed7953"
             ],
             [
              0.7777777777777778,
              "#fb9f3a"
             ],
             [
              0.8888888888888888,
              "#fdca26"
             ],
             [
              1,
              "#f0f921"
             ]
            ],
            "type": "heatmap"
           }
          ],
          "heatmapgl": [
           {
            "colorbar": {
             "outlinewidth": 0,
             "ticks": ""
            },
            "colorscale": [
             [
              0,
              "#0d0887"
             ],
             [
              0.1111111111111111,
              "#46039f"
             ],
             [
              0.2222222222222222,
              "#7201a8"
             ],
             [
              0.3333333333333333,
              "#9c179e"
             ],
             [
              0.4444444444444444,
              "#bd3786"
             ],
             [
              0.5555555555555556,
              "#d8576b"
             ],
             [
              0.6666666666666666,
              "#ed7953"
             ],
             [
              0.7777777777777778,
              "#fb9f3a"
             ],
             [
              0.8888888888888888,
              "#fdca26"
             ],
             [
              1,
              "#f0f921"
             ]
            ],
            "type": "heatmapgl"
           }
          ],
          "histogram": [
           {
            "marker": {
             "colorbar": {
              "outlinewidth": 0,
              "ticks": ""
             }
            },
            "type": "histogram"
           }
          ],
          "histogram2d": [
           {
            "colorbar": {
             "outlinewidth": 0,
             "ticks": ""
            },
            "colorscale": [
             [
              0,
              "#0d0887"
             ],
             [
              0.1111111111111111,
              "#46039f"
             ],
             [
              0.2222222222222222,
              "#7201a8"
             ],
             [
              0.3333333333333333,
              "#9c179e"
             ],
             [
              0.4444444444444444,
              "#bd3786"
             ],
             [
              0.5555555555555556,
              "#d8576b"
             ],
             [
              0.6666666666666666,
              "#ed7953"
             ],
             [
              0.7777777777777778,
              "#fb9f3a"
             ],
             [
              0.8888888888888888,
              "#fdca26"
             ],
             [
              1,
              "#f0f921"
             ]
            ],
            "type": "histogram2d"
           }
          ],
          "histogram2dcontour": [
           {
            "colorbar": {
             "outlinewidth": 0,
             "ticks": ""
            },
            "colorscale": [
             [
              0,
              "#0d0887"
             ],
             [
              0.1111111111111111,
              "#46039f"
             ],
             [
              0.2222222222222222,
              "#7201a8"
             ],
             [
              0.3333333333333333,
              "#9c179e"
             ],
             [
              0.4444444444444444,
              "#bd3786"
             ],
             [
              0.5555555555555556,
              "#d8576b"
             ],
             [
              0.6666666666666666,
              "#ed7953"
             ],
             [
              0.7777777777777778,
              "#fb9f3a"
             ],
             [
              0.8888888888888888,
              "#fdca26"
             ],
             [
              1,
              "#f0f921"
             ]
            ],
            "type": "histogram2dcontour"
           }
          ],
          "mesh3d": [
           {
            "colorbar": {
             "outlinewidth": 0,
             "ticks": ""
            },
            "type": "mesh3d"
           }
          ],
          "parcoords": [
           {
            "line": {
             "colorbar": {
              "outlinewidth": 0,
              "ticks": ""
             }
            },
            "type": "parcoords"
           }
          ],
          "pie": [
           {
            "automargin": true,
            "type": "pie"
           }
          ],
          "scatter": [
           {
            "marker": {
             "colorbar": {
              "outlinewidth": 0,
              "ticks": ""
             }
            },
            "type": "scatter"
           }
          ],
          "scatter3d": [
           {
            "line": {
             "colorbar": {
              "outlinewidth": 0,
              "ticks": ""
             }
            },
            "marker": {
             "colorbar": {
              "outlinewidth": 0,
              "ticks": ""
             }
            },
            "type": "scatter3d"
           }
          ],
          "scattercarpet": [
           {
            "marker": {
             "colorbar": {
              "outlinewidth": 0,
              "ticks": ""
             }
            },
            "type": "scattercarpet"
           }
          ],
          "scattergeo": [
           {
            "marker": {
             "colorbar": {
              "outlinewidth": 0,
              "ticks": ""
             }
            },
            "type": "scattergeo"
           }
          ],
          "scattergl": [
           {
            "marker": {
             "colorbar": {
              "outlinewidth": 0,
              "ticks": ""
             }
            },
            "type": "scattergl"
           }
          ],
          "scattermapbox": [
           {
            "marker": {
             "colorbar": {
              "outlinewidth": 0,
              "ticks": ""
             }
            },
            "type": "scattermapbox"
           }
          ],
          "scatterpolar": [
           {
            "marker": {
             "colorbar": {
              "outlinewidth": 0,
              "ticks": ""
             }
            },
            "type": "scatterpolar"
           }
          ],
          "scatterpolargl": [
           {
            "marker": {
             "colorbar": {
              "outlinewidth": 0,
              "ticks": ""
             }
            },
            "type": "scatterpolargl"
           }
          ],
          "scatterternary": [
           {
            "marker": {
             "colorbar": {
              "outlinewidth": 0,
              "ticks": ""
             }
            },
            "type": "scatterternary"
           }
          ],
          "surface": [
           {
            "colorbar": {
             "outlinewidth": 0,
             "ticks": ""
            },
            "colorscale": [
             [
              0,
              "#0d0887"
             ],
             [
              0.1111111111111111,
              "#46039f"
             ],
             [
              0.2222222222222222,
              "#7201a8"
             ],
             [
              0.3333333333333333,
              "#9c179e"
             ],
             [
              0.4444444444444444,
              "#bd3786"
             ],
             [
              0.5555555555555556,
              "#d8576b"
             ],
             [
              0.6666666666666666,
              "#ed7953"
             ],
             [
              0.7777777777777778,
              "#fb9f3a"
             ],
             [
              0.8888888888888888,
              "#fdca26"
             ],
             [
              1,
              "#f0f921"
             ]
            ],
            "type": "surface"
           }
          ],
          "table": [
           {
            "cells": {
             "fill": {
              "color": "#EBF0F8"
             },
             "line": {
              "color": "white"
             }
            },
            "header": {
             "fill": {
              "color": "#C8D4E3"
             },
             "line": {
              "color": "white"
             }
            },
            "type": "table"
           }
          ]
         },
         "layout": {
          "annotationdefaults": {
           "arrowcolor": "#2a3f5f",
           "arrowhead": 0,
           "arrowwidth": 1
          },
          "coloraxis": {
           "colorbar": {
            "outlinewidth": 0,
            "ticks": ""
           }
          },
          "colorscale": {
           "diverging": [
            [
             0,
             "#8e0152"
            ],
            [
             0.1,
             "#c51b7d"
            ],
            [
             0.2,
             "#de77ae"
            ],
            [
             0.3,
             "#f1b6da"
            ],
            [
             0.4,
             "#fde0ef"
            ],
            [
             0.5,
             "#f7f7f7"
            ],
            [
             0.6,
             "#e6f5d0"
            ],
            [
             0.7,
             "#b8e186"
            ],
            [
             0.8,
             "#7fbc41"
            ],
            [
             0.9,
             "#4d9221"
            ],
            [
             1,
             "#276419"
            ]
           ],
           "sequential": [
            [
             0,
             "#0d0887"
            ],
            [
             0.1111111111111111,
             "#46039f"
            ],
            [
             0.2222222222222222,
             "#7201a8"
            ],
            [
             0.3333333333333333,
             "#9c179e"
            ],
            [
             0.4444444444444444,
             "#bd3786"
            ],
            [
             0.5555555555555556,
             "#d8576b"
            ],
            [
             0.6666666666666666,
             "#ed7953"
            ],
            [
             0.7777777777777778,
             "#fb9f3a"
            ],
            [
             0.8888888888888888,
             "#fdca26"
            ],
            [
             1,
             "#f0f921"
            ]
           ],
           "sequentialminus": [
            [
             0,
             "#0d0887"
            ],
            [
             0.1111111111111111,
             "#46039f"
            ],
            [
             0.2222222222222222,
             "#7201a8"
            ],
            [
             0.3333333333333333,
             "#9c179e"
            ],
            [
             0.4444444444444444,
             "#bd3786"
            ],
            [
             0.5555555555555556,
             "#d8576b"
            ],
            [
             0.6666666666666666,
             "#ed7953"
            ],
            [
             0.7777777777777778,
             "#fb9f3a"
            ],
            [
             0.8888888888888888,
             "#fdca26"
            ],
            [
             1,
             "#f0f921"
            ]
           ]
          },
          "colorway": [
           "#636efa",
           "#EF553B",
           "#00cc96",
           "#ab63fa",
           "#FFA15A",
           "#19d3f3",
           "#FF6692",
           "#B6E880",
           "#FF97FF",
           "#FECB52"
          ],
          "font": {
           "color": "#2a3f5f"
          },
          "geo": {
           "bgcolor": "white",
           "lakecolor": "white",
           "landcolor": "#E5ECF6",
           "showlakes": true,
           "showland": true,
           "subunitcolor": "white"
          },
          "hoverlabel": {
           "align": "left"
          },
          "hovermode": "closest",
          "mapbox": {
           "style": "light"
          },
          "paper_bgcolor": "white",
          "plot_bgcolor": "#E5ECF6",
          "polar": {
           "angularaxis": {
            "gridcolor": "white",
            "linecolor": "white",
            "ticks": ""
           },
           "bgcolor": "#E5ECF6",
           "radialaxis": {
            "gridcolor": "white",
            "linecolor": "white",
            "ticks": ""
           }
          },
          "scene": {
           "xaxis": {
            "backgroundcolor": "#E5ECF6",
            "gridcolor": "white",
            "gridwidth": 2,
            "linecolor": "white",
            "showbackground": true,
            "ticks": "",
            "zerolinecolor": "white"
           },
           "yaxis": {
            "backgroundcolor": "#E5ECF6",
            "gridcolor": "white",
            "gridwidth": 2,
            "linecolor": "white",
            "showbackground": true,
            "ticks": "",
            "zerolinecolor": "white"
           },
           "zaxis": {
            "backgroundcolor": "#E5ECF6",
            "gridcolor": "white",
            "gridwidth": 2,
            "linecolor": "white",
            "showbackground": true,
            "ticks": "",
            "zerolinecolor": "white"
           }
          },
          "shapedefaults": {
           "line": {
            "color": "#2a3f5f"
           }
          },
          "ternary": {
           "aaxis": {
            "gridcolor": "white",
            "linecolor": "white",
            "ticks": ""
           },
           "baxis": {
            "gridcolor": "white",
            "linecolor": "white",
            "ticks": ""
           },
           "bgcolor": "#E5ECF6",
           "caxis": {
            "gridcolor": "white",
            "linecolor": "white",
            "ticks": ""
           }
          },
          "title": {
           "x": 0.05
          },
          "xaxis": {
           "automargin": true,
           "gridcolor": "white",
           "linecolor": "white",
           "ticks": "",
           "title": {
            "standoff": 15
           },
           "zerolinecolor": "white",
           "zerolinewidth": 2
          },
          "yaxis": {
           "automargin": true,
           "gridcolor": "white",
           "linecolor": "white",
           "ticks": "",
           "title": {
            "standoff": 15
           },
           "zerolinecolor": "white",
           "zerolinewidth": 2
          }
         }
        },
        "title": {
         "text": "Dystrybucja ze względu na rasę"
        },
        "width": 600,
        "xaxis": {
         "anchor": "y",
         "domain": [
          0,
          1
         ],
         "title": {
          "text": "count"
         }
        },
        "yaxis": {
         "anchor": "x",
         "domain": [
          0,
          1
         ],
         "title": {
          "text": "race"
         }
        }
       }
      },
      "text/html": [
       "<div>                            <div id=\"1a13820d-60f6-4325-b7f1-8505efbf0e0f\" class=\"plotly-graph-div\" style=\"height:600px; width:600px;\"></div>            <script type=\"text/javascript\">                require([\"plotly\"], function(Plotly) {                    window.PLOTLYENV=window.PLOTLYENV || {};                                    if (document.getElementById(\"1a13820d-60f6-4325-b7f1-8505efbf0e0f\")) {                    Plotly.newPlot(                        \"1a13820d-60f6-4325-b7f1-8505efbf0e0f\",                        [{\"alignmentgroup\": \"True\", \"hovertemplate\": \"count=%{x}<br>race=%{y}<extra></extra>\", \"legendgroup\": \"\", \"marker\": {\"color\": \"#636efa\"}, \"name\": \"\", \"offsetgroup\": \"\", \"orientation\": \"h\", \"showlegend\": false, \"textposition\": \"auto\", \"type\": \"bar\", \"x\": [48, 78, 93, 902, 1298, 2476], \"xaxis\": \"x\", \"y\": [\"Other\", \"Native\", \"Asian\", \"Hispanic\", \"Black\", \"White\"], \"yaxis\": \"y\"}],                        {\"barmode\": \"relative\", \"height\": 600, \"legend\": {\"tracegroupgap\": 0}, \"template\": {\"data\": {\"bar\": [{\"error_x\": {\"color\": \"#2a3f5f\"}, \"error_y\": {\"color\": \"#2a3f5f\"}, \"marker\": {\"line\": {\"color\": \"#E5ECF6\", \"width\": 0.5}}, \"type\": \"bar\"}], \"barpolar\": [{\"marker\": {\"line\": {\"color\": \"#E5ECF6\", \"width\": 0.5}}, \"type\": \"barpolar\"}], \"carpet\": [{\"aaxis\": {\"endlinecolor\": \"#2a3f5f\", \"gridcolor\": \"white\", \"linecolor\": \"white\", \"minorgridcolor\": \"white\", \"startlinecolor\": \"#2a3f5f\"}, \"baxis\": {\"endlinecolor\": \"#2a3f5f\", \"gridcolor\": \"white\", \"linecolor\": \"white\", \"minorgridcolor\": \"white\", \"startlinecolor\": \"#2a3f5f\"}, \"type\": \"carpet\"}], \"choropleth\": [{\"colorbar\": {\"outlinewidth\": 0, \"ticks\": \"\"}, \"type\": \"choropleth\"}], \"contour\": [{\"colorbar\": {\"outlinewidth\": 0, \"ticks\": \"\"}, \"colorscale\": [[0.0, \"#0d0887\"], [0.1111111111111111, \"#46039f\"], [0.2222222222222222, \"#7201a8\"], [0.3333333333333333, \"#9c179e\"], [0.4444444444444444, \"#bd3786\"], [0.5555555555555556, \"#d8576b\"], [0.6666666666666666, \"#ed7953\"], [0.7777777777777778, \"#fb9f3a\"], [0.8888888888888888, \"#fdca26\"], [1.0, \"#f0f921\"]], \"type\": \"contour\"}], \"contourcarpet\": [{\"colorbar\": {\"outlinewidth\": 0, \"ticks\": \"\"}, \"type\": \"contourcarpet\"}], \"heatmap\": [{\"colorbar\": {\"outlinewidth\": 0, \"ticks\": \"\"}, \"colorscale\": [[0.0, \"#0d0887\"], [0.1111111111111111, \"#46039f\"], [0.2222222222222222, \"#7201a8\"], [0.3333333333333333, \"#9c179e\"], [0.4444444444444444, \"#bd3786\"], [0.5555555555555556, \"#d8576b\"], [0.6666666666666666, \"#ed7953\"], [0.7777777777777778, \"#fb9f3a\"], [0.8888888888888888, \"#fdca26\"], [1.0, \"#f0f921\"]], \"type\": \"heatmap\"}], \"heatmapgl\": [{\"colorbar\": {\"outlinewidth\": 0, \"ticks\": \"\"}, \"colorscale\": [[0.0, \"#0d0887\"], [0.1111111111111111, \"#46039f\"], [0.2222222222222222, \"#7201a8\"], [0.3333333333333333, \"#9c179e\"], [0.4444444444444444, \"#bd3786\"], [0.5555555555555556, \"#d8576b\"], [0.6666666666666666, \"#ed7953\"], [0.7777777777777778, \"#fb9f3a\"], [0.8888888888888888, \"#fdca26\"], [1.0, \"#f0f921\"]], \"type\": \"heatmapgl\"}], \"histogram\": [{\"marker\": {\"colorbar\": {\"outlinewidth\": 0, \"ticks\": \"\"}}, \"type\": \"histogram\"}], \"histogram2d\": [{\"colorbar\": {\"outlinewidth\": 0, \"ticks\": \"\"}, \"colorscale\": [[0.0, \"#0d0887\"], [0.1111111111111111, \"#46039f\"], [0.2222222222222222, \"#7201a8\"], [0.3333333333333333, \"#9c179e\"], [0.4444444444444444, \"#bd3786\"], [0.5555555555555556, \"#d8576b\"], [0.6666666666666666, \"#ed7953\"], [0.7777777777777778, \"#fb9f3a\"], [0.8888888888888888, \"#fdca26\"], [1.0, \"#f0f921\"]], \"type\": \"histogram2d\"}], \"histogram2dcontour\": [{\"colorbar\": {\"outlinewidth\": 0, \"ticks\": \"\"}, \"colorscale\": [[0.0, \"#0d0887\"], [0.1111111111111111, \"#46039f\"], [0.2222222222222222, \"#7201a8\"], [0.3333333333333333, \"#9c179e\"], [0.4444444444444444, \"#bd3786\"], [0.5555555555555556, \"#d8576b\"], [0.6666666666666666, \"#ed7953\"], [0.7777777777777778, \"#fb9f3a\"], [0.8888888888888888, \"#fdca26\"], [1.0, \"#f0f921\"]], \"type\": \"histogram2dcontour\"}], \"mesh3d\": [{\"colorbar\": {\"outlinewidth\": 0, \"ticks\": \"\"}, \"type\": \"mesh3d\"}], \"parcoords\": [{\"line\": {\"colorbar\": {\"outlinewidth\": 0, \"ticks\": \"\"}}, \"type\": \"parcoords\"}], \"pie\": [{\"automargin\": true, \"type\": \"pie\"}], \"scatter\": [{\"marker\": {\"colorbar\": {\"outlinewidth\": 0, \"ticks\": \"\"}}, \"type\": \"scatter\"}], \"scatter3d\": [{\"line\": {\"colorbar\": {\"outlinewidth\": 0, \"ticks\": \"\"}}, \"marker\": {\"colorbar\": {\"outlinewidth\": 0, \"ticks\": \"\"}}, \"type\": \"scatter3d\"}], \"scattercarpet\": [{\"marker\": {\"colorbar\": {\"outlinewidth\": 0, \"ticks\": \"\"}}, \"type\": \"scattercarpet\"}], \"scattergeo\": [{\"marker\": {\"colorbar\": {\"outlinewidth\": 0, \"ticks\": \"\"}}, \"type\": \"scattergeo\"}], \"scattergl\": [{\"marker\": {\"colorbar\": {\"outlinewidth\": 0, \"ticks\": \"\"}}, \"type\": \"scattergl\"}], \"scattermapbox\": [{\"marker\": {\"colorbar\": {\"outlinewidth\": 0, \"ticks\": \"\"}}, \"type\": \"scattermapbox\"}], \"scatterpolar\": [{\"marker\": {\"colorbar\": {\"outlinewidth\": 0, \"ticks\": \"\"}}, \"type\": \"scatterpolar\"}], \"scatterpolargl\": [{\"marker\": {\"colorbar\": {\"outlinewidth\": 0, \"ticks\": \"\"}}, \"type\": \"scatterpolargl\"}], \"scatterternary\": [{\"marker\": {\"colorbar\": {\"outlinewidth\": 0, \"ticks\": \"\"}}, \"type\": \"scatterternary\"}], \"surface\": [{\"colorbar\": {\"outlinewidth\": 0, \"ticks\": \"\"}, \"colorscale\": [[0.0, \"#0d0887\"], [0.1111111111111111, \"#46039f\"], [0.2222222222222222, \"#7201a8\"], [0.3333333333333333, \"#9c179e\"], [0.4444444444444444, \"#bd3786\"], [0.5555555555555556, \"#d8576b\"], [0.6666666666666666, \"#ed7953\"], [0.7777777777777778, \"#fb9f3a\"], [0.8888888888888888, \"#fdca26\"], [1.0, \"#f0f921\"]], \"type\": \"surface\"}], \"table\": [{\"cells\": {\"fill\": {\"color\": \"#EBF0F8\"}, \"line\": {\"color\": \"white\"}}, \"header\": {\"fill\": {\"color\": \"#C8D4E3\"}, \"line\": {\"color\": \"white\"}}, \"type\": \"table\"}]}, \"layout\": {\"annotationdefaults\": {\"arrowcolor\": \"#2a3f5f\", \"arrowhead\": 0, \"arrowwidth\": 1}, \"coloraxis\": {\"colorbar\": {\"outlinewidth\": 0, \"ticks\": \"\"}}, \"colorscale\": {\"diverging\": [[0, \"#8e0152\"], [0.1, \"#c51b7d\"], [0.2, \"#de77ae\"], [0.3, \"#f1b6da\"], [0.4, \"#fde0ef\"], [0.5, \"#f7f7f7\"], [0.6, \"#e6f5d0\"], [0.7, \"#b8e186\"], [0.8, \"#7fbc41\"], [0.9, \"#4d9221\"], [1, \"#276419\"]], \"sequential\": [[0.0, \"#0d0887\"], [0.1111111111111111, \"#46039f\"], [0.2222222222222222, \"#7201a8\"], [0.3333333333333333, \"#9c179e\"], [0.4444444444444444, \"#bd3786\"], [0.5555555555555556, \"#d8576b\"], [0.6666666666666666, \"#ed7953\"], [0.7777777777777778, \"#fb9f3a\"], [0.8888888888888888, \"#fdca26\"], [1.0, \"#f0f921\"]], \"sequentialminus\": [[0.0, \"#0d0887\"], [0.1111111111111111, \"#46039f\"], [0.2222222222222222, \"#7201a8\"], [0.3333333333333333, \"#9c179e\"], [0.4444444444444444, \"#bd3786\"], [0.5555555555555556, \"#d8576b\"], [0.6666666666666666, \"#ed7953\"], [0.7777777777777778, \"#fb9f3a\"], [0.8888888888888888, \"#fdca26\"], [1.0, \"#f0f921\"]]}, \"colorway\": [\"#636efa\", \"#EF553B\", \"#00cc96\", \"#ab63fa\", \"#FFA15A\", \"#19d3f3\", \"#FF6692\", \"#B6E880\", \"#FF97FF\", \"#FECB52\"], \"font\": {\"color\": \"#2a3f5f\"}, \"geo\": {\"bgcolor\": \"white\", \"lakecolor\": \"white\", \"landcolor\": \"#E5ECF6\", \"showlakes\": true, \"showland\": true, \"subunitcolor\": \"white\"}, \"hoverlabel\": {\"align\": \"left\"}, \"hovermode\": \"closest\", \"mapbox\": {\"style\": \"light\"}, \"paper_bgcolor\": \"white\", \"plot_bgcolor\": \"#E5ECF6\", \"polar\": {\"angularaxis\": {\"gridcolor\": \"white\", \"linecolor\": \"white\", \"ticks\": \"\"}, \"bgcolor\": \"#E5ECF6\", \"radialaxis\": {\"gridcolor\": \"white\", \"linecolor\": \"white\", \"ticks\": \"\"}}, \"scene\": {\"xaxis\": {\"backgroundcolor\": \"#E5ECF6\", \"gridcolor\": \"white\", \"gridwidth\": 2, \"linecolor\": \"white\", \"showbackground\": true, \"ticks\": \"\", \"zerolinecolor\": \"white\"}, \"yaxis\": {\"backgroundcolor\": \"#E5ECF6\", \"gridcolor\": \"white\", \"gridwidth\": 2, \"linecolor\": \"white\", \"showbackground\": true, \"ticks\": \"\", \"zerolinecolor\": \"white\"}, \"zaxis\": {\"backgroundcolor\": \"#E5ECF6\", \"gridcolor\": \"white\", \"gridwidth\": 2, \"linecolor\": \"white\", \"showbackground\": true, \"ticks\": \"\", \"zerolinecolor\": \"white\"}}, \"shapedefaults\": {\"line\": {\"color\": \"#2a3f5f\"}}, \"ternary\": {\"aaxis\": {\"gridcolor\": \"white\", \"linecolor\": \"white\", \"ticks\": \"\"}, \"baxis\": {\"gridcolor\": \"white\", \"linecolor\": \"white\", \"ticks\": \"\"}, \"bgcolor\": \"#E5ECF6\", \"caxis\": {\"gridcolor\": \"white\", \"linecolor\": \"white\", \"ticks\": \"\"}}, \"title\": {\"x\": 0.05}, \"xaxis\": {\"automargin\": true, \"gridcolor\": \"white\", \"linecolor\": \"white\", \"ticks\": \"\", \"title\": {\"standoff\": 15}, \"zerolinecolor\": \"white\", \"zerolinewidth\": 2}, \"yaxis\": {\"automargin\": true, \"gridcolor\": \"white\", \"linecolor\": \"white\", \"ticks\": \"\", \"title\": {\"standoff\": 15}, \"zerolinecolor\": \"white\", \"zerolinewidth\": 2}}}, \"title\": {\"text\": \"Dystrybucja ze wzgl\\u0119du na ras\\u0119\"}, \"width\": 600, \"xaxis\": {\"anchor\": \"y\", \"domain\": [0.0, 1.0], \"title\": {\"text\": \"count\"}}, \"yaxis\": {\"anchor\": \"x\", \"domain\": [0.0, 1.0], \"title\": {\"text\": \"race\"}}},                        {\"responsive\": true}                    ).then(function(){\n",
       "                            \n",
       "var gd = document.getElementById('1a13820d-60f6-4325-b7f1-8505efbf0e0f');\n",
       "var x = new MutationObserver(function (mutations, observer) {{\n",
       "        var display = window.getComputedStyle(gd).display;\n",
       "        if (!display || display === 'none') {{\n",
       "            console.log([gd, 'removed!']);\n",
       "            Plotly.purge(gd);\n",
       "            observer.disconnect();\n",
       "        }}\n",
       "}});\n",
       "\n",
       "// Listen for the removal of the full notebook cells\n",
       "var notebookContainer = gd.closest('#notebook-container');\n",
       "if (notebookContainer) {{\n",
       "    x.observe(notebookContainer, {childList: true});\n",
       "}}\n",
       "\n",
       "// Listen for the clearing of the current output cell\n",
       "var outputEl = gd.closest('.output');\n",
       "if (outputEl) {{\n",
       "    x.observe(outputEl, {childList: true});\n",
       "}}\n",
       "\n",
       "                        })                };                });            </script>        </div>"
      ]
     },
     "metadata": {},
     "output_type": "display_data"
    }
   ],
   "source": [
    "data = df['race'].value_counts().reset_index()\n",
    "data.columns = [\n",
    "    'race', \n",
    "    'count'\n",
    "]\n",
    "data = data.sort_values('count')\n",
    "\n",
    "fig = px.bar(\n",
    "    data, \n",
    "    x='count', \n",
    "    y='race', \n",
    "    orientation='h', \n",
    "    title='Dystrybucja ze względu na rasę', \n",
    "    width=600,\n",
    "    height=600\n",
    ")\n",
    "\n",
    "fig.show()"
   ]
  },
  {
   "cell_type": "code",
   "execution_count": 27,
   "metadata": {},
   "outputs": [],
   "source": [
    "# Wniosek: najwięcej zastrzelonych przez policję jest wbiałych mężczyzn w wieku 25-40"
   ]
  },
  {
   "cell_type": "code",
   "execution_count": 21,
   "metadata": {},
   "outputs": [
    {
     "data": {
      "application/vnd.plotly.v1+json": {
       "config": {
        "plotlyServerURL": "https://plot.ly"
       },
       "data": [
        {
         "alignmentgroup": "True",
         "hovertemplate": "name=%{x}<br>city=%{y}<extra></extra>",
         "legendgroup": "",
         "marker": {
          "color": "#636efa"
         },
         "name": "",
         "offsetgroup": "",
         "orientation": "h",
         "showlegend": false,
         "textposition": "auto",
         "type": "bar",
         "x": [
          12,
          12,
          12,
          12,
          13,
          13,
          13,
          13,
          14,
          14,
          15,
          15,
          15,
          15,
          15,
          15,
          15,
          15,
          16,
          16,
          16,
          16,
          17,
          18,
          18,
          18,
          19,
          20,
          20,
          21,
          21,
          21,
          22,
          23,
          23,
          24,
          26,
          29,
          29,
          30,
          30,
          31,
          32,
          36,
          38,
          40,
          41,
          51,
          66,
          78
         ],
         "xaxis": "x",
         "y": [
          "El Paso",
          "Honolulu",
          "Lakewood",
          "Glendale",
          "Salt Lake City",
          "Fort Worth",
          "San Bernardino",
          "Greenville",
          "Milwaukee",
          "Dallas",
          "San Jose",
          "Springfield",
          "Washington",
          "San Francisco",
          "San Diego",
          "Arlington",
          "Aurora",
          "Memphis",
          "Colorado Springs",
          "Philadelphia",
          "Pueblo",
          "Charlotte",
          "Long Beach",
          "Portland",
          "Indianapolis",
          "Fresno",
          "Baltimore",
          "Orlando",
          "Mesa",
          "Tulsa",
          "Atlanta",
          "New York",
          "Bakersfield",
          "Tucson",
          "Louisville",
          "Denver",
          "Miami",
          "Kansas City",
          "Austin",
          "Oklahoma City",
          "St. Louis",
          "Jacksonville",
          "Albuquerque",
          "Columbus",
          "Chicago",
          "San Antonio",
          "Las Vegas",
          "Houston",
          "Phoenix",
          "Los Angeles"
         ],
         "yaxis": "y"
        }
       ],
       "layout": {
        "barmode": "relative",
        "height": 900,
        "legend": {
         "tracegroupgap": 0
        },
        "template": {
         "data": {
          "bar": [
           {
            "error_x": {
             "color": "#2a3f5f"
            },
            "error_y": {
             "color": "#2a3f5f"
            },
            "marker": {
             "line": {
              "color": "#E5ECF6",
              "width": 0.5
             }
            },
            "type": "bar"
           }
          ],
          "barpolar": [
           {
            "marker": {
             "line": {
              "color": "#E5ECF6",
              "width": 0.5
             }
            },
            "type": "barpolar"
           }
          ],
          "carpet": [
           {
            "aaxis": {
             "endlinecolor": "#2a3f5f",
             "gridcolor": "white",
             "linecolor": "white",
             "minorgridcolor": "white",
             "startlinecolor": "#2a3f5f"
            },
            "baxis": {
             "endlinecolor": "#2a3f5f",
             "gridcolor": "white",
             "linecolor": "white",
             "minorgridcolor": "white",
             "startlinecolor": "#2a3f5f"
            },
            "type": "carpet"
           }
          ],
          "choropleth": [
           {
            "colorbar": {
             "outlinewidth": 0,
             "ticks": ""
            },
            "type": "choropleth"
           }
          ],
          "contour": [
           {
            "colorbar": {
             "outlinewidth": 0,
             "ticks": ""
            },
            "colorscale": [
             [
              0,
              "#0d0887"
             ],
             [
              0.1111111111111111,
              "#46039f"
             ],
             [
              0.2222222222222222,
              "#7201a8"
             ],
             [
              0.3333333333333333,
              "#9c179e"
             ],
             [
              0.4444444444444444,
              "#bd3786"
             ],
             [
              0.5555555555555556,
              "#d8576b"
             ],
             [
              0.6666666666666666,
              "#ed7953"
             ],
             [
              0.7777777777777778,
              "#fb9f3a"
             ],
             [
              0.8888888888888888,
              "#fdca26"
             ],
             [
              1,
              "#f0f921"
             ]
            ],
            "type": "contour"
           }
          ],
          "contourcarpet": [
           {
            "colorbar": {
             "outlinewidth": 0,
             "ticks": ""
            },
            "type": "contourcarpet"
           }
          ],
          "heatmap": [
           {
            "colorbar": {
             "outlinewidth": 0,
             "ticks": ""
            },
            "colorscale": [
             [
              0,
              "#0d0887"
             ],
             [
              0.1111111111111111,
              "#46039f"
             ],
             [
              0.2222222222222222,
              "#7201a8"
             ],
             [
              0.3333333333333333,
              "#9c179e"
             ],
             [
              0.4444444444444444,
              "#bd3786"
             ],
             [
              0.5555555555555556,
              "#d8576b"
             ],
             [
              0.6666666666666666,
              "#ed7953"
             ],
             [
              0.7777777777777778,
              "#fb9f3a"
             ],
             [
              0.8888888888888888,
              "#fdca26"
             ],
             [
              1,
              "#f0f921"
             ]
            ],
            "type": "heatmap"
           }
          ],
          "heatmapgl": [
           {
            "colorbar": {
             "outlinewidth": 0,
             "ticks": ""
            },
            "colorscale": [
             [
              0,
              "#0d0887"
             ],
             [
              0.1111111111111111,
              "#46039f"
             ],
             [
              0.2222222222222222,
              "#7201a8"
             ],
             [
              0.3333333333333333,
              "#9c179e"
             ],
             [
              0.4444444444444444,
              "#bd3786"
             ],
             [
              0.5555555555555556,
              "#d8576b"
             ],
             [
              0.6666666666666666,
              "#ed7953"
             ],
             [
              0.7777777777777778,
              "#fb9f3a"
             ],
             [
              0.8888888888888888,
              "#fdca26"
             ],
             [
              1,
              "#f0f921"
             ]
            ],
            "type": "heatmapgl"
           }
          ],
          "histogram": [
           {
            "marker": {
             "colorbar": {
              "outlinewidth": 0,
              "ticks": ""
             }
            },
            "type": "histogram"
           }
          ],
          "histogram2d": [
           {
            "colorbar": {
             "outlinewidth": 0,
             "ticks": ""
            },
            "colorscale": [
             [
              0,
              "#0d0887"
             ],
             [
              0.1111111111111111,
              "#46039f"
             ],
             [
              0.2222222222222222,
              "#7201a8"
             ],
             [
              0.3333333333333333,
              "#9c179e"
             ],
             [
              0.4444444444444444,
              "#bd3786"
             ],
             [
              0.5555555555555556,
              "#d8576b"
             ],
             [
              0.6666666666666666,
              "#ed7953"
             ],
             [
              0.7777777777777778,
              "#fb9f3a"
             ],
             [
              0.8888888888888888,
              "#fdca26"
             ],
             [
              1,
              "#f0f921"
             ]
            ],
            "type": "histogram2d"
           }
          ],
          "histogram2dcontour": [
           {
            "colorbar": {
             "outlinewidth": 0,
             "ticks": ""
            },
            "colorscale": [
             [
              0,
              "#0d0887"
             ],
             [
              0.1111111111111111,
              "#46039f"
             ],
             [
              0.2222222222222222,
              "#7201a8"
             ],
             [
              0.3333333333333333,
              "#9c179e"
             ],
             [
              0.4444444444444444,
              "#bd3786"
             ],
             [
              0.5555555555555556,
              "#d8576b"
             ],
             [
              0.6666666666666666,
              "#ed7953"
             ],
             [
              0.7777777777777778,
              "#fb9f3a"
             ],
             [
              0.8888888888888888,
              "#fdca26"
             ],
             [
              1,
              "#f0f921"
             ]
            ],
            "type": "histogram2dcontour"
           }
          ],
          "mesh3d": [
           {
            "colorbar": {
             "outlinewidth": 0,
             "ticks": ""
            },
            "type": "mesh3d"
           }
          ],
          "parcoords": [
           {
            "line": {
             "colorbar": {
              "outlinewidth": 0,
              "ticks": ""
             }
            },
            "type": "parcoords"
           }
          ],
          "pie": [
           {
            "automargin": true,
            "type": "pie"
           }
          ],
          "scatter": [
           {
            "marker": {
             "colorbar": {
              "outlinewidth": 0,
              "ticks": ""
             }
            },
            "type": "scatter"
           }
          ],
          "scatter3d": [
           {
            "line": {
             "colorbar": {
              "outlinewidth": 0,
              "ticks": ""
             }
            },
            "marker": {
             "colorbar": {
              "outlinewidth": 0,
              "ticks": ""
             }
            },
            "type": "scatter3d"
           }
          ],
          "scattercarpet": [
           {
            "marker": {
             "colorbar": {
              "outlinewidth": 0,
              "ticks": ""
             }
            },
            "type": "scattercarpet"
           }
          ],
          "scattergeo": [
           {
            "marker": {
             "colorbar": {
              "outlinewidth": 0,
              "ticks": ""
             }
            },
            "type": "scattergeo"
           }
          ],
          "scattergl": [
           {
            "marker": {
             "colorbar": {
              "outlinewidth": 0,
              "ticks": ""
             }
            },
            "type": "scattergl"
           }
          ],
          "scattermapbox": [
           {
            "marker": {
             "colorbar": {
              "outlinewidth": 0,
              "ticks": ""
             }
            },
            "type": "scattermapbox"
           }
          ],
          "scatterpolar": [
           {
            "marker": {
             "colorbar": {
              "outlinewidth": 0,
              "ticks": ""
             }
            },
            "type": "scatterpolar"
           }
          ],
          "scatterpolargl": [
           {
            "marker": {
             "colorbar": {
              "outlinewidth": 0,
              "ticks": ""
             }
            },
            "type": "scatterpolargl"
           }
          ],
          "scatterternary": [
           {
            "marker": {
             "colorbar": {
              "outlinewidth": 0,
              "ticks": ""
             }
            },
            "type": "scatterternary"
           }
          ],
          "surface": [
           {
            "colorbar": {
             "outlinewidth": 0,
             "ticks": ""
            },
            "colorscale": [
             [
              0,
              "#0d0887"
             ],
             [
              0.1111111111111111,
              "#46039f"
             ],
             [
              0.2222222222222222,
              "#7201a8"
             ],
             [
              0.3333333333333333,
              "#9c179e"
             ],
             [
              0.4444444444444444,
              "#bd3786"
             ],
             [
              0.5555555555555556,
              "#d8576b"
             ],
             [
              0.6666666666666666,
              "#ed7953"
             ],
             [
              0.7777777777777778,
              "#fb9f3a"
             ],
             [
              0.8888888888888888,
              "#fdca26"
             ],
             [
              1,
              "#f0f921"
             ]
            ],
            "type": "surface"
           }
          ],
          "table": [
           {
            "cells": {
             "fill": {
              "color": "#EBF0F8"
             },
             "line": {
              "color": "white"
             }
            },
            "header": {
             "fill": {
              "color": "#C8D4E3"
             },
             "line": {
              "color": "white"
             }
            },
            "type": "table"
           }
          ]
         },
         "layout": {
          "annotationdefaults": {
           "arrowcolor": "#2a3f5f",
           "arrowhead": 0,
           "arrowwidth": 1
          },
          "coloraxis": {
           "colorbar": {
            "outlinewidth": 0,
            "ticks": ""
           }
          },
          "colorscale": {
           "diverging": [
            [
             0,
             "#8e0152"
            ],
            [
             0.1,
             "#c51b7d"
            ],
            [
             0.2,
             "#de77ae"
            ],
            [
             0.3,
             "#f1b6da"
            ],
            [
             0.4,
             "#fde0ef"
            ],
            [
             0.5,
             "#f7f7f7"
            ],
            [
             0.6,
             "#e6f5d0"
            ],
            [
             0.7,
             "#b8e186"
            ],
            [
             0.8,
             "#7fbc41"
            ],
            [
             0.9,
             "#4d9221"
            ],
            [
             1,
             "#276419"
            ]
           ],
           "sequential": [
            [
             0,
             "#0d0887"
            ],
            [
             0.1111111111111111,
             "#46039f"
            ],
            [
             0.2222222222222222,
             "#7201a8"
            ],
            [
             0.3333333333333333,
             "#9c179e"
            ],
            [
             0.4444444444444444,
             "#bd3786"
            ],
            [
             0.5555555555555556,
             "#d8576b"
            ],
            [
             0.6666666666666666,
             "#ed7953"
            ],
            [
             0.7777777777777778,
             "#fb9f3a"
            ],
            [
             0.8888888888888888,
             "#fdca26"
            ],
            [
             1,
             "#f0f921"
            ]
           ],
           "sequentialminus": [
            [
             0,
             "#0d0887"
            ],
            [
             0.1111111111111111,
             "#46039f"
            ],
            [
             0.2222222222222222,
             "#7201a8"
            ],
            [
             0.3333333333333333,
             "#9c179e"
            ],
            [
             0.4444444444444444,
             "#bd3786"
            ],
            [
             0.5555555555555556,
             "#d8576b"
            ],
            [
             0.6666666666666666,
             "#ed7953"
            ],
            [
             0.7777777777777778,
             "#fb9f3a"
            ],
            [
             0.8888888888888888,
             "#fdca26"
            ],
            [
             1,
             "#f0f921"
            ]
           ]
          },
          "colorway": [
           "#636efa",
           "#EF553B",
           "#00cc96",
           "#ab63fa",
           "#FFA15A",
           "#19d3f3",
           "#FF6692",
           "#B6E880",
           "#FF97FF",
           "#FECB52"
          ],
          "font": {
           "color": "#2a3f5f"
          },
          "geo": {
           "bgcolor": "white",
           "lakecolor": "white",
           "landcolor": "#E5ECF6",
           "showlakes": true,
           "showland": true,
           "subunitcolor": "white"
          },
          "hoverlabel": {
           "align": "left"
          },
          "hovermode": "closest",
          "mapbox": {
           "style": "light"
          },
          "paper_bgcolor": "white",
          "plot_bgcolor": "#E5ECF6",
          "polar": {
           "angularaxis": {
            "gridcolor": "white",
            "linecolor": "white",
            "ticks": ""
           },
           "bgcolor": "#E5ECF6",
           "radialaxis": {
            "gridcolor": "white",
            "linecolor": "white",
            "ticks": ""
           }
          },
          "scene": {
           "xaxis": {
            "backgroundcolor": "#E5ECF6",
            "gridcolor": "white",
            "gridwidth": 2,
            "linecolor": "white",
            "showbackground": true,
            "ticks": "",
            "zerolinecolor": "white"
           },
           "yaxis": {
            "backgroundcolor": "#E5ECF6",
            "gridcolor": "white",
            "gridwidth": 2,
            "linecolor": "white",
            "showbackground": true,
            "ticks": "",
            "zerolinecolor": "white"
           },
           "zaxis": {
            "backgroundcolor": "#E5ECF6",
            "gridcolor": "white",
            "gridwidth": 2,
            "linecolor": "white",
            "showbackground": true,
            "ticks": "",
            "zerolinecolor": "white"
           }
          },
          "shapedefaults": {
           "line": {
            "color": "#2a3f5f"
           }
          },
          "ternary": {
           "aaxis": {
            "gridcolor": "white",
            "linecolor": "white",
            "ticks": ""
           },
           "baxis": {
            "gridcolor": "white",
            "linecolor": "white",
            "ticks": ""
           },
           "bgcolor": "#E5ECF6",
           "caxis": {
            "gridcolor": "white",
            "linecolor": "white",
            "ticks": ""
           }
          },
          "title": {
           "x": 0.05
          },
          "xaxis": {
           "automargin": true,
           "gridcolor": "white",
           "linecolor": "white",
           "ticks": "",
           "title": {
            "standoff": 15
           },
           "zerolinecolor": "white",
           "zerolinewidth": 2
          },
          "yaxis": {
           "automargin": true,
           "gridcolor": "white",
           "linecolor": "white",
           "ticks": "",
           "title": {
            "standoff": 15
           },
           "zerolinecolor": "white",
           "zerolinewidth": 2
          }
         }
        },
        "title": {
         "text": "Top 50 miast w USA ze względu na śmierć z ręki policjanta"
        },
        "width": 800,
        "xaxis": {
         "anchor": "y",
         "domain": [
          0,
          1
         ],
         "title": {
          "text": "name"
         }
        },
        "yaxis": {
         "anchor": "x",
         "domain": [
          0,
          1
         ],
         "title": {
          "text": "city"
         }
        }
       }
      },
      "text/html": [
       "<div>                            <div id=\"5009c792-d101-48b8-8e40-2a630d1b2788\" class=\"plotly-graph-div\" style=\"height:900px; width:800px;\"></div>            <script type=\"text/javascript\">                require([\"plotly\"], function(Plotly) {                    window.PLOTLYENV=window.PLOTLYENV || {};                                    if (document.getElementById(\"5009c792-d101-48b8-8e40-2a630d1b2788\")) {                    Plotly.newPlot(                        \"5009c792-d101-48b8-8e40-2a630d1b2788\",                        [{\"alignmentgroup\": \"True\", \"hovertemplate\": \"name=%{x}<br>city=%{y}<extra></extra>\", \"legendgroup\": \"\", \"marker\": {\"color\": \"#636efa\"}, \"name\": \"\", \"offsetgroup\": \"\", \"orientation\": \"h\", \"showlegend\": false, \"textposition\": \"auto\", \"type\": \"bar\", \"x\": [12, 12, 12, 12, 13, 13, 13, 13, 14, 14, 15, 15, 15, 15, 15, 15, 15, 15, 16, 16, 16, 16, 17, 18, 18, 18, 19, 20, 20, 21, 21, 21, 22, 23, 23, 24, 26, 29, 29, 30, 30, 31, 32, 36, 38, 40, 41, 51, 66, 78], \"xaxis\": \"x\", \"y\": [\"El Paso\", \"Honolulu\", \"Lakewood\", \"Glendale\", \"Salt Lake City\", \"Fort Worth\", \"San Bernardino\", \"Greenville\", \"Milwaukee\", \"Dallas\", \"San Jose\", \"Springfield\", \"Washington\", \"San Francisco\", \"San Diego\", \"Arlington\", \"Aurora\", \"Memphis\", \"Colorado Springs\", \"Philadelphia\", \"Pueblo\", \"Charlotte\", \"Long Beach\", \"Portland\", \"Indianapolis\", \"Fresno\", \"Baltimore\", \"Orlando\", \"Mesa\", \"Tulsa\", \"Atlanta\", \"New York\", \"Bakersfield\", \"Tucson\", \"Louisville\", \"Denver\", \"Miami\", \"Kansas City\", \"Austin\", \"Oklahoma City\", \"St. Louis\", \"Jacksonville\", \"Albuquerque\", \"Columbus\", \"Chicago\", \"San Antonio\", \"Las Vegas\", \"Houston\", \"Phoenix\", \"Los Angeles\"], \"yaxis\": \"y\"}],                        {\"barmode\": \"relative\", \"height\": 900, \"legend\": {\"tracegroupgap\": 0}, \"template\": {\"data\": {\"bar\": [{\"error_x\": {\"color\": \"#2a3f5f\"}, \"error_y\": {\"color\": \"#2a3f5f\"}, \"marker\": {\"line\": {\"color\": \"#E5ECF6\", \"width\": 0.5}}, \"type\": \"bar\"}], \"barpolar\": [{\"marker\": {\"line\": {\"color\": \"#E5ECF6\", \"width\": 0.5}}, \"type\": \"barpolar\"}], \"carpet\": [{\"aaxis\": {\"endlinecolor\": \"#2a3f5f\", \"gridcolor\": \"white\", \"linecolor\": \"white\", \"minorgridcolor\": \"white\", \"startlinecolor\": \"#2a3f5f\"}, \"baxis\": {\"endlinecolor\": \"#2a3f5f\", \"gridcolor\": \"white\", \"linecolor\": \"white\", \"minorgridcolor\": \"white\", \"startlinecolor\": \"#2a3f5f\"}, \"type\": \"carpet\"}], \"choropleth\": [{\"colorbar\": {\"outlinewidth\": 0, \"ticks\": \"\"}, \"type\": \"choropleth\"}], \"contour\": [{\"colorbar\": {\"outlinewidth\": 0, \"ticks\": \"\"}, \"colorscale\": [[0.0, \"#0d0887\"], [0.1111111111111111, \"#46039f\"], [0.2222222222222222, \"#7201a8\"], [0.3333333333333333, \"#9c179e\"], [0.4444444444444444, \"#bd3786\"], [0.5555555555555556, \"#d8576b\"], [0.6666666666666666, \"#ed7953\"], [0.7777777777777778, \"#fb9f3a\"], [0.8888888888888888, \"#fdca26\"], [1.0, \"#f0f921\"]], \"type\": \"contour\"}], \"contourcarpet\": [{\"colorbar\": {\"outlinewidth\": 0, \"ticks\": \"\"}, \"type\": \"contourcarpet\"}], \"heatmap\": [{\"colorbar\": {\"outlinewidth\": 0, \"ticks\": \"\"}, \"colorscale\": [[0.0, \"#0d0887\"], [0.1111111111111111, \"#46039f\"], [0.2222222222222222, \"#7201a8\"], [0.3333333333333333, \"#9c179e\"], [0.4444444444444444, \"#bd3786\"], [0.5555555555555556, \"#d8576b\"], [0.6666666666666666, \"#ed7953\"], [0.7777777777777778, \"#fb9f3a\"], [0.8888888888888888, \"#fdca26\"], [1.0, \"#f0f921\"]], \"type\": \"heatmap\"}], \"heatmapgl\": [{\"colorbar\": {\"outlinewidth\": 0, \"ticks\": \"\"}, \"colorscale\": [[0.0, \"#0d0887\"], [0.1111111111111111, \"#46039f\"], [0.2222222222222222, \"#7201a8\"], [0.3333333333333333, \"#9c179e\"], [0.4444444444444444, \"#bd3786\"], [0.5555555555555556, \"#d8576b\"], [0.6666666666666666, \"#ed7953\"], [0.7777777777777778, \"#fb9f3a\"], [0.8888888888888888, \"#fdca26\"], [1.0, \"#f0f921\"]], \"type\": \"heatmapgl\"}], \"histogram\": [{\"marker\": {\"colorbar\": {\"outlinewidth\": 0, \"ticks\": \"\"}}, \"type\": \"histogram\"}], \"histogram2d\": [{\"colorbar\": {\"outlinewidth\": 0, \"ticks\": \"\"}, \"colorscale\": [[0.0, \"#0d0887\"], [0.1111111111111111, \"#46039f\"], [0.2222222222222222, \"#7201a8\"], [0.3333333333333333, \"#9c179e\"], [0.4444444444444444, \"#bd3786\"], [0.5555555555555556, \"#d8576b\"], [0.6666666666666666, \"#ed7953\"], [0.7777777777777778, \"#fb9f3a\"], [0.8888888888888888, \"#fdca26\"], [1.0, \"#f0f921\"]], \"type\": \"histogram2d\"}], \"histogram2dcontour\": [{\"colorbar\": {\"outlinewidth\": 0, \"ticks\": \"\"}, \"colorscale\": [[0.0, \"#0d0887\"], [0.1111111111111111, \"#46039f\"], [0.2222222222222222, \"#7201a8\"], [0.3333333333333333, \"#9c179e\"], [0.4444444444444444, \"#bd3786\"], [0.5555555555555556, \"#d8576b\"], [0.6666666666666666, \"#ed7953\"], [0.7777777777777778, \"#fb9f3a\"], [0.8888888888888888, \"#fdca26\"], [1.0, \"#f0f921\"]], \"type\": \"histogram2dcontour\"}], \"mesh3d\": [{\"colorbar\": {\"outlinewidth\": 0, \"ticks\": \"\"}, \"type\": \"mesh3d\"}], \"parcoords\": [{\"line\": {\"colorbar\": {\"outlinewidth\": 0, \"ticks\": \"\"}}, \"type\": \"parcoords\"}], \"pie\": [{\"automargin\": true, \"type\": \"pie\"}], \"scatter\": [{\"marker\": {\"colorbar\": {\"outlinewidth\": 0, \"ticks\": \"\"}}, \"type\": \"scatter\"}], \"scatter3d\": [{\"line\": {\"colorbar\": {\"outlinewidth\": 0, \"ticks\": \"\"}}, \"marker\": {\"colorbar\": {\"outlinewidth\": 0, \"ticks\": \"\"}}, \"type\": \"scatter3d\"}], \"scattercarpet\": [{\"marker\": {\"colorbar\": {\"outlinewidth\": 0, \"ticks\": \"\"}}, \"type\": \"scattercarpet\"}], \"scattergeo\": [{\"marker\": {\"colorbar\": {\"outlinewidth\": 0, \"ticks\": \"\"}}, \"type\": \"scattergeo\"}], \"scattergl\": [{\"marker\": {\"colorbar\": {\"outlinewidth\": 0, \"ticks\": \"\"}}, \"type\": \"scattergl\"}], \"scattermapbox\": [{\"marker\": {\"colorbar\": {\"outlinewidth\": 0, \"ticks\": \"\"}}, \"type\": \"scattermapbox\"}], \"scatterpolar\": [{\"marker\": {\"colorbar\": {\"outlinewidth\": 0, \"ticks\": \"\"}}, \"type\": \"scatterpolar\"}], \"scatterpolargl\": [{\"marker\": {\"colorbar\": {\"outlinewidth\": 0, \"ticks\": \"\"}}, \"type\": \"scatterpolargl\"}], \"scatterternary\": [{\"marker\": {\"colorbar\": {\"outlinewidth\": 0, \"ticks\": \"\"}}, \"type\": \"scatterternary\"}], \"surface\": [{\"colorbar\": {\"outlinewidth\": 0, \"ticks\": \"\"}, \"colorscale\": [[0.0, \"#0d0887\"], [0.1111111111111111, \"#46039f\"], [0.2222222222222222, \"#7201a8\"], [0.3333333333333333, \"#9c179e\"], [0.4444444444444444, \"#bd3786\"], [0.5555555555555556, \"#d8576b\"], [0.6666666666666666, \"#ed7953\"], [0.7777777777777778, \"#fb9f3a\"], [0.8888888888888888, \"#fdca26\"], [1.0, \"#f0f921\"]], \"type\": \"surface\"}], \"table\": [{\"cells\": {\"fill\": {\"color\": \"#EBF0F8\"}, \"line\": {\"color\": \"white\"}}, \"header\": {\"fill\": {\"color\": \"#C8D4E3\"}, \"line\": {\"color\": \"white\"}}, \"type\": \"table\"}]}, \"layout\": {\"annotationdefaults\": {\"arrowcolor\": \"#2a3f5f\", \"arrowhead\": 0, \"arrowwidth\": 1}, \"coloraxis\": {\"colorbar\": {\"outlinewidth\": 0, \"ticks\": \"\"}}, \"colorscale\": {\"diverging\": [[0, \"#8e0152\"], [0.1, \"#c51b7d\"], [0.2, \"#de77ae\"], [0.3, \"#f1b6da\"], [0.4, \"#fde0ef\"], [0.5, \"#f7f7f7\"], [0.6, \"#e6f5d0\"], [0.7, \"#b8e186\"], [0.8, \"#7fbc41\"], [0.9, \"#4d9221\"], [1, \"#276419\"]], \"sequential\": [[0.0, \"#0d0887\"], [0.1111111111111111, \"#46039f\"], [0.2222222222222222, \"#7201a8\"], [0.3333333333333333, \"#9c179e\"], [0.4444444444444444, \"#bd3786\"], [0.5555555555555556, \"#d8576b\"], [0.6666666666666666, \"#ed7953\"], [0.7777777777777778, \"#fb9f3a\"], [0.8888888888888888, \"#fdca26\"], [1.0, \"#f0f921\"]], \"sequentialminus\": [[0.0, \"#0d0887\"], [0.1111111111111111, \"#46039f\"], [0.2222222222222222, \"#7201a8\"], [0.3333333333333333, \"#9c179e\"], [0.4444444444444444, \"#bd3786\"], [0.5555555555555556, \"#d8576b\"], [0.6666666666666666, \"#ed7953\"], [0.7777777777777778, \"#fb9f3a\"], [0.8888888888888888, \"#fdca26\"], [1.0, \"#f0f921\"]]}, \"colorway\": [\"#636efa\", \"#EF553B\", \"#00cc96\", \"#ab63fa\", \"#FFA15A\", \"#19d3f3\", \"#FF6692\", \"#B6E880\", \"#FF97FF\", \"#FECB52\"], \"font\": {\"color\": \"#2a3f5f\"}, \"geo\": {\"bgcolor\": \"white\", \"lakecolor\": \"white\", \"landcolor\": \"#E5ECF6\", \"showlakes\": true, \"showland\": true, \"subunitcolor\": \"white\"}, \"hoverlabel\": {\"align\": \"left\"}, \"hovermode\": \"closest\", \"mapbox\": {\"style\": \"light\"}, \"paper_bgcolor\": \"white\", \"plot_bgcolor\": \"#E5ECF6\", \"polar\": {\"angularaxis\": {\"gridcolor\": \"white\", \"linecolor\": \"white\", \"ticks\": \"\"}, \"bgcolor\": \"#E5ECF6\", \"radialaxis\": {\"gridcolor\": \"white\", \"linecolor\": \"white\", \"ticks\": \"\"}}, \"scene\": {\"xaxis\": {\"backgroundcolor\": \"#E5ECF6\", \"gridcolor\": \"white\", \"gridwidth\": 2, \"linecolor\": \"white\", \"showbackground\": true, \"ticks\": \"\", \"zerolinecolor\": \"white\"}, \"yaxis\": {\"backgroundcolor\": \"#E5ECF6\", \"gridcolor\": \"white\", \"gridwidth\": 2, \"linecolor\": \"white\", \"showbackground\": true, \"ticks\": \"\", \"zerolinecolor\": \"white\"}, \"zaxis\": {\"backgroundcolor\": \"#E5ECF6\", \"gridcolor\": \"white\", \"gridwidth\": 2, \"linecolor\": \"white\", \"showbackground\": true, \"ticks\": \"\", \"zerolinecolor\": \"white\"}}, \"shapedefaults\": {\"line\": {\"color\": \"#2a3f5f\"}}, \"ternary\": {\"aaxis\": {\"gridcolor\": \"white\", \"linecolor\": \"white\", \"ticks\": \"\"}, \"baxis\": {\"gridcolor\": \"white\", \"linecolor\": \"white\", \"ticks\": \"\"}, \"bgcolor\": \"#E5ECF6\", \"caxis\": {\"gridcolor\": \"white\", \"linecolor\": \"white\", \"ticks\": \"\"}}, \"title\": {\"x\": 0.05}, \"xaxis\": {\"automargin\": true, \"gridcolor\": \"white\", \"linecolor\": \"white\", \"ticks\": \"\", \"title\": {\"standoff\": 15}, \"zerolinecolor\": \"white\", \"zerolinewidth\": 2}, \"yaxis\": {\"automargin\": true, \"gridcolor\": \"white\", \"linecolor\": \"white\", \"ticks\": \"\", \"title\": {\"standoff\": 15}, \"zerolinecolor\": \"white\", \"zerolinewidth\": 2}}}, \"title\": {\"text\": \"Top 50 miast w USA ze wzgl\\u0119du na \\u015bmier\\u0107 z r\\u0119ki policjanta\"}, \"width\": 800, \"xaxis\": {\"anchor\": \"y\", \"domain\": [0.0, 1.0], \"title\": {\"text\": \"name\"}}, \"yaxis\": {\"anchor\": \"x\", \"domain\": [0.0, 1.0], \"title\": {\"text\": \"city\"}}},                        {\"responsive\": true}                    ).then(function(){\n",
       "                            \n",
       "var gd = document.getElementById('5009c792-d101-48b8-8e40-2a630d1b2788');\n",
       "var x = new MutationObserver(function (mutations, observer) {{\n",
       "        var display = window.getComputedStyle(gd).display;\n",
       "        if (!display || display === 'none') {{\n",
       "            console.log([gd, 'removed!']);\n",
       "            Plotly.purge(gd);\n",
       "            observer.disconnect();\n",
       "        }}\n",
       "}});\n",
       "\n",
       "// Listen for the removal of the full notebook cells\n",
       "var notebookContainer = gd.closest('#notebook-container');\n",
       "if (notebookContainer) {{\n",
       "    x.observe(notebookContainer, {childList: true});\n",
       "}}\n",
       "\n",
       "// Listen for the clearing of the current output cell\n",
       "var outputEl = gd.closest('.output');\n",
       "if (outputEl) {{\n",
       "    x.observe(outputEl, {childList: true});\n",
       "}}\n",
       "\n",
       "                        })                };                });            </script>        </div>"
      ]
     },
     "metadata": {},
     "output_type": "display_data"
    }
   ],
   "source": [
    "city = df.groupby('city')['name'].count().reset_index().sort_values('name', ascending=True).tail(50)\n",
    "\n",
    "fig = px.bar(\n",
    "    city, \n",
    "    x=\"name\", \n",
    "    y=\"city\", \n",
    "    orientation='h',\n",
    "    title=\"Top 50 miast w USA ze względu na śmierć z ręki policjanta\", \n",
    "    width=800, \n",
    "    height=900\n",
    ")\n",
    "\n",
    "fig.show()"
   ]
  },
  {
   "cell_type": "code",
   "execution_count": 22,
   "metadata": {},
   "outputs": [],
   "source": [
    "# wyciągnijmy więcej danych z tego data setu za pomocą feature engniringu"
   ]
  },
  {
   "cell_type": "code",
   "execution_count": 23,
   "metadata": {},
   "outputs": [],
   "source": [
    "df[\"date\"] = pd.to_datetime(df[\"date\"])\n",
    "df[\"weekday\"] = df[\"date\"].dt.weekday\n",
    "df['month'] = df['date'].dt.month\n",
    "df['month_day'] = df['date'].dt.day\n",
    "df['year'] = df['date'].dt.year"
   ]
  },
  {
   "cell_type": "code",
   "execution_count": 24,
   "metadata": {},
   "outputs": [
    {
     "data": {
      "application/vnd.plotly.v1+json": {
       "config": {
        "plotlyServerURL": "https://plot.ly"
       },
       "data": [
        {
         "alignmentgroup": "True",
         "hovertemplate": "weekday=%{x}<br>count=%{y}<extra></extra>",
         "legendgroup": "",
         "marker": {
          "color": "#636efa"
         },
         "name": "",
         "offsetgroup": "",
         "orientation": "v",
         "showlegend": false,
         "textposition": "auto",
         "type": "bar",
         "x": [
          0,
          1,
          2,
          3,
          4,
          5,
          6
         ],
         "xaxis": "x",
         "y": [
          671,
          735,
          758,
          734,
          674,
          648,
          675
         ],
         "yaxis": "y"
        }
       ],
       "layout": {
        "barmode": "relative",
        "legend": {
         "tracegroupgap": 0
        },
        "template": {
         "data": {
          "bar": [
           {
            "error_x": {
             "color": "#2a3f5f"
            },
            "error_y": {
             "color": "#2a3f5f"
            },
            "marker": {
             "line": {
              "color": "#E5ECF6",
              "width": 0.5
             }
            },
            "type": "bar"
           }
          ],
          "barpolar": [
           {
            "marker": {
             "line": {
              "color": "#E5ECF6",
              "width": 0.5
             }
            },
            "type": "barpolar"
           }
          ],
          "carpet": [
           {
            "aaxis": {
             "endlinecolor": "#2a3f5f",
             "gridcolor": "white",
             "linecolor": "white",
             "minorgridcolor": "white",
             "startlinecolor": "#2a3f5f"
            },
            "baxis": {
             "endlinecolor": "#2a3f5f",
             "gridcolor": "white",
             "linecolor": "white",
             "minorgridcolor": "white",
             "startlinecolor": "#2a3f5f"
            },
            "type": "carpet"
           }
          ],
          "choropleth": [
           {
            "colorbar": {
             "outlinewidth": 0,
             "ticks": ""
            },
            "type": "choropleth"
           }
          ],
          "contour": [
           {
            "colorbar": {
             "outlinewidth": 0,
             "ticks": ""
            },
            "colorscale": [
             [
              0,
              "#0d0887"
             ],
             [
              0.1111111111111111,
              "#46039f"
             ],
             [
              0.2222222222222222,
              "#7201a8"
             ],
             [
              0.3333333333333333,
              "#9c179e"
             ],
             [
              0.4444444444444444,
              "#bd3786"
             ],
             [
              0.5555555555555556,
              "#d8576b"
             ],
             [
              0.6666666666666666,
              "#ed7953"
             ],
             [
              0.7777777777777778,
              "#fb9f3a"
             ],
             [
              0.8888888888888888,
              "#fdca26"
             ],
             [
              1,
              "#f0f921"
             ]
            ],
            "type": "contour"
           }
          ],
          "contourcarpet": [
           {
            "colorbar": {
             "outlinewidth": 0,
             "ticks": ""
            },
            "type": "contourcarpet"
           }
          ],
          "heatmap": [
           {
            "colorbar": {
             "outlinewidth": 0,
             "ticks": ""
            },
            "colorscale": [
             [
              0,
              "#0d0887"
             ],
             [
              0.1111111111111111,
              "#46039f"
             ],
             [
              0.2222222222222222,
              "#7201a8"
             ],
             [
              0.3333333333333333,
              "#9c179e"
             ],
             [
              0.4444444444444444,
              "#bd3786"
             ],
             [
              0.5555555555555556,
              "#d8576b"
             ],
             [
              0.6666666666666666,
              "#ed7953"
             ],
             [
              0.7777777777777778,
              "#fb9f3a"
             ],
             [
              0.8888888888888888,
              "#fdca26"
             ],
             [
              1,
              "#f0f921"
             ]
            ],
            "type": "heatmap"
           }
          ],
          "heatmapgl": [
           {
            "colorbar": {
             "outlinewidth": 0,
             "ticks": ""
            },
            "colorscale": [
             [
              0,
              "#0d0887"
             ],
             [
              0.1111111111111111,
              "#46039f"
             ],
             [
              0.2222222222222222,
              "#7201a8"
             ],
             [
              0.3333333333333333,
              "#9c179e"
             ],
             [
              0.4444444444444444,
              "#bd3786"
             ],
             [
              0.5555555555555556,
              "#d8576b"
             ],
             [
              0.6666666666666666,
              "#ed7953"
             ],
             [
              0.7777777777777778,
              "#fb9f3a"
             ],
             [
              0.8888888888888888,
              "#fdca26"
             ],
             [
              1,
              "#f0f921"
             ]
            ],
            "type": "heatmapgl"
           }
          ],
          "histogram": [
           {
            "marker": {
             "colorbar": {
              "outlinewidth": 0,
              "ticks": ""
             }
            },
            "type": "histogram"
           }
          ],
          "histogram2d": [
           {
            "colorbar": {
             "outlinewidth": 0,
             "ticks": ""
            },
            "colorscale": [
             [
              0,
              "#0d0887"
             ],
             [
              0.1111111111111111,
              "#46039f"
             ],
             [
              0.2222222222222222,
              "#7201a8"
             ],
             [
              0.3333333333333333,
              "#9c179e"
             ],
             [
              0.4444444444444444,
              "#bd3786"
             ],
             [
              0.5555555555555556,
              "#d8576b"
             ],
             [
              0.6666666666666666,
              "#ed7953"
             ],
             [
              0.7777777777777778,
              "#fb9f3a"
             ],
             [
              0.8888888888888888,
              "#fdca26"
             ],
             [
              1,
              "#f0f921"
             ]
            ],
            "type": "histogram2d"
           }
          ],
          "histogram2dcontour": [
           {
            "colorbar": {
             "outlinewidth": 0,
             "ticks": ""
            },
            "colorscale": [
             [
              0,
              "#0d0887"
             ],
             [
              0.1111111111111111,
              "#46039f"
             ],
             [
              0.2222222222222222,
              "#7201a8"
             ],
             [
              0.3333333333333333,
              "#9c179e"
             ],
             [
              0.4444444444444444,
              "#bd3786"
             ],
             [
              0.5555555555555556,
              "#d8576b"
             ],
             [
              0.6666666666666666,
              "#ed7953"
             ],
             [
              0.7777777777777778,
              "#fb9f3a"
             ],
             [
              0.8888888888888888,
              "#fdca26"
             ],
             [
              1,
              "#f0f921"
             ]
            ],
            "type": "histogram2dcontour"
           }
          ],
          "mesh3d": [
           {
            "colorbar": {
             "outlinewidth": 0,
             "ticks": ""
            },
            "type": "mesh3d"
           }
          ],
          "parcoords": [
           {
            "line": {
             "colorbar": {
              "outlinewidth": 0,
              "ticks": ""
             }
            },
            "type": "parcoords"
           }
          ],
          "pie": [
           {
            "automargin": true,
            "type": "pie"
           }
          ],
          "scatter": [
           {
            "marker": {
             "colorbar": {
              "outlinewidth": 0,
              "ticks": ""
             }
            },
            "type": "scatter"
           }
          ],
          "scatter3d": [
           {
            "line": {
             "colorbar": {
              "outlinewidth": 0,
              "ticks": ""
             }
            },
            "marker": {
             "colorbar": {
              "outlinewidth": 0,
              "ticks": ""
             }
            },
            "type": "scatter3d"
           }
          ],
          "scattercarpet": [
           {
            "marker": {
             "colorbar": {
              "outlinewidth": 0,
              "ticks": ""
             }
            },
            "type": "scattercarpet"
           }
          ],
          "scattergeo": [
           {
            "marker": {
             "colorbar": {
              "outlinewidth": 0,
              "ticks": ""
             }
            },
            "type": "scattergeo"
           }
          ],
          "scattergl": [
           {
            "marker": {
             "colorbar": {
              "outlinewidth": 0,
              "ticks": ""
             }
            },
            "type": "scattergl"
           }
          ],
          "scattermapbox": [
           {
            "marker": {
             "colorbar": {
              "outlinewidth": 0,
              "ticks": ""
             }
            },
            "type": "scattermapbox"
           }
          ],
          "scatterpolar": [
           {
            "marker": {
             "colorbar": {
              "outlinewidth": 0,
              "ticks": ""
             }
            },
            "type": "scatterpolar"
           }
          ],
          "scatterpolargl": [
           {
            "marker": {
             "colorbar": {
              "outlinewidth": 0,
              "ticks": ""
             }
            },
            "type": "scatterpolargl"
           }
          ],
          "scatterternary": [
           {
            "marker": {
             "colorbar": {
              "outlinewidth": 0,
              "ticks": ""
             }
            },
            "type": "scatterternary"
           }
          ],
          "surface": [
           {
            "colorbar": {
             "outlinewidth": 0,
             "ticks": ""
            },
            "colorscale": [
             [
              0,
              "#0d0887"
             ],
             [
              0.1111111111111111,
              "#46039f"
             ],
             [
              0.2222222222222222,
              "#7201a8"
             ],
             [
              0.3333333333333333,
              "#9c179e"
             ],
             [
              0.4444444444444444,
              "#bd3786"
             ],
             [
              0.5555555555555556,
              "#d8576b"
             ],
             [
              0.6666666666666666,
              "#ed7953"
             ],
             [
              0.7777777777777778,
              "#fb9f3a"
             ],
             [
              0.8888888888888888,
              "#fdca26"
             ],
             [
              1,
              "#f0f921"
             ]
            ],
            "type": "surface"
           }
          ],
          "table": [
           {
            "cells": {
             "fill": {
              "color": "#EBF0F8"
             },
             "line": {
              "color": "white"
             }
            },
            "header": {
             "fill": {
              "color": "#C8D4E3"
             },
             "line": {
              "color": "white"
             }
            },
            "type": "table"
           }
          ]
         },
         "layout": {
          "annotationdefaults": {
           "arrowcolor": "#2a3f5f",
           "arrowhead": 0,
           "arrowwidth": 1
          },
          "coloraxis": {
           "colorbar": {
            "outlinewidth": 0,
            "ticks": ""
           }
          },
          "colorscale": {
           "diverging": [
            [
             0,
             "#8e0152"
            ],
            [
             0.1,
             "#c51b7d"
            ],
            [
             0.2,
             "#de77ae"
            ],
            [
             0.3,
             "#f1b6da"
            ],
            [
             0.4,
             "#fde0ef"
            ],
            [
             0.5,
             "#f7f7f7"
            ],
            [
             0.6,
             "#e6f5d0"
            ],
            [
             0.7,
             "#b8e186"
            ],
            [
             0.8,
             "#7fbc41"
            ],
            [
             0.9,
             "#4d9221"
            ],
            [
             1,
             "#276419"
            ]
           ],
           "sequential": [
            [
             0,
             "#0d0887"
            ],
            [
             0.1111111111111111,
             "#46039f"
            ],
            [
             0.2222222222222222,
             "#7201a8"
            ],
            [
             0.3333333333333333,
             "#9c179e"
            ],
            [
             0.4444444444444444,
             "#bd3786"
            ],
            [
             0.5555555555555556,
             "#d8576b"
            ],
            [
             0.6666666666666666,
             "#ed7953"
            ],
            [
             0.7777777777777778,
             "#fb9f3a"
            ],
            [
             0.8888888888888888,
             "#fdca26"
            ],
            [
             1,
             "#f0f921"
            ]
           ],
           "sequentialminus": [
            [
             0,
             "#0d0887"
            ],
            [
             0.1111111111111111,
             "#46039f"
            ],
            [
             0.2222222222222222,
             "#7201a8"
            ],
            [
             0.3333333333333333,
             "#9c179e"
            ],
            [
             0.4444444444444444,
             "#bd3786"
            ],
            [
             0.5555555555555556,
             "#d8576b"
            ],
            [
             0.6666666666666666,
             "#ed7953"
            ],
            [
             0.7777777777777778,
             "#fb9f3a"
            ],
            [
             0.8888888888888888,
             "#fdca26"
            ],
            [
             1,
             "#f0f921"
            ]
           ]
          },
          "colorway": [
           "#636efa",
           "#EF553B",
           "#00cc96",
           "#ab63fa",
           "#FFA15A",
           "#19d3f3",
           "#FF6692",
           "#B6E880",
           "#FF97FF",
           "#FECB52"
          ],
          "font": {
           "color": "#2a3f5f"
          },
          "geo": {
           "bgcolor": "white",
           "lakecolor": "white",
           "landcolor": "#E5ECF6",
           "showlakes": true,
           "showland": true,
           "subunitcolor": "white"
          },
          "hoverlabel": {
           "align": "left"
          },
          "hovermode": "closest",
          "mapbox": {
           "style": "light"
          },
          "paper_bgcolor": "white",
          "plot_bgcolor": "#E5ECF6",
          "polar": {
           "angularaxis": {
            "gridcolor": "white",
            "linecolor": "white",
            "ticks": ""
           },
           "bgcolor": "#E5ECF6",
           "radialaxis": {
            "gridcolor": "white",
            "linecolor": "white",
            "ticks": ""
           }
          },
          "scene": {
           "xaxis": {
            "backgroundcolor": "#E5ECF6",
            "gridcolor": "white",
            "gridwidth": 2,
            "linecolor": "white",
            "showbackground": true,
            "ticks": "",
            "zerolinecolor": "white"
           },
           "yaxis": {
            "backgroundcolor": "#E5ECF6",
            "gridcolor": "white",
            "gridwidth": 2,
            "linecolor": "white",
            "showbackground": true,
            "ticks": "",
            "zerolinecolor": "white"
           },
           "zaxis": {
            "backgroundcolor": "#E5ECF6",
            "gridcolor": "white",
            "gridwidth": 2,
            "linecolor": "white",
            "showbackground": true,
            "ticks": "",
            "zerolinecolor": "white"
           }
          },
          "shapedefaults": {
           "line": {
            "color": "#2a3f5f"
           }
          },
          "ternary": {
           "aaxis": {
            "gridcolor": "white",
            "linecolor": "white",
            "ticks": ""
           },
           "baxis": {
            "gridcolor": "white",
            "linecolor": "white",
            "ticks": ""
           },
           "bgcolor": "#E5ECF6",
           "caxis": {
            "gridcolor": "white",
            "linecolor": "white",
            "ticks": ""
           }
          },
          "title": {
           "x": 0.05
          },
          "xaxis": {
           "automargin": true,
           "gridcolor": "white",
           "linecolor": "white",
           "ticks": "",
           "title": {
            "standoff": 15
           },
           "zerolinecolor": "white",
           "zerolinewidth": 2
          },
          "yaxis": {
           "automargin": true,
           "gridcolor": "white",
           "linecolor": "white",
           "ticks": "",
           "title": {
            "standoff": 15
           },
           "zerolinecolor": "white",
           "zerolinewidth": 2
          }
         }
        },
        "title": {
         "text": "Dzień tygodnia"
        },
        "width": 600,
        "xaxis": {
         "anchor": "y",
         "domain": [
          0,
          1
         ],
         "title": {
          "text": "weekday"
         }
        },
        "yaxis": {
         "anchor": "x",
         "domain": [
          0,
          1
         ],
         "title": {
          "text": "count"
         }
        }
       }
      },
      "text/html": [
       "<div>                            <div id=\"1416fa6a-0ddd-4c5f-8ffd-83a328b0c287\" class=\"plotly-graph-div\" style=\"height:525px; width:600px;\"></div>            <script type=\"text/javascript\">                require([\"plotly\"], function(Plotly) {                    window.PLOTLYENV=window.PLOTLYENV || {};                                    if (document.getElementById(\"1416fa6a-0ddd-4c5f-8ffd-83a328b0c287\")) {                    Plotly.newPlot(                        \"1416fa6a-0ddd-4c5f-8ffd-83a328b0c287\",                        [{\"alignmentgroup\": \"True\", \"hovertemplate\": \"weekday=%{x}<br>count=%{y}<extra></extra>\", \"legendgroup\": \"\", \"marker\": {\"color\": \"#636efa\"}, \"name\": \"\", \"offsetgroup\": \"\", \"orientation\": \"v\", \"showlegend\": false, \"textposition\": \"auto\", \"type\": \"bar\", \"x\": [0, 1, 2, 3, 4, 5, 6], \"xaxis\": \"x\", \"y\": [671, 735, 758, 734, 674, 648, 675], \"yaxis\": \"y\"}],                        {\"barmode\": \"relative\", \"legend\": {\"tracegroupgap\": 0}, \"template\": {\"data\": {\"bar\": [{\"error_x\": {\"color\": \"#2a3f5f\"}, \"error_y\": {\"color\": \"#2a3f5f\"}, \"marker\": {\"line\": {\"color\": \"#E5ECF6\", \"width\": 0.5}}, \"type\": \"bar\"}], \"barpolar\": [{\"marker\": {\"line\": {\"color\": \"#E5ECF6\", \"width\": 0.5}}, \"type\": \"barpolar\"}], \"carpet\": [{\"aaxis\": {\"endlinecolor\": \"#2a3f5f\", \"gridcolor\": \"white\", \"linecolor\": \"white\", \"minorgridcolor\": \"white\", \"startlinecolor\": \"#2a3f5f\"}, \"baxis\": {\"endlinecolor\": \"#2a3f5f\", \"gridcolor\": \"white\", \"linecolor\": \"white\", \"minorgridcolor\": \"white\", \"startlinecolor\": \"#2a3f5f\"}, \"type\": \"carpet\"}], \"choropleth\": [{\"colorbar\": {\"outlinewidth\": 0, \"ticks\": \"\"}, \"type\": \"choropleth\"}], \"contour\": [{\"colorbar\": {\"outlinewidth\": 0, \"ticks\": \"\"}, \"colorscale\": [[0.0, \"#0d0887\"], [0.1111111111111111, \"#46039f\"], [0.2222222222222222, \"#7201a8\"], [0.3333333333333333, \"#9c179e\"], [0.4444444444444444, \"#bd3786\"], [0.5555555555555556, \"#d8576b\"], [0.6666666666666666, \"#ed7953\"], [0.7777777777777778, \"#fb9f3a\"], [0.8888888888888888, \"#fdca26\"], [1.0, \"#f0f921\"]], \"type\": \"contour\"}], \"contourcarpet\": [{\"colorbar\": {\"outlinewidth\": 0, \"ticks\": \"\"}, \"type\": \"contourcarpet\"}], \"heatmap\": [{\"colorbar\": {\"outlinewidth\": 0, \"ticks\": \"\"}, \"colorscale\": [[0.0, \"#0d0887\"], [0.1111111111111111, \"#46039f\"], [0.2222222222222222, \"#7201a8\"], [0.3333333333333333, \"#9c179e\"], [0.4444444444444444, \"#bd3786\"], [0.5555555555555556, \"#d8576b\"], [0.6666666666666666, \"#ed7953\"], [0.7777777777777778, \"#fb9f3a\"], [0.8888888888888888, \"#fdca26\"], [1.0, \"#f0f921\"]], \"type\": \"heatmap\"}], \"heatmapgl\": [{\"colorbar\": {\"outlinewidth\": 0, \"ticks\": \"\"}, \"colorscale\": [[0.0, \"#0d0887\"], [0.1111111111111111, \"#46039f\"], [0.2222222222222222, \"#7201a8\"], [0.3333333333333333, \"#9c179e\"], [0.4444444444444444, \"#bd3786\"], [0.5555555555555556, \"#d8576b\"], [0.6666666666666666, \"#ed7953\"], [0.7777777777777778, \"#fb9f3a\"], [0.8888888888888888, \"#fdca26\"], [1.0, \"#f0f921\"]], \"type\": \"heatmapgl\"}], \"histogram\": [{\"marker\": {\"colorbar\": {\"outlinewidth\": 0, \"ticks\": \"\"}}, \"type\": \"histogram\"}], \"histogram2d\": [{\"colorbar\": {\"outlinewidth\": 0, \"ticks\": \"\"}, \"colorscale\": [[0.0, \"#0d0887\"], [0.1111111111111111, \"#46039f\"], [0.2222222222222222, \"#7201a8\"], [0.3333333333333333, \"#9c179e\"], [0.4444444444444444, \"#bd3786\"], [0.5555555555555556, \"#d8576b\"], [0.6666666666666666, \"#ed7953\"], [0.7777777777777778, \"#fb9f3a\"], [0.8888888888888888, \"#fdca26\"], [1.0, \"#f0f921\"]], \"type\": \"histogram2d\"}], \"histogram2dcontour\": [{\"colorbar\": {\"outlinewidth\": 0, \"ticks\": \"\"}, \"colorscale\": [[0.0, \"#0d0887\"], [0.1111111111111111, \"#46039f\"], [0.2222222222222222, \"#7201a8\"], [0.3333333333333333, \"#9c179e\"], [0.4444444444444444, \"#bd3786\"], [0.5555555555555556, \"#d8576b\"], [0.6666666666666666, \"#ed7953\"], [0.7777777777777778, \"#fb9f3a\"], [0.8888888888888888, \"#fdca26\"], [1.0, \"#f0f921\"]], \"type\": \"histogram2dcontour\"}], \"mesh3d\": [{\"colorbar\": {\"outlinewidth\": 0, \"ticks\": \"\"}, \"type\": \"mesh3d\"}], \"parcoords\": [{\"line\": {\"colorbar\": {\"outlinewidth\": 0, \"ticks\": \"\"}}, \"type\": \"parcoords\"}], \"pie\": [{\"automargin\": true, \"type\": \"pie\"}], \"scatter\": [{\"marker\": {\"colorbar\": {\"outlinewidth\": 0, \"ticks\": \"\"}}, \"type\": \"scatter\"}], \"scatter3d\": [{\"line\": {\"colorbar\": {\"outlinewidth\": 0, \"ticks\": \"\"}}, \"marker\": {\"colorbar\": {\"outlinewidth\": 0, \"ticks\": \"\"}}, \"type\": \"scatter3d\"}], \"scattercarpet\": [{\"marker\": {\"colorbar\": {\"outlinewidth\": 0, \"ticks\": \"\"}}, \"type\": \"scattercarpet\"}], \"scattergeo\": [{\"marker\": {\"colorbar\": {\"outlinewidth\": 0, \"ticks\": \"\"}}, \"type\": \"scattergeo\"}], \"scattergl\": [{\"marker\": {\"colorbar\": {\"outlinewidth\": 0, \"ticks\": \"\"}}, \"type\": \"scattergl\"}], \"scattermapbox\": [{\"marker\": {\"colorbar\": {\"outlinewidth\": 0, \"ticks\": \"\"}}, \"type\": \"scattermapbox\"}], \"scatterpolar\": [{\"marker\": {\"colorbar\": {\"outlinewidth\": 0, \"ticks\": \"\"}}, \"type\": \"scatterpolar\"}], \"scatterpolargl\": [{\"marker\": {\"colorbar\": {\"outlinewidth\": 0, \"ticks\": \"\"}}, \"type\": \"scatterpolargl\"}], \"scatterternary\": [{\"marker\": {\"colorbar\": {\"outlinewidth\": 0, \"ticks\": \"\"}}, \"type\": \"scatterternary\"}], \"surface\": [{\"colorbar\": {\"outlinewidth\": 0, \"ticks\": \"\"}, \"colorscale\": [[0.0, \"#0d0887\"], [0.1111111111111111, \"#46039f\"], [0.2222222222222222, \"#7201a8\"], [0.3333333333333333, \"#9c179e\"], [0.4444444444444444, \"#bd3786\"], [0.5555555555555556, \"#d8576b\"], [0.6666666666666666, \"#ed7953\"], [0.7777777777777778, \"#fb9f3a\"], [0.8888888888888888, \"#fdca26\"], [1.0, \"#f0f921\"]], \"type\": \"surface\"}], \"table\": [{\"cells\": {\"fill\": {\"color\": \"#EBF0F8\"}, \"line\": {\"color\": \"white\"}}, \"header\": {\"fill\": {\"color\": \"#C8D4E3\"}, \"line\": {\"color\": \"white\"}}, \"type\": \"table\"}]}, \"layout\": {\"annotationdefaults\": {\"arrowcolor\": \"#2a3f5f\", \"arrowhead\": 0, \"arrowwidth\": 1}, \"coloraxis\": {\"colorbar\": {\"outlinewidth\": 0, \"ticks\": \"\"}}, \"colorscale\": {\"diverging\": [[0, \"#8e0152\"], [0.1, \"#c51b7d\"], [0.2, \"#de77ae\"], [0.3, \"#f1b6da\"], [0.4, \"#fde0ef\"], [0.5, \"#f7f7f7\"], [0.6, \"#e6f5d0\"], [0.7, \"#b8e186\"], [0.8, \"#7fbc41\"], [0.9, \"#4d9221\"], [1, \"#276419\"]], \"sequential\": [[0.0, \"#0d0887\"], [0.1111111111111111, \"#46039f\"], [0.2222222222222222, \"#7201a8\"], [0.3333333333333333, \"#9c179e\"], [0.4444444444444444, \"#bd3786\"], [0.5555555555555556, \"#d8576b\"], [0.6666666666666666, \"#ed7953\"], [0.7777777777777778, \"#fb9f3a\"], [0.8888888888888888, \"#fdca26\"], [1.0, \"#f0f921\"]], \"sequentialminus\": [[0.0, \"#0d0887\"], [0.1111111111111111, \"#46039f\"], [0.2222222222222222, \"#7201a8\"], [0.3333333333333333, \"#9c179e\"], [0.4444444444444444, \"#bd3786\"], [0.5555555555555556, \"#d8576b\"], [0.6666666666666666, \"#ed7953\"], [0.7777777777777778, \"#fb9f3a\"], [0.8888888888888888, \"#fdca26\"], [1.0, \"#f0f921\"]]}, \"colorway\": [\"#636efa\", \"#EF553B\", \"#00cc96\", \"#ab63fa\", \"#FFA15A\", \"#19d3f3\", \"#FF6692\", \"#B6E880\", \"#FF97FF\", \"#FECB52\"], \"font\": {\"color\": \"#2a3f5f\"}, \"geo\": {\"bgcolor\": \"white\", \"lakecolor\": \"white\", \"landcolor\": \"#E5ECF6\", \"showlakes\": true, \"showland\": true, \"subunitcolor\": \"white\"}, \"hoverlabel\": {\"align\": \"left\"}, \"hovermode\": \"closest\", \"mapbox\": {\"style\": \"light\"}, \"paper_bgcolor\": \"white\", \"plot_bgcolor\": \"#E5ECF6\", \"polar\": {\"angularaxis\": {\"gridcolor\": \"white\", \"linecolor\": \"white\", \"ticks\": \"\"}, \"bgcolor\": \"#E5ECF6\", \"radialaxis\": {\"gridcolor\": \"white\", \"linecolor\": \"white\", \"ticks\": \"\"}}, \"scene\": {\"xaxis\": {\"backgroundcolor\": \"#E5ECF6\", \"gridcolor\": \"white\", \"gridwidth\": 2, \"linecolor\": \"white\", \"showbackground\": true, \"ticks\": \"\", \"zerolinecolor\": \"white\"}, \"yaxis\": {\"backgroundcolor\": \"#E5ECF6\", \"gridcolor\": \"white\", \"gridwidth\": 2, \"linecolor\": \"white\", \"showbackground\": true, \"ticks\": \"\", \"zerolinecolor\": \"white\"}, \"zaxis\": {\"backgroundcolor\": \"#E5ECF6\", \"gridcolor\": \"white\", \"gridwidth\": 2, \"linecolor\": \"white\", \"showbackground\": true, \"ticks\": \"\", \"zerolinecolor\": \"white\"}}, \"shapedefaults\": {\"line\": {\"color\": \"#2a3f5f\"}}, \"ternary\": {\"aaxis\": {\"gridcolor\": \"white\", \"linecolor\": \"white\", \"ticks\": \"\"}, \"baxis\": {\"gridcolor\": \"white\", \"linecolor\": \"white\", \"ticks\": \"\"}, \"bgcolor\": \"#E5ECF6\", \"caxis\": {\"gridcolor\": \"white\", \"linecolor\": \"white\", \"ticks\": \"\"}}, \"title\": {\"x\": 0.05}, \"xaxis\": {\"automargin\": true, \"gridcolor\": \"white\", \"linecolor\": \"white\", \"ticks\": \"\", \"title\": {\"standoff\": 15}, \"zerolinecolor\": \"white\", \"zerolinewidth\": 2}, \"yaxis\": {\"automargin\": true, \"gridcolor\": \"white\", \"linecolor\": \"white\", \"ticks\": \"\", \"title\": {\"standoff\": 15}, \"zerolinecolor\": \"white\", \"zerolinewidth\": 2}}}, \"title\": {\"text\": \"Dzie\\u0144 tygodnia\"}, \"width\": 600, \"xaxis\": {\"anchor\": \"y\", \"domain\": [0.0, 1.0], \"title\": {\"text\": \"weekday\"}}, \"yaxis\": {\"anchor\": \"x\", \"domain\": [0.0, 1.0], \"title\": {\"text\": \"count\"}}},                        {\"responsive\": true}                    ).then(function(){\n",
       "                            \n",
       "var gd = document.getElementById('1416fa6a-0ddd-4c5f-8ffd-83a328b0c287');\n",
       "var x = new MutationObserver(function (mutations, observer) {{\n",
       "        var display = window.getComputedStyle(gd).display;\n",
       "        if (!display || display === 'none') {{\n",
       "            console.log([gd, 'removed!']);\n",
       "            Plotly.purge(gd);\n",
       "            observer.disconnect();\n",
       "        }}\n",
       "}});\n",
       "\n",
       "// Listen for the removal of the full notebook cells\n",
       "var notebookContainer = gd.closest('#notebook-container');\n",
       "if (notebookContainer) {{\n",
       "    x.observe(notebookContainer, {childList: true});\n",
       "}}\n",
       "\n",
       "// Listen for the clearing of the current output cell\n",
       "var outputEl = gd.closest('.output');\n",
       "if (outputEl) {{\n",
       "    x.observe(outputEl, {childList: true});\n",
       "}}\n",
       "\n",
       "                        })                };                });            </script>        </div>"
      ]
     },
     "metadata": {},
     "output_type": "display_data"
    }
   ],
   "source": [
    "data = df.groupby(['weekday'])['name'].count().reset_index()\n",
    "data.columns = ['weekday', 'count']\n",
    "\n",
    "fig = px.bar(\n",
    "    data, \n",
    "    x='weekday', \n",
    "    y='count',\n",
    "    orientation='v', \n",
    "    title='Dzień tygodnia', \n",
    "    width=600\n",
    ")\n",
    "\n",
    "fig.show()"
   ]
  },
  {
   "cell_type": "code",
   "execution_count": 25,
   "metadata": {},
   "outputs": [
    {
     "data": {
      "application/vnd.plotly.v1+json": {
       "config": {
        "plotlyServerURL": "https://plot.ly"
       },
       "data": [
        {
         "alignmentgroup": "True",
         "hovertemplate": "month=%{x}<br>count=%{y}<extra></extra>",
         "legendgroup": "",
         "marker": {
          "color": "#636efa"
         },
         "name": "",
         "offsetgroup": "",
         "orientation": "v",
         "showlegend": false,
         "textposition": "auto",
         "type": "bar",
         "x": [
          1,
          2,
          3,
          4,
          5,
          6,
          7,
          8,
          9,
          10,
          11,
          12
         ],
         "xaxis": "x",
         "y": [
          505,
          462,
          503,
          430,
          418,
          399,
          413,
          371,
          328,
          367,
          354,
          345
         ],
         "yaxis": "y"
        }
       ],
       "layout": {
        "barmode": "relative",
        "legend": {
         "tracegroupgap": 0
        },
        "template": {
         "data": {
          "bar": [
           {
            "error_x": {
             "color": "#2a3f5f"
            },
            "error_y": {
             "color": "#2a3f5f"
            },
            "marker": {
             "line": {
              "color": "#E5ECF6",
              "width": 0.5
             }
            },
            "type": "bar"
           }
          ],
          "barpolar": [
           {
            "marker": {
             "line": {
              "color": "#E5ECF6",
              "width": 0.5
             }
            },
            "type": "barpolar"
           }
          ],
          "carpet": [
           {
            "aaxis": {
             "endlinecolor": "#2a3f5f",
             "gridcolor": "white",
             "linecolor": "white",
             "minorgridcolor": "white",
             "startlinecolor": "#2a3f5f"
            },
            "baxis": {
             "endlinecolor": "#2a3f5f",
             "gridcolor": "white",
             "linecolor": "white",
             "minorgridcolor": "white",
             "startlinecolor": "#2a3f5f"
            },
            "type": "carpet"
           }
          ],
          "choropleth": [
           {
            "colorbar": {
             "outlinewidth": 0,
             "ticks": ""
            },
            "type": "choropleth"
           }
          ],
          "contour": [
           {
            "colorbar": {
             "outlinewidth": 0,
             "ticks": ""
            },
            "colorscale": [
             [
              0,
              "#0d0887"
             ],
             [
              0.1111111111111111,
              "#46039f"
             ],
             [
              0.2222222222222222,
              "#7201a8"
             ],
             [
              0.3333333333333333,
              "#9c179e"
             ],
             [
              0.4444444444444444,
              "#bd3786"
             ],
             [
              0.5555555555555556,
              "#d8576b"
             ],
             [
              0.6666666666666666,
              "#ed7953"
             ],
             [
              0.7777777777777778,
              "#fb9f3a"
             ],
             [
              0.8888888888888888,
              "#fdca26"
             ],
             [
              1,
              "#f0f921"
             ]
            ],
            "type": "contour"
           }
          ],
          "contourcarpet": [
           {
            "colorbar": {
             "outlinewidth": 0,
             "ticks": ""
            },
            "type": "contourcarpet"
           }
          ],
          "heatmap": [
           {
            "colorbar": {
             "outlinewidth": 0,
             "ticks": ""
            },
            "colorscale": [
             [
              0,
              "#0d0887"
             ],
             [
              0.1111111111111111,
              "#46039f"
             ],
             [
              0.2222222222222222,
              "#7201a8"
             ],
             [
              0.3333333333333333,
              "#9c179e"
             ],
             [
              0.4444444444444444,
              "#bd3786"
             ],
             [
              0.5555555555555556,
              "#d8576b"
             ],
             [
              0.6666666666666666,
              "#ed7953"
             ],
             [
              0.7777777777777778,
              "#fb9f3a"
             ],
             [
              0.8888888888888888,
              "#fdca26"
             ],
             [
              1,
              "#f0f921"
             ]
            ],
            "type": "heatmap"
           }
          ],
          "heatmapgl": [
           {
            "colorbar": {
             "outlinewidth": 0,
             "ticks": ""
            },
            "colorscale": [
             [
              0,
              "#0d0887"
             ],
             [
              0.1111111111111111,
              "#46039f"
             ],
             [
              0.2222222222222222,
              "#7201a8"
             ],
             [
              0.3333333333333333,
              "#9c179e"
             ],
             [
              0.4444444444444444,
              "#bd3786"
             ],
             [
              0.5555555555555556,
              "#d8576b"
             ],
             [
              0.6666666666666666,
              "#ed7953"
             ],
             [
              0.7777777777777778,
              "#fb9f3a"
             ],
             [
              0.8888888888888888,
              "#fdca26"
             ],
             [
              1,
              "#f0f921"
             ]
            ],
            "type": "heatmapgl"
           }
          ],
          "histogram": [
           {
            "marker": {
             "colorbar": {
              "outlinewidth": 0,
              "ticks": ""
             }
            },
            "type": "histogram"
           }
          ],
          "histogram2d": [
           {
            "colorbar": {
             "outlinewidth": 0,
             "ticks": ""
            },
            "colorscale": [
             [
              0,
              "#0d0887"
             ],
             [
              0.1111111111111111,
              "#46039f"
             ],
             [
              0.2222222222222222,
              "#7201a8"
             ],
             [
              0.3333333333333333,
              "#9c179e"
             ],
             [
              0.4444444444444444,
              "#bd3786"
             ],
             [
              0.5555555555555556,
              "#d8576b"
             ],
             [
              0.6666666666666666,
              "#ed7953"
             ],
             [
              0.7777777777777778,
              "#fb9f3a"
             ],
             [
              0.8888888888888888,
              "#fdca26"
             ],
             [
              1,
              "#f0f921"
             ]
            ],
            "type": "histogram2d"
           }
          ],
          "histogram2dcontour": [
           {
            "colorbar": {
             "outlinewidth": 0,
             "ticks": ""
            },
            "colorscale": [
             [
              0,
              "#0d0887"
             ],
             [
              0.1111111111111111,
              "#46039f"
             ],
             [
              0.2222222222222222,
              "#7201a8"
             ],
             [
              0.3333333333333333,
              "#9c179e"
             ],
             [
              0.4444444444444444,
              "#bd3786"
             ],
             [
              0.5555555555555556,
              "#d8576b"
             ],
             [
              0.6666666666666666,
              "#ed7953"
             ],
             [
              0.7777777777777778,
              "#fb9f3a"
             ],
             [
              0.8888888888888888,
              "#fdca26"
             ],
             [
              1,
              "#f0f921"
             ]
            ],
            "type": "histogram2dcontour"
           }
          ],
          "mesh3d": [
           {
            "colorbar": {
             "outlinewidth": 0,
             "ticks": ""
            },
            "type": "mesh3d"
           }
          ],
          "parcoords": [
           {
            "line": {
             "colorbar": {
              "outlinewidth": 0,
              "ticks": ""
             }
            },
            "type": "parcoords"
           }
          ],
          "pie": [
           {
            "automargin": true,
            "type": "pie"
           }
          ],
          "scatter": [
           {
            "marker": {
             "colorbar": {
              "outlinewidth": 0,
              "ticks": ""
             }
            },
            "type": "scatter"
           }
          ],
          "scatter3d": [
           {
            "line": {
             "colorbar": {
              "outlinewidth": 0,
              "ticks": ""
             }
            },
            "marker": {
             "colorbar": {
              "outlinewidth": 0,
              "ticks": ""
             }
            },
            "type": "scatter3d"
           }
          ],
          "scattercarpet": [
           {
            "marker": {
             "colorbar": {
              "outlinewidth": 0,
              "ticks": ""
             }
            },
            "type": "scattercarpet"
           }
          ],
          "scattergeo": [
           {
            "marker": {
             "colorbar": {
              "outlinewidth": 0,
              "ticks": ""
             }
            },
            "type": "scattergeo"
           }
          ],
          "scattergl": [
           {
            "marker": {
             "colorbar": {
              "outlinewidth": 0,
              "ticks": ""
             }
            },
            "type": "scattergl"
           }
          ],
          "scattermapbox": [
           {
            "marker": {
             "colorbar": {
              "outlinewidth": 0,
              "ticks": ""
             }
            },
            "type": "scattermapbox"
           }
          ],
          "scatterpolar": [
           {
            "marker": {
             "colorbar": {
              "outlinewidth": 0,
              "ticks": ""
             }
            },
            "type": "scatterpolar"
           }
          ],
          "scatterpolargl": [
           {
            "marker": {
             "colorbar": {
              "outlinewidth": 0,
              "ticks": ""
             }
            },
            "type": "scatterpolargl"
           }
          ],
          "scatterternary": [
           {
            "marker": {
             "colorbar": {
              "outlinewidth": 0,
              "ticks": ""
             }
            },
            "type": "scatterternary"
           }
          ],
          "surface": [
           {
            "colorbar": {
             "outlinewidth": 0,
             "ticks": ""
            },
            "colorscale": [
             [
              0,
              "#0d0887"
             ],
             [
              0.1111111111111111,
              "#46039f"
             ],
             [
              0.2222222222222222,
              "#7201a8"
             ],
             [
              0.3333333333333333,
              "#9c179e"
             ],
             [
              0.4444444444444444,
              "#bd3786"
             ],
             [
              0.5555555555555556,
              "#d8576b"
             ],
             [
              0.6666666666666666,
              "#ed7953"
             ],
             [
              0.7777777777777778,
              "#fb9f3a"
             ],
             [
              0.8888888888888888,
              "#fdca26"
             ],
             [
              1,
              "#f0f921"
             ]
            ],
            "type": "surface"
           }
          ],
          "table": [
           {
            "cells": {
             "fill": {
              "color": "#EBF0F8"
             },
             "line": {
              "color": "white"
             }
            },
            "header": {
             "fill": {
              "color": "#C8D4E3"
             },
             "line": {
              "color": "white"
             }
            },
            "type": "table"
           }
          ]
         },
         "layout": {
          "annotationdefaults": {
           "arrowcolor": "#2a3f5f",
           "arrowhead": 0,
           "arrowwidth": 1
          },
          "coloraxis": {
           "colorbar": {
            "outlinewidth": 0,
            "ticks": ""
           }
          },
          "colorscale": {
           "diverging": [
            [
             0,
             "#8e0152"
            ],
            [
             0.1,
             "#c51b7d"
            ],
            [
             0.2,
             "#de77ae"
            ],
            [
             0.3,
             "#f1b6da"
            ],
            [
             0.4,
             "#fde0ef"
            ],
            [
             0.5,
             "#f7f7f7"
            ],
            [
             0.6,
             "#e6f5d0"
            ],
            [
             0.7,
             "#b8e186"
            ],
            [
             0.8,
             "#7fbc41"
            ],
            [
             0.9,
             "#4d9221"
            ],
            [
             1,
             "#276419"
            ]
           ],
           "sequential": [
            [
             0,
             "#0d0887"
            ],
            [
             0.1111111111111111,
             "#46039f"
            ],
            [
             0.2222222222222222,
             "#7201a8"
            ],
            [
             0.3333333333333333,
             "#9c179e"
            ],
            [
             0.4444444444444444,
             "#bd3786"
            ],
            [
             0.5555555555555556,
             "#d8576b"
            ],
            [
             0.6666666666666666,
             "#ed7953"
            ],
            [
             0.7777777777777778,
             "#fb9f3a"
            ],
            [
             0.8888888888888888,
             "#fdca26"
            ],
            [
             1,
             "#f0f921"
            ]
           ],
           "sequentialminus": [
            [
             0,
             "#0d0887"
            ],
            [
             0.1111111111111111,
             "#46039f"
            ],
            [
             0.2222222222222222,
             "#7201a8"
            ],
            [
             0.3333333333333333,
             "#9c179e"
            ],
            [
             0.4444444444444444,
             "#bd3786"
            ],
            [
             0.5555555555555556,
             "#d8576b"
            ],
            [
             0.6666666666666666,
             "#ed7953"
            ],
            [
             0.7777777777777778,
             "#fb9f3a"
            ],
            [
             0.8888888888888888,
             "#fdca26"
            ],
            [
             1,
             "#f0f921"
            ]
           ]
          },
          "colorway": [
           "#636efa",
           "#EF553B",
           "#00cc96",
           "#ab63fa",
           "#FFA15A",
           "#19d3f3",
           "#FF6692",
           "#B6E880",
           "#FF97FF",
           "#FECB52"
          ],
          "font": {
           "color": "#2a3f5f"
          },
          "geo": {
           "bgcolor": "white",
           "lakecolor": "white",
           "landcolor": "#E5ECF6",
           "showlakes": true,
           "showland": true,
           "subunitcolor": "white"
          },
          "hoverlabel": {
           "align": "left"
          },
          "hovermode": "closest",
          "mapbox": {
           "style": "light"
          },
          "paper_bgcolor": "white",
          "plot_bgcolor": "#E5ECF6",
          "polar": {
           "angularaxis": {
            "gridcolor": "white",
            "linecolor": "white",
            "ticks": ""
           },
           "bgcolor": "#E5ECF6",
           "radialaxis": {
            "gridcolor": "white",
            "linecolor": "white",
            "ticks": ""
           }
          },
          "scene": {
           "xaxis": {
            "backgroundcolor": "#E5ECF6",
            "gridcolor": "white",
            "gridwidth": 2,
            "linecolor": "white",
            "showbackground": true,
            "ticks": "",
            "zerolinecolor": "white"
           },
           "yaxis": {
            "backgroundcolor": "#E5ECF6",
            "gridcolor": "white",
            "gridwidth": 2,
            "linecolor": "white",
            "showbackground": true,
            "ticks": "",
            "zerolinecolor": "white"
           },
           "zaxis": {
            "backgroundcolor": "#E5ECF6",
            "gridcolor": "white",
            "gridwidth": 2,
            "linecolor": "white",
            "showbackground": true,
            "ticks": "",
            "zerolinecolor": "white"
           }
          },
          "shapedefaults": {
           "line": {
            "color": "#2a3f5f"
           }
          },
          "ternary": {
           "aaxis": {
            "gridcolor": "white",
            "linecolor": "white",
            "ticks": ""
           },
           "baxis": {
            "gridcolor": "white",
            "linecolor": "white",
            "ticks": ""
           },
           "bgcolor": "#E5ECF6",
           "caxis": {
            "gridcolor": "white",
            "linecolor": "white",
            "ticks": ""
           }
          },
          "title": {
           "x": 0.05
          },
          "xaxis": {
           "automargin": true,
           "gridcolor": "white",
           "linecolor": "white",
           "ticks": "",
           "title": {
            "standoff": 15
           },
           "zerolinecolor": "white",
           "zerolinewidth": 2
          },
          "yaxis": {
           "automargin": true,
           "gridcolor": "white",
           "linecolor": "white",
           "ticks": "",
           "title": {
            "standoff": 15
           },
           "zerolinecolor": "white",
           "zerolinewidth": 2
          }
         }
        },
        "title": {
         "text": "Miesiąc"
        },
        "width": 800,
        "xaxis": {
         "anchor": "y",
         "domain": [
          0,
          1
         ],
         "title": {
          "text": "month"
         }
        },
        "yaxis": {
         "anchor": "x",
         "domain": [
          0,
          1
         ],
         "title": {
          "text": "count"
         }
        }
       }
      },
      "text/html": [
       "<div>                            <div id=\"4f1b566d-3684-4234-b550-00a0c8d7545b\" class=\"plotly-graph-div\" style=\"height:525px; width:800px;\"></div>            <script type=\"text/javascript\">                require([\"plotly\"], function(Plotly) {                    window.PLOTLYENV=window.PLOTLYENV || {};                                    if (document.getElementById(\"4f1b566d-3684-4234-b550-00a0c8d7545b\")) {                    Plotly.newPlot(                        \"4f1b566d-3684-4234-b550-00a0c8d7545b\",                        [{\"alignmentgroup\": \"True\", \"hovertemplate\": \"month=%{x}<br>count=%{y}<extra></extra>\", \"legendgroup\": \"\", \"marker\": {\"color\": \"#636efa\"}, \"name\": \"\", \"offsetgroup\": \"\", \"orientation\": \"v\", \"showlegend\": false, \"textposition\": \"auto\", \"type\": \"bar\", \"x\": [1, 2, 3, 4, 5, 6, 7, 8, 9, 10, 11, 12], \"xaxis\": \"x\", \"y\": [505, 462, 503, 430, 418, 399, 413, 371, 328, 367, 354, 345], \"yaxis\": \"y\"}],                        {\"barmode\": \"relative\", \"legend\": {\"tracegroupgap\": 0}, \"template\": {\"data\": {\"bar\": [{\"error_x\": {\"color\": \"#2a3f5f\"}, \"error_y\": {\"color\": \"#2a3f5f\"}, \"marker\": {\"line\": {\"color\": \"#E5ECF6\", \"width\": 0.5}}, \"type\": \"bar\"}], \"barpolar\": [{\"marker\": {\"line\": {\"color\": \"#E5ECF6\", \"width\": 0.5}}, \"type\": \"barpolar\"}], \"carpet\": [{\"aaxis\": {\"endlinecolor\": \"#2a3f5f\", \"gridcolor\": \"white\", \"linecolor\": \"white\", \"minorgridcolor\": \"white\", \"startlinecolor\": \"#2a3f5f\"}, \"baxis\": {\"endlinecolor\": \"#2a3f5f\", \"gridcolor\": \"white\", \"linecolor\": \"white\", \"minorgridcolor\": \"white\", \"startlinecolor\": \"#2a3f5f\"}, \"type\": \"carpet\"}], \"choropleth\": [{\"colorbar\": {\"outlinewidth\": 0, \"ticks\": \"\"}, \"type\": \"choropleth\"}], \"contour\": [{\"colorbar\": {\"outlinewidth\": 0, \"ticks\": \"\"}, \"colorscale\": [[0.0, \"#0d0887\"], [0.1111111111111111, \"#46039f\"], [0.2222222222222222, \"#7201a8\"], [0.3333333333333333, \"#9c179e\"], [0.4444444444444444, \"#bd3786\"], [0.5555555555555556, \"#d8576b\"], [0.6666666666666666, \"#ed7953\"], [0.7777777777777778, \"#fb9f3a\"], [0.8888888888888888, \"#fdca26\"], [1.0, \"#f0f921\"]], \"type\": \"contour\"}], \"contourcarpet\": [{\"colorbar\": {\"outlinewidth\": 0, \"ticks\": \"\"}, \"type\": \"contourcarpet\"}], \"heatmap\": [{\"colorbar\": {\"outlinewidth\": 0, \"ticks\": \"\"}, \"colorscale\": [[0.0, \"#0d0887\"], [0.1111111111111111, \"#46039f\"], [0.2222222222222222, \"#7201a8\"], [0.3333333333333333, \"#9c179e\"], [0.4444444444444444, \"#bd3786\"], [0.5555555555555556, \"#d8576b\"], [0.6666666666666666, \"#ed7953\"], [0.7777777777777778, \"#fb9f3a\"], [0.8888888888888888, \"#fdca26\"], [1.0, \"#f0f921\"]], \"type\": \"heatmap\"}], \"heatmapgl\": [{\"colorbar\": {\"outlinewidth\": 0, \"ticks\": \"\"}, \"colorscale\": [[0.0, \"#0d0887\"], [0.1111111111111111, \"#46039f\"], [0.2222222222222222, \"#7201a8\"], [0.3333333333333333, \"#9c179e\"], [0.4444444444444444, \"#bd3786\"], [0.5555555555555556, \"#d8576b\"], [0.6666666666666666, \"#ed7953\"], [0.7777777777777778, \"#fb9f3a\"], [0.8888888888888888, \"#fdca26\"], [1.0, \"#f0f921\"]], \"type\": \"heatmapgl\"}], \"histogram\": [{\"marker\": {\"colorbar\": {\"outlinewidth\": 0, \"ticks\": \"\"}}, \"type\": \"histogram\"}], \"histogram2d\": [{\"colorbar\": {\"outlinewidth\": 0, \"ticks\": \"\"}, \"colorscale\": [[0.0, \"#0d0887\"], [0.1111111111111111, \"#46039f\"], [0.2222222222222222, \"#7201a8\"], [0.3333333333333333, \"#9c179e\"], [0.4444444444444444, \"#bd3786\"], [0.5555555555555556, \"#d8576b\"], [0.6666666666666666, \"#ed7953\"], [0.7777777777777778, \"#fb9f3a\"], [0.8888888888888888, \"#fdca26\"], [1.0, \"#f0f921\"]], \"type\": \"histogram2d\"}], \"histogram2dcontour\": [{\"colorbar\": {\"outlinewidth\": 0, \"ticks\": \"\"}, \"colorscale\": [[0.0, \"#0d0887\"], [0.1111111111111111, \"#46039f\"], [0.2222222222222222, \"#7201a8\"], [0.3333333333333333, \"#9c179e\"], [0.4444444444444444, \"#bd3786\"], [0.5555555555555556, \"#d8576b\"], [0.6666666666666666, \"#ed7953\"], [0.7777777777777778, \"#fb9f3a\"], [0.8888888888888888, \"#fdca26\"], [1.0, \"#f0f921\"]], \"type\": \"histogram2dcontour\"}], \"mesh3d\": [{\"colorbar\": {\"outlinewidth\": 0, \"ticks\": \"\"}, \"type\": \"mesh3d\"}], \"parcoords\": [{\"line\": {\"colorbar\": {\"outlinewidth\": 0, \"ticks\": \"\"}}, \"type\": \"parcoords\"}], \"pie\": [{\"automargin\": true, \"type\": \"pie\"}], \"scatter\": [{\"marker\": {\"colorbar\": {\"outlinewidth\": 0, \"ticks\": \"\"}}, \"type\": \"scatter\"}], \"scatter3d\": [{\"line\": {\"colorbar\": {\"outlinewidth\": 0, \"ticks\": \"\"}}, \"marker\": {\"colorbar\": {\"outlinewidth\": 0, \"ticks\": \"\"}}, \"type\": \"scatter3d\"}], \"scattercarpet\": [{\"marker\": {\"colorbar\": {\"outlinewidth\": 0, \"ticks\": \"\"}}, \"type\": \"scattercarpet\"}], \"scattergeo\": [{\"marker\": {\"colorbar\": {\"outlinewidth\": 0, \"ticks\": \"\"}}, \"type\": \"scattergeo\"}], \"scattergl\": [{\"marker\": {\"colorbar\": {\"outlinewidth\": 0, \"ticks\": \"\"}}, \"type\": \"scattergl\"}], \"scattermapbox\": [{\"marker\": {\"colorbar\": {\"outlinewidth\": 0, \"ticks\": \"\"}}, \"type\": \"scattermapbox\"}], \"scatterpolar\": [{\"marker\": {\"colorbar\": {\"outlinewidth\": 0, \"ticks\": \"\"}}, \"type\": \"scatterpolar\"}], \"scatterpolargl\": [{\"marker\": {\"colorbar\": {\"outlinewidth\": 0, \"ticks\": \"\"}}, \"type\": \"scatterpolargl\"}], \"scatterternary\": [{\"marker\": {\"colorbar\": {\"outlinewidth\": 0, \"ticks\": \"\"}}, \"type\": \"scatterternary\"}], \"surface\": [{\"colorbar\": {\"outlinewidth\": 0, \"ticks\": \"\"}, \"colorscale\": [[0.0, \"#0d0887\"], [0.1111111111111111, \"#46039f\"], [0.2222222222222222, \"#7201a8\"], [0.3333333333333333, \"#9c179e\"], [0.4444444444444444, \"#bd3786\"], [0.5555555555555556, \"#d8576b\"], [0.6666666666666666, \"#ed7953\"], [0.7777777777777778, \"#fb9f3a\"], [0.8888888888888888, \"#fdca26\"], [1.0, \"#f0f921\"]], \"type\": \"surface\"}], \"table\": [{\"cells\": {\"fill\": {\"color\": \"#EBF0F8\"}, \"line\": {\"color\": \"white\"}}, \"header\": {\"fill\": {\"color\": \"#C8D4E3\"}, \"line\": {\"color\": \"white\"}}, \"type\": \"table\"}]}, \"layout\": {\"annotationdefaults\": {\"arrowcolor\": \"#2a3f5f\", \"arrowhead\": 0, \"arrowwidth\": 1}, \"coloraxis\": {\"colorbar\": {\"outlinewidth\": 0, \"ticks\": \"\"}}, \"colorscale\": {\"diverging\": [[0, \"#8e0152\"], [0.1, \"#c51b7d\"], [0.2, \"#de77ae\"], [0.3, \"#f1b6da\"], [0.4, \"#fde0ef\"], [0.5, \"#f7f7f7\"], [0.6, \"#e6f5d0\"], [0.7, \"#b8e186\"], [0.8, \"#7fbc41\"], [0.9, \"#4d9221\"], [1, \"#276419\"]], \"sequential\": [[0.0, \"#0d0887\"], [0.1111111111111111, \"#46039f\"], [0.2222222222222222, \"#7201a8\"], [0.3333333333333333, \"#9c179e\"], [0.4444444444444444, \"#bd3786\"], [0.5555555555555556, \"#d8576b\"], [0.6666666666666666, \"#ed7953\"], [0.7777777777777778, \"#fb9f3a\"], [0.8888888888888888, \"#fdca26\"], [1.0, \"#f0f921\"]], \"sequentialminus\": [[0.0, \"#0d0887\"], [0.1111111111111111, \"#46039f\"], [0.2222222222222222, \"#7201a8\"], [0.3333333333333333, \"#9c179e\"], [0.4444444444444444, \"#bd3786\"], [0.5555555555555556, \"#d8576b\"], [0.6666666666666666, \"#ed7953\"], [0.7777777777777778, \"#fb9f3a\"], [0.8888888888888888, \"#fdca26\"], [1.0, \"#f0f921\"]]}, \"colorway\": [\"#636efa\", \"#EF553B\", \"#00cc96\", \"#ab63fa\", \"#FFA15A\", \"#19d3f3\", \"#FF6692\", \"#B6E880\", \"#FF97FF\", \"#FECB52\"], \"font\": {\"color\": \"#2a3f5f\"}, \"geo\": {\"bgcolor\": \"white\", \"lakecolor\": \"white\", \"landcolor\": \"#E5ECF6\", \"showlakes\": true, \"showland\": true, \"subunitcolor\": \"white\"}, \"hoverlabel\": {\"align\": \"left\"}, \"hovermode\": \"closest\", \"mapbox\": {\"style\": \"light\"}, \"paper_bgcolor\": \"white\", \"plot_bgcolor\": \"#E5ECF6\", \"polar\": {\"angularaxis\": {\"gridcolor\": \"white\", \"linecolor\": \"white\", \"ticks\": \"\"}, \"bgcolor\": \"#E5ECF6\", \"radialaxis\": {\"gridcolor\": \"white\", \"linecolor\": \"white\", \"ticks\": \"\"}}, \"scene\": {\"xaxis\": {\"backgroundcolor\": \"#E5ECF6\", \"gridcolor\": \"white\", \"gridwidth\": 2, \"linecolor\": \"white\", \"showbackground\": true, \"ticks\": \"\", \"zerolinecolor\": \"white\"}, \"yaxis\": {\"backgroundcolor\": \"#E5ECF6\", \"gridcolor\": \"white\", \"gridwidth\": 2, \"linecolor\": \"white\", \"showbackground\": true, \"ticks\": \"\", \"zerolinecolor\": \"white\"}, \"zaxis\": {\"backgroundcolor\": \"#E5ECF6\", \"gridcolor\": \"white\", \"gridwidth\": 2, \"linecolor\": \"white\", \"showbackground\": true, \"ticks\": \"\", \"zerolinecolor\": \"white\"}}, \"shapedefaults\": {\"line\": {\"color\": \"#2a3f5f\"}}, \"ternary\": {\"aaxis\": {\"gridcolor\": \"white\", \"linecolor\": \"white\", \"ticks\": \"\"}, \"baxis\": {\"gridcolor\": \"white\", \"linecolor\": \"white\", \"ticks\": \"\"}, \"bgcolor\": \"#E5ECF6\", \"caxis\": {\"gridcolor\": \"white\", \"linecolor\": \"white\", \"ticks\": \"\"}}, \"title\": {\"x\": 0.05}, \"xaxis\": {\"automargin\": true, \"gridcolor\": \"white\", \"linecolor\": \"white\", \"ticks\": \"\", \"title\": {\"standoff\": 15}, \"zerolinecolor\": \"white\", \"zerolinewidth\": 2}, \"yaxis\": {\"automargin\": true, \"gridcolor\": \"white\", \"linecolor\": \"white\", \"ticks\": \"\", \"title\": {\"standoff\": 15}, \"zerolinecolor\": \"white\", \"zerolinewidth\": 2}}}, \"title\": {\"text\": \"Miesi\\u0105c\"}, \"width\": 800, \"xaxis\": {\"anchor\": \"y\", \"domain\": [0.0, 1.0], \"title\": {\"text\": \"month\"}}, \"yaxis\": {\"anchor\": \"x\", \"domain\": [0.0, 1.0], \"title\": {\"text\": \"count\"}}},                        {\"responsive\": true}                    ).then(function(){\n",
       "                            \n",
       "var gd = document.getElementById('4f1b566d-3684-4234-b550-00a0c8d7545b');\n",
       "var x = new MutationObserver(function (mutations, observer) {{\n",
       "        var display = window.getComputedStyle(gd).display;\n",
       "        if (!display || display === 'none') {{\n",
       "            console.log([gd, 'removed!']);\n",
       "            Plotly.purge(gd);\n",
       "            observer.disconnect();\n",
       "        }}\n",
       "}});\n",
       "\n",
       "// Listen for the removal of the full notebook cells\n",
       "var notebookContainer = gd.closest('#notebook-container');\n",
       "if (notebookContainer) {{\n",
       "    x.observe(notebookContainer, {childList: true});\n",
       "}}\n",
       "\n",
       "// Listen for the clearing of the current output cell\n",
       "var outputEl = gd.closest('.output');\n",
       "if (outputEl) {{\n",
       "    x.observe(outputEl, {childList: true});\n",
       "}}\n",
       "\n",
       "                        })                };                });            </script>        </div>"
      ]
     },
     "metadata": {},
     "output_type": "display_data"
    }
   ],
   "source": [
    "data = df.groupby(['month'])['name'].count().reset_index()\n",
    "data.columns = [\n",
    "    'month', \n",
    "    'count'\n",
    "]\n",
    "\n",
    "fig = px.bar(\n",
    "    data, \n",
    "    x='month', \n",
    "    y='count', \n",
    "    orientation='v', \n",
    "    title='Miesiąc', \n",
    "    width=800\n",
    ")\n",
    "\n",
    "fig.show()"
   ]
  },
  {
   "cell_type": "code",
   "execution_count": 26,
   "metadata": {},
   "outputs": [],
   "source": [
    "# Wniosek: w wakacje zabitych osób jest mniej"
   ]
  },
  {
   "cell_type": "code",
   "execution_count": 30,
   "metadata": {},
   "outputs": [
    {
     "data": {
      "application/vnd.plotly.v1+json": {
       "config": {
        "plotlyServerURL": "https://plot.ly"
       },
       "data": [
        {
         "alignmentgroup": "True",
         "hovertemplate": "year=%{x}<br>count=%{y}<extra></extra>",
         "legendgroup": "",
         "marker": {
          "color": "#636efa"
         },
         "name": "",
         "offsetgroup": "",
         "orientation": "v",
         "showlegend": false,
         "textposition": "auto",
         "type": "bar",
         "x": [
          2015,
          2016,
          2017,
          2018,
          2019,
          2020
         ],
         "xaxis": "x",
         "y": [
          965,
          904,
          906,
          888,
          858,
          374
         ],
         "yaxis": "y"
        }
       ],
       "layout": {
        "barmode": "relative",
        "legend": {
         "tracegroupgap": 0
        },
        "template": {
         "data": {
          "bar": [
           {
            "error_x": {
             "color": "#2a3f5f"
            },
            "error_y": {
             "color": "#2a3f5f"
            },
            "marker": {
             "line": {
              "color": "#E5ECF6",
              "width": 0.5
             }
            },
            "type": "bar"
           }
          ],
          "barpolar": [
           {
            "marker": {
             "line": {
              "color": "#E5ECF6",
              "width": 0.5
             }
            },
            "type": "barpolar"
           }
          ],
          "carpet": [
           {
            "aaxis": {
             "endlinecolor": "#2a3f5f",
             "gridcolor": "white",
             "linecolor": "white",
             "minorgridcolor": "white",
             "startlinecolor": "#2a3f5f"
            },
            "baxis": {
             "endlinecolor": "#2a3f5f",
             "gridcolor": "white",
             "linecolor": "white",
             "minorgridcolor": "white",
             "startlinecolor": "#2a3f5f"
            },
            "type": "carpet"
           }
          ],
          "choropleth": [
           {
            "colorbar": {
             "outlinewidth": 0,
             "ticks": ""
            },
            "type": "choropleth"
           }
          ],
          "contour": [
           {
            "colorbar": {
             "outlinewidth": 0,
             "ticks": ""
            },
            "colorscale": [
             [
              0,
              "#0d0887"
             ],
             [
              0.1111111111111111,
              "#46039f"
             ],
             [
              0.2222222222222222,
              "#7201a8"
             ],
             [
              0.3333333333333333,
              "#9c179e"
             ],
             [
              0.4444444444444444,
              "#bd3786"
             ],
             [
              0.5555555555555556,
              "#d8576b"
             ],
             [
              0.6666666666666666,
              "#ed7953"
             ],
             [
              0.7777777777777778,
              "#fb9f3a"
             ],
             [
              0.8888888888888888,
              "#fdca26"
             ],
             [
              1,
              "#f0f921"
             ]
            ],
            "type": "contour"
           }
          ],
          "contourcarpet": [
           {
            "colorbar": {
             "outlinewidth": 0,
             "ticks": ""
            },
            "type": "contourcarpet"
           }
          ],
          "heatmap": [
           {
            "colorbar": {
             "outlinewidth": 0,
             "ticks": ""
            },
            "colorscale": [
             [
              0,
              "#0d0887"
             ],
             [
              0.1111111111111111,
              "#46039f"
             ],
             [
              0.2222222222222222,
              "#7201a8"
             ],
             [
              0.3333333333333333,
              "#9c179e"
             ],
             [
              0.4444444444444444,
              "#bd3786"
             ],
             [
              0.5555555555555556,
              "#d8576b"
             ],
             [
              0.6666666666666666,
              "#ed7953"
             ],
             [
              0.7777777777777778,
              "#fb9f3a"
             ],
             [
              0.8888888888888888,
              "#fdca26"
             ],
             [
              1,
              "#f0f921"
             ]
            ],
            "type": "heatmap"
           }
          ],
          "heatmapgl": [
           {
            "colorbar": {
             "outlinewidth": 0,
             "ticks": ""
            },
            "colorscale": [
             [
              0,
              "#0d0887"
             ],
             [
              0.1111111111111111,
              "#46039f"
             ],
             [
              0.2222222222222222,
              "#7201a8"
             ],
             [
              0.3333333333333333,
              "#9c179e"
             ],
             [
              0.4444444444444444,
              "#bd3786"
             ],
             [
              0.5555555555555556,
              "#d8576b"
             ],
             [
              0.6666666666666666,
              "#ed7953"
             ],
             [
              0.7777777777777778,
              "#fb9f3a"
             ],
             [
              0.8888888888888888,
              "#fdca26"
             ],
             [
              1,
              "#f0f921"
             ]
            ],
            "type": "heatmapgl"
           }
          ],
          "histogram": [
           {
            "marker": {
             "colorbar": {
              "outlinewidth": 0,
              "ticks": ""
             }
            },
            "type": "histogram"
           }
          ],
          "histogram2d": [
           {
            "colorbar": {
             "outlinewidth": 0,
             "ticks": ""
            },
            "colorscale": [
             [
              0,
              "#0d0887"
             ],
             [
              0.1111111111111111,
              "#46039f"
             ],
             [
              0.2222222222222222,
              "#7201a8"
             ],
             [
              0.3333333333333333,
              "#9c179e"
             ],
             [
              0.4444444444444444,
              "#bd3786"
             ],
             [
              0.5555555555555556,
              "#d8576b"
             ],
             [
              0.6666666666666666,
              "#ed7953"
             ],
             [
              0.7777777777777778,
              "#fb9f3a"
             ],
             [
              0.8888888888888888,
              "#fdca26"
             ],
             [
              1,
              "#f0f921"
             ]
            ],
            "type": "histogram2d"
           }
          ],
          "histogram2dcontour": [
           {
            "colorbar": {
             "outlinewidth": 0,
             "ticks": ""
            },
            "colorscale": [
             [
              0,
              "#0d0887"
             ],
             [
              0.1111111111111111,
              "#46039f"
             ],
             [
              0.2222222222222222,
              "#7201a8"
             ],
             [
              0.3333333333333333,
              "#9c179e"
             ],
             [
              0.4444444444444444,
              "#bd3786"
             ],
             [
              0.5555555555555556,
              "#d8576b"
             ],
             [
              0.6666666666666666,
              "#ed7953"
             ],
             [
              0.7777777777777778,
              "#fb9f3a"
             ],
             [
              0.8888888888888888,
              "#fdca26"
             ],
             [
              1,
              "#f0f921"
             ]
            ],
            "type": "histogram2dcontour"
           }
          ],
          "mesh3d": [
           {
            "colorbar": {
             "outlinewidth": 0,
             "ticks": ""
            },
            "type": "mesh3d"
           }
          ],
          "parcoords": [
           {
            "line": {
             "colorbar": {
              "outlinewidth": 0,
              "ticks": ""
             }
            },
            "type": "parcoords"
           }
          ],
          "pie": [
           {
            "automargin": true,
            "type": "pie"
           }
          ],
          "scatter": [
           {
            "marker": {
             "colorbar": {
              "outlinewidth": 0,
              "ticks": ""
             }
            },
            "type": "scatter"
           }
          ],
          "scatter3d": [
           {
            "line": {
             "colorbar": {
              "outlinewidth": 0,
              "ticks": ""
             }
            },
            "marker": {
             "colorbar": {
              "outlinewidth": 0,
              "ticks": ""
             }
            },
            "type": "scatter3d"
           }
          ],
          "scattercarpet": [
           {
            "marker": {
             "colorbar": {
              "outlinewidth": 0,
              "ticks": ""
             }
            },
            "type": "scattercarpet"
           }
          ],
          "scattergeo": [
           {
            "marker": {
             "colorbar": {
              "outlinewidth": 0,
              "ticks": ""
             }
            },
            "type": "scattergeo"
           }
          ],
          "scattergl": [
           {
            "marker": {
             "colorbar": {
              "outlinewidth": 0,
              "ticks": ""
             }
            },
            "type": "scattergl"
           }
          ],
          "scattermapbox": [
           {
            "marker": {
             "colorbar": {
              "outlinewidth": 0,
              "ticks": ""
             }
            },
            "type": "scattermapbox"
           }
          ],
          "scatterpolar": [
           {
            "marker": {
             "colorbar": {
              "outlinewidth": 0,
              "ticks": ""
             }
            },
            "type": "scatterpolar"
           }
          ],
          "scatterpolargl": [
           {
            "marker": {
             "colorbar": {
              "outlinewidth": 0,
              "ticks": ""
             }
            },
            "type": "scatterpolargl"
           }
          ],
          "scatterternary": [
           {
            "marker": {
             "colorbar": {
              "outlinewidth": 0,
              "ticks": ""
             }
            },
            "type": "scatterternary"
           }
          ],
          "surface": [
           {
            "colorbar": {
             "outlinewidth": 0,
             "ticks": ""
            },
            "colorscale": [
             [
              0,
              "#0d0887"
             ],
             [
              0.1111111111111111,
              "#46039f"
             ],
             [
              0.2222222222222222,
              "#7201a8"
             ],
             [
              0.3333333333333333,
              "#9c179e"
             ],
             [
              0.4444444444444444,
              "#bd3786"
             ],
             [
              0.5555555555555556,
              "#d8576b"
             ],
             [
              0.6666666666666666,
              "#ed7953"
             ],
             [
              0.7777777777777778,
              "#fb9f3a"
             ],
             [
              0.8888888888888888,
              "#fdca26"
             ],
             [
              1,
              "#f0f921"
             ]
            ],
            "type": "surface"
           }
          ],
          "table": [
           {
            "cells": {
             "fill": {
              "color": "#EBF0F8"
             },
             "line": {
              "color": "white"
             }
            },
            "header": {
             "fill": {
              "color": "#C8D4E3"
             },
             "line": {
              "color": "white"
             }
            },
            "type": "table"
           }
          ]
         },
         "layout": {
          "annotationdefaults": {
           "arrowcolor": "#2a3f5f",
           "arrowhead": 0,
           "arrowwidth": 1
          },
          "coloraxis": {
           "colorbar": {
            "outlinewidth": 0,
            "ticks": ""
           }
          },
          "colorscale": {
           "diverging": [
            [
             0,
             "#8e0152"
            ],
            [
             0.1,
             "#c51b7d"
            ],
            [
             0.2,
             "#de77ae"
            ],
            [
             0.3,
             "#f1b6da"
            ],
            [
             0.4,
             "#fde0ef"
            ],
            [
             0.5,
             "#f7f7f7"
            ],
            [
             0.6,
             "#e6f5d0"
            ],
            [
             0.7,
             "#b8e186"
            ],
            [
             0.8,
             "#7fbc41"
            ],
            [
             0.9,
             "#4d9221"
            ],
            [
             1,
             "#276419"
            ]
           ],
           "sequential": [
            [
             0,
             "#0d0887"
            ],
            [
             0.1111111111111111,
             "#46039f"
            ],
            [
             0.2222222222222222,
             "#7201a8"
            ],
            [
             0.3333333333333333,
             "#9c179e"
            ],
            [
             0.4444444444444444,
             "#bd3786"
            ],
            [
             0.5555555555555556,
             "#d8576b"
            ],
            [
             0.6666666666666666,
             "#ed7953"
            ],
            [
             0.7777777777777778,
             "#fb9f3a"
            ],
            [
             0.8888888888888888,
             "#fdca26"
            ],
            [
             1,
             "#f0f921"
            ]
           ],
           "sequentialminus": [
            [
             0,
             "#0d0887"
            ],
            [
             0.1111111111111111,
             "#46039f"
            ],
            [
             0.2222222222222222,
             "#7201a8"
            ],
            [
             0.3333333333333333,
             "#9c179e"
            ],
            [
             0.4444444444444444,
             "#bd3786"
            ],
            [
             0.5555555555555556,
             "#d8576b"
            ],
            [
             0.6666666666666666,
             "#ed7953"
            ],
            [
             0.7777777777777778,
             "#fb9f3a"
            ],
            [
             0.8888888888888888,
             "#fdca26"
            ],
            [
             1,
             "#f0f921"
            ]
           ]
          },
          "colorway": [
           "#636efa",
           "#EF553B",
           "#00cc96",
           "#ab63fa",
           "#FFA15A",
           "#19d3f3",
           "#FF6692",
           "#B6E880",
           "#FF97FF",
           "#FECB52"
          ],
          "font": {
           "color": "#2a3f5f"
          },
          "geo": {
           "bgcolor": "white",
           "lakecolor": "white",
           "landcolor": "#E5ECF6",
           "showlakes": true,
           "showland": true,
           "subunitcolor": "white"
          },
          "hoverlabel": {
           "align": "left"
          },
          "hovermode": "closest",
          "mapbox": {
           "style": "light"
          },
          "paper_bgcolor": "white",
          "plot_bgcolor": "#E5ECF6",
          "polar": {
           "angularaxis": {
            "gridcolor": "white",
            "linecolor": "white",
            "ticks": ""
           },
           "bgcolor": "#E5ECF6",
           "radialaxis": {
            "gridcolor": "white",
            "linecolor": "white",
            "ticks": ""
           }
          },
          "scene": {
           "xaxis": {
            "backgroundcolor": "#E5ECF6",
            "gridcolor": "white",
            "gridwidth": 2,
            "linecolor": "white",
            "showbackground": true,
            "ticks": "",
            "zerolinecolor": "white"
           },
           "yaxis": {
            "backgroundcolor": "#E5ECF6",
            "gridcolor": "white",
            "gridwidth": 2,
            "linecolor": "white",
            "showbackground": true,
            "ticks": "",
            "zerolinecolor": "white"
           },
           "zaxis": {
            "backgroundcolor": "#E5ECF6",
            "gridcolor": "white",
            "gridwidth": 2,
            "linecolor": "white",
            "showbackground": true,
            "ticks": "",
            "zerolinecolor": "white"
           }
          },
          "shapedefaults": {
           "line": {
            "color": "#2a3f5f"
           }
          },
          "ternary": {
           "aaxis": {
            "gridcolor": "white",
            "linecolor": "white",
            "ticks": ""
           },
           "baxis": {
            "gridcolor": "white",
            "linecolor": "white",
            "ticks": ""
           },
           "bgcolor": "#E5ECF6",
           "caxis": {
            "gridcolor": "white",
            "linecolor": "white",
            "ticks": ""
           }
          },
          "title": {
           "x": 0.05
          },
          "xaxis": {
           "automargin": true,
           "gridcolor": "white",
           "linecolor": "white",
           "ticks": "",
           "title": {
            "standoff": 15
           },
           "zerolinecolor": "white",
           "zerolinewidth": 2
          },
          "yaxis": {
           "automargin": true,
           "gridcolor": "white",
           "linecolor": "white",
           "ticks": "",
           "title": {
            "standoff": 15
           },
           "zerolinecolor": "white",
           "zerolinewidth": 2
          }
         }
        },
        "title": {
         "text": "Rok"
        },
        "width": 600,
        "xaxis": {
         "anchor": "y",
         "domain": [
          0,
          1
         ],
         "title": {
          "text": "year"
         }
        },
        "yaxis": {
         "anchor": "x",
         "domain": [
          0,
          1
         ],
         "title": {
          "text": "count"
         }
        }
       }
      },
      "text/html": [
       "<div>                            <div id=\"3556a6b1-c5b2-400d-803d-0982305dfdb2\" class=\"plotly-graph-div\" style=\"height:525px; width:600px;\"></div>            <script type=\"text/javascript\">                require([\"plotly\"], function(Plotly) {                    window.PLOTLYENV=window.PLOTLYENV || {};                                    if (document.getElementById(\"3556a6b1-c5b2-400d-803d-0982305dfdb2\")) {                    Plotly.newPlot(                        \"3556a6b1-c5b2-400d-803d-0982305dfdb2\",                        [{\"alignmentgroup\": \"True\", \"hovertemplate\": \"year=%{x}<br>count=%{y}<extra></extra>\", \"legendgroup\": \"\", \"marker\": {\"color\": \"#636efa\"}, \"name\": \"\", \"offsetgroup\": \"\", \"orientation\": \"v\", \"showlegend\": false, \"textposition\": \"auto\", \"type\": \"bar\", \"x\": [2015, 2016, 2017, 2018, 2019, 2020], \"xaxis\": \"x\", \"y\": [965, 904, 906, 888, 858, 374], \"yaxis\": \"y\"}],                        {\"barmode\": \"relative\", \"legend\": {\"tracegroupgap\": 0}, \"template\": {\"data\": {\"bar\": [{\"error_x\": {\"color\": \"#2a3f5f\"}, \"error_y\": {\"color\": \"#2a3f5f\"}, \"marker\": {\"line\": {\"color\": \"#E5ECF6\", \"width\": 0.5}}, \"type\": \"bar\"}], \"barpolar\": [{\"marker\": {\"line\": {\"color\": \"#E5ECF6\", \"width\": 0.5}}, \"type\": \"barpolar\"}], \"carpet\": [{\"aaxis\": {\"endlinecolor\": \"#2a3f5f\", \"gridcolor\": \"white\", \"linecolor\": \"white\", \"minorgridcolor\": \"white\", \"startlinecolor\": \"#2a3f5f\"}, \"baxis\": {\"endlinecolor\": \"#2a3f5f\", \"gridcolor\": \"white\", \"linecolor\": \"white\", \"minorgridcolor\": \"white\", \"startlinecolor\": \"#2a3f5f\"}, \"type\": \"carpet\"}], \"choropleth\": [{\"colorbar\": {\"outlinewidth\": 0, \"ticks\": \"\"}, \"type\": \"choropleth\"}], \"contour\": [{\"colorbar\": {\"outlinewidth\": 0, \"ticks\": \"\"}, \"colorscale\": [[0.0, \"#0d0887\"], [0.1111111111111111, \"#46039f\"], [0.2222222222222222, \"#7201a8\"], [0.3333333333333333, \"#9c179e\"], [0.4444444444444444, \"#bd3786\"], [0.5555555555555556, \"#d8576b\"], [0.6666666666666666, \"#ed7953\"], [0.7777777777777778, \"#fb9f3a\"], [0.8888888888888888, \"#fdca26\"], [1.0, \"#f0f921\"]], \"type\": \"contour\"}], \"contourcarpet\": [{\"colorbar\": {\"outlinewidth\": 0, \"ticks\": \"\"}, \"type\": \"contourcarpet\"}], \"heatmap\": [{\"colorbar\": {\"outlinewidth\": 0, \"ticks\": \"\"}, \"colorscale\": [[0.0, \"#0d0887\"], [0.1111111111111111, \"#46039f\"], [0.2222222222222222, \"#7201a8\"], [0.3333333333333333, \"#9c179e\"], [0.4444444444444444, \"#bd3786\"], [0.5555555555555556, \"#d8576b\"], [0.6666666666666666, \"#ed7953\"], [0.7777777777777778, \"#fb9f3a\"], [0.8888888888888888, \"#fdca26\"], [1.0, \"#f0f921\"]], \"type\": \"heatmap\"}], \"heatmapgl\": [{\"colorbar\": {\"outlinewidth\": 0, \"ticks\": \"\"}, \"colorscale\": [[0.0, \"#0d0887\"], [0.1111111111111111, \"#46039f\"], [0.2222222222222222, \"#7201a8\"], [0.3333333333333333, \"#9c179e\"], [0.4444444444444444, \"#bd3786\"], [0.5555555555555556, \"#d8576b\"], [0.6666666666666666, \"#ed7953\"], [0.7777777777777778, \"#fb9f3a\"], [0.8888888888888888, \"#fdca26\"], [1.0, \"#f0f921\"]], \"type\": \"heatmapgl\"}], \"histogram\": [{\"marker\": {\"colorbar\": {\"outlinewidth\": 0, \"ticks\": \"\"}}, \"type\": \"histogram\"}], \"histogram2d\": [{\"colorbar\": {\"outlinewidth\": 0, \"ticks\": \"\"}, \"colorscale\": [[0.0, \"#0d0887\"], [0.1111111111111111, \"#46039f\"], [0.2222222222222222, \"#7201a8\"], [0.3333333333333333, \"#9c179e\"], [0.4444444444444444, \"#bd3786\"], [0.5555555555555556, \"#d8576b\"], [0.6666666666666666, \"#ed7953\"], [0.7777777777777778, \"#fb9f3a\"], [0.8888888888888888, \"#fdca26\"], [1.0, \"#f0f921\"]], \"type\": \"histogram2d\"}], \"histogram2dcontour\": [{\"colorbar\": {\"outlinewidth\": 0, \"ticks\": \"\"}, \"colorscale\": [[0.0, \"#0d0887\"], [0.1111111111111111, \"#46039f\"], [0.2222222222222222, \"#7201a8\"], [0.3333333333333333, \"#9c179e\"], [0.4444444444444444, \"#bd3786\"], [0.5555555555555556, \"#d8576b\"], [0.6666666666666666, \"#ed7953\"], [0.7777777777777778, \"#fb9f3a\"], [0.8888888888888888, \"#fdca26\"], [1.0, \"#f0f921\"]], \"type\": \"histogram2dcontour\"}], \"mesh3d\": [{\"colorbar\": {\"outlinewidth\": 0, \"ticks\": \"\"}, \"type\": \"mesh3d\"}], \"parcoords\": [{\"line\": {\"colorbar\": {\"outlinewidth\": 0, \"ticks\": \"\"}}, \"type\": \"parcoords\"}], \"pie\": [{\"automargin\": true, \"type\": \"pie\"}], \"scatter\": [{\"marker\": {\"colorbar\": {\"outlinewidth\": 0, \"ticks\": \"\"}}, \"type\": \"scatter\"}], \"scatter3d\": [{\"line\": {\"colorbar\": {\"outlinewidth\": 0, \"ticks\": \"\"}}, \"marker\": {\"colorbar\": {\"outlinewidth\": 0, \"ticks\": \"\"}}, \"type\": \"scatter3d\"}], \"scattercarpet\": [{\"marker\": {\"colorbar\": {\"outlinewidth\": 0, \"ticks\": \"\"}}, \"type\": \"scattercarpet\"}], \"scattergeo\": [{\"marker\": {\"colorbar\": {\"outlinewidth\": 0, \"ticks\": \"\"}}, \"type\": \"scattergeo\"}], \"scattergl\": [{\"marker\": {\"colorbar\": {\"outlinewidth\": 0, \"ticks\": \"\"}}, \"type\": \"scattergl\"}], \"scattermapbox\": [{\"marker\": {\"colorbar\": {\"outlinewidth\": 0, \"ticks\": \"\"}}, \"type\": \"scattermapbox\"}], \"scatterpolar\": [{\"marker\": {\"colorbar\": {\"outlinewidth\": 0, \"ticks\": \"\"}}, \"type\": \"scatterpolar\"}], \"scatterpolargl\": [{\"marker\": {\"colorbar\": {\"outlinewidth\": 0, \"ticks\": \"\"}}, \"type\": \"scatterpolargl\"}], \"scatterternary\": [{\"marker\": {\"colorbar\": {\"outlinewidth\": 0, \"ticks\": \"\"}}, \"type\": \"scatterternary\"}], \"surface\": [{\"colorbar\": {\"outlinewidth\": 0, \"ticks\": \"\"}, \"colorscale\": [[0.0, \"#0d0887\"], [0.1111111111111111, \"#46039f\"], [0.2222222222222222, \"#7201a8\"], [0.3333333333333333, \"#9c179e\"], [0.4444444444444444, \"#bd3786\"], [0.5555555555555556, \"#d8576b\"], [0.6666666666666666, \"#ed7953\"], [0.7777777777777778, \"#fb9f3a\"], [0.8888888888888888, \"#fdca26\"], [1.0, \"#f0f921\"]], \"type\": \"surface\"}], \"table\": [{\"cells\": {\"fill\": {\"color\": \"#EBF0F8\"}, \"line\": {\"color\": \"white\"}}, \"header\": {\"fill\": {\"color\": \"#C8D4E3\"}, \"line\": {\"color\": \"white\"}}, \"type\": \"table\"}]}, \"layout\": {\"annotationdefaults\": {\"arrowcolor\": \"#2a3f5f\", \"arrowhead\": 0, \"arrowwidth\": 1}, \"coloraxis\": {\"colorbar\": {\"outlinewidth\": 0, \"ticks\": \"\"}}, \"colorscale\": {\"diverging\": [[0, \"#8e0152\"], [0.1, \"#c51b7d\"], [0.2, \"#de77ae\"], [0.3, \"#f1b6da\"], [0.4, \"#fde0ef\"], [0.5, \"#f7f7f7\"], [0.6, \"#e6f5d0\"], [0.7, \"#b8e186\"], [0.8, \"#7fbc41\"], [0.9, \"#4d9221\"], [1, \"#276419\"]], \"sequential\": [[0.0, \"#0d0887\"], [0.1111111111111111, \"#46039f\"], [0.2222222222222222, \"#7201a8\"], [0.3333333333333333, \"#9c179e\"], [0.4444444444444444, \"#bd3786\"], [0.5555555555555556, \"#d8576b\"], [0.6666666666666666, \"#ed7953\"], [0.7777777777777778, \"#fb9f3a\"], [0.8888888888888888, \"#fdca26\"], [1.0, \"#f0f921\"]], \"sequentialminus\": [[0.0, \"#0d0887\"], [0.1111111111111111, \"#46039f\"], [0.2222222222222222, \"#7201a8\"], [0.3333333333333333, \"#9c179e\"], [0.4444444444444444, \"#bd3786\"], [0.5555555555555556, \"#d8576b\"], [0.6666666666666666, \"#ed7953\"], [0.7777777777777778, \"#fb9f3a\"], [0.8888888888888888, \"#fdca26\"], [1.0, \"#f0f921\"]]}, \"colorway\": [\"#636efa\", \"#EF553B\", \"#00cc96\", \"#ab63fa\", \"#FFA15A\", \"#19d3f3\", \"#FF6692\", \"#B6E880\", \"#FF97FF\", \"#FECB52\"], \"font\": {\"color\": \"#2a3f5f\"}, \"geo\": {\"bgcolor\": \"white\", \"lakecolor\": \"white\", \"landcolor\": \"#E5ECF6\", \"showlakes\": true, \"showland\": true, \"subunitcolor\": \"white\"}, \"hoverlabel\": {\"align\": \"left\"}, \"hovermode\": \"closest\", \"mapbox\": {\"style\": \"light\"}, \"paper_bgcolor\": \"white\", \"plot_bgcolor\": \"#E5ECF6\", \"polar\": {\"angularaxis\": {\"gridcolor\": \"white\", \"linecolor\": \"white\", \"ticks\": \"\"}, \"bgcolor\": \"#E5ECF6\", \"radialaxis\": {\"gridcolor\": \"white\", \"linecolor\": \"white\", \"ticks\": \"\"}}, \"scene\": {\"xaxis\": {\"backgroundcolor\": \"#E5ECF6\", \"gridcolor\": \"white\", \"gridwidth\": 2, \"linecolor\": \"white\", \"showbackground\": true, \"ticks\": \"\", \"zerolinecolor\": \"white\"}, \"yaxis\": {\"backgroundcolor\": \"#E5ECF6\", \"gridcolor\": \"white\", \"gridwidth\": 2, \"linecolor\": \"white\", \"showbackground\": true, \"ticks\": \"\", \"zerolinecolor\": \"white\"}, \"zaxis\": {\"backgroundcolor\": \"#E5ECF6\", \"gridcolor\": \"white\", \"gridwidth\": 2, \"linecolor\": \"white\", \"showbackground\": true, \"ticks\": \"\", \"zerolinecolor\": \"white\"}}, \"shapedefaults\": {\"line\": {\"color\": \"#2a3f5f\"}}, \"ternary\": {\"aaxis\": {\"gridcolor\": \"white\", \"linecolor\": \"white\", \"ticks\": \"\"}, \"baxis\": {\"gridcolor\": \"white\", \"linecolor\": \"white\", \"ticks\": \"\"}, \"bgcolor\": \"#E5ECF6\", \"caxis\": {\"gridcolor\": \"white\", \"linecolor\": \"white\", \"ticks\": \"\"}}, \"title\": {\"x\": 0.05}, \"xaxis\": {\"automargin\": true, \"gridcolor\": \"white\", \"linecolor\": \"white\", \"ticks\": \"\", \"title\": {\"standoff\": 15}, \"zerolinecolor\": \"white\", \"zerolinewidth\": 2}, \"yaxis\": {\"automargin\": true, \"gridcolor\": \"white\", \"linecolor\": \"white\", \"ticks\": \"\", \"title\": {\"standoff\": 15}, \"zerolinecolor\": \"white\", \"zerolinewidth\": 2}}}, \"title\": {\"text\": \"Rok\"}, \"width\": 600, \"xaxis\": {\"anchor\": \"y\", \"domain\": [0.0, 1.0], \"title\": {\"text\": \"year\"}}, \"yaxis\": {\"anchor\": \"x\", \"domain\": [0.0, 1.0], \"title\": {\"text\": \"count\"}}},                        {\"responsive\": true}                    ).then(function(){\n",
       "                            \n",
       "var gd = document.getElementById('3556a6b1-c5b2-400d-803d-0982305dfdb2');\n",
       "var x = new MutationObserver(function (mutations, observer) {{\n",
       "        var display = window.getComputedStyle(gd).display;\n",
       "        if (!display || display === 'none') {{\n",
       "            console.log([gd, 'removed!']);\n",
       "            Plotly.purge(gd);\n",
       "            observer.disconnect();\n",
       "        }}\n",
       "}});\n",
       "\n",
       "// Listen for the removal of the full notebook cells\n",
       "var notebookContainer = gd.closest('#notebook-container');\n",
       "if (notebookContainer) {{\n",
       "    x.observe(notebookContainer, {childList: true});\n",
       "}}\n",
       "\n",
       "// Listen for the clearing of the current output cell\n",
       "var outputEl = gd.closest('.output');\n",
       "if (outputEl) {{\n",
       "    x.observe(outputEl, {childList: true});\n",
       "}}\n",
       "\n",
       "                        })                };                });            </script>        </div>"
      ]
     },
     "metadata": {},
     "output_type": "display_data"
    }
   ],
   "source": [
    "data = df.groupby(['year'])['name'].count().reset_index()\n",
    "data.columns = [\n",
    "    'year', \n",
    "    'count'\n",
    "]\n",
    "\n",
    "fig = px.bar(\n",
    "    data, \n",
    "    x='year', \n",
    "    y='count',\n",
    "    orientation='v', \n",
    "    title='Rok', \n",
    "    width=600\n",
    ")\n",
    "\n",
    "fig.show()"
   ]
  },
  {
   "cell_type": "code",
   "execution_count": 31,
   "metadata": {},
   "outputs": [],
   "source": [
    "# Wniosek, liczba zabójstw powoli, lecz systematycznie spada"
   ]
  },
  {
   "cell_type": "code",
   "execution_count": null,
   "metadata": {},
   "outputs": [],
   "source": []
  }
 ],
 "metadata": {
  "kernelspec": {
   "display_name": "Python 3",
   "language": "python",
   "name": "python3"
  },
  "language_info": {
   "codemirror_mode": {
    "name": "ipython",
    "version": 3
   },
   "file_extension": ".py",
   "mimetype": "text/x-python",
   "name": "python",
   "nbconvert_exporter": "python",
   "pygments_lexer": "ipython3",
   "version": "3.8.3"
  }
 },
 "nbformat": 4,
 "nbformat_minor": 4
}
